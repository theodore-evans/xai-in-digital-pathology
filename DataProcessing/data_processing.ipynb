{
 "metadata": {
  "language_info": {
   "codemirror_mode": {
    "name": "ipython",
    "version": 3
   },
   "file_extension": ".py",
   "mimetype": "text/x-python",
   "name": "python",
   "nbconvert_exporter": "python",
   "pygments_lexer": "ipython3",
   "version": "3.7.10"
  },
  "orig_nbformat": 2,
  "kernelspec": {
   "name": "python3",
   "display_name": "Python 3.7.10  ('.venv': poetry)"
  },
  "interpreter": {
   "hash": "f3d875d22dd7ffe5f896344dd7e2fb7dcb91427f6d7d80d866687d8d5d518a2f"
  }
 },
 "nbformat": 4,
 "nbformat_minor": 2,
 "cells": [
  {
   "cell_type": "code",
   "execution_count": 3,
   "metadata": {},
   "outputs": [
    {
     "output_type": "stream",
     "name": "stdout",
     "text": [
      "Requirement already satisfied: pywaffle in /empaia/PathoNet/.venv/lib/python3.7/site-packages (0.6.1)\n",
      "Requirement already satisfied: matplotlib in /empaia/PathoNet/.venv/lib/python3.7/site-packages (from pywaffle) (3.4.2)\n",
      "Requirement already satisfied: numpy>=1.16 in /empaia/PathoNet/.venv/lib/python3.7/site-packages (from matplotlib->pywaffle) (1.18.2)\n",
      "Requirement already satisfied: pillow>=6.2.0 in /empaia/PathoNet/.venv/lib/python3.7/site-packages (from matplotlib->pywaffle) (8.2.0)\n",
      "Requirement already satisfied: pyparsing>=2.2.1 in /empaia/PathoNet/.venv/lib/python3.7/site-packages (from matplotlib->pywaffle) (2.4.7)\n",
      "Requirement already satisfied: cycler>=0.10 in /empaia/PathoNet/.venv/lib/python3.7/site-packages (from matplotlib->pywaffle) (0.10.0)\n",
      "Requirement already satisfied: python-dateutil>=2.7 in /empaia/PathoNet/.venv/lib/python3.7/site-packages (from matplotlib->pywaffle) (2.8.1)\n",
      "Requirement already satisfied: kiwisolver>=1.0.1 in /empaia/PathoNet/.venv/lib/python3.7/site-packages (from matplotlib->pywaffle) (1.3.1)\n",
      "Requirement already satisfied: six in /empaia/PathoNet/.venv/lib/python3.7/site-packages (from cycler>=0.10->matplotlib->pywaffle) (1.16.0)\n",
      "Collecting pandas\n",
      "  Downloading pandas-1.2.4-cp37-cp37m-manylinux1_x86_64.whl (9.9 MB)\n",
      "\u001b[K     |████████████████████████████████| 9.9 MB 5.1 MB/s \n",
      "\u001b[?25hRequirement already satisfied: python-dateutil>=2.7.3 in /empaia/PathoNet/.venv/lib/python3.7/site-packages (from pandas) (2.8.1)\n",
      "Requirement already satisfied: numpy>=1.16.5 in /empaia/PathoNet/.venv/lib/python3.7/site-packages (from pandas) (1.18.2)\n",
      "Collecting pytz>=2017.3\n",
      "  Downloading pytz-2021.1-py2.py3-none-any.whl (510 kB)\n",
      "\u001b[K     |████████████████████████████████| 510 kB 64.7 MB/s \n",
      "\u001b[?25hRequirement already satisfied: six>=1.5 in /empaia/PathoNet/.venv/lib/python3.7/site-packages (from python-dateutil>=2.7.3->pandas) (1.16.0)\n",
      "Installing collected packages: pytz, pandas\n",
      "Successfully installed pandas-1.2.4 pytz-2021.1\n"
     ]
    }
   ],
   "source": [
    "!pip3 install pywaffle\n",
    "!pip3 install pandas"
   ]
  },
  {
   "cell_type": "code",
   "execution_count": 4,
   "metadata": {},
   "outputs": [],
   "source": [
    "import pandas as pd\n",
    "import json\n",
    "import re\n",
    "import matplotlib.pyplot as plt\n",
    "import numpy as np\n",
    "import statistics\n",
    "from collections import Counter"
   ]
  },
  {
   "cell_type": "code",
   "execution_count": 5,
   "metadata": {
    "tags": []
   },
   "outputs": [],
   "source": [
    "#Loading Data\n",
    "f = open(\"db_dump_new_files.json\").read()\n",
    "\n",
    "#remove image0/image1 vars since it prevents proper df merging\n",
    "g = re.sub(r'_image[0-2]',\"\",f)\n",
    "\n",
    "data = json.loads(g)\n",
    "df = pd.json_normalize(data)\n",
    "\n",
    "#hacky solution to remove the panda-appended user_. entry\n",
    "renamed= [name.split(\"_.\")[-1] for name in df.columns]\n",
    "col_rename = {i:j for i,j in zip(df.columns,renamed)}\n",
    "df = df.rename(columns=col_rename)"
   ]
  },
  {
   "cell_type": "code",
   "execution_count": 6,
   "metadata": {},
   "outputs": [],
   "source": [
    "def createSubDFs(df):\n",
    "    profiling_df = df[['user_profiling_age', 'user_profiling_position',\n",
    "        'user_profiling_useOfDP', 'user_profiling_useOfAI',\n",
    "        'user_profiling_useOfAI_details', 'user_profiling_mlFamiliarity']]\n",
    "\n",
    "    cf_df = df[[ 'counterfactuals_twoAxisCounterfactuals_understandability',\n",
    "        'counterfactuals_twoAxisCounterfactuals_usability',\n",
    "        'counterfactuals_twoAxisCounterfactuals_informativeness',\n",
    "        'counterfactuals_twoAxisCounterfactuals_value',\n",
    "        'counterfactuals_prototypeInterpolation_understandability',\n",
    "        'counterfactuals_prototypeInterpolation_usability',\n",
    "        'counterfactuals_prototypeInterpolation_informativeness',\n",
    "        'counterfactuals_prototypeInterpolation_value']]\n",
    "\n",
    "    ca_df = df[['conceptAttribution_textAttributes_understandability',\n",
    "        'conceptAttribution_textAttributes_usability',\n",
    "        'conceptAttribution_textAttributes_informativeness',\n",
    "        'conceptAttribution_textAttributes_value',\n",
    "        'conceptAttribution_textAttributes_comments']]\n",
    "\n",
    "    prototypes_df = df[['prototypes_prototypes_understandability',\n",
    "        'prototypes_prototypes_usability',\n",
    "        'prototypes_prototypes_informativeness',\n",
    "        'prototypes_prototypes_value']]\n",
    "\n",
    "    trust_df = df[['trustScores_borderlineCases_understandability',\n",
    "        'trustScores_borderlineCases_usability',\n",
    "        'trustScores_borderlineCases_value',\n",
    "        'trustScores_borderlineCases_informativeness',\n",
    "        'trustScores_borderlineCases_comments']]\n",
    "\n",
    "    return profiling_df,cf_df,ca_df,prototypes_df,trust_df"
   ]
  },
  {
   "cell_type": "code",
   "execution_count": 7,
   "metadata": {},
   "outputs": [],
   "source": [
    "#remove NaN columns, careful since missing comments are read as NaN which can lead to very empty dfs\n",
    "#df = df.dropna()\n",
    "\n",
    "#get column values while dropping individual NaNs for debugging purposes\n",
    "# test_data = df[\"user_profiling_useOfDP\"]\n",
    "# test_data = test_data.dropna().unique().tolist()\n",
    "\n",
    "#select subdfs grouped by column for easier handling\n",
    "profiling_df,cf_df,ca_df,prototypes_df,trust_df = createSubDFs(df)\n"
   ]
  },
  {
   "cell_type": "code",
   "execution_count": 14,
   "metadata": {},
   "outputs": [
    {
     "output_type": "stream",
     "name": "stdout",
     "text": [
      "count               3\nunique              3\ntop       in research\nfreq                1\nName: user_profiling_useOfDP, dtype: object\n"
     ]
    },
    {
     "output_type": "display_data",
     "data": {
      "text/plain": "<Figure size 432x288 with 1 Axes>",
      "image/svg+xml": "<?xml version=\"1.0\" encoding=\"utf-8\" standalone=\"no\"?>\n<!DOCTYPE svg PUBLIC \"-//W3C//DTD SVG 1.1//EN\"\n  \"http://www.w3.org/Graphics/SVG/1.1/DTD/svg11.dtd\">\n<svg height=\"263.63625pt\" version=\"1.1\" viewBox=\"0 0 376.240625 263.63625\" width=\"376.240625pt\" xmlns=\"http://www.w3.org/2000/svg\" xmlns:xlink=\"http://www.w3.org/1999/xlink\">\n <metadata>\n  <rdf:RDF xmlns:cc=\"http://creativecommons.org/ns#\" xmlns:dc=\"http://purl.org/dc/elements/1.1/\" xmlns:rdf=\"http://www.w3.org/1999/02/22-rdf-syntax-ns#\">\n   <cc:Work>\n    <dc:type rdf:resource=\"http://purl.org/dc/dcmitype/StillImage\"/>\n    <dc:date>2021-06-17T14:39:56.306535</dc:date>\n    <dc:format>image/svg+xml</dc:format>\n    <dc:creator>\n     <cc:Agent>\n      <dc:title>Matplotlib v3.4.2, https://matplotlib.org/</dc:title>\n     </cc:Agent>\n    </dc:creator>\n   </cc:Work>\n  </rdf:RDF>\n </metadata>\n <defs>\n  <style type=\"text/css\">*{stroke-linecap:butt;stroke-linejoin:round;}</style>\n </defs>\n <g id=\"figure_1\">\n  <g id=\"patch_1\">\n   <path d=\"M 0 263.63625 \nL 376.240625 263.63625 \nL 376.240625 0 \nL 0 0 \nz\n\" style=\"fill:none;\"/>\n  </g>\n  <g id=\"axes_1\">\n   <g id=\"patch_2\">\n    <path d=\"M 34.240625 239.758125 \nL 369.040625 239.758125 \nL 369.040625 22.318125 \nL 34.240625 22.318125 \nz\n\" style=\"fill:#ffffff;\"/>\n   </g>\n   <g id=\"patch_3\">\n    <path clip-path=\"url(#p72a38b7ce8)\" d=\"M 49.458807 239.758125 \nL 113.535362 239.758125 \nL 113.535362 239.758125 \nL 49.458807 239.758125 \nz\n\" style=\"fill:#1f77b4;\"/>\n   </g>\n   <g id=\"patch_4\">\n    <path clip-path=\"url(#p72a38b7ce8)\" d=\"M 129.554501 239.758125 \nL 193.631056 239.758125 \nL 193.631056 239.758125 \nL 129.554501 239.758125 \nz\n\" style=\"fill:#1f77b4;\"/>\n   </g>\n   <g id=\"patch_5\">\n    <path clip-path=\"url(#p72a38b7ce8)\" d=\"M 209.650194 239.758125 \nL 273.726749 239.758125 \nL 273.726749 239.758125 \nL 209.650194 239.758125 \nz\n\" style=\"fill:#1f77b4;\"/>\n   </g>\n   <g id=\"patch_6\">\n    <path clip-path=\"url(#p72a38b7ce8)\" d=\"M 289.745888 239.758125 \nL 353.822443 239.758125 \nL 353.822443 239.758125 \nL 289.745888 239.758125 \nz\n\" style=\"fill:#1f77b4;\"/>\n   </g>\n   <g id=\"patch_7\">\n    <path clip-path=\"url(#p72a38b7ce8)\" d=\"M 49.458807 239.758125 \nL 113.535362 239.758125 \nL 113.535362 239.758125 \nL 49.458807 239.758125 \nz\n\" style=\"fill:#ff7f0e;\"/>\n   </g>\n   <g id=\"patch_8\">\n    <path clip-path=\"url(#p72a38b7ce8)\" d=\"M 129.554501 239.758125 \nL 193.631056 239.758125 \nL 193.631056 239.758125 \nL 129.554501 239.758125 \nz\n\" style=\"fill:#ff7f0e;\"/>\n   </g>\n   <g id=\"patch_9\">\n    <path clip-path=\"url(#p72a38b7ce8)\" d=\"M 209.650194 239.758125 \nL 273.726749 239.758125 \nL 273.726749 239.758125 \nL 209.650194 239.758125 \nz\n\" style=\"fill:#ff7f0e;\"/>\n   </g>\n   <g id=\"patch_10\">\n    <path clip-path=\"url(#p72a38b7ce8)\" d=\"M 289.745888 239.758125 \nL 353.822443 239.758125 \nL 353.822443 239.758125 \nL 289.745888 239.758125 \nz\n\" style=\"fill:#ff7f0e;\"/>\n   </g>\n   <g id=\"patch_11\">\n    <path clip-path=\"url(#p72a38b7ce8)\" d=\"M 49.458807 239.758125 \nL 113.535362 239.758125 \nL 113.535362 239.758125 \nL 49.458807 239.758125 \nz\n\" style=\"fill:#2ca02c;\"/>\n   </g>\n   <g id=\"patch_12\">\n    <path clip-path=\"url(#p72a38b7ce8)\" d=\"M 129.554501 239.758125 \nL 193.631056 239.758125 \nL 193.631056 239.758125 \nL 129.554501 239.758125 \nz\n\" style=\"fill:#2ca02c;\"/>\n   </g>\n   <g id=\"patch_13\">\n    <path clip-path=\"url(#p72a38b7ce8)\" d=\"M 209.650194 239.758125 \nL 273.726749 239.758125 \nL 273.726749 239.758125 \nL 209.650194 239.758125 \nz\n\" style=\"fill:#2ca02c;\"/>\n   </g>\n   <g id=\"patch_14\">\n    <path clip-path=\"url(#p72a38b7ce8)\" d=\"M 289.745888 239.758125 \nL 353.822443 239.758125 \nL 353.822443 239.758125 \nL 289.745888 239.758125 \nz\n\" style=\"fill:#2ca02c;\"/>\n   </g>\n   <g id=\"patch_15\">\n    <path clip-path=\"url(#p72a38b7ce8)\" d=\"M 49.458807 239.758125 \nL 113.535362 239.758125 \nL 113.535362 239.758125 \nL 49.458807 239.758125 \nz\n\" style=\"fill:#d62728;\"/>\n   </g>\n   <g id=\"patch_16\">\n    <path clip-path=\"url(#p72a38b7ce8)\" d=\"M 129.554501 239.758125 \nL 193.631056 239.758125 \nL 193.631056 208.695268 \nL 129.554501 208.695268 \nz\n\" style=\"fill:#d62728;\"/>\n   </g>\n   <g id=\"patch_17\">\n    <path clip-path=\"url(#p72a38b7ce8)\" d=\"M 209.650194 239.758125 \nL 273.726749 239.758125 \nL 273.726749 208.695268 \nL 209.650194 208.695268 \nz\n\" style=\"fill:#d62728;\"/>\n   </g>\n   <g id=\"patch_18\">\n    <path clip-path=\"url(#p72a38b7ce8)\" d=\"M 289.745888 239.758125 \nL 353.822443 239.758125 \nL 353.822443 208.695268 \nL 289.745888 208.695268 \nz\n\" style=\"fill:#d62728;\"/>\n   </g>\n   <g id=\"patch_19\">\n    <path clip-path=\"url(#p72a38b7ce8)\" d=\"M 49.458807 239.758125 \nL 113.535362 239.758125 \nL 113.535362 208.695268 \nL 49.458807 208.695268 \nz\n\" style=\"fill:#9467bd;\"/>\n   </g>\n   <g id=\"patch_20\">\n    <path clip-path=\"url(#p72a38b7ce8)\" d=\"M 129.554501 239.758125 \nL 193.631056 239.758125 \nL 193.631056 208.695268 \nL 129.554501 208.695268 \nz\n\" style=\"fill:#9467bd;\"/>\n   </g>\n   <g id=\"patch_21\">\n    <path clip-path=\"url(#p72a38b7ce8)\" d=\"M 209.650194 239.758125 \nL 273.726749 239.758125 \nL 273.726749 239.758125 \nL 209.650194 239.758125 \nz\n\" style=\"fill:#9467bd;\"/>\n   </g>\n   <g id=\"patch_22\">\n    <path clip-path=\"url(#p72a38b7ce8)\" d=\"M 289.745888 239.758125 \nL 353.822443 239.758125 \nL 353.822443 208.695268 \nL 289.745888 208.695268 \nz\n\" style=\"fill:#9467bd;\"/>\n   </g>\n   <g id=\"patch_23\">\n    <path clip-path=\"url(#p72a38b7ce8)\" d=\"M 49.458807 239.758125 \nL 113.535362 239.758125 \nL 113.535362 208.695268 \nL 49.458807 208.695268 \nz\n\" style=\"fill:#8c564b;\"/>\n   </g>\n   <g id=\"patch_24\">\n    <path clip-path=\"url(#p72a38b7ce8)\" d=\"M 129.554501 239.758125 \nL 193.631056 239.758125 \nL 193.631056 208.695268 \nL 129.554501 208.695268 \nz\n\" style=\"fill:#8c564b;\"/>\n   </g>\n   <g id=\"patch_25\">\n    <path clip-path=\"url(#p72a38b7ce8)\" d=\"M 209.650194 239.758125 \nL 273.726749 239.758125 \nL 273.726749 239.758125 \nL 209.650194 239.758125 \nz\n\" style=\"fill:#8c564b;\"/>\n   </g>\n   <g id=\"patch_26\">\n    <path clip-path=\"url(#p72a38b7ce8)\" d=\"M 289.745888 239.758125 \nL 353.822443 239.758125 \nL 353.822443 239.758125 \nL 289.745888 239.758125 \nz\n\" style=\"fill:#8c564b;\"/>\n   </g>\n   <g id=\"matplotlib.axis_1\">\n    <g id=\"xtick_1\">\n     <g id=\"line2d_1\">\n      <defs>\n       <path d=\"M 0 0 \nL 0 3.5 \n\" id=\"mafb28c3fcd\" style=\"stroke:#000000;stroke-width:0.8;\"/>\n      </defs>\n      <g>\n       <use style=\"stroke:#000000;stroke-width:0.8;\" x=\"81.497084\" xlink:href=\"#mafb28c3fcd\" y=\"239.758125\"/>\n      </g>\n     </g>\n     <g id=\"text_1\">\n      <!-- Understandability -->\n      <g transform=\"translate(37.065834 254.356563)scale(0.1 -0.1)\">\n       <defs>\n        <path d=\"M 556 4666 \nL 1191 4666 \nL 1191 1831 \nQ 1191 1081 1462 751 \nQ 1734 422 2344 422 \nQ 2950 422 3222 751 \nQ 3494 1081 3494 1831 \nL 3494 4666 \nL 4128 4666 \nL 4128 1753 \nQ 4128 841 3676 375 \nQ 3225 -91 2344 -91 \nQ 1459 -91 1007 375 \nQ 556 841 556 1753 \nL 556 4666 \nz\n\" id=\"DejaVuSans-55\" transform=\"scale(0.015625)\"/>\n        <path d=\"M 3513 2113 \nL 3513 0 \nL 2938 0 \nL 2938 2094 \nQ 2938 2591 2744 2837 \nQ 2550 3084 2163 3084 \nQ 1697 3084 1428 2787 \nQ 1159 2491 1159 1978 \nL 1159 0 \nL 581 0 \nL 581 3500 \nL 1159 3500 \nL 1159 2956 \nQ 1366 3272 1645 3428 \nQ 1925 3584 2291 3584 \nQ 2894 3584 3203 3211 \nQ 3513 2838 3513 2113 \nz\n\" id=\"DejaVuSans-6e\" transform=\"scale(0.015625)\"/>\n        <path d=\"M 2906 2969 \nL 2906 4863 \nL 3481 4863 \nL 3481 0 \nL 2906 0 \nL 2906 525 \nQ 2725 213 2448 61 \nQ 2172 -91 1784 -91 \nQ 1150 -91 751 415 \nQ 353 922 353 1747 \nQ 353 2572 751 3078 \nQ 1150 3584 1784 3584 \nQ 2172 3584 2448 3432 \nQ 2725 3281 2906 2969 \nz\nM 947 1747 \nQ 947 1113 1208 752 \nQ 1469 391 1925 391 \nQ 2381 391 2643 752 \nQ 2906 1113 2906 1747 \nQ 2906 2381 2643 2742 \nQ 2381 3103 1925 3103 \nQ 1469 3103 1208 2742 \nQ 947 2381 947 1747 \nz\n\" id=\"DejaVuSans-64\" transform=\"scale(0.015625)\"/>\n        <path d=\"M 3597 1894 \nL 3597 1613 \nL 953 1613 \nQ 991 1019 1311 708 \nQ 1631 397 2203 397 \nQ 2534 397 2845 478 \nQ 3156 559 3463 722 \nL 3463 178 \nQ 3153 47 2828 -22 \nQ 2503 -91 2169 -91 \nQ 1331 -91 842 396 \nQ 353 884 353 1716 \nQ 353 2575 817 3079 \nQ 1281 3584 2069 3584 \nQ 2775 3584 3186 3129 \nQ 3597 2675 3597 1894 \nz\nM 3022 2063 \nQ 3016 2534 2758 2815 \nQ 2500 3097 2075 3097 \nQ 1594 3097 1305 2825 \nQ 1016 2553 972 2059 \nL 3022 2063 \nz\n\" id=\"DejaVuSans-65\" transform=\"scale(0.015625)\"/>\n        <path d=\"M 2631 2963 \nQ 2534 3019 2420 3045 \nQ 2306 3072 2169 3072 \nQ 1681 3072 1420 2755 \nQ 1159 2438 1159 1844 \nL 1159 0 \nL 581 0 \nL 581 3500 \nL 1159 3500 \nL 1159 2956 \nQ 1341 3275 1631 3429 \nQ 1922 3584 2338 3584 \nQ 2397 3584 2469 3576 \nQ 2541 3569 2628 3553 \nL 2631 2963 \nz\n\" id=\"DejaVuSans-72\" transform=\"scale(0.015625)\"/>\n        <path d=\"M 2834 3397 \nL 2834 2853 \nQ 2591 2978 2328 3040 \nQ 2066 3103 1784 3103 \nQ 1356 3103 1142 2972 \nQ 928 2841 928 2578 \nQ 928 2378 1081 2264 \nQ 1234 2150 1697 2047 \nL 1894 2003 \nQ 2506 1872 2764 1633 \nQ 3022 1394 3022 966 \nQ 3022 478 2636 193 \nQ 2250 -91 1575 -91 \nQ 1294 -91 989 -36 \nQ 684 19 347 128 \nL 347 722 \nQ 666 556 975 473 \nQ 1284 391 1588 391 \nQ 1994 391 2212 530 \nQ 2431 669 2431 922 \nQ 2431 1156 2273 1281 \nQ 2116 1406 1581 1522 \nL 1381 1569 \nQ 847 1681 609 1914 \nQ 372 2147 372 2553 \nQ 372 3047 722 3315 \nQ 1072 3584 1716 3584 \nQ 2034 3584 2315 3537 \nQ 2597 3491 2834 3397 \nz\n\" id=\"DejaVuSans-73\" transform=\"scale(0.015625)\"/>\n        <path d=\"M 1172 4494 \nL 1172 3500 \nL 2356 3500 \nL 2356 3053 \nL 1172 3053 \nL 1172 1153 \nQ 1172 725 1289 603 \nQ 1406 481 1766 481 \nL 2356 481 \nL 2356 0 \nL 1766 0 \nQ 1100 0 847 248 \nQ 594 497 594 1153 \nL 594 3053 \nL 172 3053 \nL 172 3500 \nL 594 3500 \nL 594 4494 \nL 1172 4494 \nz\n\" id=\"DejaVuSans-74\" transform=\"scale(0.015625)\"/>\n        <path d=\"M 2194 1759 \nQ 1497 1759 1228 1600 \nQ 959 1441 959 1056 \nQ 959 750 1161 570 \nQ 1363 391 1709 391 \nQ 2188 391 2477 730 \nQ 2766 1069 2766 1631 \nL 2766 1759 \nL 2194 1759 \nz\nM 3341 1997 \nL 3341 0 \nL 2766 0 \nL 2766 531 \nQ 2569 213 2275 61 \nQ 1981 -91 1556 -91 \nQ 1019 -91 701 211 \nQ 384 513 384 1019 \nQ 384 1609 779 1909 \nQ 1175 2209 1959 2209 \nL 2766 2209 \nL 2766 2266 \nQ 2766 2663 2505 2880 \nQ 2244 3097 1772 3097 \nQ 1472 3097 1187 3025 \nQ 903 2953 641 2809 \nL 641 3341 \nQ 956 3463 1253 3523 \nQ 1550 3584 1831 3584 \nQ 2591 3584 2966 3190 \nQ 3341 2797 3341 1997 \nz\n\" id=\"DejaVuSans-61\" transform=\"scale(0.015625)\"/>\n        <path d=\"M 3116 1747 \nQ 3116 2381 2855 2742 \nQ 2594 3103 2138 3103 \nQ 1681 3103 1420 2742 \nQ 1159 2381 1159 1747 \nQ 1159 1113 1420 752 \nQ 1681 391 2138 391 \nQ 2594 391 2855 752 \nQ 3116 1113 3116 1747 \nz\nM 1159 2969 \nQ 1341 3281 1617 3432 \nQ 1894 3584 2278 3584 \nQ 2916 3584 3314 3078 \nQ 3713 2572 3713 1747 \nQ 3713 922 3314 415 \nQ 2916 -91 2278 -91 \nQ 1894 -91 1617 61 \nQ 1341 213 1159 525 \nL 1159 0 \nL 581 0 \nL 581 4863 \nL 1159 4863 \nL 1159 2969 \nz\n\" id=\"DejaVuSans-62\" transform=\"scale(0.015625)\"/>\n        <path d=\"M 603 3500 \nL 1178 3500 \nL 1178 0 \nL 603 0 \nL 603 3500 \nz\nM 603 4863 \nL 1178 4863 \nL 1178 4134 \nL 603 4134 \nL 603 4863 \nz\n\" id=\"DejaVuSans-69\" transform=\"scale(0.015625)\"/>\n        <path d=\"M 603 4863 \nL 1178 4863 \nL 1178 0 \nL 603 0 \nL 603 4863 \nz\n\" id=\"DejaVuSans-6c\" transform=\"scale(0.015625)\"/>\n        <path d=\"M 2059 -325 \nQ 1816 -950 1584 -1140 \nQ 1353 -1331 966 -1331 \nL 506 -1331 \nL 506 -850 \nL 844 -850 \nQ 1081 -850 1212 -737 \nQ 1344 -625 1503 -206 \nL 1606 56 \nL 191 3500 \nL 800 3500 \nL 1894 763 \nL 2988 3500 \nL 3597 3500 \nL 2059 -325 \nz\n\" id=\"DejaVuSans-79\" transform=\"scale(0.015625)\"/>\n       </defs>\n       <use xlink:href=\"#DejaVuSans-55\"/>\n       <use x=\"73.193359\" xlink:href=\"#DejaVuSans-6e\"/>\n       <use x=\"136.572266\" xlink:href=\"#DejaVuSans-64\"/>\n       <use x=\"200.048828\" xlink:href=\"#DejaVuSans-65\"/>\n       <use x=\"261.572266\" xlink:href=\"#DejaVuSans-72\"/>\n       <use x=\"302.685547\" xlink:href=\"#DejaVuSans-73\"/>\n       <use x=\"354.785156\" xlink:href=\"#DejaVuSans-74\"/>\n       <use x=\"393.994141\" xlink:href=\"#DejaVuSans-61\"/>\n       <use x=\"455.273438\" xlink:href=\"#DejaVuSans-6e\"/>\n       <use x=\"518.652344\" xlink:href=\"#DejaVuSans-64\"/>\n       <use x=\"582.128906\" xlink:href=\"#DejaVuSans-61\"/>\n       <use x=\"643.408203\" xlink:href=\"#DejaVuSans-62\"/>\n       <use x=\"706.884766\" xlink:href=\"#DejaVuSans-69\"/>\n       <use x=\"734.667969\" xlink:href=\"#DejaVuSans-6c\"/>\n       <use x=\"762.451172\" xlink:href=\"#DejaVuSans-69\"/>\n       <use x=\"790.234375\" xlink:href=\"#DejaVuSans-74\"/>\n       <use x=\"829.443359\" xlink:href=\"#DejaVuSans-79\"/>\n      </g>\n     </g>\n    </g>\n    <g id=\"xtick_2\">\n     <g id=\"line2d_2\">\n      <g>\n       <use style=\"stroke:#000000;stroke-width:0.8;\" x=\"161.592778\" xlink:href=\"#mafb28c3fcd\" y=\"239.758125\"/>\n      </g>\n     </g>\n     <g id=\"text_2\">\n      <!-- Usability -->\n      <g transform=\"translate(140.003716 254.356563)scale(0.1 -0.1)\">\n       <use xlink:href=\"#DejaVuSans-55\"/>\n       <use x=\"73.193359\" xlink:href=\"#DejaVuSans-73\"/>\n       <use x=\"125.292969\" xlink:href=\"#DejaVuSans-61\"/>\n       <use x=\"186.572266\" xlink:href=\"#DejaVuSans-62\"/>\n       <use x=\"250.048828\" xlink:href=\"#DejaVuSans-69\"/>\n       <use x=\"277.832031\" xlink:href=\"#DejaVuSans-6c\"/>\n       <use x=\"305.615234\" xlink:href=\"#DejaVuSans-69\"/>\n       <use x=\"333.398438\" xlink:href=\"#DejaVuSans-74\"/>\n       <use x=\"372.607422\" xlink:href=\"#DejaVuSans-79\"/>\n      </g>\n     </g>\n    </g>\n    <g id=\"xtick_3\">\n     <g id=\"line2d_3\">\n      <g>\n       <use style=\"stroke:#000000;stroke-width:0.8;\" x=\"241.688472\" xlink:href=\"#mafb28c3fcd\" y=\"239.758125\"/>\n      </g>\n     </g>\n     <g id=\"text_3\">\n      <!-- Value -->\n      <g transform=\"translate(227.957222 254.356563)scale(0.1 -0.1)\">\n       <defs>\n        <path d=\"M 1831 0 \nL 50 4666 \nL 709 4666 \nL 2188 738 \nL 3669 4666 \nL 4325 4666 \nL 2547 0 \nL 1831 0 \nz\n\" id=\"DejaVuSans-56\" transform=\"scale(0.015625)\"/>\n        <path d=\"M 544 1381 \nL 544 3500 \nL 1119 3500 \nL 1119 1403 \nQ 1119 906 1312 657 \nQ 1506 409 1894 409 \nQ 2359 409 2629 706 \nQ 2900 1003 2900 1516 \nL 2900 3500 \nL 3475 3500 \nL 3475 0 \nL 2900 0 \nL 2900 538 \nQ 2691 219 2414 64 \nQ 2138 -91 1772 -91 \nQ 1169 -91 856 284 \nQ 544 659 544 1381 \nz\nM 1991 3584 \nL 1991 3584 \nz\n\" id=\"DejaVuSans-75\" transform=\"scale(0.015625)\"/>\n       </defs>\n       <use xlink:href=\"#DejaVuSans-56\"/>\n       <use x=\"60.658203\" xlink:href=\"#DejaVuSans-61\"/>\n       <use x=\"121.9375\" xlink:href=\"#DejaVuSans-6c\"/>\n       <use x=\"149.720703\" xlink:href=\"#DejaVuSans-75\"/>\n       <use x=\"213.099609\" xlink:href=\"#DejaVuSans-65\"/>\n      </g>\n     </g>\n    </g>\n    <g id=\"xtick_4\">\n     <g id=\"line2d_4\">\n      <g>\n       <use style=\"stroke:#000000;stroke-width:0.8;\" x=\"321.784166\" xlink:href=\"#mafb28c3fcd\" y=\"239.758125\"/>\n      </g>\n     </g>\n     <g id=\"text_4\">\n      <!-- Informativeness -->\n      <g transform=\"translate(281.578697 254.356563)scale(0.1 -0.1)\">\n       <defs>\n        <path d=\"M 628 4666 \nL 1259 4666 \nL 1259 0 \nL 628 0 \nL 628 4666 \nz\n\" id=\"DejaVuSans-49\" transform=\"scale(0.015625)\"/>\n        <path d=\"M 2375 4863 \nL 2375 4384 \nL 1825 4384 \nQ 1516 4384 1395 4259 \nQ 1275 4134 1275 3809 \nL 1275 3500 \nL 2222 3500 \nL 2222 3053 \nL 1275 3053 \nL 1275 0 \nL 697 0 \nL 697 3053 \nL 147 3053 \nL 147 3500 \nL 697 3500 \nL 697 3744 \nQ 697 4328 969 4595 \nQ 1241 4863 1831 4863 \nL 2375 4863 \nz\n\" id=\"DejaVuSans-66\" transform=\"scale(0.015625)\"/>\n        <path d=\"M 1959 3097 \nQ 1497 3097 1228 2736 \nQ 959 2375 959 1747 \nQ 959 1119 1226 758 \nQ 1494 397 1959 397 \nQ 2419 397 2687 759 \nQ 2956 1122 2956 1747 \nQ 2956 2369 2687 2733 \nQ 2419 3097 1959 3097 \nz\nM 1959 3584 \nQ 2709 3584 3137 3096 \nQ 3566 2609 3566 1747 \nQ 3566 888 3137 398 \nQ 2709 -91 1959 -91 \nQ 1206 -91 779 398 \nQ 353 888 353 1747 \nQ 353 2609 779 3096 \nQ 1206 3584 1959 3584 \nz\n\" id=\"DejaVuSans-6f\" transform=\"scale(0.015625)\"/>\n        <path d=\"M 3328 2828 \nQ 3544 3216 3844 3400 \nQ 4144 3584 4550 3584 \nQ 5097 3584 5394 3201 \nQ 5691 2819 5691 2113 \nL 5691 0 \nL 5113 0 \nL 5113 2094 \nQ 5113 2597 4934 2840 \nQ 4756 3084 4391 3084 \nQ 3944 3084 3684 2787 \nQ 3425 2491 3425 1978 \nL 3425 0 \nL 2847 0 \nL 2847 2094 \nQ 2847 2600 2669 2842 \nQ 2491 3084 2119 3084 \nQ 1678 3084 1418 2786 \nQ 1159 2488 1159 1978 \nL 1159 0 \nL 581 0 \nL 581 3500 \nL 1159 3500 \nL 1159 2956 \nQ 1356 3278 1631 3431 \nQ 1906 3584 2284 3584 \nQ 2666 3584 2933 3390 \nQ 3200 3197 3328 2828 \nz\n\" id=\"DejaVuSans-6d\" transform=\"scale(0.015625)\"/>\n        <path d=\"M 191 3500 \nL 800 3500 \nL 1894 563 \nL 2988 3500 \nL 3597 3500 \nL 2284 0 \nL 1503 0 \nL 191 3500 \nz\n\" id=\"DejaVuSans-76\" transform=\"scale(0.015625)\"/>\n       </defs>\n       <use xlink:href=\"#DejaVuSans-49\"/>\n       <use x=\"29.492188\" xlink:href=\"#DejaVuSans-6e\"/>\n       <use x=\"92.871094\" xlink:href=\"#DejaVuSans-66\"/>\n       <use x=\"128.076172\" xlink:href=\"#DejaVuSans-6f\"/>\n       <use x=\"189.257812\" xlink:href=\"#DejaVuSans-72\"/>\n       <use x=\"228.621094\" xlink:href=\"#DejaVuSans-6d\"/>\n       <use x=\"326.033203\" xlink:href=\"#DejaVuSans-61\"/>\n       <use x=\"387.3125\" xlink:href=\"#DejaVuSans-74\"/>\n       <use x=\"426.521484\" xlink:href=\"#DejaVuSans-69\"/>\n       <use x=\"454.304688\" xlink:href=\"#DejaVuSans-76\"/>\n       <use x=\"513.484375\" xlink:href=\"#DejaVuSans-65\"/>\n       <use x=\"575.007812\" xlink:href=\"#DejaVuSans-6e\"/>\n       <use x=\"638.386719\" xlink:href=\"#DejaVuSans-65\"/>\n       <use x=\"699.910156\" xlink:href=\"#DejaVuSans-73\"/>\n       <use x=\"752.009766\" xlink:href=\"#DejaVuSans-73\"/>\n      </g>\n     </g>\n    </g>\n   </g>\n   <g id=\"matplotlib.axis_2\">\n    <g id=\"ytick_1\">\n     <g id=\"line2d_5\">\n      <defs>\n       <path d=\"M 0 0 \nL -3.5 0 \n\" id=\"mc9fc7edfb9\" style=\"stroke:#000000;stroke-width:0.8;\"/>\n      </defs>\n      <g>\n       <use style=\"stroke:#000000;stroke-width:0.8;\" x=\"34.240625\" xlink:href=\"#mc9fc7edfb9\" y=\"239.758125\"/>\n      </g>\n     </g>\n     <g id=\"text_5\">\n      <!-- 0 -->\n      <g transform=\"translate(20.878125 243.557344)scale(0.1 -0.1)\">\n       <defs>\n        <path d=\"M 2034 4250 \nQ 1547 4250 1301 3770 \nQ 1056 3291 1056 2328 \nQ 1056 1369 1301 889 \nQ 1547 409 2034 409 \nQ 2525 409 2770 889 \nQ 3016 1369 3016 2328 \nQ 3016 3291 2770 3770 \nQ 2525 4250 2034 4250 \nz\nM 2034 4750 \nQ 2819 4750 3233 4129 \nQ 3647 3509 3647 2328 \nQ 3647 1150 3233 529 \nQ 2819 -91 2034 -91 \nQ 1250 -91 836 529 \nQ 422 1150 422 2328 \nQ 422 3509 836 4129 \nQ 1250 4750 2034 4750 \nz\n\" id=\"DejaVuSans-30\" transform=\"scale(0.015625)\"/>\n       </defs>\n       <use xlink:href=\"#DejaVuSans-30\"/>\n      </g>\n     </g>\n    </g>\n    <g id=\"ytick_2\">\n     <g id=\"line2d_6\">\n      <g>\n       <use style=\"stroke:#000000;stroke-width:0.8;\" x=\"34.240625\" xlink:href=\"#mc9fc7edfb9\" y=\"208.695268\"/>\n      </g>\n     </g>\n     <g id=\"text_6\">\n      <!-- 1 -->\n      <g transform=\"translate(20.878125 212.494487)scale(0.1 -0.1)\">\n       <defs>\n        <path d=\"M 794 531 \nL 1825 531 \nL 1825 4091 \nL 703 3866 \nL 703 4441 \nL 1819 4666 \nL 2450 4666 \nL 2450 531 \nL 3481 531 \nL 3481 0 \nL 794 0 \nL 794 531 \nz\n\" id=\"DejaVuSans-31\" transform=\"scale(0.015625)\"/>\n       </defs>\n       <use xlink:href=\"#DejaVuSans-31\"/>\n      </g>\n     </g>\n    </g>\n    <g id=\"ytick_3\">\n     <g id=\"line2d_7\">\n      <g>\n       <use style=\"stroke:#000000;stroke-width:0.8;\" x=\"34.240625\" xlink:href=\"#mc9fc7edfb9\" y=\"177.632411\"/>\n      </g>\n     </g>\n     <g id=\"text_7\">\n      <!-- 2 -->\n      <g transform=\"translate(20.878125 181.431629)scale(0.1 -0.1)\">\n       <defs>\n        <path d=\"M 1228 531 \nL 3431 531 \nL 3431 0 \nL 469 0 \nL 469 531 \nQ 828 903 1448 1529 \nQ 2069 2156 2228 2338 \nQ 2531 2678 2651 2914 \nQ 2772 3150 2772 3378 \nQ 2772 3750 2511 3984 \nQ 2250 4219 1831 4219 \nQ 1534 4219 1204 4116 \nQ 875 4013 500 3803 \nL 500 4441 \nQ 881 4594 1212 4672 \nQ 1544 4750 1819 4750 \nQ 2544 4750 2975 4387 \nQ 3406 4025 3406 3419 \nQ 3406 3131 3298 2873 \nQ 3191 2616 2906 2266 \nQ 2828 2175 2409 1742 \nQ 1991 1309 1228 531 \nz\n\" id=\"DejaVuSans-32\" transform=\"scale(0.015625)\"/>\n       </defs>\n       <use xlink:href=\"#DejaVuSans-32\"/>\n      </g>\n     </g>\n    </g>\n    <g id=\"ytick_4\">\n     <g id=\"line2d_8\">\n      <g>\n       <use style=\"stroke:#000000;stroke-width:0.8;\" x=\"34.240625\" xlink:href=\"#mc9fc7edfb9\" y=\"146.569554\"/>\n      </g>\n     </g>\n     <g id=\"text_8\">\n      <!-- 3 -->\n      <g transform=\"translate(20.878125 150.368772)scale(0.1 -0.1)\">\n       <defs>\n        <path d=\"M 2597 2516 \nQ 3050 2419 3304 2112 \nQ 3559 1806 3559 1356 \nQ 3559 666 3084 287 \nQ 2609 -91 1734 -91 \nQ 1441 -91 1130 -33 \nQ 819 25 488 141 \nL 488 750 \nQ 750 597 1062 519 \nQ 1375 441 1716 441 \nQ 2309 441 2620 675 \nQ 2931 909 2931 1356 \nQ 2931 1769 2642 2001 \nQ 2353 2234 1838 2234 \nL 1294 2234 \nL 1294 2753 \nL 1863 2753 \nQ 2328 2753 2575 2939 \nQ 2822 3125 2822 3475 \nQ 2822 3834 2567 4026 \nQ 2313 4219 1838 4219 \nQ 1578 4219 1281 4162 \nQ 984 4106 628 3988 \nL 628 4550 \nQ 988 4650 1302 4700 \nQ 1616 4750 1894 4750 \nQ 2613 4750 3031 4423 \nQ 3450 4097 3450 3541 \nQ 3450 3153 3228 2886 \nQ 3006 2619 2597 2516 \nz\n\" id=\"DejaVuSans-33\" transform=\"scale(0.015625)\"/>\n       </defs>\n       <use xlink:href=\"#DejaVuSans-33\"/>\n      </g>\n     </g>\n    </g>\n    <g id=\"ytick_5\">\n     <g id=\"line2d_9\">\n      <g>\n       <use style=\"stroke:#000000;stroke-width:0.8;\" x=\"34.240625\" xlink:href=\"#mc9fc7edfb9\" y=\"115.506696\"/>\n      </g>\n     </g>\n     <g id=\"text_9\">\n      <!-- 4 -->\n      <g transform=\"translate(20.878125 119.305915)scale(0.1 -0.1)\">\n       <defs>\n        <path d=\"M 2419 4116 \nL 825 1625 \nL 2419 1625 \nL 2419 4116 \nz\nM 2253 4666 \nL 3047 4666 \nL 3047 1625 \nL 3713 1625 \nL 3713 1100 \nL 3047 1100 \nL 3047 0 \nL 2419 0 \nL 2419 1100 \nL 313 1100 \nL 313 1709 \nL 2253 4666 \nz\n\" id=\"DejaVuSans-34\" transform=\"scale(0.015625)\"/>\n       </defs>\n       <use xlink:href=\"#DejaVuSans-34\"/>\n      </g>\n     </g>\n    </g>\n    <g id=\"ytick_6\">\n     <g id=\"line2d_10\">\n      <g>\n       <use style=\"stroke:#000000;stroke-width:0.8;\" x=\"34.240625\" xlink:href=\"#mc9fc7edfb9\" y=\"84.443839\"/>\n      </g>\n     </g>\n     <g id=\"text_10\">\n      <!-- 5 -->\n      <g transform=\"translate(20.878125 88.243058)scale(0.1 -0.1)\">\n       <defs>\n        <path d=\"M 691 4666 \nL 3169 4666 \nL 3169 4134 \nL 1269 4134 \nL 1269 2991 \nQ 1406 3038 1543 3061 \nQ 1681 3084 1819 3084 \nQ 2600 3084 3056 2656 \nQ 3513 2228 3513 1497 \nQ 3513 744 3044 326 \nQ 2575 -91 1722 -91 \nQ 1428 -91 1123 -41 \nQ 819 9 494 109 \nL 494 744 \nQ 775 591 1075 516 \nQ 1375 441 1709 441 \nQ 2250 441 2565 725 \nQ 2881 1009 2881 1497 \nQ 2881 1984 2565 2268 \nQ 2250 2553 1709 2553 \nQ 1456 2553 1204 2497 \nQ 953 2441 691 2322 \nL 691 4666 \nz\n\" id=\"DejaVuSans-35\" transform=\"scale(0.015625)\"/>\n       </defs>\n       <use xlink:href=\"#DejaVuSans-35\"/>\n      </g>\n     </g>\n    </g>\n    <g id=\"ytick_7\">\n     <g id=\"line2d_11\">\n      <g>\n       <use style=\"stroke:#000000;stroke-width:0.8;\" x=\"34.240625\" xlink:href=\"#mc9fc7edfb9\" y=\"53.380982\"/>\n      </g>\n     </g>\n     <g id=\"text_11\">\n      <!-- 6 -->\n      <g transform=\"translate(20.878125 57.180201)scale(0.1 -0.1)\">\n       <defs>\n        <path d=\"M 2113 2584 \nQ 1688 2584 1439 2293 \nQ 1191 2003 1191 1497 \nQ 1191 994 1439 701 \nQ 1688 409 2113 409 \nQ 2538 409 2786 701 \nQ 3034 994 3034 1497 \nQ 3034 2003 2786 2293 \nQ 2538 2584 2113 2584 \nz\nM 3366 4563 \nL 3366 3988 \nQ 3128 4100 2886 4159 \nQ 2644 4219 2406 4219 \nQ 1781 4219 1451 3797 \nQ 1122 3375 1075 2522 \nQ 1259 2794 1537 2939 \nQ 1816 3084 2150 3084 \nQ 2853 3084 3261 2657 \nQ 3669 2231 3669 1497 \nQ 3669 778 3244 343 \nQ 2819 -91 2113 -91 \nQ 1303 -91 875 529 \nQ 447 1150 447 2328 \nQ 447 3434 972 4092 \nQ 1497 4750 2381 4750 \nQ 2619 4750 2861 4703 \nQ 3103 4656 3366 4563 \nz\n\" id=\"DejaVuSans-36\" transform=\"scale(0.015625)\"/>\n       </defs>\n       <use xlink:href=\"#DejaVuSans-36\"/>\n      </g>\n     </g>\n    </g>\n    <g id=\"ytick_8\">\n     <g id=\"line2d_12\">\n      <g>\n       <use style=\"stroke:#000000;stroke-width:0.8;\" x=\"34.240625\" xlink:href=\"#mc9fc7edfb9\" y=\"22.318125\"/>\n      </g>\n     </g>\n     <g id=\"text_12\">\n      <!-- 7 -->\n      <g transform=\"translate(20.878125 26.117344)scale(0.1 -0.1)\">\n       <defs>\n        <path d=\"M 525 4666 \nL 3525 4666 \nL 3525 4397 \nL 1831 0 \nL 1172 0 \nL 2766 4134 \nL 525 4134 \nL 525 4666 \nz\n\" id=\"DejaVuSans-37\" transform=\"scale(0.015625)\"/>\n       </defs>\n       <use xlink:href=\"#DejaVuSans-37\"/>\n      </g>\n     </g>\n    </g>\n    <g id=\"text_13\">\n     <!-- Count -->\n     <g transform=\"translate(14.798437 145.886563)rotate(-90)scale(0.1 -0.1)\">\n      <defs>\n       <path d=\"M 4122 4306 \nL 4122 3641 \nQ 3803 3938 3442 4084 \nQ 3081 4231 2675 4231 \nQ 1875 4231 1450 3742 \nQ 1025 3253 1025 2328 \nQ 1025 1406 1450 917 \nQ 1875 428 2675 428 \nQ 3081 428 3442 575 \nQ 3803 722 4122 1019 \nL 4122 359 \nQ 3791 134 3420 21 \nQ 3050 -91 2638 -91 \nQ 1578 -91 968 557 \nQ 359 1206 359 2328 \nQ 359 3453 968 4101 \nQ 1578 4750 2638 4750 \nQ 3056 4750 3426 4639 \nQ 3797 4528 4122 4306 \nz\n\" id=\"DejaVuSans-43\" transform=\"scale(0.015625)\"/>\n      </defs>\n      <use xlink:href=\"#DejaVuSans-43\"/>\n      <use x=\"69.824219\" xlink:href=\"#DejaVuSans-6f\"/>\n      <use x=\"131.005859\" xlink:href=\"#DejaVuSans-75\"/>\n      <use x=\"194.384766\" xlink:href=\"#DejaVuSans-6e\"/>\n      <use x=\"257.763672\" xlink:href=\"#DejaVuSans-74\"/>\n     </g>\n    </g>\n   </g>\n   <g id=\"patch_27\">\n    <path d=\"M 34.240625 239.758125 \nL 34.240625 22.318125 \n\" style=\"fill:none;stroke:#000000;stroke-linecap:square;stroke-linejoin:miter;stroke-width:0.8;\"/>\n   </g>\n   <g id=\"patch_28\">\n    <path d=\"M 369.040625 239.758125 \nL 369.040625 22.318125 \n\" style=\"fill:none;stroke:#000000;stroke-linecap:square;stroke-linejoin:miter;stroke-width:0.8;\"/>\n   </g>\n   <g id=\"patch_29\">\n    <path d=\"M 34.240625 239.758125 \nL 369.040625 239.758125 \n\" style=\"fill:none;stroke:#000000;stroke-linecap:square;stroke-linejoin:miter;stroke-width:0.8;\"/>\n   </g>\n   <g id=\"patch_30\">\n    <path d=\"M 34.240625 22.318125 \nL 369.040625 22.318125 \n\" style=\"fill:none;stroke:#000000;stroke-linecap:square;stroke-linejoin:miter;stroke-width:0.8;\"/>\n   </g>\n   <g id=\"text_14\">\n    <!-- Likert Data -->\n    <g transform=\"translate(168.630313 16.318125)scale(0.12 -0.12)\">\n     <defs>\n      <path d=\"M 628 4666 \nL 1259 4666 \nL 1259 531 \nL 3531 531 \nL 3531 0 \nL 628 0 \nL 628 4666 \nz\n\" id=\"DejaVuSans-4c\" transform=\"scale(0.015625)\"/>\n      <path d=\"M 581 4863 \nL 1159 4863 \nL 1159 1991 \nL 2875 3500 \nL 3609 3500 \nL 1753 1863 \nL 3688 0 \nL 2938 0 \nL 1159 1709 \nL 1159 0 \nL 581 0 \nL 581 4863 \nz\n\" id=\"DejaVuSans-6b\" transform=\"scale(0.015625)\"/>\n      <path id=\"DejaVuSans-20\" transform=\"scale(0.015625)\"/>\n      <path d=\"M 1259 4147 \nL 1259 519 \nL 2022 519 \nQ 2988 519 3436 956 \nQ 3884 1394 3884 2338 \nQ 3884 3275 3436 3711 \nQ 2988 4147 2022 4147 \nL 1259 4147 \nz\nM 628 4666 \nL 1925 4666 \nQ 3281 4666 3915 4102 \nQ 4550 3538 4550 2338 \nQ 4550 1131 3912 565 \nQ 3275 0 1925 0 \nL 628 0 \nL 628 4666 \nz\n\" id=\"DejaVuSans-44\" transform=\"scale(0.015625)\"/>\n     </defs>\n     <use xlink:href=\"#DejaVuSans-4c\"/>\n     <use x=\"55.712891\" xlink:href=\"#DejaVuSans-69\"/>\n     <use x=\"83.496094\" xlink:href=\"#DejaVuSans-6b\"/>\n     <use x=\"137.78125\" xlink:href=\"#DejaVuSans-65\"/>\n     <use x=\"199.304688\" xlink:href=\"#DejaVuSans-72\"/>\n     <use x=\"240.417969\" xlink:href=\"#DejaVuSans-74\"/>\n     <use x=\"279.626953\" xlink:href=\"#DejaVuSans-20\"/>\n     <use x=\"311.414062\" xlink:href=\"#DejaVuSans-44\"/>\n     <use x=\"388.416016\" xlink:href=\"#DejaVuSans-61\"/>\n     <use x=\"449.695312\" xlink:href=\"#DejaVuSans-74\"/>\n     <use x=\"488.904297\" xlink:href=\"#DejaVuSans-61\"/>\n    </g>\n   </g>\n   <g id=\"legend_1\">\n    <g id=\"patch_31\">\n     <path d=\"M 303.590625 118.386875 \nL 362.040625 118.386875 \nQ 364.040625 118.386875 364.040625 116.386875 \nL 364.040625 29.318125 \nQ 364.040625 27.318125 362.040625 27.318125 \nL 303.590625 27.318125 \nQ 301.590625 27.318125 301.590625 29.318125 \nL 301.590625 116.386875 \nQ 301.590625 118.386875 303.590625 118.386875 \nz\n\" style=\"fill:#ffffff;opacity:0.8;stroke:#cccccc;stroke-linejoin:miter;\"/>\n    </g>\n    <g id=\"patch_32\">\n     <path d=\"M 305.590625 38.916562 \nL 325.590625 38.916562 \nL 325.590625 31.916562 \nL 305.590625 31.916562 \nz\n\" style=\"fill:#1f77b4;\"/>\n    </g>\n    <g id=\"text_15\">\n     <!-- one -->\n     <g transform=\"translate(333.590625 38.916562)scale(0.1 -0.1)\">\n      <use xlink:href=\"#DejaVuSans-6f\"/>\n      <use x=\"61.181641\" xlink:href=\"#DejaVuSans-6e\"/>\n      <use x=\"124.560547\" xlink:href=\"#DejaVuSans-65\"/>\n     </g>\n    </g>\n    <g id=\"patch_33\">\n     <path d=\"M 305.590625 53.594687 \nL 325.590625 53.594687 \nL 325.590625 46.594687 \nL 305.590625 46.594687 \nz\n\" style=\"fill:#ff7f0e;\"/>\n    </g>\n    <g id=\"text_16\">\n     <!-- two -->\n     <g transform=\"translate(333.590625 53.594687)scale(0.1 -0.1)\">\n      <defs>\n       <path d=\"M 269 3500 \nL 844 3500 \nL 1563 769 \nL 2278 3500 \nL 2956 3500 \nL 3675 769 \nL 4391 3500 \nL 4966 3500 \nL 4050 0 \nL 3372 0 \nL 2619 2869 \nL 1863 0 \nL 1184 0 \nL 269 3500 \nz\n\" id=\"DejaVuSans-77\" transform=\"scale(0.015625)\"/>\n      </defs>\n      <use xlink:href=\"#DejaVuSans-74\"/>\n      <use x=\"39.208984\" xlink:href=\"#DejaVuSans-77\"/>\n      <use x=\"120.996094\" xlink:href=\"#DejaVuSans-6f\"/>\n     </g>\n    </g>\n    <g id=\"patch_34\">\n     <path d=\"M 305.590625 68.272812 \nL 325.590625 68.272812 \nL 325.590625 61.272812 \nL 305.590625 61.272812 \nz\n\" style=\"fill:#2ca02c;\"/>\n    </g>\n    <g id=\"text_17\">\n     <!-- three -->\n     <g transform=\"translate(333.590625 68.272812)scale(0.1 -0.1)\">\n      <defs>\n       <path d=\"M 3513 2113 \nL 3513 0 \nL 2938 0 \nL 2938 2094 \nQ 2938 2591 2744 2837 \nQ 2550 3084 2163 3084 \nQ 1697 3084 1428 2787 \nQ 1159 2491 1159 1978 \nL 1159 0 \nL 581 0 \nL 581 4863 \nL 1159 4863 \nL 1159 2956 \nQ 1366 3272 1645 3428 \nQ 1925 3584 2291 3584 \nQ 2894 3584 3203 3211 \nQ 3513 2838 3513 2113 \nz\n\" id=\"DejaVuSans-68\" transform=\"scale(0.015625)\"/>\n      </defs>\n      <use xlink:href=\"#DejaVuSans-74\"/>\n      <use x=\"39.208984\" xlink:href=\"#DejaVuSans-68\"/>\n      <use x=\"102.587891\" xlink:href=\"#DejaVuSans-72\"/>\n      <use x=\"141.451172\" xlink:href=\"#DejaVuSans-65\"/>\n      <use x=\"202.974609\" xlink:href=\"#DejaVuSans-65\"/>\n     </g>\n    </g>\n    <g id=\"patch_35\">\n     <path d=\"M 305.590625 82.950938 \nL 325.590625 82.950938 \nL 325.590625 75.950938 \nL 305.590625 75.950938 \nz\n\" style=\"fill:#d62728;\"/>\n    </g>\n    <g id=\"text_18\">\n     <!-- four -->\n     <g transform=\"translate(333.590625 82.950938)scale(0.1 -0.1)\">\n      <use xlink:href=\"#DejaVuSans-66\"/>\n      <use x=\"35.205078\" xlink:href=\"#DejaVuSans-6f\"/>\n      <use x=\"96.386719\" xlink:href=\"#DejaVuSans-75\"/>\n      <use x=\"159.765625\" xlink:href=\"#DejaVuSans-72\"/>\n     </g>\n    </g>\n    <g id=\"patch_36\">\n     <path d=\"M 305.590625 97.629063 \nL 325.590625 97.629063 \nL 325.590625 90.629063 \nL 305.590625 90.629063 \nz\n\" style=\"fill:#9467bd;\"/>\n    </g>\n    <g id=\"text_19\">\n     <!-- five -->\n     <g transform=\"translate(333.590625 97.629063)scale(0.1 -0.1)\">\n      <use xlink:href=\"#DejaVuSans-66\"/>\n      <use x=\"35.205078\" xlink:href=\"#DejaVuSans-69\"/>\n      <use x=\"62.988281\" xlink:href=\"#DejaVuSans-76\"/>\n      <use x=\"122.167969\" xlink:href=\"#DejaVuSans-65\"/>\n     </g>\n    </g>\n    <g id=\"patch_37\">\n     <path d=\"M 305.590625 112.307187 \nL 325.590625 112.307187 \nL 325.590625 105.307187 \nL 305.590625 105.307187 \nz\n\" style=\"fill:#8c564b;\"/>\n    </g>\n    <g id=\"text_20\">\n     <!-- six -->\n     <g transform=\"translate(333.590625 112.307187)scale(0.1 -0.1)\">\n      <defs>\n       <path d=\"M 3513 3500 \nL 2247 1797 \nL 3578 0 \nL 2900 0 \nL 1881 1375 \nL 863 0 \nL 184 0 \nL 1544 1831 \nL 300 3500 \nL 978 3500 \nL 1906 2253 \nL 2834 3500 \nL 3513 3500 \nz\n\" id=\"DejaVuSans-78\" transform=\"scale(0.015625)\"/>\n      </defs>\n      <use xlink:href=\"#DejaVuSans-73\"/>\n      <use x=\"52.099609\" xlink:href=\"#DejaVuSans-69\"/>\n      <use x=\"79.882812\" xlink:href=\"#DejaVuSans-78\"/>\n     </g>\n    </g>\n   </g>\n  </g>\n </g>\n <defs>\n  <clipPath id=\"p72a38b7ce8\">\n   <rect height=\"217.44\" width=\"334.8\" x=\"34.240625\" y=\"22.318125\"/>\n  </clipPath>\n </defs>\n</svg>\n",
      "image/png": "[encoded data removed]"
     },
     "metadata": {
      "needs_background": "light"
     }
    }
   ],
   "source": [
    "\n",
    "#function to plot a column\n",
    "def boxPlot(data,title):\n",
    "    fig, ax = plt.subplots()\n",
    "    ax.set_title(title)\n",
    "    ax.boxplot(data)\n",
    "\n",
    "#boxPlot(prototypes_df.iloc[0],\"TestTitle\")\n",
    "labels = [\"Understandability\",\"Usability\",\"Value\",\"Informativeness\"]\n",
    "\n",
    "#and the full subdf\n",
    "def boxPlotDF(sub_df,title,labels):\n",
    "    #throw out non-numeric data\n",
    "    int_df = sub_df.select_dtypes(include=\"int64\")\n",
    "    data = int_df.values\n",
    "    fig, ax = plt.subplots()\n",
    "    ax.set_title(title)\n",
    "    ax.set_ylabel(\"Agreement\")\n",
    "    ax.set_ylim(0,7)\n",
    "    ax.boxplot(data)\n",
    "\n",
    "def stackedBarChartDF(sub_df,title,labels):\n",
    "    #throw out non-numeric data\n",
    "    int_df = sub_df.select_dtypes(include=\"int64\")\n",
    "    data = int_df.values\n",
    "    fig, ax = plt.subplots()\n",
    "    ax.set_title(title)\n",
    "    ax.set_ylabel(\"Count\")\n",
    "    ax.set_ylim(0,7)\n",
    "\n",
    "    #get the occurences in the respective column\n",
    "    understandability = Counter(data[:,0])\n",
    "    usability = Counter(data[:,1])\n",
    "    value = Counter(data[:,2])\n",
    "    informativeness = Counter(data[:,3])\n",
    "\n",
    "    numbers = [\"one\", \"two\", \"three\", \"four\", \"five\", \"six\", \"seven\"]\n",
    "\n",
    "    response_data = [[understandability[i], usability[i], value[i], informativeness[i]] for i in range(0,6)]\n",
    "\n",
    "    for data, number in zip(response_data, numbers):\n",
    "        ax.bar(labels, data, label=number)\n",
    "\n",
    "    ax.legend(loc=\"best\")\n",
    "\n",
    "#boxPlotDF(trust_df,\"Trust Based Methods\")\n",
    "stackedBarChartDF(trust_df,\"Likert Data\",labels)\n",
    "plt.savefig(\"StackedBarChart\")\n",
    "\n",
    "#function to get most relevant statistical measures for single column\n",
    "def descriptiveStatistics(column):\n",
    "    print(df[column].describe())\n",
    "\n",
    "descriptiveStatistics(\"user_profiling_useOfDP\")\n"
   ]
  },
  {
   "cell_type": "code",
   "execution_count": 73,
   "metadata": {},
   "outputs": [
    {
     "output_type": "stream",
     "name": "stdout",
     "text": [
      "                   TrustScores  CounterFactuals    CA  Prototypes\nUnderstandability         4.33             5.83  6.33        6.33\nUsability                 5.00             6.00  6.00        6.33\nValue                     4.00             5.50  6.00        6.33\nInformativeness           5.00             6.00  6.67        6.67\n"
     ]
    }
   ],
   "source": [
    "#compare all approaches \n",
    "\n",
    "#1. step: create average,var score of each rating question per subdf\n",
    "df_list = [cf_df,ca_df,prototypes_df,trust_df]\n",
    "def applyFunctionToSubDF(df_list,func):\n",
    "    avg_container = []\n",
    "    #for each df, get an average of the ratings for understand,usab,value and info (or any other function you want to apply to the seletced subdf)\n",
    "    for sub_df in df_list:\n",
    "        understand_avg = round(func(sub_df.filter(regex=(\".*_understandability\")).values),2)\n",
    "        usability_avg = round(func(sub_df.filter(regex=(\".*_usability\")).values),2)\n",
    "        value_avg = round(func(sub_df.filter(regex=(\".*_value\")).values),2)\n",
    "        info_avg = round(func(sub_df.filter(regex=(\".*_informativeness\")).values),2)\n",
    "\n",
    "        sub_df_avg = [info_avg,understand_avg,usability_avg,value_avg]\n",
    "        avg_container.append(sub_df_avg)\n",
    "\n",
    "    #make sure that the input ordering in the df_list is the same as in the method call since I only rely on ordering, not on names\n",
    "    return avg_container[0],avg_container[1],avg_container[2],avg_container[3]\n",
    "\n",
    "cf_avg,ca_avg,prototypes_avg,trust_avg = applyFunctionToSubDF(df_list,np.mean)\n",
    "cf_var,ca_var,prototypes_var,trust_var = applyFunctionToSubDF(df_list,np.var)\n",
    "\n",
    "#2. step: compare them in a table with avg+sdv\n",
    "comparison_df = pd.DataFrame(index=[\"Understandability\",\"Usability\",\"Value\",\"Informativeness\"])\n",
    "comparison_df[\"TrustScores\"] = trust_avg\n",
    "comparison_df[\"CounterFactuals\"] = cf_avg\n",
    "comparison_df[\"CA\"] = ca_avg\n",
    "comparison_df[\"Prototypes\"] = prototypes_avg\n",
    "\n",
    "print(comparison_df)\n"
   ]
  }
 ]
}