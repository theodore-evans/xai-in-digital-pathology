{
 "cells": [
  {
   "cell_type": "code",
   "execution_count": 1,
   "metadata": {},
   "outputs": [],
   "source": [
    "import pandas as pd\n",
    "import json\n",
    "import re\n",
    "import numpy as np\n",
    "import os\n"
   ]
  },
  {
   "cell_type": "markdown",
   "metadata": {},
   "source": [
    "## Data parsing"
   ]
  },
  {
   "cell_type": "code",
   "execution_count": 2,
   "metadata": {
    "tags": []
   },
   "outputs": [
    {
     "data": {
      "text/html": [
       "<div>\n",
       "<style scoped>\n",
       "    .dataframe tbody tr th:only-of-type {\n",
       "        vertical-align: middle;\n",
       "    }\n",
       "\n",
       "    .dataframe tbody tr th {\n",
       "        vertical-align: top;\n",
       "    }\n",
       "\n",
       "    .dataframe thead th {\n",
       "        text-align: right;\n",
       "    }\n",
       "</style>\n",
       "<table border=\"1\" class=\"dataframe\">\n",
       "  <thead>\n",
       "    <tr style=\"text-align: right;\">\n",
       "      <th></th>\n",
       "      <th>id</th>\n",
       "      <th>userProfiling_age</th>\n",
       "      <th>userProfiling_position</th>\n",
       "      <th>userProfiling_useOfAI</th>\n",
       "      <th>userProfiling_useOfDP</th>\n",
       "      <th>userProfiling_mlFamiliarity</th>\n",
       "      <th>saliencyMaps_globalSaliency_understandability</th>\n",
       "      <th>saliencyMaps_globalSaliency_usability</th>\n",
       "      <th>saliencyMaps_globalSaliency_informativeness</th>\n",
       "      <th>saliencyMaps_globalSaliency_value</th>\n",
       "      <th>...</th>\n",
       "      <th>userProfiling_useOfAI_details</th>\n",
       "      <th>saliencyMaps_globalSaliency_comments</th>\n",
       "      <th>saliencyMaps_localSaliency_comments</th>\n",
       "      <th>conceptAttribution_textAttributes_comments</th>\n",
       "      <th>trustScores_borderlineCases_comments</th>\n",
       "      <th>userProfiling_aiFamiliarity</th>\n",
       "      <th>userProfiling_comments</th>\n",
       "      <th>counterfactuals_twoAxisCounterfactuals_comments</th>\n",
       "      <th>counterfactuals_prototypeInterpolation_comments</th>\n",
       "      <th>userProfiling_position-Comment</th>\n",
       "    </tr>\n",
       "  </thead>\n",
       "  <tbody>\n",
       "    <tr>\n",
       "      <th>0</th>\n",
       "      <td>1.623319e+12</td>\n",
       "      <td>30-40</td>\n",
       "      <td>Assisting physician (Assistenzarzt) for pathol...</td>\n",
       "      <td>in routine diagnostics</td>\n",
       "      <td>in routine diagnostics</td>\n",
       "      <td>1</td>\n",
       "      <td>5</td>\n",
       "      <td>5</td>\n",
       "      <td>6</td>\n",
       "      <td>6</td>\n",
       "      <td>...</td>\n",
       "      <td>NaN</td>\n",
       "      <td>NaN</td>\n",
       "      <td>NaN</td>\n",
       "      <td>NaN</td>\n",
       "      <td>NaN</td>\n",
       "      <td>NaN</td>\n",
       "      <td>NaN</td>\n",
       "      <td>NaN</td>\n",
       "      <td>NaN</td>\n",
       "      <td>NaN</td>\n",
       "    </tr>\n",
       "  </tbody>\n",
       "</table>\n",
       "<p>1 rows × 44 columns</p>\n",
       "</div>"
      ],
      "text/plain": [
       "             id userProfiling_age  \\\n",
       "0  1.623319e+12             30-40   \n",
       "\n",
       "                              userProfiling_position   userProfiling_useOfAI  \\\n",
       "0  Assisting physician (Assistenzarzt) for pathol...  in routine diagnostics   \n",
       "\n",
       "    userProfiling_useOfDP  userProfiling_mlFamiliarity  \\\n",
       "0  in routine diagnostics                            1   \n",
       "\n",
       "   saliencyMaps_globalSaliency_understandability  \\\n",
       "0                                              5   \n",
       "\n",
       "   saliencyMaps_globalSaliency_usability  \\\n",
       "0                                      5   \n",
       "\n",
       "   saliencyMaps_globalSaliency_informativeness  \\\n",
       "0                                            6   \n",
       "\n",
       "   saliencyMaps_globalSaliency_value  ...  userProfiling_useOfAI_details  \\\n",
       "0                                  6  ...                            NaN   \n",
       "\n",
       "   saliencyMaps_globalSaliency_comments  saliencyMaps_localSaliency_comments  \\\n",
       "0                                   NaN                                  NaN   \n",
       "\n",
       "   conceptAttribution_textAttributes_comments  \\\n",
       "0                                         NaN   \n",
       "\n",
       "   trustScores_borderlineCases_comments  userProfiling_aiFamiliarity  \\\n",
       "0                                   NaN                          NaN   \n",
       "\n",
       "   userProfiling_comments  counterfactuals_twoAxisCounterfactuals_comments  \\\n",
       "0                     NaN                                              NaN   \n",
       "\n",
       "   counterfactuals_prototypeInterpolation_comments  \\\n",
       "0                                              NaN   \n",
       "\n",
       "   userProfiling_position-Comment  \n",
       "0                             NaN  \n",
       "\n",
       "[1 rows x 44 columns]"
      ]
     },
     "execution_count": 2,
     "metadata": {},
     "output_type": "execute_result"
    }
   ],
   "source": [
    "# Loading Data\n",
    "results_filepath = \"db_06_07_21_resp.json\"\n",
    "with open(results_filepath) as f:\n",
    "    # remove image0/image1 vars since it prevents proper df merging\n",
    "    g = re.sub(r\"_image[0-3]\", \"\", f.read())\n",
    "    data = json.loads(g)\n",
    "    df = pd.json_normalize(data)\n",
    "    df.drop(labels=[\"__v\", \"_id.$oid\"], axis=1, inplace=True)\n",
    "\n",
    "# hacky solution to remove the panda-appended user_. entry\n",
    "renamed = [name.split(\"_.\")[-1] for name in df.columns]\n",
    "col_rename = {i: j for i, j in zip(df.columns, renamed)}\n",
    "df = df.rename(columns=col_rename)\n",
    "\n",
    "df.loc[[0]]\n"
   ]
  },
  {
   "cell_type": "code",
   "execution_count": 3,
   "metadata": {},
   "outputs": [
    {
     "data": {
      "text/html": [
       "<div>\n",
       "<style scoped>\n",
       "    .dataframe tbody tr th:only-of-type {\n",
       "        vertical-align: middle;\n",
       "    }\n",
       "\n",
       "    .dataframe tbody tr th {\n",
       "        vertical-align: top;\n",
       "    }\n",
       "\n",
       "    .dataframe thead th {\n",
       "        text-align: right;\n",
       "    }\n",
       "</style>\n",
       "<table border=\"1\" class=\"dataframe\">\n",
       "  <thead>\n",
       "    <tr style=\"text-align: right;\">\n",
       "      <th></th>\n",
       "      <th>Understandability</th>\n",
       "      <th>Usability</th>\n",
       "      <th>Informativeness</th>\n",
       "      <th>Value</th>\n",
       "    </tr>\n",
       "  </thead>\n",
       "  <tbody>\n",
       "    <tr>\n",
       "      <th>0</th>\n",
       "      <td>6</td>\n",
       "      <td>6</td>\n",
       "      <td>7</td>\n",
       "      <td>6</td>\n",
       "    </tr>\n",
       "    <tr>\n",
       "      <th>1</th>\n",
       "      <td>7</td>\n",
       "      <td>7</td>\n",
       "      <td>7</td>\n",
       "      <td>7</td>\n",
       "    </tr>\n",
       "    <tr>\n",
       "      <th>2</th>\n",
       "      <td>4</td>\n",
       "      <td>6</td>\n",
       "      <td>4</td>\n",
       "      <td>5</td>\n",
       "    </tr>\n",
       "    <tr>\n",
       "      <th>3</th>\n",
       "      <td>6</td>\n",
       "      <td>4</td>\n",
       "      <td>5</td>\n",
       "      <td>5</td>\n",
       "    </tr>\n",
       "    <tr>\n",
       "      <th>4</th>\n",
       "      <td>3</td>\n",
       "      <td>2</td>\n",
       "      <td>2</td>\n",
       "      <td>1</td>\n",
       "    </tr>\n",
       "    <tr>\n",
       "      <th>5</th>\n",
       "      <td>7</td>\n",
       "      <td>7</td>\n",
       "      <td>7</td>\n",
       "      <td>7</td>\n",
       "    </tr>\n",
       "    <tr>\n",
       "      <th>6</th>\n",
       "      <td>2</td>\n",
       "      <td>2</td>\n",
       "      <td>2</td>\n",
       "      <td>2</td>\n",
       "    </tr>\n",
       "    <tr>\n",
       "      <th>7</th>\n",
       "      <td>7</td>\n",
       "      <td>4</td>\n",
       "      <td>6</td>\n",
       "      <td>5</td>\n",
       "    </tr>\n",
       "    <tr>\n",
       "      <th>8</th>\n",
       "      <td>5</td>\n",
       "      <td>6</td>\n",
       "      <td>5</td>\n",
       "      <td>5</td>\n",
       "    </tr>\n",
       "    <tr>\n",
       "      <th>9</th>\n",
       "      <td>6</td>\n",
       "      <td>6</td>\n",
       "      <td>5</td>\n",
       "      <td>5</td>\n",
       "    </tr>\n",
       "    <tr>\n",
       "      <th>10</th>\n",
       "      <td>5</td>\n",
       "      <td>5</td>\n",
       "      <td>5</td>\n",
       "      <td>5</td>\n",
       "    </tr>\n",
       "    <tr>\n",
       "      <th>11</th>\n",
       "      <td>5</td>\n",
       "      <td>4</td>\n",
       "      <td>4</td>\n",
       "      <td>2</td>\n",
       "    </tr>\n",
       "    <tr>\n",
       "      <th>12</th>\n",
       "      <td>7</td>\n",
       "      <td>7</td>\n",
       "      <td>7</td>\n",
       "      <td>7</td>\n",
       "    </tr>\n",
       "    <tr>\n",
       "      <th>13</th>\n",
       "      <td>6</td>\n",
       "      <td>3</td>\n",
       "      <td>3</td>\n",
       "      <td>3</td>\n",
       "    </tr>\n",
       "    <tr>\n",
       "      <th>14</th>\n",
       "      <td>4</td>\n",
       "      <td>5</td>\n",
       "      <td>2</td>\n",
       "      <td>1</td>\n",
       "    </tr>\n",
       "    <tr>\n",
       "      <th>15</th>\n",
       "      <td>5</td>\n",
       "      <td>5</td>\n",
       "      <td>4</td>\n",
       "      <td>4</td>\n",
       "    </tr>\n",
       "    <tr>\n",
       "      <th>16</th>\n",
       "      <td>6</td>\n",
       "      <td>7</td>\n",
       "      <td>5</td>\n",
       "      <td>3</td>\n",
       "    </tr>\n",
       "    <tr>\n",
       "      <th>17</th>\n",
       "      <td>5</td>\n",
       "      <td>2</td>\n",
       "      <td>2</td>\n",
       "      <td>5</td>\n",
       "    </tr>\n",
       "    <tr>\n",
       "      <th>18</th>\n",
       "      <td>6</td>\n",
       "      <td>6</td>\n",
       "      <td>6</td>\n",
       "      <td>6</td>\n",
       "    </tr>\n",
       "    <tr>\n",
       "      <th>19</th>\n",
       "      <td>5</td>\n",
       "      <td>6</td>\n",
       "      <td>6</td>\n",
       "      <td>5</td>\n",
       "    </tr>\n",
       "    <tr>\n",
       "      <th>20</th>\n",
       "      <td>7</td>\n",
       "      <td>7</td>\n",
       "      <td>7</td>\n",
       "      <td>7</td>\n",
       "    </tr>\n",
       "    <tr>\n",
       "      <th>21</th>\n",
       "      <td>3</td>\n",
       "      <td>4</td>\n",
       "      <td>4</td>\n",
       "      <td>5</td>\n",
       "    </tr>\n",
       "  </tbody>\n",
       "</table>\n",
       "</div>"
      ],
      "text/plain": [
       "    Understandability  Usability  Informativeness  Value\n",
       "0                   6          6                7      6\n",
       "1                   7          7                7      7\n",
       "2                   4          6                4      5\n",
       "3                   6          4                5      5\n",
       "4                   3          2                2      1\n",
       "5                   7          7                7      7\n",
       "6                   2          2                2      2\n",
       "7                   7          4                6      5\n",
       "8                   5          6                5      5\n",
       "9                   6          6                5      5\n",
       "10                  5          5                5      5\n",
       "11                  5          4                4      2\n",
       "12                  7          7                7      7\n",
       "13                  6          3                3      3\n",
       "14                  4          5                2      1\n",
       "15                  5          5                4      4\n",
       "16                  6          7                5      3\n",
       "17                  5          2                2      5\n",
       "18                  6          6                6      6\n",
       "19                  5          6                6      5\n",
       "20                  7          7                7      7\n",
       "21                  3          4                4      5"
      ]
     },
     "execution_count": 3,
     "metadata": {},
     "output_type": "execute_result"
    }
   ],
   "source": [
    "user_df = df[\n",
    "    [\n",
    "        \"userProfiling_age\",\n",
    "        \"userProfiling_position\",\n",
    "        \"userProfiling_useOfDP\",\n",
    "        \"userProfiling_useOfAI\",\n",
    "        \"userProfiling_useOfAI_details\",\n",
    "        \"userProfiling_mlFamiliarity\",\n",
    "    ]\n",
    "]\n",
    "\n",
    "fields = [\"Understandability\", \"Usability\", \"Informativeness\", \"Value\"]\n",
    "\n",
    "instance_identifiers = {\n",
    "    \"Counterfactuals: 1-axis\" : \"counterfactuals_prototypeInterpolation\",\n",
    "    \"Counterfactuals: 2-axis\" : \"counterfactuals_twoAxisCounterfactuals\",\n",
    "    \"Saliency Maps: Local\" : \"saliencyMaps_localSaliency\",\n",
    "    \"Saliency Maps: Global\" : \"saliencyMaps_globalSaliency\",\n",
    "    \"Concept Attribution: Text\" : \"conceptAttribution_textAttributes\",\n",
    "    \"Prototypes\" : \"prototypes_prototypes\",\n",
    "    \"Trust Scores: Borderline Cases\" : \"trustScores_borderlineCases\",\n",
    "}\n",
    "\n",
    "result_dataframes = dict()\n",
    "for name, id_ in instance_identifiers.items():\n",
    "    result_dataframes[name] = df[\n",
    "        [f\"{id_}_{field.lower()}\" for field in fields]\n",
    "    ]\n",
    "    result_dataframes[name].columns = fields\n",
    "result_dataframes[\"Counterfactuals: 1-axis\"]\n"
   ]
  },
  {
   "cell_type": "markdown",
   "metadata": {},
   "source": [
    "## Stacked diverging bar charts"
   ]
  },
  {
   "cell_type": "code",
   "execution_count": 19,
   "metadata": {},
   "outputs": [
    {
     "data": {
      "application/vnd.plotly.v1+json": {
       "config": {
        "plotlyServerURL": "https://plot.ly"
       },
       "data": [
        {
         "marker": {
          "color": "rgb(247,247,247)"
         },
         "name": "Neutral",
         "orientation": "h",
         "type": "bar",
         "width": 0.8,
         "x": [
          -0.045454545454545456,
          -0.09090909090909091,
          -0.09090909090909091,
          -0.022727272727272728
         ],
         "y": [
          "I find the explanation    <br>intuitively understandable    ",
          "The explanation helps me to understand    <br>factors relevant to the algorithm    ",
          "The explanation helps me to decide whether    <br> I can trust the generated annotations    ",
          "The explanation provides me with    <br>valuable information for my work    "
         ]
        },
        {
         "marker": {
          "color": "rgb(253,219,199)"
         },
         "name": "Slightly disagree",
         "orientation": "h",
         "type": "bar",
         "width": 0.8,
         "x": [
          -0.09090909090909091,
          -0.045454545454545456,
          -0.045454545454545456,
          -0.09090909090909091
         ],
         "y": [
          "I find the explanation    <br>intuitively understandable    ",
          "The explanation helps me to understand    <br>factors relevant to the algorithm    ",
          "The explanation helps me to decide whether    <br> I can trust the generated annotations    ",
          "The explanation provides me with    <br>valuable information for my work    "
         ]
        },
        {
         "marker": {
          "color": "rgb(244,165,130)"
         },
         "name": "Disagree",
         "orientation": "h",
         "type": "bar",
         "width": 0.8,
         "x": [
          -0.045454545454545456,
          -0.13636363636363635,
          -0.18181818181818182,
          -0.09090909090909091
         ],
         "y": [
          "I find the explanation    <br>intuitively understandable    ",
          "The explanation helps me to understand    <br>factors relevant to the algorithm    ",
          "The explanation helps me to decide whether    <br> I can trust the generated annotations    ",
          "The explanation provides me with    <br>valuable information for my work    "
         ]
        },
        {
         "marker": {
          "color": "rgb(214,96,77)"
         },
         "name": "Strongly disagree",
         "orientation": "h",
         "type": "bar",
         "width": 0.8,
         "x": [
          0,
          0,
          0,
          -0.09090909090909091
         ],
         "y": [
          "I find the explanation    <br>intuitively understandable    ",
          "The explanation helps me to understand    <br>factors relevant to the algorithm    ",
          "The explanation helps me to decide whether    <br> I can trust the generated annotations    ",
          "The explanation provides me with    <br>valuable information for my work    "
         ]
        },
        {
         "marker": {
          "color": "rgb(247,247,247)"
         },
         "name": "Neutral",
         "orientation": "h",
         "type": "bar",
         "width": 0.8,
         "x": [
          0.045454545454545456,
          0.09090909090909091,
          0.09090909090909091,
          0.022727272727272728
         ],
         "y": [
          "I find the explanation    <br>intuitively understandable    ",
          "The explanation helps me to understand    <br>factors relevant to the algorithm    ",
          "The explanation helps me to decide whether    <br> I can trust the generated annotations    ",
          "The explanation provides me with    <br>valuable information for my work    "
         ]
        },
        {
         "marker": {
          "color": "rgb(209,229,240)"
         },
         "name": "Slightly agree",
         "orientation": "h",
         "type": "bar",
         "width": 0.8,
         "x": [
          0.2727272727272727,
          0.13636363636363635,
          0.22727272727272727,
          0.4090909090909091
         ],
         "y": [
          "I find the explanation    <br>intuitively understandable    ",
          "The explanation helps me to understand    <br>factors relevant to the algorithm    ",
          "The explanation helps me to decide whether    <br> I can trust the generated annotations    ",
          "The explanation provides me with    <br>valuable information for my work    "
         ]
        },
        {
         "marker": {
          "color": "rgb(146,197,222)"
         },
         "name": "Agree",
         "orientation": "h",
         "type": "bar",
         "width": 0.8,
         "x": [
          0.2727272727272727,
          0.2727272727272727,
          0.13636363636363635,
          0.09090909090909091
         ],
         "y": [
          "I find the explanation    <br>intuitively understandable    ",
          "The explanation helps me to understand    <br>factors relevant to the algorithm    ",
          "The explanation helps me to decide whether    <br> I can trust the generated annotations    ",
          "The explanation provides me with    <br>valuable information for my work    "
         ]
        },
        {
         "marker": {
          "color": "rgb(67,147,195)"
         },
         "name": "Strongly agree",
         "orientation": "h",
         "type": "bar",
         "width": 0.8,
         "x": [
          0.22727272727272727,
          0.22727272727272727,
          0.22727272727272727,
          0.18181818181818182
         ],
         "y": [
          "I find the explanation    <br>intuitively understandable    ",
          "The explanation helps me to understand    <br>factors relevant to the algorithm    ",
          "The explanation helps me to decide whether    <br> I can trust the generated annotations    ",
          "The explanation provides me with    <br>valuable information for my work    "
         ]
        }
       ],
       "layout": {
        "barmode": "relative",
        "showlegend": false,
        "template": {
         "data": {
          "bar": [
           {
            "error_x": {
             "color": "#2a3f5f"
            },
            "error_y": {
             "color": "#2a3f5f"
            },
            "marker": {
             "line": {
              "color": "#E5ECF6",
              "width": 0.5
             },
             "pattern": {
              "fillmode": "overlay",
              "size": 10,
              "solidity": 0.2
             }
            },
            "type": "bar"
           }
          ],
          "barpolar": [
           {
            "marker": {
             "line": {
              "color": "#E5ECF6",
              "width": 0.5
             },
             "pattern": {
              "fillmode": "overlay",
              "size": 10,
              "solidity": 0.2
             }
            },
            "type": "barpolar"
           }
          ],
          "carpet": [
           {
            "aaxis": {
             "endlinecolor": "#2a3f5f",
             "gridcolor": "white",
             "linecolor": "white",
             "minorgridcolor": "white",
             "startlinecolor": "#2a3f5f"
            },
            "baxis": {
             "endlinecolor": "#2a3f5f",
             "gridcolor": "white",
             "linecolor": "white",
             "minorgridcolor": "white",
             "startlinecolor": "#2a3f5f"
            },
            "type": "carpet"
           }
          ],
          "choropleth": [
           {
            "colorbar": {
             "outlinewidth": 0,
             "ticks": ""
            },
            "type": "choropleth"
           }
          ],
          "contour": [
           {
            "colorbar": {
             "outlinewidth": 0,
             "ticks": ""
            },
            "colorscale": [
             [
              0,
              "#0d0887"
             ],
             [
              0.1111111111111111,
              "#46039f"
             ],
             [
              0.2222222222222222,
              "#7201a8"
             ],
             [
              0.3333333333333333,
              "#9c179e"
             ],
             [
              0.4444444444444444,
              "#bd3786"
             ],
             [
              0.5555555555555556,
              "#d8576b"
             ],
             [
              0.6666666666666666,
              "#ed7953"
             ],
             [
              0.7777777777777778,
              "#fb9f3a"
             ],
             [
              0.8888888888888888,
              "#fdca26"
             ],
             [
              1,
              "#f0f921"
             ]
            ],
            "type": "contour"
           }
          ],
          "contourcarpet": [
           {
            "colorbar": {
             "outlinewidth": 0,
             "ticks": ""
            },
            "type": "contourcarpet"
           }
          ],
          "heatmap": [
           {
            "colorbar": {
             "outlinewidth": 0,
             "ticks": ""
            },
            "colorscale": [
             [
              0,
              "#0d0887"
             ],
             [
              0.1111111111111111,
              "#46039f"
             ],
             [
              0.2222222222222222,
              "#7201a8"
             ],
             [
              0.3333333333333333,
              "#9c179e"
             ],
             [
              0.4444444444444444,
              "#bd3786"
             ],
             [
              0.5555555555555556,
              "#d8576b"
             ],
             [
              0.6666666666666666,
              "#ed7953"
             ],
             [
              0.7777777777777778,
              "#fb9f3a"
             ],
             [
              0.8888888888888888,
              "#fdca26"
             ],
             [
              1,
              "#f0f921"
             ]
            ],
            "type": "heatmap"
           }
          ],
          "heatmapgl": [
           {
            "colorbar": {
             "outlinewidth": 0,
             "ticks": ""
            },
            "colorscale": [
             [
              0,
              "#0d0887"
             ],
             [
              0.1111111111111111,
              "#46039f"
             ],
             [
              0.2222222222222222,
              "#7201a8"
             ],
             [
              0.3333333333333333,
              "#9c179e"
             ],
             [
              0.4444444444444444,
              "#bd3786"
             ],
             [
              0.5555555555555556,
              "#d8576b"
             ],
             [
              0.6666666666666666,
              "#ed7953"
             ],
             [
              0.7777777777777778,
              "#fb9f3a"
             ],
             [
              0.8888888888888888,
              "#fdca26"
             ],
             [
              1,
              "#f0f921"
             ]
            ],
            "type": "heatmapgl"
           }
          ],
          "histogram": [
           {
            "marker": {
             "pattern": {
              "fillmode": "overlay",
              "size": 10,
              "solidity": 0.2
             }
            },
            "type": "histogram"
           }
          ],
          "histogram2d": [
           {
            "colorbar": {
             "outlinewidth": 0,
             "ticks": ""
            },
            "colorscale": [
             [
              0,
              "#0d0887"
             ],
             [
              0.1111111111111111,
              "#46039f"
             ],
             [
              0.2222222222222222,
              "#7201a8"
             ],
             [
              0.3333333333333333,
              "#9c179e"
             ],
             [
              0.4444444444444444,
              "#bd3786"
             ],
             [
              0.5555555555555556,
              "#d8576b"
             ],
             [
              0.6666666666666666,
              "#ed7953"
             ],
             [
              0.7777777777777778,
              "#fb9f3a"
             ],
             [
              0.8888888888888888,
              "#fdca26"
             ],
             [
              1,
              "#f0f921"
             ]
            ],
            "type": "histogram2d"
           }
          ],
          "histogram2dcontour": [
           {
            "colorbar": {
             "outlinewidth": 0,
             "ticks": ""
            },
            "colorscale": [
             [
              0,
              "#0d0887"
             ],
             [
              0.1111111111111111,
              "#46039f"
             ],
             [
              0.2222222222222222,
              "#7201a8"
             ],
             [
              0.3333333333333333,
              "#9c179e"
             ],
             [
              0.4444444444444444,
              "#bd3786"
             ],
             [
              0.5555555555555556,
              "#d8576b"
             ],
             [
              0.6666666666666666,
              "#ed7953"
             ],
             [
              0.7777777777777778,
              "#fb9f3a"
             ],
             [
              0.8888888888888888,
              "#fdca26"
             ],
             [
              1,
              "#f0f921"
             ]
            ],
            "type": "histogram2dcontour"
           }
          ],
          "mesh3d": [
           {
            "colorbar": {
             "outlinewidth": 0,
             "ticks": ""
            },
            "type": "mesh3d"
           }
          ],
          "parcoords": [
           {
            "line": {
             "colorbar": {
              "outlinewidth": 0,
              "ticks": ""
             }
            },
            "type": "parcoords"
           }
          ],
          "pie": [
           {
            "automargin": true,
            "type": "pie"
           }
          ],
          "scatter": [
           {
            "marker": {
             "colorbar": {
              "outlinewidth": 0,
              "ticks": ""
             }
            },
            "type": "scatter"
           }
          ],
          "scatter3d": [
           {
            "line": {
             "colorbar": {
              "outlinewidth": 0,
              "ticks": ""
             }
            },
            "marker": {
             "colorbar": {
              "outlinewidth": 0,
              "ticks": ""
             }
            },
            "type": "scatter3d"
           }
          ],
          "scattercarpet": [
           {
            "marker": {
             "colorbar": {
              "outlinewidth": 0,
              "ticks": ""
             }
            },
            "type": "scattercarpet"
           }
          ],
          "scattergeo": [
           {
            "marker": {
             "colorbar": {
              "outlinewidth": 0,
              "ticks": ""
             }
            },
            "type": "scattergeo"
           }
          ],
          "scattergl": [
           {
            "marker": {
             "colorbar": {
              "outlinewidth": 0,
              "ticks": ""
             }
            },
            "type": "scattergl"
           }
          ],
          "scattermapbox": [
           {
            "marker": {
             "colorbar": {
              "outlinewidth": 0,
              "ticks": ""
             }
            },
            "type": "scattermapbox"
           }
          ],
          "scatterpolar": [
           {
            "marker": {
             "colorbar": {
              "outlinewidth": 0,
              "ticks": ""
             }
            },
            "type": "scatterpolar"
           }
          ],
          "scatterpolargl": [
           {
            "marker": {
             "colorbar": {
              "outlinewidth": 0,
              "ticks": ""
             }
            },
            "type": "scatterpolargl"
           }
          ],
          "scatterternary": [
           {
            "marker": {
             "colorbar": {
              "outlinewidth": 0,
              "ticks": ""
             }
            },
            "type": "scatterternary"
           }
          ],
          "surface": [
           {
            "colorbar": {
             "outlinewidth": 0,
             "ticks": ""
            },
            "colorscale": [
             [
              0,
              "#0d0887"
             ],
             [
              0.1111111111111111,
              "#46039f"
             ],
             [
              0.2222222222222222,
              "#7201a8"
             ],
             [
              0.3333333333333333,
              "#9c179e"
             ],
             [
              0.4444444444444444,
              "#bd3786"
             ],
             [
              0.5555555555555556,
              "#d8576b"
             ],
             [
              0.6666666666666666,
              "#ed7953"
             ],
             [
              0.7777777777777778,
              "#fb9f3a"
             ],
             [
              0.8888888888888888,
              "#fdca26"
             ],
             [
              1,
              "#f0f921"
             ]
            ],
            "type": "surface"
           }
          ],
          "table": [
           {
            "cells": {
             "fill": {
              "color": "#EBF0F8"
             },
             "line": {
              "color": "white"
             }
            },
            "header": {
             "fill": {
              "color": "#C8D4E3"
             },
             "line": {
              "color": "white"
             }
            },
            "type": "table"
           }
          ]
         },
         "layout": {
          "annotationdefaults": {
           "arrowcolor": "#2a3f5f",
           "arrowhead": 0,
           "arrowwidth": 1
          },
          "autotypenumbers": "strict",
          "coloraxis": {
           "colorbar": {
            "outlinewidth": 0,
            "ticks": ""
           }
          },
          "colorscale": {
           "diverging": [
            [
             0,
             "#8e0152"
            ],
            [
             0.1,
             "#c51b7d"
            ],
            [
             0.2,
             "#de77ae"
            ],
            [
             0.3,
             "#f1b6da"
            ],
            [
             0.4,
             "#fde0ef"
            ],
            [
             0.5,
             "#f7f7f7"
            ],
            [
             0.6,
             "#e6f5d0"
            ],
            [
             0.7,
             "#b8e186"
            ],
            [
             0.8,
             "#7fbc41"
            ],
            [
             0.9,
             "#4d9221"
            ],
            [
             1,
             "#276419"
            ]
           ],
           "sequential": [
            [
             0,
             "#0d0887"
            ],
            [
             0.1111111111111111,
             "#46039f"
            ],
            [
             0.2222222222222222,
             "#7201a8"
            ],
            [
             0.3333333333333333,
             "#9c179e"
            ],
            [
             0.4444444444444444,
             "#bd3786"
            ],
            [
             0.5555555555555556,
             "#d8576b"
            ],
            [
             0.6666666666666666,
             "#ed7953"
            ],
            [
             0.7777777777777778,
             "#fb9f3a"
            ],
            [
             0.8888888888888888,
             "#fdca26"
            ],
            [
             1,
             "#f0f921"
            ]
           ],
           "sequentialminus": [
            [
             0,
             "#0d0887"
            ],
            [
             0.1111111111111111,
             "#46039f"
            ],
            [
             0.2222222222222222,
             "#7201a8"
            ],
            [
             0.3333333333333333,
             "#9c179e"
            ],
            [
             0.4444444444444444,
             "#bd3786"
            ],
            [
             0.5555555555555556,
             "#d8576b"
            ],
            [
             0.6666666666666666,
             "#ed7953"
            ],
            [
             0.7777777777777778,
             "#fb9f3a"
            ],
            [
             0.8888888888888888,
             "#fdca26"
            ],
            [
             1,
             "#f0f921"
            ]
           ]
          },
          "colorway": [
           "#636efa",
           "#EF553B",
           "#00cc96",
           "#ab63fa",
           "#FFA15A",
           "#19d3f3",
           "#FF6692",
           "#B6E880",
           "#FF97FF",
           "#FECB52"
          ],
          "font": {
           "color": "#2a3f5f"
          },
          "geo": {
           "bgcolor": "white",
           "lakecolor": "white",
           "landcolor": "#E5ECF6",
           "showlakes": true,
           "showland": true,
           "subunitcolor": "white"
          },
          "hoverlabel": {
           "align": "left"
          },
          "hovermode": "closest",
          "mapbox": {
           "style": "light"
          },
          "paper_bgcolor": "white",
          "plot_bgcolor": "#E5ECF6",
          "polar": {
           "angularaxis": {
            "gridcolor": "white",
            "linecolor": "white",
            "ticks": ""
           },
           "bgcolor": "#E5ECF6",
           "radialaxis": {
            "gridcolor": "white",
            "linecolor": "white",
            "ticks": ""
           }
          },
          "scene": {
           "xaxis": {
            "backgroundcolor": "#E5ECF6",
            "gridcolor": "white",
            "gridwidth": 2,
            "linecolor": "white",
            "showbackground": true,
            "ticks": "",
            "zerolinecolor": "white"
           },
           "yaxis": {
            "backgroundcolor": "#E5ECF6",
            "gridcolor": "white",
            "gridwidth": 2,
            "linecolor": "white",
            "showbackground": true,
            "ticks": "",
            "zerolinecolor": "white"
           },
           "zaxis": {
            "backgroundcolor": "#E5ECF6",
            "gridcolor": "white",
            "gridwidth": 2,
            "linecolor": "white",
            "showbackground": true,
            "ticks": "",
            "zerolinecolor": "white"
           }
          },
          "shapedefaults": {
           "line": {
            "color": "#2a3f5f"
           }
          },
          "ternary": {
           "aaxis": {
            "gridcolor": "white",
            "linecolor": "white",
            "ticks": ""
           },
           "baxis": {
            "gridcolor": "white",
            "linecolor": "white",
            "ticks": ""
           },
           "bgcolor": "#E5ECF6",
           "caxis": {
            "gridcolor": "white",
            "linecolor": "white",
            "ticks": ""
           }
          },
          "title": {
           "x": 0.05
          },
          "xaxis": {
           "automargin": true,
           "gridcolor": "white",
           "linecolor": "white",
           "ticks": "",
           "title": {
            "standoff": 15
           },
           "zerolinecolor": "white",
           "zerolinewidth": 2
          },
          "yaxis": {
           "automargin": true,
           "gridcolor": "white",
           "linecolor": "white",
           "ticks": "",
           "title": {
            "standoff": 15
           },
           "zerolinecolor": "white",
           "zerolinewidth": 2
          }
         }
        },
        "title": {
         "text": "Counterfactuals: 1-axis",
         "x": 0.5
        },
        "xaxis": {
         "range": [
          -1,
          1
         ],
         "tick0": 0,
         "tickformat": "%",
         "title": {
          "text": "Frequency"
         }
        },
        "yaxis": {
         "autorange": "reversed"
        }
       }
      }
     },
     "metadata": {},
     "output_type": "display_data"
    },
    {
     "data": {
      "application/vnd.plotly.v1+json": {
       "config": {
        "plotlyServerURL": "https://plot.ly"
       },
       "data": [
        {
         "marker": {
          "color": "rgb(247,247,247)"
         },
         "name": "Neutral",
         "orientation": "h",
         "type": "bar",
         "width": 0.8,
         "x": [
          -0.06818181818181818,
          -0.09090909090909091,
          -0.13636363636363635,
          -0.09090909090909091
         ],
         "y": [
          "I find the explanation    <br>intuitively understandable    ",
          "The explanation helps me to understand    <br>factors relevant to the algorithm    ",
          "The explanation helps me to decide whether    <br> I can trust the generated annotations    ",
          "The explanation provides me with    <br>valuable information for my work    "
         ]
        },
        {
         "marker": {
          "color": "rgb(253,219,199)"
         },
         "name": "Slightly disagree",
         "orientation": "h",
         "type": "bar",
         "width": 0.8,
         "x": [
          0,
          -0.13636363636363635,
          -0.09090909090909091,
          -0.18181818181818182
         ],
         "y": [
          "I find the explanation    <br>intuitively understandable    ",
          "The explanation helps me to understand    <br>factors relevant to the algorithm    ",
          "The explanation helps me to decide whether    <br> I can trust the generated annotations    ",
          "The explanation provides me with    <br>valuable information for my work    "
         ]
        },
        {
         "marker": {
          "color": "rgb(244,165,130)"
         },
         "name": "Disagree",
         "orientation": "h",
         "type": "bar",
         "width": 0.8,
         "x": [
          -0.18181818181818182,
          -0.13636363636363635,
          -0.09090909090909091,
          -0.045454545454545456
         ],
         "y": [
          "I find the explanation    <br>intuitively understandable    ",
          "The explanation helps me to understand    <br>factors relevant to the algorithm    ",
          "The explanation helps me to decide whether    <br> I can trust the generated annotations    ",
          "The explanation provides me with    <br>valuable information for my work    "
         ]
        },
        {
         "marker": {
          "color": "rgb(214,96,77)"
         },
         "name": "Strongly disagree",
         "orientation": "h",
         "type": "bar",
         "width": 0.8,
         "x": [
          -0.13636363636363635,
          -0.09090909090909091,
          -0.13636363636363635,
          -0.13636363636363635
         ],
         "y": [
          "I find the explanation    <br>intuitively understandable    ",
          "The explanation helps me to understand    <br>factors relevant to the algorithm    ",
          "The explanation helps me to decide whether    <br> I can trust the generated annotations    ",
          "The explanation provides me with    <br>valuable information for my work    "
         ]
        },
        {
         "marker": {
          "color": "rgb(247,247,247)"
         },
         "name": "Neutral",
         "orientation": "h",
         "type": "bar",
         "width": 0.8,
         "x": [
          0.06818181818181818,
          0.09090909090909091,
          0.13636363636363635,
          0.09090909090909091
         ],
         "y": [
          "I find the explanation    <br>intuitively understandable    ",
          "The explanation helps me to understand    <br>factors relevant to the algorithm    ",
          "The explanation helps me to decide whether    <br> I can trust the generated annotations    ",
          "The explanation provides me with    <br>valuable information for my work    "
         ]
        },
        {
         "marker": {
          "color": "rgb(209,229,240)"
         },
         "name": "Slightly agree",
         "orientation": "h",
         "type": "bar",
         "width": 0.8,
         "x": [
          0.3181818181818182,
          0.18181818181818182,
          0.18181818181818182,
          0.2727272727272727
         ],
         "y": [
          "I find the explanation    <br>intuitively understandable    ",
          "The explanation helps me to understand    <br>factors relevant to the algorithm    ",
          "The explanation helps me to decide whether    <br> I can trust the generated annotations    ",
          "The explanation provides me with    <br>valuable information for my work    "
         ]
        },
        {
         "marker": {
          "color": "rgb(146,197,222)"
         },
         "name": "Agree",
         "orientation": "h",
         "type": "bar",
         "width": 0.8,
         "x": [
          0.13636363636363635,
          0.22727272727272727,
          0.22727272727272727,
          0.13636363636363635
         ],
         "y": [
          "I find the explanation    <br>intuitively understandable    ",
          "The explanation helps me to understand    <br>factors relevant to the algorithm    ",
          "The explanation helps me to decide whether    <br> I can trust the generated annotations    ",
          "The explanation provides me with    <br>valuable information for my work    "
         ]
        },
        {
         "marker": {
          "color": "rgb(67,147,195)"
         },
         "name": "Strongly agree",
         "orientation": "h",
         "type": "bar",
         "width": 0.8,
         "x": [
          0.09090909090909091,
          0.045454545454545456,
          0,
          0.045454545454545456
         ],
         "y": [
          "I find the explanation    <br>intuitively understandable    ",
          "The explanation helps me to understand    <br>factors relevant to the algorithm    ",
          "The explanation helps me to decide whether    <br> I can trust the generated annotations    ",
          "The explanation provides me with    <br>valuable information for my work    "
         ]
        }
       ],
       "layout": {
        "barmode": "relative",
        "showlegend": false,
        "template": {
         "data": {
          "bar": [
           {
            "error_x": {
             "color": "#2a3f5f"
            },
            "error_y": {
             "color": "#2a3f5f"
            },
            "marker": {
             "line": {
              "color": "#E5ECF6",
              "width": 0.5
             },
             "pattern": {
              "fillmode": "overlay",
              "size": 10,
              "solidity": 0.2
             }
            },
            "type": "bar"
           }
          ],
          "barpolar": [
           {
            "marker": {
             "line": {
              "color": "#E5ECF6",
              "width": 0.5
             },
             "pattern": {
              "fillmode": "overlay",
              "size": 10,
              "solidity": 0.2
             }
            },
            "type": "barpolar"
           }
          ],
          "carpet": [
           {
            "aaxis": {
             "endlinecolor": "#2a3f5f",
             "gridcolor": "white",
             "linecolor": "white",
             "minorgridcolor": "white",
             "startlinecolor": "#2a3f5f"
            },
            "baxis": {
             "endlinecolor": "#2a3f5f",
             "gridcolor": "white",
             "linecolor": "white",
             "minorgridcolor": "white",
             "startlinecolor": "#2a3f5f"
            },
            "type": "carpet"
           }
          ],
          "choropleth": [
           {
            "colorbar": {
             "outlinewidth": 0,
             "ticks": ""
            },
            "type": "choropleth"
           }
          ],
          "contour": [
           {
            "colorbar": {
             "outlinewidth": 0,
             "ticks": ""
            },
            "colorscale": [
             [
              0,
              "#0d0887"
             ],
             [
              0.1111111111111111,
              "#46039f"
             ],
             [
              0.2222222222222222,
              "#7201a8"
             ],
             [
              0.3333333333333333,
              "#9c179e"
             ],
             [
              0.4444444444444444,
              "#bd3786"
             ],
             [
              0.5555555555555556,
              "#d8576b"
             ],
             [
              0.6666666666666666,
              "#ed7953"
             ],
             [
              0.7777777777777778,
              "#fb9f3a"
             ],
             [
              0.8888888888888888,
              "#fdca26"
             ],
             [
              1,
              "#f0f921"
             ]
            ],
            "type": "contour"
           }
          ],
          "contourcarpet": [
           {
            "colorbar": {
             "outlinewidth": 0,
             "ticks": ""
            },
            "type": "contourcarpet"
           }
          ],
          "heatmap": [
           {
            "colorbar": {
             "outlinewidth": 0,
             "ticks": ""
            },
            "colorscale": [
             [
              0,
              "#0d0887"
             ],
             [
              0.1111111111111111,
              "#46039f"
             ],
             [
              0.2222222222222222,
              "#7201a8"
             ],
             [
              0.3333333333333333,
              "#9c179e"
             ],
             [
              0.4444444444444444,
              "#bd3786"
             ],
             [
              0.5555555555555556,
              "#d8576b"
             ],
             [
              0.6666666666666666,
              "#ed7953"
             ],
             [
              0.7777777777777778,
              "#fb9f3a"
             ],
             [
              0.8888888888888888,
              "#fdca26"
             ],
             [
              1,
              "#f0f921"
             ]
            ],
            "type": "heatmap"
           }
          ],
          "heatmapgl": [
           {
            "colorbar": {
             "outlinewidth": 0,
             "ticks": ""
            },
            "colorscale": [
             [
              0,
              "#0d0887"
             ],
             [
              0.1111111111111111,
              "#46039f"
             ],
             [
              0.2222222222222222,
              "#7201a8"
             ],
             [
              0.3333333333333333,
              "#9c179e"
             ],
             [
              0.4444444444444444,
              "#bd3786"
             ],
             [
              0.5555555555555556,
              "#d8576b"
             ],
             [
              0.6666666666666666,
              "#ed7953"
             ],
             [
              0.7777777777777778,
              "#fb9f3a"
             ],
             [
              0.8888888888888888,
              "#fdca26"
             ],
             [
              1,
              "#f0f921"
             ]
            ],
            "type": "heatmapgl"
           }
          ],
          "histogram": [
           {
            "marker": {
             "pattern": {
              "fillmode": "overlay",
              "size": 10,
              "solidity": 0.2
             }
            },
            "type": "histogram"
           }
          ],
          "histogram2d": [
           {
            "colorbar": {
             "outlinewidth": 0,
             "ticks": ""
            },
            "colorscale": [
             [
              0,
              "#0d0887"
             ],
             [
              0.1111111111111111,
              "#46039f"
             ],
             [
              0.2222222222222222,
              "#7201a8"
             ],
             [
              0.3333333333333333,
              "#9c179e"
             ],
             [
              0.4444444444444444,
              "#bd3786"
             ],
             [
              0.5555555555555556,
              "#d8576b"
             ],
             [
              0.6666666666666666,
              "#ed7953"
             ],
             [
              0.7777777777777778,
              "#fb9f3a"
             ],
             [
              0.8888888888888888,
              "#fdca26"
             ],
             [
              1,
              "#f0f921"
             ]
            ],
            "type": "histogram2d"
           }
          ],
          "histogram2dcontour": [
           {
            "colorbar": {
             "outlinewidth": 0,
             "ticks": ""
            },
            "colorscale": [
             [
              0,
              "#0d0887"
             ],
             [
              0.1111111111111111,
              "#46039f"
             ],
             [
              0.2222222222222222,
              "#7201a8"
             ],
             [
              0.3333333333333333,
              "#9c179e"
             ],
             [
              0.4444444444444444,
              "#bd3786"
             ],
             [
              0.5555555555555556,
              "#d8576b"
             ],
             [
              0.6666666666666666,
              "#ed7953"
             ],
             [
              0.7777777777777778,
              "#fb9f3a"
             ],
             [
              0.8888888888888888,
              "#fdca26"
             ],
             [
              1,
              "#f0f921"
             ]
            ],
            "type": "histogram2dcontour"
           }
          ],
          "mesh3d": [
           {
            "colorbar": {
             "outlinewidth": 0,
             "ticks": ""
            },
            "type": "mesh3d"
           }
          ],
          "parcoords": [
           {
            "line": {
             "colorbar": {
              "outlinewidth": 0,
              "ticks": ""
             }
            },
            "type": "parcoords"
           }
          ],
          "pie": [
           {
            "automargin": true,
            "type": "pie"
           }
          ],
          "scatter": [
           {
            "marker": {
             "colorbar": {
              "outlinewidth": 0,
              "ticks": ""
             }
            },
            "type": "scatter"
           }
          ],
          "scatter3d": [
           {
            "line": {
             "colorbar": {
              "outlinewidth": 0,
              "ticks": ""
             }
            },
            "marker": {
             "colorbar": {
              "outlinewidth": 0,
              "ticks": ""
             }
            },
            "type": "scatter3d"
           }
          ],
          "scattercarpet": [
           {
            "marker": {
             "colorbar": {
              "outlinewidth": 0,
              "ticks": ""
             }
            },
            "type": "scattercarpet"
           }
          ],
          "scattergeo": [
           {
            "marker": {
             "colorbar": {
              "outlinewidth": 0,
              "ticks": ""
             }
            },
            "type": "scattergeo"
           }
          ],
          "scattergl": [
           {
            "marker": {
             "colorbar": {
              "outlinewidth": 0,
              "ticks": ""
             }
            },
            "type": "scattergl"
           }
          ],
          "scattermapbox": [
           {
            "marker": {
             "colorbar": {
              "outlinewidth": 0,
              "ticks": ""
             }
            },
            "type": "scattermapbox"
           }
          ],
          "scatterpolar": [
           {
            "marker": {
             "colorbar": {
              "outlinewidth": 0,
              "ticks": ""
             }
            },
            "type": "scatterpolar"
           }
          ],
          "scatterpolargl": [
           {
            "marker": {
             "colorbar": {
              "outlinewidth": 0,
              "ticks": ""
             }
            },
            "type": "scatterpolargl"
           }
          ],
          "scatterternary": [
           {
            "marker": {
             "colorbar": {
              "outlinewidth": 0,
              "ticks": ""
             }
            },
            "type": "scatterternary"
           }
          ],
          "surface": [
           {
            "colorbar": {
             "outlinewidth": 0,
             "ticks": ""
            },
            "colorscale": [
             [
              0,
              "#0d0887"
             ],
             [
              0.1111111111111111,
              "#46039f"
             ],
             [
              0.2222222222222222,
              "#7201a8"
             ],
             [
              0.3333333333333333,
              "#9c179e"
             ],
             [
              0.4444444444444444,
              "#bd3786"
             ],
             [
              0.5555555555555556,
              "#d8576b"
             ],
             [
              0.6666666666666666,
              "#ed7953"
             ],
             [
              0.7777777777777778,
              "#fb9f3a"
             ],
             [
              0.8888888888888888,
              "#fdca26"
             ],
             [
              1,
              "#f0f921"
             ]
            ],
            "type": "surface"
           }
          ],
          "table": [
           {
            "cells": {
             "fill": {
              "color": "#EBF0F8"
             },
             "line": {
              "color": "white"
             }
            },
            "header": {
             "fill": {
              "color": "#C8D4E3"
             },
             "line": {
              "color": "white"
             }
            },
            "type": "table"
           }
          ]
         },
         "layout": {
          "annotationdefaults": {
           "arrowcolor": "#2a3f5f",
           "arrowhead": 0,
           "arrowwidth": 1
          },
          "autotypenumbers": "strict",
          "coloraxis": {
           "colorbar": {
            "outlinewidth": 0,
            "ticks": ""
           }
          },
          "colorscale": {
           "diverging": [
            [
             0,
             "#8e0152"
            ],
            [
             0.1,
             "#c51b7d"
            ],
            [
             0.2,
             "#de77ae"
            ],
            [
             0.3,
             "#f1b6da"
            ],
            [
             0.4,
             "#fde0ef"
            ],
            [
             0.5,
             "#f7f7f7"
            ],
            [
             0.6,
             "#e6f5d0"
            ],
            [
             0.7,
             "#b8e186"
            ],
            [
             0.8,
             "#7fbc41"
            ],
            [
             0.9,
             "#4d9221"
            ],
            [
             1,
             "#276419"
            ]
           ],
           "sequential": [
            [
             0,
             "#0d0887"
            ],
            [
             0.1111111111111111,
             "#46039f"
            ],
            [
             0.2222222222222222,
             "#7201a8"
            ],
            [
             0.3333333333333333,
             "#9c179e"
            ],
            [
             0.4444444444444444,
             "#bd3786"
            ],
            [
             0.5555555555555556,
             "#d8576b"
            ],
            [
             0.6666666666666666,
             "#ed7953"
            ],
            [
             0.7777777777777778,
             "#fb9f3a"
            ],
            [
             0.8888888888888888,
             "#fdca26"
            ],
            [
             1,
             "#f0f921"
            ]
           ],
           "sequentialminus": [
            [
             0,
             "#0d0887"
            ],
            [
             0.1111111111111111,
             "#46039f"
            ],
            [
             0.2222222222222222,
             "#7201a8"
            ],
            [
             0.3333333333333333,
             "#9c179e"
            ],
            [
             0.4444444444444444,
             "#bd3786"
            ],
            [
             0.5555555555555556,
             "#d8576b"
            ],
            [
             0.6666666666666666,
             "#ed7953"
            ],
            [
             0.7777777777777778,
             "#fb9f3a"
            ],
            [
             0.8888888888888888,
             "#fdca26"
            ],
            [
             1,
             "#f0f921"
            ]
           ]
          },
          "colorway": [
           "#636efa",
           "#EF553B",
           "#00cc96",
           "#ab63fa",
           "#FFA15A",
           "#19d3f3",
           "#FF6692",
           "#B6E880",
           "#FF97FF",
           "#FECB52"
          ],
          "font": {
           "color": "#2a3f5f"
          },
          "geo": {
           "bgcolor": "white",
           "lakecolor": "white",
           "landcolor": "#E5ECF6",
           "showlakes": true,
           "showland": true,
           "subunitcolor": "white"
          },
          "hoverlabel": {
           "align": "left"
          },
          "hovermode": "closest",
          "mapbox": {
           "style": "light"
          },
          "paper_bgcolor": "white",
          "plot_bgcolor": "#E5ECF6",
          "polar": {
           "angularaxis": {
            "gridcolor": "white",
            "linecolor": "white",
            "ticks": ""
           },
           "bgcolor": "#E5ECF6",
           "radialaxis": {
            "gridcolor": "white",
            "linecolor": "white",
            "ticks": ""
           }
          },
          "scene": {
           "xaxis": {
            "backgroundcolor": "#E5ECF6",
            "gridcolor": "white",
            "gridwidth": 2,
            "linecolor": "white",
            "showbackground": true,
            "ticks": "",
            "zerolinecolor": "white"
           },
           "yaxis": {
            "backgroundcolor": "#E5ECF6",
            "gridcolor": "white",
            "gridwidth": 2,
            "linecolor": "white",
            "showbackground": true,
            "ticks": "",
            "zerolinecolor": "white"
           },
           "zaxis": {
            "backgroundcolor": "#E5ECF6",
            "gridcolor": "white",
            "gridwidth": 2,
            "linecolor": "white",
            "showbackground": true,
            "ticks": "",
            "zerolinecolor": "white"
           }
          },
          "shapedefaults": {
           "line": {
            "color": "#2a3f5f"
           }
          },
          "ternary": {
           "aaxis": {
            "gridcolor": "white",
            "linecolor": "white",
            "ticks": ""
           },
           "baxis": {
            "gridcolor": "white",
            "linecolor": "white",
            "ticks": ""
           },
           "bgcolor": "#E5ECF6",
           "caxis": {
            "gridcolor": "white",
            "linecolor": "white",
            "ticks": ""
           }
          },
          "title": {
           "x": 0.05
          },
          "xaxis": {
           "automargin": true,
           "gridcolor": "white",
           "linecolor": "white",
           "ticks": "",
           "title": {
            "standoff": 15
           },
           "zerolinecolor": "white",
           "zerolinewidth": 2
          },
          "yaxis": {
           "automargin": true,
           "gridcolor": "white",
           "linecolor": "white",
           "ticks": "",
           "title": {
            "standoff": 15
           },
           "zerolinecolor": "white",
           "zerolinewidth": 2
          }
         }
        },
        "title": {
         "text": "Counterfactuals: 2-axis",
         "x": 0.5
        },
        "xaxis": {
         "range": [
          -1,
          1
         ],
         "tick0": 0,
         "tickformat": "%",
         "title": {
          "text": "Frequency"
         }
        },
        "yaxis": {
         "autorange": "reversed"
        }
       }
      }
     },
     "metadata": {},
     "output_type": "display_data"
    },
    {
     "data": {
      "application/vnd.plotly.v1+json": {
       "config": {
        "plotlyServerURL": "https://plot.ly"
       },
       "data": [
        {
         "marker": {
          "color": "rgb(247,247,247)"
         },
         "name": "Neutral",
         "orientation": "h",
         "type": "bar",
         "width": 0.8,
         "x": [
          -0.06818181818181818,
          -0.06818181818181818,
          -0.13636363636363635,
          -0.13636363636363635
         ],
         "y": [
          "I find the explanation    <br>intuitively understandable    ",
          "The explanation helps me to understand    <br>factors relevant to the algorithm    ",
          "The explanation helps me to decide whether    <br> I can trust the generated annotations    ",
          "The explanation provides me with    <br>valuable information for my work    "
         ]
        },
        {
         "marker": {
          "color": "rgb(253,219,199)"
         },
         "name": "Slightly disagree",
         "orientation": "h",
         "type": "bar",
         "width": 0.8,
         "x": [
          -0.13636363636363635,
          -0.09090909090909091,
          -0.09090909090909091,
          -0.18181818181818182
         ],
         "y": [
          "I find the explanation    <br>intuitively understandable    ",
          "The explanation helps me to understand    <br>factors relevant to the algorithm    ",
          "The explanation helps me to decide whether    <br> I can trust the generated annotations    ",
          "The explanation provides me with    <br>valuable information for my work    "
         ]
        },
        {
         "marker": {
          "color": "rgb(244,165,130)"
         },
         "name": "Disagree",
         "orientation": "h",
         "type": "bar",
         "width": 0.8,
         "x": [
          -0.09090909090909091,
          -0.13636363636363635,
          -0.09090909090909091,
          -0.18181818181818182
         ],
         "y": [
          "I find the explanation    <br>intuitively understandable    ",
          "The explanation helps me to understand    <br>factors relevant to the algorithm    ",
          "The explanation helps me to decide whether    <br> I can trust the generated annotations    ",
          "The explanation provides me with    <br>valuable information for my work    "
         ]
        },
        {
         "marker": {
          "color": "rgb(214,96,77)"
         },
         "name": "Strongly disagree",
         "orientation": "h",
         "type": "bar",
         "width": 0.8,
         "x": [
          -0.09090909090909091,
          -0.045454545454545456,
          -0.09090909090909091,
          -0.045454545454545456
         ],
         "y": [
          "I find the explanation    <br>intuitively understandable    ",
          "The explanation helps me to understand    <br>factors relevant to the algorithm    ",
          "The explanation helps me to decide whether    <br> I can trust the generated annotations    ",
          "The explanation provides me with    <br>valuable information for my work    "
         ]
        },
        {
         "marker": {
          "color": "rgb(247,247,247)"
         },
         "name": "Neutral",
         "orientation": "h",
         "type": "bar",
         "width": 0.8,
         "x": [
          0.06818181818181818,
          0.06818181818181818,
          0.13636363636363635,
          0.13636363636363635
         ],
         "y": [
          "I find the explanation    <br>intuitively understandable    ",
          "The explanation helps me to understand    <br>factors relevant to the algorithm    ",
          "The explanation helps me to decide whether    <br> I can trust the generated annotations    ",
          "The explanation provides me with    <br>valuable information for my work    "
         ]
        },
        {
         "marker": {
          "color": "rgb(209,229,240)"
         },
         "name": "Slightly agree",
         "orientation": "h",
         "type": "bar",
         "width": 0.8,
         "x": [
          0.18181818181818182,
          0.18181818181818182,
          0.09090909090909091,
          0.09090909090909091
         ],
         "y": [
          "I find the explanation    <br>intuitively understandable    ",
          "The explanation helps me to understand    <br>factors relevant to the algorithm    ",
          "The explanation helps me to decide whether    <br> I can trust the generated annotations    ",
          "The explanation provides me with    <br>valuable information for my work    "
         ]
        },
        {
         "marker": {
          "color": "rgb(146,197,222)"
         },
         "name": "Agree",
         "orientation": "h",
         "type": "bar",
         "width": 0.8,
         "x": [
          0.2727272727272727,
          0.2727272727272727,
          0.22727272727272727,
          0.13636363636363635
         ],
         "y": [
          "I find the explanation    <br>intuitively understandable    ",
          "The explanation helps me to understand    <br>factors relevant to the algorithm    ",
          "The explanation helps me to decide whether    <br> I can trust the generated annotations    ",
          "The explanation provides me with    <br>valuable information for my work    "
         ]
        },
        {
         "marker": {
          "color": "rgb(67,147,195)"
         },
         "name": "Strongly agree",
         "orientation": "h",
         "type": "bar",
         "width": 0.8,
         "x": [
          0.09090909090909091,
          0.13636363636363635,
          0.13636363636363635,
          0.09090909090909091
         ],
         "y": [
          "I find the explanation    <br>intuitively understandable    ",
          "The explanation helps me to understand    <br>factors relevant to the algorithm    ",
          "The explanation helps me to decide whether    <br> I can trust the generated annotations    ",
          "The explanation provides me with    <br>valuable information for my work    "
         ]
        }
       ],
       "layout": {
        "barmode": "relative",
        "showlegend": false,
        "template": {
         "data": {
          "bar": [
           {
            "error_x": {
             "color": "#2a3f5f"
            },
            "error_y": {
             "color": "#2a3f5f"
            },
            "marker": {
             "line": {
              "color": "#E5ECF6",
              "width": 0.5
             },
             "pattern": {
              "fillmode": "overlay",
              "size": 10,
              "solidity": 0.2
             }
            },
            "type": "bar"
           }
          ],
          "barpolar": [
           {
            "marker": {
             "line": {
              "color": "#E5ECF6",
              "width": 0.5
             },
             "pattern": {
              "fillmode": "overlay",
              "size": 10,
              "solidity": 0.2
             }
            },
            "type": "barpolar"
           }
          ],
          "carpet": [
           {
            "aaxis": {
             "endlinecolor": "#2a3f5f",
             "gridcolor": "white",
             "linecolor": "white",
             "minorgridcolor": "white",
             "startlinecolor": "#2a3f5f"
            },
            "baxis": {
             "endlinecolor": "#2a3f5f",
             "gridcolor": "white",
             "linecolor": "white",
             "minorgridcolor": "white",
             "startlinecolor": "#2a3f5f"
            },
            "type": "carpet"
           }
          ],
          "choropleth": [
           {
            "colorbar": {
             "outlinewidth": 0,
             "ticks": ""
            },
            "type": "choropleth"
           }
          ],
          "contour": [
           {
            "colorbar": {
             "outlinewidth": 0,
             "ticks": ""
            },
            "colorscale": [
             [
              0,
              "#0d0887"
             ],
             [
              0.1111111111111111,
              "#46039f"
             ],
             [
              0.2222222222222222,
              "#7201a8"
             ],
             [
              0.3333333333333333,
              "#9c179e"
             ],
             [
              0.4444444444444444,
              "#bd3786"
             ],
             [
              0.5555555555555556,
              "#d8576b"
             ],
             [
              0.6666666666666666,
              "#ed7953"
             ],
             [
              0.7777777777777778,
              "#fb9f3a"
             ],
             [
              0.8888888888888888,
              "#fdca26"
             ],
             [
              1,
              "#f0f921"
             ]
            ],
            "type": "contour"
           }
          ],
          "contourcarpet": [
           {
            "colorbar": {
             "outlinewidth": 0,
             "ticks": ""
            },
            "type": "contourcarpet"
           }
          ],
          "heatmap": [
           {
            "colorbar": {
             "outlinewidth": 0,
             "ticks": ""
            },
            "colorscale": [
             [
              0,
              "#0d0887"
             ],
             [
              0.1111111111111111,
              "#46039f"
             ],
             [
              0.2222222222222222,
              "#7201a8"
             ],
             [
              0.3333333333333333,
              "#9c179e"
             ],
             [
              0.4444444444444444,
              "#bd3786"
             ],
             [
              0.5555555555555556,
              "#d8576b"
             ],
             [
              0.6666666666666666,
              "#ed7953"
             ],
             [
              0.7777777777777778,
              "#fb9f3a"
             ],
             [
              0.8888888888888888,
              "#fdca26"
             ],
             [
              1,
              "#f0f921"
             ]
            ],
            "type": "heatmap"
           }
          ],
          "heatmapgl": [
           {
            "colorbar": {
             "outlinewidth": 0,
             "ticks": ""
            },
            "colorscale": [
             [
              0,
              "#0d0887"
             ],
             [
              0.1111111111111111,
              "#46039f"
             ],
             [
              0.2222222222222222,
              "#7201a8"
             ],
             [
              0.3333333333333333,
              "#9c179e"
             ],
             [
              0.4444444444444444,
              "#bd3786"
             ],
             [
              0.5555555555555556,
              "#d8576b"
             ],
             [
              0.6666666666666666,
              "#ed7953"
             ],
             [
              0.7777777777777778,
              "#fb9f3a"
             ],
             [
              0.8888888888888888,
              "#fdca26"
             ],
             [
              1,
              "#f0f921"
             ]
            ],
            "type": "heatmapgl"
           }
          ],
          "histogram": [
           {
            "marker": {
             "pattern": {
              "fillmode": "overlay",
              "size": 10,
              "solidity": 0.2
             }
            },
            "type": "histogram"
           }
          ],
          "histogram2d": [
           {
            "colorbar": {
             "outlinewidth": 0,
             "ticks": ""
            },
            "colorscale": [
             [
              0,
              "#0d0887"
             ],
             [
              0.1111111111111111,
              "#46039f"
             ],
             [
              0.2222222222222222,
              "#7201a8"
             ],
             [
              0.3333333333333333,
              "#9c179e"
             ],
             [
              0.4444444444444444,
              "#bd3786"
             ],
             [
              0.5555555555555556,
              "#d8576b"
             ],
             [
              0.6666666666666666,
              "#ed7953"
             ],
             [
              0.7777777777777778,
              "#fb9f3a"
             ],
             [
              0.8888888888888888,
              "#fdca26"
             ],
             [
              1,
              "#f0f921"
             ]
            ],
            "type": "histogram2d"
           }
          ],
          "histogram2dcontour": [
           {
            "colorbar": {
             "outlinewidth": 0,
             "ticks": ""
            },
            "colorscale": [
             [
              0,
              "#0d0887"
             ],
             [
              0.1111111111111111,
              "#46039f"
             ],
             [
              0.2222222222222222,
              "#7201a8"
             ],
             [
              0.3333333333333333,
              "#9c179e"
             ],
             [
              0.4444444444444444,
              "#bd3786"
             ],
             [
              0.5555555555555556,
              "#d8576b"
             ],
             [
              0.6666666666666666,
              "#ed7953"
             ],
             [
              0.7777777777777778,
              "#fb9f3a"
             ],
             [
              0.8888888888888888,
              "#fdca26"
             ],
             [
              1,
              "#f0f921"
             ]
            ],
            "type": "histogram2dcontour"
           }
          ],
          "mesh3d": [
           {
            "colorbar": {
             "outlinewidth": 0,
             "ticks": ""
            },
            "type": "mesh3d"
           }
          ],
          "parcoords": [
           {
            "line": {
             "colorbar": {
              "outlinewidth": 0,
              "ticks": ""
             }
            },
            "type": "parcoords"
           }
          ],
          "pie": [
           {
            "automargin": true,
            "type": "pie"
           }
          ],
          "scatter": [
           {
            "marker": {
             "colorbar": {
              "outlinewidth": 0,
              "ticks": ""
             }
            },
            "type": "scatter"
           }
          ],
          "scatter3d": [
           {
            "line": {
             "colorbar": {
              "outlinewidth": 0,
              "ticks": ""
             }
            },
            "marker": {
             "colorbar": {
              "outlinewidth": 0,
              "ticks": ""
             }
            },
            "type": "scatter3d"
           }
          ],
          "scattercarpet": [
           {
            "marker": {
             "colorbar": {
              "outlinewidth": 0,
              "ticks": ""
             }
            },
            "type": "scattercarpet"
           }
          ],
          "scattergeo": [
           {
            "marker": {
             "colorbar": {
              "outlinewidth": 0,
              "ticks": ""
             }
            },
            "type": "scattergeo"
           }
          ],
          "scattergl": [
           {
            "marker": {
             "colorbar": {
              "outlinewidth": 0,
              "ticks": ""
             }
            },
            "type": "scattergl"
           }
          ],
          "scattermapbox": [
           {
            "marker": {
             "colorbar": {
              "outlinewidth": 0,
              "ticks": ""
             }
            },
            "type": "scattermapbox"
           }
          ],
          "scatterpolar": [
           {
            "marker": {
             "colorbar": {
              "outlinewidth": 0,
              "ticks": ""
             }
            },
            "type": "scatterpolar"
           }
          ],
          "scatterpolargl": [
           {
            "marker": {
             "colorbar": {
              "outlinewidth": 0,
              "ticks": ""
             }
            },
            "type": "scatterpolargl"
           }
          ],
          "scatterternary": [
           {
            "marker": {
             "colorbar": {
              "outlinewidth": 0,
              "ticks": ""
             }
            },
            "type": "scatterternary"
           }
          ],
          "surface": [
           {
            "colorbar": {
             "outlinewidth": 0,
             "ticks": ""
            },
            "colorscale": [
             [
              0,
              "#0d0887"
             ],
             [
              0.1111111111111111,
              "#46039f"
             ],
             [
              0.2222222222222222,
              "#7201a8"
             ],
             [
              0.3333333333333333,
              "#9c179e"
             ],
             [
              0.4444444444444444,
              "#bd3786"
             ],
             [
              0.5555555555555556,
              "#d8576b"
             ],
             [
              0.6666666666666666,
              "#ed7953"
             ],
             [
              0.7777777777777778,
              "#fb9f3a"
             ],
             [
              0.8888888888888888,
              "#fdca26"
             ],
             [
              1,
              "#f0f921"
             ]
            ],
            "type": "surface"
           }
          ],
          "table": [
           {
            "cells": {
             "fill": {
              "color": "#EBF0F8"
             },
             "line": {
              "color": "white"
             }
            },
            "header": {
             "fill": {
              "color": "#C8D4E3"
             },
             "line": {
              "color": "white"
             }
            },
            "type": "table"
           }
          ]
         },
         "layout": {
          "annotationdefaults": {
           "arrowcolor": "#2a3f5f",
           "arrowhead": 0,
           "arrowwidth": 1
          },
          "autotypenumbers": "strict",
          "coloraxis": {
           "colorbar": {
            "outlinewidth": 0,
            "ticks": ""
           }
          },
          "colorscale": {
           "diverging": [
            [
             0,
             "#8e0152"
            ],
            [
             0.1,
             "#c51b7d"
            ],
            [
             0.2,
             "#de77ae"
            ],
            [
             0.3,
             "#f1b6da"
            ],
            [
             0.4,
             "#fde0ef"
            ],
            [
             0.5,
             "#f7f7f7"
            ],
            [
             0.6,
             "#e6f5d0"
            ],
            [
             0.7,
             "#b8e186"
            ],
            [
             0.8,
             "#7fbc41"
            ],
            [
             0.9,
             "#4d9221"
            ],
            [
             1,
             "#276419"
            ]
           ],
           "sequential": [
            [
             0,
             "#0d0887"
            ],
            [
             0.1111111111111111,
             "#46039f"
            ],
            [
             0.2222222222222222,
             "#7201a8"
            ],
            [
             0.3333333333333333,
             "#9c179e"
            ],
            [
             0.4444444444444444,
             "#bd3786"
            ],
            [
             0.5555555555555556,
             "#d8576b"
            ],
            [
             0.6666666666666666,
             "#ed7953"
            ],
            [
             0.7777777777777778,
             "#fb9f3a"
            ],
            [
             0.8888888888888888,
             "#fdca26"
            ],
            [
             1,
             "#f0f921"
            ]
           ],
           "sequentialminus": [
            [
             0,
             "#0d0887"
            ],
            [
             0.1111111111111111,
             "#46039f"
            ],
            [
             0.2222222222222222,
             "#7201a8"
            ],
            [
             0.3333333333333333,
             "#9c179e"
            ],
            [
             0.4444444444444444,
             "#bd3786"
            ],
            [
             0.5555555555555556,
             "#d8576b"
            ],
            [
             0.6666666666666666,
             "#ed7953"
            ],
            [
             0.7777777777777778,
             "#fb9f3a"
            ],
            [
             0.8888888888888888,
             "#fdca26"
            ],
            [
             1,
             "#f0f921"
            ]
           ]
          },
          "colorway": [
           "#636efa",
           "#EF553B",
           "#00cc96",
           "#ab63fa",
           "#FFA15A",
           "#19d3f3",
           "#FF6692",
           "#B6E880",
           "#FF97FF",
           "#FECB52"
          ],
          "font": {
           "color": "#2a3f5f"
          },
          "geo": {
           "bgcolor": "white",
           "lakecolor": "white",
           "landcolor": "#E5ECF6",
           "showlakes": true,
           "showland": true,
           "subunitcolor": "white"
          },
          "hoverlabel": {
           "align": "left"
          },
          "hovermode": "closest",
          "mapbox": {
           "style": "light"
          },
          "paper_bgcolor": "white",
          "plot_bgcolor": "#E5ECF6",
          "polar": {
           "angularaxis": {
            "gridcolor": "white",
            "linecolor": "white",
            "ticks": ""
           },
           "bgcolor": "#E5ECF6",
           "radialaxis": {
            "gridcolor": "white",
            "linecolor": "white",
            "ticks": ""
           }
          },
          "scene": {
           "xaxis": {
            "backgroundcolor": "#E5ECF6",
            "gridcolor": "white",
            "gridwidth": 2,
            "linecolor": "white",
            "showbackground": true,
            "ticks": "",
            "zerolinecolor": "white"
           },
           "yaxis": {
            "backgroundcolor": "#E5ECF6",
            "gridcolor": "white",
            "gridwidth": 2,
            "linecolor": "white",
            "showbackground": true,
            "ticks": "",
            "zerolinecolor": "white"
           },
           "zaxis": {
            "backgroundcolor": "#E5ECF6",
            "gridcolor": "white",
            "gridwidth": 2,
            "linecolor": "white",
            "showbackground": true,
            "ticks": "",
            "zerolinecolor": "white"
           }
          },
          "shapedefaults": {
           "line": {
            "color": "#2a3f5f"
           }
          },
          "ternary": {
           "aaxis": {
            "gridcolor": "white",
            "linecolor": "white",
            "ticks": ""
           },
           "baxis": {
            "gridcolor": "white",
            "linecolor": "white",
            "ticks": ""
           },
           "bgcolor": "#E5ECF6",
           "caxis": {
            "gridcolor": "white",
            "linecolor": "white",
            "ticks": ""
           }
          },
          "title": {
           "x": 0.05
          },
          "xaxis": {
           "automargin": true,
           "gridcolor": "white",
           "linecolor": "white",
           "ticks": "",
           "title": {
            "standoff": 15
           },
           "zerolinecolor": "white",
           "zerolinewidth": 2
          },
          "yaxis": {
           "automargin": true,
           "gridcolor": "white",
           "linecolor": "white",
           "ticks": "",
           "title": {
            "standoff": 15
           },
           "zerolinecolor": "white",
           "zerolinewidth": 2
          }
         }
        },
        "title": {
         "text": "Saliency Maps: Local",
         "x": 0.5
        },
        "xaxis": {
         "range": [
          -1,
          1
         ],
         "tick0": 0,
         "tickformat": "%",
         "title": {
          "text": "Frequency"
         }
        },
        "yaxis": {
         "autorange": "reversed"
        }
       }
      }
     },
     "metadata": {},
     "output_type": "display_data"
    },
    {
     "data": {
      "application/vnd.plotly.v1+json": {
       "config": {
        "plotlyServerURL": "https://plot.ly"
       },
       "data": [
        {
         "marker": {
          "color": "rgb(247,247,247)"
         },
         "name": "Neutral",
         "orientation": "h",
         "type": "bar",
         "width": 0.8,
         "x": [
          -0.11363636363636363,
          -0.045454545454545456,
          -0.045454545454545456,
          -0.06818181818181818
         ],
         "y": [
          "I find the explanation    <br>intuitively understandable    ",
          "The explanation helps me to understand    <br>factors relevant to the algorithm    ",
          "The explanation helps me to decide whether    <br> I can trust the generated annotations    ",
          "The explanation provides me with    <br>valuable information for my work    "
         ]
        },
        {
         "marker": {
          "color": "rgb(253,219,199)"
         },
         "name": "Slightly disagree",
         "orientation": "h",
         "type": "bar",
         "width": 0.8,
         "x": [
          -0.09090909090909091,
          -0.2727272727272727,
          -0.2727272727272727,
          -0.13636363636363635
         ],
         "y": [
          "I find the explanation    <br>intuitively understandable    ",
          "The explanation helps me to understand    <br>factors relevant to the algorithm    ",
          "The explanation helps me to decide whether    <br> I can trust the generated annotations    ",
          "The explanation provides me with    <br>valuable information for my work    "
         ]
        },
        {
         "marker": {
          "color": "rgb(244,165,130)"
         },
         "name": "Disagree",
         "orientation": "h",
         "type": "bar",
         "width": 0.8,
         "x": [
          -0.045454545454545456,
          -0.045454545454545456,
          -0.045454545454545456,
          -0.18181818181818182
         ],
         "y": [
          "I find the explanation    <br>intuitively understandable    ",
          "The explanation helps me to understand    <br>factors relevant to the algorithm    ",
          "The explanation helps me to decide whether    <br> I can trust the generated annotations    ",
          "The explanation provides me with    <br>valuable information for my work    "
         ]
        },
        {
         "marker": {
          "color": "rgb(214,96,77)"
         },
         "name": "Strongly disagree",
         "orientation": "h",
         "type": "bar",
         "width": 0.8,
         "x": [
          -0.09090909090909091,
          -0.09090909090909091,
          -0.09090909090909091,
          -0.09090909090909091
         ],
         "y": [
          "I find the explanation    <br>intuitively understandable    ",
          "The explanation helps me to understand    <br>factors relevant to the algorithm    ",
          "The explanation helps me to decide whether    <br> I can trust the generated annotations    ",
          "The explanation provides me with    <br>valuable information for my work    "
         ]
        },
        {
         "marker": {
          "color": "rgb(247,247,247)"
         },
         "name": "Neutral",
         "orientation": "h",
         "type": "bar",
         "width": 0.8,
         "x": [
          0.11363636363636363,
          0.045454545454545456,
          0.045454545454545456,
          0.06818181818181818
         ],
         "y": [
          "I find the explanation    <br>intuitively understandable    ",
          "The explanation helps me to understand    <br>factors relevant to the algorithm    ",
          "The explanation helps me to decide whether    <br> I can trust the generated annotations    ",
          "The explanation provides me with    <br>valuable information for my work    "
         ]
        },
        {
         "marker": {
          "color": "rgb(209,229,240)"
         },
         "name": "Slightly agree",
         "orientation": "h",
         "type": "bar",
         "width": 0.8,
         "x": [
          0.2727272727272727,
          0.22727272727272727,
          0.18181818181818182,
          0.13636363636363635
         ],
         "y": [
          "I find the explanation    <br>intuitively understandable    ",
          "The explanation helps me to understand    <br>factors relevant to the algorithm    ",
          "The explanation helps me to decide whether    <br> I can trust the generated annotations    ",
          "The explanation provides me with    <br>valuable information for my work    "
         ]
        },
        {
         "marker": {
          "color": "rgb(146,197,222)"
         },
         "name": "Agree",
         "orientation": "h",
         "type": "bar",
         "width": 0.8,
         "x": [
          0.13636363636363635,
          0.09090909090909091,
          0.18181818181818182,
          0.18181818181818182
         ],
         "y": [
          "I find the explanation    <br>intuitively understandable    ",
          "The explanation helps me to understand    <br>factors relevant to the algorithm    ",
          "The explanation helps me to decide whether    <br> I can trust the generated annotations    ",
          "The explanation provides me with    <br>valuable information for my work    "
         ]
        },
        {
         "marker": {
          "color": "rgb(67,147,195)"
         },
         "name": "Strongly agree",
         "orientation": "h",
         "type": "bar",
         "width": 0.8,
         "x": [
          0.13636363636363635,
          0.18181818181818182,
          0.13636363636363635,
          0.13636363636363635
         ],
         "y": [
          "I find the explanation    <br>intuitively understandable    ",
          "The explanation helps me to understand    <br>factors relevant to the algorithm    ",
          "The explanation helps me to decide whether    <br> I can trust the generated annotations    ",
          "The explanation provides me with    <br>valuable information for my work    "
         ]
        }
       ],
       "layout": {
        "barmode": "relative",
        "showlegend": false,
        "template": {
         "data": {
          "bar": [
           {
            "error_x": {
             "color": "#2a3f5f"
            },
            "error_y": {
             "color": "#2a3f5f"
            },
            "marker": {
             "line": {
              "color": "#E5ECF6",
              "width": 0.5
             },
             "pattern": {
              "fillmode": "overlay",
              "size": 10,
              "solidity": 0.2
             }
            },
            "type": "bar"
           }
          ],
          "barpolar": [
           {
            "marker": {
             "line": {
              "color": "#E5ECF6",
              "width": 0.5
             },
             "pattern": {
              "fillmode": "overlay",
              "size": 10,
              "solidity": 0.2
             }
            },
            "type": "barpolar"
           }
          ],
          "carpet": [
           {
            "aaxis": {
             "endlinecolor": "#2a3f5f",
             "gridcolor": "white",
             "linecolor": "white",
             "minorgridcolor": "white",
             "startlinecolor": "#2a3f5f"
            },
            "baxis": {
             "endlinecolor": "#2a3f5f",
             "gridcolor": "white",
             "linecolor": "white",
             "minorgridcolor": "white",
             "startlinecolor": "#2a3f5f"
            },
            "type": "carpet"
           }
          ],
          "choropleth": [
           {
            "colorbar": {
             "outlinewidth": 0,
             "ticks": ""
            },
            "type": "choropleth"
           }
          ],
          "contour": [
           {
            "colorbar": {
             "outlinewidth": 0,
             "ticks": ""
            },
            "colorscale": [
             [
              0,
              "#0d0887"
             ],
             [
              0.1111111111111111,
              "#46039f"
             ],
             [
              0.2222222222222222,
              "#7201a8"
             ],
             [
              0.3333333333333333,
              "#9c179e"
             ],
             [
              0.4444444444444444,
              "#bd3786"
             ],
             [
              0.5555555555555556,
              "#d8576b"
             ],
             [
              0.6666666666666666,
              "#ed7953"
             ],
             [
              0.7777777777777778,
              "#fb9f3a"
             ],
             [
              0.8888888888888888,
              "#fdca26"
             ],
             [
              1,
              "#f0f921"
             ]
            ],
            "type": "contour"
           }
          ],
          "contourcarpet": [
           {
            "colorbar": {
             "outlinewidth": 0,
             "ticks": ""
            },
            "type": "contourcarpet"
           }
          ],
          "heatmap": [
           {
            "colorbar": {
             "outlinewidth": 0,
             "ticks": ""
            },
            "colorscale": [
             [
              0,
              "#0d0887"
             ],
             [
              0.1111111111111111,
              "#46039f"
             ],
             [
              0.2222222222222222,
              "#7201a8"
             ],
             [
              0.3333333333333333,
              "#9c179e"
             ],
             [
              0.4444444444444444,
              "#bd3786"
             ],
             [
              0.5555555555555556,
              "#d8576b"
             ],
             [
              0.6666666666666666,
              "#ed7953"
             ],
             [
              0.7777777777777778,
              "#fb9f3a"
             ],
             [
              0.8888888888888888,
              "#fdca26"
             ],
             [
              1,
              "#f0f921"
             ]
            ],
            "type": "heatmap"
           }
          ],
          "heatmapgl": [
           {
            "colorbar": {
             "outlinewidth": 0,
             "ticks": ""
            },
            "colorscale": [
             [
              0,
              "#0d0887"
             ],
             [
              0.1111111111111111,
              "#46039f"
             ],
             [
              0.2222222222222222,
              "#7201a8"
             ],
             [
              0.3333333333333333,
              "#9c179e"
             ],
             [
              0.4444444444444444,
              "#bd3786"
             ],
             [
              0.5555555555555556,
              "#d8576b"
             ],
             [
              0.6666666666666666,
              "#ed7953"
             ],
             [
              0.7777777777777778,
              "#fb9f3a"
             ],
             [
              0.8888888888888888,
              "#fdca26"
             ],
             [
              1,
              "#f0f921"
             ]
            ],
            "type": "heatmapgl"
           }
          ],
          "histogram": [
           {
            "marker": {
             "pattern": {
              "fillmode": "overlay",
              "size": 10,
              "solidity": 0.2
             }
            },
            "type": "histogram"
           }
          ],
          "histogram2d": [
           {
            "colorbar": {
             "outlinewidth": 0,
             "ticks": ""
            },
            "colorscale": [
             [
              0,
              "#0d0887"
             ],
             [
              0.1111111111111111,
              "#46039f"
             ],
             [
              0.2222222222222222,
              "#7201a8"
             ],
             [
              0.3333333333333333,
              "#9c179e"
             ],
             [
              0.4444444444444444,
              "#bd3786"
             ],
             [
              0.5555555555555556,
              "#d8576b"
             ],
             [
              0.6666666666666666,
              "#ed7953"
             ],
             [
              0.7777777777777778,
              "#fb9f3a"
             ],
             [
              0.8888888888888888,
              "#fdca26"
             ],
             [
              1,
              "#f0f921"
             ]
            ],
            "type": "histogram2d"
           }
          ],
          "histogram2dcontour": [
           {
            "colorbar": {
             "outlinewidth": 0,
             "ticks": ""
            },
            "colorscale": [
             [
              0,
              "#0d0887"
             ],
             [
              0.1111111111111111,
              "#46039f"
             ],
             [
              0.2222222222222222,
              "#7201a8"
             ],
             [
              0.3333333333333333,
              "#9c179e"
             ],
             [
              0.4444444444444444,
              "#bd3786"
             ],
             [
              0.5555555555555556,
              "#d8576b"
             ],
             [
              0.6666666666666666,
              "#ed7953"
             ],
             [
              0.7777777777777778,
              "#fb9f3a"
             ],
             [
              0.8888888888888888,
              "#fdca26"
             ],
             [
              1,
              "#f0f921"
             ]
            ],
            "type": "histogram2dcontour"
           }
          ],
          "mesh3d": [
           {
            "colorbar": {
             "outlinewidth": 0,
             "ticks": ""
            },
            "type": "mesh3d"
           }
          ],
          "parcoords": [
           {
            "line": {
             "colorbar": {
              "outlinewidth": 0,
              "ticks": ""
             }
            },
            "type": "parcoords"
           }
          ],
          "pie": [
           {
            "automargin": true,
            "type": "pie"
           }
          ],
          "scatter": [
           {
            "marker": {
             "colorbar": {
              "outlinewidth": 0,
              "ticks": ""
             }
            },
            "type": "scatter"
           }
          ],
          "scatter3d": [
           {
            "line": {
             "colorbar": {
              "outlinewidth": 0,
              "ticks": ""
             }
            },
            "marker": {
             "colorbar": {
              "outlinewidth": 0,
              "ticks": ""
             }
            },
            "type": "scatter3d"
           }
          ],
          "scattercarpet": [
           {
            "marker": {
             "colorbar": {
              "outlinewidth": 0,
              "ticks": ""
             }
            },
            "type": "scattercarpet"
           }
          ],
          "scattergeo": [
           {
            "marker": {
             "colorbar": {
              "outlinewidth": 0,
              "ticks": ""
             }
            },
            "type": "scattergeo"
           }
          ],
          "scattergl": [
           {
            "marker": {
             "colorbar": {
              "outlinewidth": 0,
              "ticks": ""
             }
            },
            "type": "scattergl"
           }
          ],
          "scattermapbox": [
           {
            "marker": {
             "colorbar": {
              "outlinewidth": 0,
              "ticks": ""
             }
            },
            "type": "scattermapbox"
           }
          ],
          "scatterpolar": [
           {
            "marker": {
             "colorbar": {
              "outlinewidth": 0,
              "ticks": ""
             }
            },
            "type": "scatterpolar"
           }
          ],
          "scatterpolargl": [
           {
            "marker": {
             "colorbar": {
              "outlinewidth": 0,
              "ticks": ""
             }
            },
            "type": "scatterpolargl"
           }
          ],
          "scatterternary": [
           {
            "marker": {
             "colorbar": {
              "outlinewidth": 0,
              "ticks": ""
             }
            },
            "type": "scatterternary"
           }
          ],
          "surface": [
           {
            "colorbar": {
             "outlinewidth": 0,
             "ticks": ""
            },
            "colorscale": [
             [
              0,
              "#0d0887"
             ],
             [
              0.1111111111111111,
              "#46039f"
             ],
             [
              0.2222222222222222,
              "#7201a8"
             ],
             [
              0.3333333333333333,
              "#9c179e"
             ],
             [
              0.4444444444444444,
              "#bd3786"
             ],
             [
              0.5555555555555556,
              "#d8576b"
             ],
             [
              0.6666666666666666,
              "#ed7953"
             ],
             [
              0.7777777777777778,
              "#fb9f3a"
             ],
             [
              0.8888888888888888,
              "#fdca26"
             ],
             [
              1,
              "#f0f921"
             ]
            ],
            "type": "surface"
           }
          ],
          "table": [
           {
            "cells": {
             "fill": {
              "color": "#EBF0F8"
             },
             "line": {
              "color": "white"
             }
            },
            "header": {
             "fill": {
              "color": "#C8D4E3"
             },
             "line": {
              "color": "white"
             }
            },
            "type": "table"
           }
          ]
         },
         "layout": {
          "annotationdefaults": {
           "arrowcolor": "#2a3f5f",
           "arrowhead": 0,
           "arrowwidth": 1
          },
          "autotypenumbers": "strict",
          "coloraxis": {
           "colorbar": {
            "outlinewidth": 0,
            "ticks": ""
           }
          },
          "colorscale": {
           "diverging": [
            [
             0,
             "#8e0152"
            ],
            [
             0.1,
             "#c51b7d"
            ],
            [
             0.2,
             "#de77ae"
            ],
            [
             0.3,
             "#f1b6da"
            ],
            [
             0.4,
             "#fde0ef"
            ],
            [
             0.5,
             "#f7f7f7"
            ],
            [
             0.6,
             "#e6f5d0"
            ],
            [
             0.7,
             "#b8e186"
            ],
            [
             0.8,
             "#7fbc41"
            ],
            [
             0.9,
             "#4d9221"
            ],
            [
             1,
             "#276419"
            ]
           ],
           "sequential": [
            [
             0,
             "#0d0887"
            ],
            [
             0.1111111111111111,
             "#46039f"
            ],
            [
             0.2222222222222222,
             "#7201a8"
            ],
            [
             0.3333333333333333,
             "#9c179e"
            ],
            [
             0.4444444444444444,
             "#bd3786"
            ],
            [
             0.5555555555555556,
             "#d8576b"
            ],
            [
             0.6666666666666666,
             "#ed7953"
            ],
            [
             0.7777777777777778,
             "#fb9f3a"
            ],
            [
             0.8888888888888888,
             "#fdca26"
            ],
            [
             1,
             "#f0f921"
            ]
           ],
           "sequentialminus": [
            [
             0,
             "#0d0887"
            ],
            [
             0.1111111111111111,
             "#46039f"
            ],
            [
             0.2222222222222222,
             "#7201a8"
            ],
            [
             0.3333333333333333,
             "#9c179e"
            ],
            [
             0.4444444444444444,
             "#bd3786"
            ],
            [
             0.5555555555555556,
             "#d8576b"
            ],
            [
             0.6666666666666666,
             "#ed7953"
            ],
            [
             0.7777777777777778,
             "#fb9f3a"
            ],
            [
             0.8888888888888888,
             "#fdca26"
            ],
            [
             1,
             "#f0f921"
            ]
           ]
          },
          "colorway": [
           "#636efa",
           "#EF553B",
           "#00cc96",
           "#ab63fa",
           "#FFA15A",
           "#19d3f3",
           "#FF6692",
           "#B6E880",
           "#FF97FF",
           "#FECB52"
          ],
          "font": {
           "color": "#2a3f5f"
          },
          "geo": {
           "bgcolor": "white",
           "lakecolor": "white",
           "landcolor": "#E5ECF6",
           "showlakes": true,
           "showland": true,
           "subunitcolor": "white"
          },
          "hoverlabel": {
           "align": "left"
          },
          "hovermode": "closest",
          "mapbox": {
           "style": "light"
          },
          "paper_bgcolor": "white",
          "plot_bgcolor": "#E5ECF6",
          "polar": {
           "angularaxis": {
            "gridcolor": "white",
            "linecolor": "white",
            "ticks": ""
           },
           "bgcolor": "#E5ECF6",
           "radialaxis": {
            "gridcolor": "white",
            "linecolor": "white",
            "ticks": ""
           }
          },
          "scene": {
           "xaxis": {
            "backgroundcolor": "#E5ECF6",
            "gridcolor": "white",
            "gridwidth": 2,
            "linecolor": "white",
            "showbackground": true,
            "ticks": "",
            "zerolinecolor": "white"
           },
           "yaxis": {
            "backgroundcolor": "#E5ECF6",
            "gridcolor": "white",
            "gridwidth": 2,
            "linecolor": "white",
            "showbackground": true,
            "ticks": "",
            "zerolinecolor": "white"
           },
           "zaxis": {
            "backgroundcolor": "#E5ECF6",
            "gridcolor": "white",
            "gridwidth": 2,
            "linecolor": "white",
            "showbackground": true,
            "ticks": "",
            "zerolinecolor": "white"
           }
          },
          "shapedefaults": {
           "line": {
            "color": "#2a3f5f"
           }
          },
          "ternary": {
           "aaxis": {
            "gridcolor": "white",
            "linecolor": "white",
            "ticks": ""
           },
           "baxis": {
            "gridcolor": "white",
            "linecolor": "white",
            "ticks": ""
           },
           "bgcolor": "#E5ECF6",
           "caxis": {
            "gridcolor": "white",
            "linecolor": "white",
            "ticks": ""
           }
          },
          "title": {
           "x": 0.05
          },
          "xaxis": {
           "automargin": true,
           "gridcolor": "white",
           "linecolor": "white",
           "ticks": "",
           "title": {
            "standoff": 15
           },
           "zerolinecolor": "white",
           "zerolinewidth": 2
          },
          "yaxis": {
           "automargin": true,
           "gridcolor": "white",
           "linecolor": "white",
           "ticks": "",
           "title": {
            "standoff": 15
           },
           "zerolinecolor": "white",
           "zerolinewidth": 2
          }
         }
        },
        "title": {
         "text": "Saliency Maps: Global",
         "x": 0.5
        },
        "xaxis": {
         "range": [
          -1,
          1
         ],
         "tick0": 0,
         "tickformat": "%",
         "title": {
          "text": "Frequency"
         }
        },
        "yaxis": {
         "autorange": "reversed"
        }
       }
      }
     },
     "metadata": {},
     "output_type": "display_data"
    },
    {
     "data": {
      "application/vnd.plotly.v1+json": {
       "config": {
        "plotlyServerURL": "https://plot.ly"
       },
       "data": [
        {
         "marker": {
          "color": "rgb(247,247,247)"
         },
         "name": "Neutral",
         "orientation": "h",
         "type": "bar",
         "width": 0.8,
         "x": [
          -0.045454545454545456,
          -0.045454545454545456,
          -0.045454545454545456,
          -0.06818181818181818
         ],
         "y": [
          "I find the explanation    <br>intuitively understandable    ",
          "The explanation helps me to understand    <br>factors relevant to the algorithm    ",
          "The explanation helps me to decide whether    <br> I can trust the generated annotations    ",
          "The explanation provides me with    <br>valuable information for my work    "
         ]
        },
        {
         "marker": {
          "color": "rgb(253,219,199)"
         },
         "name": "Slightly disagree",
         "orientation": "h",
         "type": "bar",
         "width": 0.8,
         "x": [
          -0.18181818181818182,
          -0.09090909090909091,
          -0.22727272727272727,
          -0.18181818181818182
         ],
         "y": [
          "I find the explanation    <br>intuitively understandable    ",
          "The explanation helps me to understand    <br>factors relevant to the algorithm    ",
          "The explanation helps me to decide whether    <br> I can trust the generated annotations    ",
          "The explanation provides me with    <br>valuable information for my work    "
         ]
        },
        {
         "marker": {
          "color": "rgb(244,165,130)"
         },
         "name": "Disagree",
         "orientation": "h",
         "type": "bar",
         "width": 0.8,
         "x": [
          -0.045454545454545456,
          -0.09090909090909091,
          -0.045454545454545456,
          -0.09090909090909091
         ],
         "y": [
          "I find the explanation    <br>intuitively understandable    ",
          "The explanation helps me to understand    <br>factors relevant to the algorithm    ",
          "The explanation helps me to decide whether    <br> I can trust the generated annotations    ",
          "The explanation provides me with    <br>valuable information for my work    "
         ]
        },
        {
         "marker": {
          "color": "rgb(214,96,77)"
         },
         "name": "Strongly disagree",
         "orientation": "h",
         "type": "bar",
         "width": 0.8,
         "x": [
          -0.045454545454545456,
          -0.09090909090909091,
          -0.13636363636363635,
          -0.045454545454545456
         ],
         "y": [
          "I find the explanation    <br>intuitively understandable    ",
          "The explanation helps me to understand    <br>factors relevant to the algorithm    ",
          "The explanation helps me to decide whether    <br> I can trust the generated annotations    ",
          "The explanation provides me with    <br>valuable information for my work    "
         ]
        },
        {
         "marker": {
          "color": "rgb(247,247,247)"
         },
         "name": "Neutral",
         "orientation": "h",
         "type": "bar",
         "width": 0.8,
         "x": [
          0.045454545454545456,
          0.045454545454545456,
          0.045454545454545456,
          0.06818181818181818
         ],
         "y": [
          "I find the explanation    <br>intuitively understandable    ",
          "The explanation helps me to understand    <br>factors relevant to the algorithm    ",
          "The explanation helps me to decide whether    <br> I can trust the generated annotations    ",
          "The explanation provides me with    <br>valuable information for my work    "
         ]
        },
        {
         "marker": {
          "color": "rgb(209,229,240)"
         },
         "name": "Slightly agree",
         "orientation": "h",
         "type": "bar",
         "width": 0.8,
         "x": [
          0.13636363636363635,
          0.13636363636363635,
          0.045454545454545456,
          0.13636363636363635
         ],
         "y": [
          "I find the explanation    <br>intuitively understandable    ",
          "The explanation helps me to understand    <br>factors relevant to the algorithm    ",
          "The explanation helps me to decide whether    <br> I can trust the generated annotations    ",
          "The explanation provides me with    <br>valuable information for my work    "
         ]
        },
        {
         "marker": {
          "color": "rgb(146,197,222)"
         },
         "name": "Agree",
         "orientation": "h",
         "type": "bar",
         "width": 0.8,
         "x": [
          0.2727272727272727,
          0.2727272727272727,
          0.3181818181818182,
          0.2727272727272727
         ],
         "y": [
          "I find the explanation    <br>intuitively understandable    ",
          "The explanation helps me to understand    <br>factors relevant to the algorithm    ",
          "The explanation helps me to decide whether    <br> I can trust the generated annotations    ",
          "The explanation provides me with    <br>valuable information for my work    "
         ]
        },
        {
         "marker": {
          "color": "rgb(67,147,195)"
         },
         "name": "Strongly agree",
         "orientation": "h",
         "type": "bar",
         "width": 0.8,
         "x": [
          0.22727272727272727,
          0.22727272727272727,
          0.13636363636363635,
          0.13636363636363635
         ],
         "y": [
          "I find the explanation    <br>intuitively understandable    ",
          "The explanation helps me to understand    <br>factors relevant to the algorithm    ",
          "The explanation helps me to decide whether    <br> I can trust the generated annotations    ",
          "The explanation provides me with    <br>valuable information for my work    "
         ]
        }
       ],
       "layout": {
        "barmode": "relative",
        "showlegend": false,
        "template": {
         "data": {
          "bar": [
           {
            "error_x": {
             "color": "#2a3f5f"
            },
            "error_y": {
             "color": "#2a3f5f"
            },
            "marker": {
             "line": {
              "color": "#E5ECF6",
              "width": 0.5
             },
             "pattern": {
              "fillmode": "overlay",
              "size": 10,
              "solidity": 0.2
             }
            },
            "type": "bar"
           }
          ],
          "barpolar": [
           {
            "marker": {
             "line": {
              "color": "#E5ECF6",
              "width": 0.5
             },
             "pattern": {
              "fillmode": "overlay",
              "size": 10,
              "solidity": 0.2
             }
            },
            "type": "barpolar"
           }
          ],
          "carpet": [
           {
            "aaxis": {
             "endlinecolor": "#2a3f5f",
             "gridcolor": "white",
             "linecolor": "white",
             "minorgridcolor": "white",
             "startlinecolor": "#2a3f5f"
            },
            "baxis": {
             "endlinecolor": "#2a3f5f",
             "gridcolor": "white",
             "linecolor": "white",
             "minorgridcolor": "white",
             "startlinecolor": "#2a3f5f"
            },
            "type": "carpet"
           }
          ],
          "choropleth": [
           {
            "colorbar": {
             "outlinewidth": 0,
             "ticks": ""
            },
            "type": "choropleth"
           }
          ],
          "contour": [
           {
            "colorbar": {
             "outlinewidth": 0,
             "ticks": ""
            },
            "colorscale": [
             [
              0,
              "#0d0887"
             ],
             [
              0.1111111111111111,
              "#46039f"
             ],
             [
              0.2222222222222222,
              "#7201a8"
             ],
             [
              0.3333333333333333,
              "#9c179e"
             ],
             [
              0.4444444444444444,
              "#bd3786"
             ],
             [
              0.5555555555555556,
              "#d8576b"
             ],
             [
              0.6666666666666666,
              "#ed7953"
             ],
             [
              0.7777777777777778,
              "#fb9f3a"
             ],
             [
              0.8888888888888888,
              "#fdca26"
             ],
             [
              1,
              "#f0f921"
             ]
            ],
            "type": "contour"
           }
          ],
          "contourcarpet": [
           {
            "colorbar": {
             "outlinewidth": 0,
             "ticks": ""
            },
            "type": "contourcarpet"
           }
          ],
          "heatmap": [
           {
            "colorbar": {
             "outlinewidth": 0,
             "ticks": ""
            },
            "colorscale": [
             [
              0,
              "#0d0887"
             ],
             [
              0.1111111111111111,
              "#46039f"
             ],
             [
              0.2222222222222222,
              "#7201a8"
             ],
             [
              0.3333333333333333,
              "#9c179e"
             ],
             [
              0.4444444444444444,
              "#bd3786"
             ],
             [
              0.5555555555555556,
              "#d8576b"
             ],
             [
              0.6666666666666666,
              "#ed7953"
             ],
             [
              0.7777777777777778,
              "#fb9f3a"
             ],
             [
              0.8888888888888888,
              "#fdca26"
             ],
             [
              1,
              "#f0f921"
             ]
            ],
            "type": "heatmap"
           }
          ],
          "heatmapgl": [
           {
            "colorbar": {
             "outlinewidth": 0,
             "ticks": ""
            },
            "colorscale": [
             [
              0,
              "#0d0887"
             ],
             [
              0.1111111111111111,
              "#46039f"
             ],
             [
              0.2222222222222222,
              "#7201a8"
             ],
             [
              0.3333333333333333,
              "#9c179e"
             ],
             [
              0.4444444444444444,
              "#bd3786"
             ],
             [
              0.5555555555555556,
              "#d8576b"
             ],
             [
              0.6666666666666666,
              "#ed7953"
             ],
             [
              0.7777777777777778,
              "#fb9f3a"
             ],
             [
              0.8888888888888888,
              "#fdca26"
             ],
             [
              1,
              "#f0f921"
             ]
            ],
            "type": "heatmapgl"
           }
          ],
          "histogram": [
           {
            "marker": {
             "pattern": {
              "fillmode": "overlay",
              "size": 10,
              "solidity": 0.2
             }
            },
            "type": "histogram"
           }
          ],
          "histogram2d": [
           {
            "colorbar": {
             "outlinewidth": 0,
             "ticks": ""
            },
            "colorscale": [
             [
              0,
              "#0d0887"
             ],
             [
              0.1111111111111111,
              "#46039f"
             ],
             [
              0.2222222222222222,
              "#7201a8"
             ],
             [
              0.3333333333333333,
              "#9c179e"
             ],
             [
              0.4444444444444444,
              "#bd3786"
             ],
             [
              0.5555555555555556,
              "#d8576b"
             ],
             [
              0.6666666666666666,
              "#ed7953"
             ],
             [
              0.7777777777777778,
              "#fb9f3a"
             ],
             [
              0.8888888888888888,
              "#fdca26"
             ],
             [
              1,
              "#f0f921"
             ]
            ],
            "type": "histogram2d"
           }
          ],
          "histogram2dcontour": [
           {
            "colorbar": {
             "outlinewidth": 0,
             "ticks": ""
            },
            "colorscale": [
             [
              0,
              "#0d0887"
             ],
             [
              0.1111111111111111,
              "#46039f"
             ],
             [
              0.2222222222222222,
              "#7201a8"
             ],
             [
              0.3333333333333333,
              "#9c179e"
             ],
             [
              0.4444444444444444,
              "#bd3786"
             ],
             [
              0.5555555555555556,
              "#d8576b"
             ],
             [
              0.6666666666666666,
              "#ed7953"
             ],
             [
              0.7777777777777778,
              "#fb9f3a"
             ],
             [
              0.8888888888888888,
              "#fdca26"
             ],
             [
              1,
              "#f0f921"
             ]
            ],
            "type": "histogram2dcontour"
           }
          ],
          "mesh3d": [
           {
            "colorbar": {
             "outlinewidth": 0,
             "ticks": ""
            },
            "type": "mesh3d"
           }
          ],
          "parcoords": [
           {
            "line": {
             "colorbar": {
              "outlinewidth": 0,
              "ticks": ""
             }
            },
            "type": "parcoords"
           }
          ],
          "pie": [
           {
            "automargin": true,
            "type": "pie"
           }
          ],
          "scatter": [
           {
            "marker": {
             "colorbar": {
              "outlinewidth": 0,
              "ticks": ""
             }
            },
            "type": "scatter"
           }
          ],
          "scatter3d": [
           {
            "line": {
             "colorbar": {
              "outlinewidth": 0,
              "ticks": ""
             }
            },
            "marker": {
             "colorbar": {
              "outlinewidth": 0,
              "ticks": ""
             }
            },
            "type": "scatter3d"
           }
          ],
          "scattercarpet": [
           {
            "marker": {
             "colorbar": {
              "outlinewidth": 0,
              "ticks": ""
             }
            },
            "type": "scattercarpet"
           }
          ],
          "scattergeo": [
           {
            "marker": {
             "colorbar": {
              "outlinewidth": 0,
              "ticks": ""
             }
            },
            "type": "scattergeo"
           }
          ],
          "scattergl": [
           {
            "marker": {
             "colorbar": {
              "outlinewidth": 0,
              "ticks": ""
             }
            },
            "type": "scattergl"
           }
          ],
          "scattermapbox": [
           {
            "marker": {
             "colorbar": {
              "outlinewidth": 0,
              "ticks": ""
             }
            },
            "type": "scattermapbox"
           }
          ],
          "scatterpolar": [
           {
            "marker": {
             "colorbar": {
              "outlinewidth": 0,
              "ticks": ""
             }
            },
            "type": "scatterpolar"
           }
          ],
          "scatterpolargl": [
           {
            "marker": {
             "colorbar": {
              "outlinewidth": 0,
              "ticks": ""
             }
            },
            "type": "scatterpolargl"
           }
          ],
          "scatterternary": [
           {
            "marker": {
             "colorbar": {
              "outlinewidth": 0,
              "ticks": ""
             }
            },
            "type": "scatterternary"
           }
          ],
          "surface": [
           {
            "colorbar": {
             "outlinewidth": 0,
             "ticks": ""
            },
            "colorscale": [
             [
              0,
              "#0d0887"
             ],
             [
              0.1111111111111111,
              "#46039f"
             ],
             [
              0.2222222222222222,
              "#7201a8"
             ],
             [
              0.3333333333333333,
              "#9c179e"
             ],
             [
              0.4444444444444444,
              "#bd3786"
             ],
             [
              0.5555555555555556,
              "#d8576b"
             ],
             [
              0.6666666666666666,
              "#ed7953"
             ],
             [
              0.7777777777777778,
              "#fb9f3a"
             ],
             [
              0.8888888888888888,
              "#fdca26"
             ],
             [
              1,
              "#f0f921"
             ]
            ],
            "type": "surface"
           }
          ],
          "table": [
           {
            "cells": {
             "fill": {
              "color": "#EBF0F8"
             },
             "line": {
              "color": "white"
             }
            },
            "header": {
             "fill": {
              "color": "#C8D4E3"
             },
             "line": {
              "color": "white"
             }
            },
            "type": "table"
           }
          ]
         },
         "layout": {
          "annotationdefaults": {
           "arrowcolor": "#2a3f5f",
           "arrowhead": 0,
           "arrowwidth": 1
          },
          "autotypenumbers": "strict",
          "coloraxis": {
           "colorbar": {
            "outlinewidth": 0,
            "ticks": ""
           }
          },
          "colorscale": {
           "diverging": [
            [
             0,
             "#8e0152"
            ],
            [
             0.1,
             "#c51b7d"
            ],
            [
             0.2,
             "#de77ae"
            ],
            [
             0.3,
             "#f1b6da"
            ],
            [
             0.4,
             "#fde0ef"
            ],
            [
             0.5,
             "#f7f7f7"
            ],
            [
             0.6,
             "#e6f5d0"
            ],
            [
             0.7,
             "#b8e186"
            ],
            [
             0.8,
             "#7fbc41"
            ],
            [
             0.9,
             "#4d9221"
            ],
            [
             1,
             "#276419"
            ]
           ],
           "sequential": [
            [
             0,
             "#0d0887"
            ],
            [
             0.1111111111111111,
             "#46039f"
            ],
            [
             0.2222222222222222,
             "#7201a8"
            ],
            [
             0.3333333333333333,
             "#9c179e"
            ],
            [
             0.4444444444444444,
             "#bd3786"
            ],
            [
             0.5555555555555556,
             "#d8576b"
            ],
            [
             0.6666666666666666,
             "#ed7953"
            ],
            [
             0.7777777777777778,
             "#fb9f3a"
            ],
            [
             0.8888888888888888,
             "#fdca26"
            ],
            [
             1,
             "#f0f921"
            ]
           ],
           "sequentialminus": [
            [
             0,
             "#0d0887"
            ],
            [
             0.1111111111111111,
             "#46039f"
            ],
            [
             0.2222222222222222,
             "#7201a8"
            ],
            [
             0.3333333333333333,
             "#9c179e"
            ],
            [
             0.4444444444444444,
             "#bd3786"
            ],
            [
             0.5555555555555556,
             "#d8576b"
            ],
            [
             0.6666666666666666,
             "#ed7953"
            ],
            [
             0.7777777777777778,
             "#fb9f3a"
            ],
            [
             0.8888888888888888,
             "#fdca26"
            ],
            [
             1,
             "#f0f921"
            ]
           ]
          },
          "colorway": [
           "#636efa",
           "#EF553B",
           "#00cc96",
           "#ab63fa",
           "#FFA15A",
           "#19d3f3",
           "#FF6692",
           "#B6E880",
           "#FF97FF",
           "#FECB52"
          ],
          "font": {
           "color": "#2a3f5f"
          },
          "geo": {
           "bgcolor": "white",
           "lakecolor": "white",
           "landcolor": "#E5ECF6",
           "showlakes": true,
           "showland": true,
           "subunitcolor": "white"
          },
          "hoverlabel": {
           "align": "left"
          },
          "hovermode": "closest",
          "mapbox": {
           "style": "light"
          },
          "paper_bgcolor": "white",
          "plot_bgcolor": "#E5ECF6",
          "polar": {
           "angularaxis": {
            "gridcolor": "white",
            "linecolor": "white",
            "ticks": ""
           },
           "bgcolor": "#E5ECF6",
           "radialaxis": {
            "gridcolor": "white",
            "linecolor": "white",
            "ticks": ""
           }
          },
          "scene": {
           "xaxis": {
            "backgroundcolor": "#E5ECF6",
            "gridcolor": "white",
            "gridwidth": 2,
            "linecolor": "white",
            "showbackground": true,
            "ticks": "",
            "zerolinecolor": "white"
           },
           "yaxis": {
            "backgroundcolor": "#E5ECF6",
            "gridcolor": "white",
            "gridwidth": 2,
            "linecolor": "white",
            "showbackground": true,
            "ticks": "",
            "zerolinecolor": "white"
           },
           "zaxis": {
            "backgroundcolor": "#E5ECF6",
            "gridcolor": "white",
            "gridwidth": 2,
            "linecolor": "white",
            "showbackground": true,
            "ticks": "",
            "zerolinecolor": "white"
           }
          },
          "shapedefaults": {
           "line": {
            "color": "#2a3f5f"
           }
          },
          "ternary": {
           "aaxis": {
            "gridcolor": "white",
            "linecolor": "white",
            "ticks": ""
           },
           "baxis": {
            "gridcolor": "white",
            "linecolor": "white",
            "ticks": ""
           },
           "bgcolor": "#E5ECF6",
           "caxis": {
            "gridcolor": "white",
            "linecolor": "white",
            "ticks": ""
           }
          },
          "title": {
           "x": 0.05
          },
          "xaxis": {
           "automargin": true,
           "gridcolor": "white",
           "linecolor": "white",
           "ticks": "",
           "title": {
            "standoff": 15
           },
           "zerolinecolor": "white",
           "zerolinewidth": 2
          },
          "yaxis": {
           "automargin": true,
           "gridcolor": "white",
           "linecolor": "white",
           "ticks": "",
           "title": {
            "standoff": 15
           },
           "zerolinecolor": "white",
           "zerolinewidth": 2
          }
         }
        },
        "title": {
         "text": "Concept Attribution: Text",
         "x": 0.5
        },
        "xaxis": {
         "range": [
          -1,
          1
         ],
         "tick0": 0,
         "tickformat": "%",
         "title": {
          "text": "Frequency"
         }
        },
        "yaxis": {
         "autorange": "reversed"
        }
       }
      }
     },
     "metadata": {},
     "output_type": "display_data"
    },
    {
     "data": {
      "application/vnd.plotly.v1+json": {
       "config": {
        "plotlyServerURL": "https://plot.ly"
       },
       "data": [
        {
         "marker": {
          "color": "rgb(247,247,247)"
         },
         "name": "Neutral",
         "orientation": "h",
         "type": "bar",
         "width": 0.8,
         "x": [
          -0.045454545454545456,
          -0.11363636363636363,
          -0.06818181818181818,
          -0.022727272727272728
         ],
         "y": [
          "I find the explanation    <br>intuitively understandable    ",
          "The explanation helps me to understand    <br>factors relevant to the algorithm    ",
          "The explanation helps me to decide whether    <br> I can trust the generated annotations    ",
          "The explanation provides me with    <br>valuable information for my work    "
         ]
        },
        {
         "marker": {
          "color": "rgb(253,219,199)"
         },
         "name": "Slightly disagree",
         "orientation": "h",
         "type": "bar",
         "width": 0.8,
         "x": [
          0,
          -0.13636363636363635,
          -0.18181818181818182,
          -0.22727272727272727
         ],
         "y": [
          "I find the explanation    <br>intuitively understandable    ",
          "The explanation helps me to understand    <br>factors relevant to the algorithm    ",
          "The explanation helps me to decide whether    <br> I can trust the generated annotations    ",
          "The explanation provides me with    <br>valuable information for my work    "
         ]
        },
        {
         "marker": {
          "color": "rgb(244,165,130)"
         },
         "name": "Disagree",
         "orientation": "h",
         "type": "bar",
         "width": 0.8,
         "x": [
          -0.045454545454545456,
          -0.13636363636363635,
          -0.13636363636363635,
          -0.13636363636363635
         ],
         "y": [
          "I find the explanation    <br>intuitively understandable    ",
          "The explanation helps me to understand    <br>factors relevant to the algorithm    ",
          "The explanation helps me to decide whether    <br> I can trust the generated annotations    ",
          "The explanation provides me with    <br>valuable information for my work    "
         ]
        },
        {
         "marker": {
          "color": "rgb(214,96,77)"
         },
         "name": "Strongly disagree",
         "orientation": "h",
         "type": "bar",
         "width": 0.8,
         "x": [
          0,
          0,
          -0.045454545454545456,
          -0.045454545454545456
         ],
         "y": [
          "I find the explanation    <br>intuitively understandable    ",
          "The explanation helps me to understand    <br>factors relevant to the algorithm    ",
          "The explanation helps me to decide whether    <br> I can trust the generated annotations    ",
          "The explanation provides me with    <br>valuable information for my work    "
         ]
        },
        {
         "marker": {
          "color": "rgb(247,247,247)"
         },
         "name": "Neutral",
         "orientation": "h",
         "type": "bar",
         "width": 0.8,
         "x": [
          0.045454545454545456,
          0.11363636363636363,
          0.06818181818181818,
          0.022727272727272728
         ],
         "y": [
          "I find the explanation    <br>intuitively understandable    ",
          "The explanation helps me to understand    <br>factors relevant to the algorithm    ",
          "The explanation helps me to decide whether    <br> I can trust the generated annotations    ",
          "The explanation provides me with    <br>valuable information for my work    "
         ]
        },
        {
         "marker": {
          "color": "rgb(209,229,240)"
         },
         "name": "Slightly agree",
         "orientation": "h",
         "type": "bar",
         "width": 0.8,
         "x": [
          0.22727272727272727,
          0.18181818181818182,
          0.09090909090909091,
          0.13636363636363635
         ],
         "y": [
          "I find the explanation    <br>intuitively understandable    ",
          "The explanation helps me to understand    <br>factors relevant to the algorithm    ",
          "The explanation helps me to decide whether    <br> I can trust the generated annotations    ",
          "The explanation provides me with    <br>valuable information for my work    "
         ]
        },
        {
         "marker": {
          "color": "rgb(146,197,222)"
         },
         "name": "Agree",
         "orientation": "h",
         "type": "bar",
         "width": 0.8,
         "x": [
          0.3181818181818182,
          0.22727272727272727,
          0.22727272727272727,
          0.13636363636363635
         ],
         "y": [
          "I find the explanation    <br>intuitively understandable    ",
          "The explanation helps me to understand    <br>factors relevant to the algorithm    ",
          "The explanation helps me to decide whether    <br> I can trust the generated annotations    ",
          "The explanation provides me with    <br>valuable information for my work    "
         ]
        },
        {
         "marker": {
          "color": "rgb(67,147,195)"
         },
         "name": "Strongly agree",
         "orientation": "h",
         "type": "bar",
         "width": 0.8,
         "x": [
          0.3181818181818182,
          0.09090909090909091,
          0.18181818181818182,
          0.2727272727272727
         ],
         "y": [
          "I find the explanation    <br>intuitively understandable    ",
          "The explanation helps me to understand    <br>factors relevant to the algorithm    ",
          "The explanation helps me to decide whether    <br> I can trust the generated annotations    ",
          "The explanation provides me with    <br>valuable information for my work    "
         ]
        }
       ],
       "layout": {
        "barmode": "relative",
        "showlegend": false,
        "template": {
         "data": {
          "bar": [
           {
            "error_x": {
             "color": "#2a3f5f"
            },
            "error_y": {
             "color": "#2a3f5f"
            },
            "marker": {
             "line": {
              "color": "#E5ECF6",
              "width": 0.5
             },
             "pattern": {
              "fillmode": "overlay",
              "size": 10,
              "solidity": 0.2
             }
            },
            "type": "bar"
           }
          ],
          "barpolar": [
           {
            "marker": {
             "line": {
              "color": "#E5ECF6",
              "width": 0.5
             },
             "pattern": {
              "fillmode": "overlay",
              "size": 10,
              "solidity": 0.2
             }
            },
            "type": "barpolar"
           }
          ],
          "carpet": [
           {
            "aaxis": {
             "endlinecolor": "#2a3f5f",
             "gridcolor": "white",
             "linecolor": "white",
             "minorgridcolor": "white",
             "startlinecolor": "#2a3f5f"
            },
            "baxis": {
             "endlinecolor": "#2a3f5f",
             "gridcolor": "white",
             "linecolor": "white",
             "minorgridcolor": "white",
             "startlinecolor": "#2a3f5f"
            },
            "type": "carpet"
           }
          ],
          "choropleth": [
           {
            "colorbar": {
             "outlinewidth": 0,
             "ticks": ""
            },
            "type": "choropleth"
           }
          ],
          "contour": [
           {
            "colorbar": {
             "outlinewidth": 0,
             "ticks": ""
            },
            "colorscale": [
             [
              0,
              "#0d0887"
             ],
             [
              0.1111111111111111,
              "#46039f"
             ],
             [
              0.2222222222222222,
              "#7201a8"
             ],
             [
              0.3333333333333333,
              "#9c179e"
             ],
             [
              0.4444444444444444,
              "#bd3786"
             ],
             [
              0.5555555555555556,
              "#d8576b"
             ],
             [
              0.6666666666666666,
              "#ed7953"
             ],
             [
              0.7777777777777778,
              "#fb9f3a"
             ],
             [
              0.8888888888888888,
              "#fdca26"
             ],
             [
              1,
              "#f0f921"
             ]
            ],
            "type": "contour"
           }
          ],
          "contourcarpet": [
           {
            "colorbar": {
             "outlinewidth": 0,
             "ticks": ""
            },
            "type": "contourcarpet"
           }
          ],
          "heatmap": [
           {
            "colorbar": {
             "outlinewidth": 0,
             "ticks": ""
            },
            "colorscale": [
             [
              0,
              "#0d0887"
             ],
             [
              0.1111111111111111,
              "#46039f"
             ],
             [
              0.2222222222222222,
              "#7201a8"
             ],
             [
              0.3333333333333333,
              "#9c179e"
             ],
             [
              0.4444444444444444,
              "#bd3786"
             ],
             [
              0.5555555555555556,
              "#d8576b"
             ],
             [
              0.6666666666666666,
              "#ed7953"
             ],
             [
              0.7777777777777778,
              "#fb9f3a"
             ],
             [
              0.8888888888888888,
              "#fdca26"
             ],
             [
              1,
              "#f0f921"
             ]
            ],
            "type": "heatmap"
           }
          ],
          "heatmapgl": [
           {
            "colorbar": {
             "outlinewidth": 0,
             "ticks": ""
            },
            "colorscale": [
             [
              0,
              "#0d0887"
             ],
             [
              0.1111111111111111,
              "#46039f"
             ],
             [
              0.2222222222222222,
              "#7201a8"
             ],
             [
              0.3333333333333333,
              "#9c179e"
             ],
             [
              0.4444444444444444,
              "#bd3786"
             ],
             [
              0.5555555555555556,
              "#d8576b"
             ],
             [
              0.6666666666666666,
              "#ed7953"
             ],
             [
              0.7777777777777778,
              "#fb9f3a"
             ],
             [
              0.8888888888888888,
              "#fdca26"
             ],
             [
              1,
              "#f0f921"
             ]
            ],
            "type": "heatmapgl"
           }
          ],
          "histogram": [
           {
            "marker": {
             "pattern": {
              "fillmode": "overlay",
              "size": 10,
              "solidity": 0.2
             }
            },
            "type": "histogram"
           }
          ],
          "histogram2d": [
           {
            "colorbar": {
             "outlinewidth": 0,
             "ticks": ""
            },
            "colorscale": [
             [
              0,
              "#0d0887"
             ],
             [
              0.1111111111111111,
              "#46039f"
             ],
             [
              0.2222222222222222,
              "#7201a8"
             ],
             [
              0.3333333333333333,
              "#9c179e"
             ],
             [
              0.4444444444444444,
              "#bd3786"
             ],
             [
              0.5555555555555556,
              "#d8576b"
             ],
             [
              0.6666666666666666,
              "#ed7953"
             ],
             [
              0.7777777777777778,
              "#fb9f3a"
             ],
             [
              0.8888888888888888,
              "#fdca26"
             ],
             [
              1,
              "#f0f921"
             ]
            ],
            "type": "histogram2d"
           }
          ],
          "histogram2dcontour": [
           {
            "colorbar": {
             "outlinewidth": 0,
             "ticks": ""
            },
            "colorscale": [
             [
              0,
              "#0d0887"
             ],
             [
              0.1111111111111111,
              "#46039f"
             ],
             [
              0.2222222222222222,
              "#7201a8"
             ],
             [
              0.3333333333333333,
              "#9c179e"
             ],
             [
              0.4444444444444444,
              "#bd3786"
             ],
             [
              0.5555555555555556,
              "#d8576b"
             ],
             [
              0.6666666666666666,
              "#ed7953"
             ],
             [
              0.7777777777777778,
              "#fb9f3a"
             ],
             [
              0.8888888888888888,
              "#fdca26"
             ],
             [
              1,
              "#f0f921"
             ]
            ],
            "type": "histogram2dcontour"
           }
          ],
          "mesh3d": [
           {
            "colorbar": {
             "outlinewidth": 0,
             "ticks": ""
            },
            "type": "mesh3d"
           }
          ],
          "parcoords": [
           {
            "line": {
             "colorbar": {
              "outlinewidth": 0,
              "ticks": ""
             }
            },
            "type": "parcoords"
           }
          ],
          "pie": [
           {
            "automargin": true,
            "type": "pie"
           }
          ],
          "scatter": [
           {
            "marker": {
             "colorbar": {
              "outlinewidth": 0,
              "ticks": ""
             }
            },
            "type": "scatter"
           }
          ],
          "scatter3d": [
           {
            "line": {
             "colorbar": {
              "outlinewidth": 0,
              "ticks": ""
             }
            },
            "marker": {
             "colorbar": {
              "outlinewidth": 0,
              "ticks": ""
             }
            },
            "type": "scatter3d"
           }
          ],
          "scattercarpet": [
           {
            "marker": {
             "colorbar": {
              "outlinewidth": 0,
              "ticks": ""
             }
            },
            "type": "scattercarpet"
           }
          ],
          "scattergeo": [
           {
            "marker": {
             "colorbar": {
              "outlinewidth": 0,
              "ticks": ""
             }
            },
            "type": "scattergeo"
           }
          ],
          "scattergl": [
           {
            "marker": {
             "colorbar": {
              "outlinewidth": 0,
              "ticks": ""
             }
            },
            "type": "scattergl"
           }
          ],
          "scattermapbox": [
           {
            "marker": {
             "colorbar": {
              "outlinewidth": 0,
              "ticks": ""
             }
            },
            "type": "scattermapbox"
           }
          ],
          "scatterpolar": [
           {
            "marker": {
             "colorbar": {
              "outlinewidth": 0,
              "ticks": ""
             }
            },
            "type": "scatterpolar"
           }
          ],
          "scatterpolargl": [
           {
            "marker": {
             "colorbar": {
              "outlinewidth": 0,
              "ticks": ""
             }
            },
            "type": "scatterpolargl"
           }
          ],
          "scatterternary": [
           {
            "marker": {
             "colorbar": {
              "outlinewidth": 0,
              "ticks": ""
             }
            },
            "type": "scatterternary"
           }
          ],
          "surface": [
           {
            "colorbar": {
             "outlinewidth": 0,
             "ticks": ""
            },
            "colorscale": [
             [
              0,
              "#0d0887"
             ],
             [
              0.1111111111111111,
              "#46039f"
             ],
             [
              0.2222222222222222,
              "#7201a8"
             ],
             [
              0.3333333333333333,
              "#9c179e"
             ],
             [
              0.4444444444444444,
              "#bd3786"
             ],
             [
              0.5555555555555556,
              "#d8576b"
             ],
             [
              0.6666666666666666,
              "#ed7953"
             ],
             [
              0.7777777777777778,
              "#fb9f3a"
             ],
             [
              0.8888888888888888,
              "#fdca26"
             ],
             [
              1,
              "#f0f921"
             ]
            ],
            "type": "surface"
           }
          ],
          "table": [
           {
            "cells": {
             "fill": {
              "color": "#EBF0F8"
             },
             "line": {
              "color": "white"
             }
            },
            "header": {
             "fill": {
              "color": "#C8D4E3"
             },
             "line": {
              "color": "white"
             }
            },
            "type": "table"
           }
          ]
         },
         "layout": {
          "annotationdefaults": {
           "arrowcolor": "#2a3f5f",
           "arrowhead": 0,
           "arrowwidth": 1
          },
          "autotypenumbers": "strict",
          "coloraxis": {
           "colorbar": {
            "outlinewidth": 0,
            "ticks": ""
           }
          },
          "colorscale": {
           "diverging": [
            [
             0,
             "#8e0152"
            ],
            [
             0.1,
             "#c51b7d"
            ],
            [
             0.2,
             "#de77ae"
            ],
            [
             0.3,
             "#f1b6da"
            ],
            [
             0.4,
             "#fde0ef"
            ],
            [
             0.5,
             "#f7f7f7"
            ],
            [
             0.6,
             "#e6f5d0"
            ],
            [
             0.7,
             "#b8e186"
            ],
            [
             0.8,
             "#7fbc41"
            ],
            [
             0.9,
             "#4d9221"
            ],
            [
             1,
             "#276419"
            ]
           ],
           "sequential": [
            [
             0,
             "#0d0887"
            ],
            [
             0.1111111111111111,
             "#46039f"
            ],
            [
             0.2222222222222222,
             "#7201a8"
            ],
            [
             0.3333333333333333,
             "#9c179e"
            ],
            [
             0.4444444444444444,
             "#bd3786"
            ],
            [
             0.5555555555555556,
             "#d8576b"
            ],
            [
             0.6666666666666666,
             "#ed7953"
            ],
            [
             0.7777777777777778,
             "#fb9f3a"
            ],
            [
             0.8888888888888888,
             "#fdca26"
            ],
            [
             1,
             "#f0f921"
            ]
           ],
           "sequentialminus": [
            [
             0,
             "#0d0887"
            ],
            [
             0.1111111111111111,
             "#46039f"
            ],
            [
             0.2222222222222222,
             "#7201a8"
            ],
            [
             0.3333333333333333,
             "#9c179e"
            ],
            [
             0.4444444444444444,
             "#bd3786"
            ],
            [
             0.5555555555555556,
             "#d8576b"
            ],
            [
             0.6666666666666666,
             "#ed7953"
            ],
            [
             0.7777777777777778,
             "#fb9f3a"
            ],
            [
             0.8888888888888888,
             "#fdca26"
            ],
            [
             1,
             "#f0f921"
            ]
           ]
          },
          "colorway": [
           "#636efa",
           "#EF553B",
           "#00cc96",
           "#ab63fa",
           "#FFA15A",
           "#19d3f3",
           "#FF6692",
           "#B6E880",
           "#FF97FF",
           "#FECB52"
          ],
          "font": {
           "color": "#2a3f5f"
          },
          "geo": {
           "bgcolor": "white",
           "lakecolor": "white",
           "landcolor": "#E5ECF6",
           "showlakes": true,
           "showland": true,
           "subunitcolor": "white"
          },
          "hoverlabel": {
           "align": "left"
          },
          "hovermode": "closest",
          "mapbox": {
           "style": "light"
          },
          "paper_bgcolor": "white",
          "plot_bgcolor": "#E5ECF6",
          "polar": {
           "angularaxis": {
            "gridcolor": "white",
            "linecolor": "white",
            "ticks": ""
           },
           "bgcolor": "#E5ECF6",
           "radialaxis": {
            "gridcolor": "white",
            "linecolor": "white",
            "ticks": ""
           }
          },
          "scene": {
           "xaxis": {
            "backgroundcolor": "#E5ECF6",
            "gridcolor": "white",
            "gridwidth": 2,
            "linecolor": "white",
            "showbackground": true,
            "ticks": "",
            "zerolinecolor": "white"
           },
           "yaxis": {
            "backgroundcolor": "#E5ECF6",
            "gridcolor": "white",
            "gridwidth": 2,
            "linecolor": "white",
            "showbackground": true,
            "ticks": "",
            "zerolinecolor": "white"
           },
           "zaxis": {
            "backgroundcolor": "#E5ECF6",
            "gridcolor": "white",
            "gridwidth": 2,
            "linecolor": "white",
            "showbackground": true,
            "ticks": "",
            "zerolinecolor": "white"
           }
          },
          "shapedefaults": {
           "line": {
            "color": "#2a3f5f"
           }
          },
          "ternary": {
           "aaxis": {
            "gridcolor": "white",
            "linecolor": "white",
            "ticks": ""
           },
           "baxis": {
            "gridcolor": "white",
            "linecolor": "white",
            "ticks": ""
           },
           "bgcolor": "#E5ECF6",
           "caxis": {
            "gridcolor": "white",
            "linecolor": "white",
            "ticks": ""
           }
          },
          "title": {
           "x": 0.05
          },
          "xaxis": {
           "automargin": true,
           "gridcolor": "white",
           "linecolor": "white",
           "ticks": "",
           "title": {
            "standoff": 15
           },
           "zerolinecolor": "white",
           "zerolinewidth": 2
          },
          "yaxis": {
           "automargin": true,
           "gridcolor": "white",
           "linecolor": "white",
           "ticks": "",
           "title": {
            "standoff": 15
           },
           "zerolinecolor": "white",
           "zerolinewidth": 2
          }
         }
        },
        "title": {
         "text": "Prototypes",
         "x": 0.5
        },
        "xaxis": {
         "range": [
          -1,
          1
         ],
         "tick0": 0,
         "tickformat": "%",
         "title": {
          "text": "Frequency"
         }
        },
        "yaxis": {
         "autorange": "reversed"
        }
       }
      }
     },
     "metadata": {},
     "output_type": "display_data"
    },
    {
     "data": {
      "application/vnd.plotly.v1+json": {
       "config": {
        "plotlyServerURL": "https://plot.ly"
       },
       "data": [
        {
         "marker": {
          "color": "rgb(247,247,247)"
         },
         "name": "Neutral",
         "orientation": "h",
         "type": "bar",
         "width": 0.8,
         "x": [
          -0.09090909090909091,
          -0.06818181818181818,
          -0.13636363636363635,
          -0.06818181818181818
         ],
         "y": [
          "I find the explanation    <br>intuitively understandable    ",
          "The explanation helps me to understand    <br>factors relevant to the algorithm    ",
          "The explanation helps me to decide whether    <br> I can trust the generated annotations    ",
          "The explanation provides me with    <br>valuable information for my work    "
         ]
        },
        {
         "marker": {
          "color": "rgb(253,219,199)"
         },
         "name": "Slightly disagree",
         "orientation": "h",
         "type": "bar",
         "width": 0.8,
         "x": [
          -0.045454545454545456,
          -0.13636363636363635,
          -0.13636363636363635,
          -0.13636363636363635
         ],
         "y": [
          "I find the explanation    <br>intuitively understandable    ",
          "The explanation helps me to understand    <br>factors relevant to the algorithm    ",
          "The explanation helps me to decide whether    <br> I can trust the generated annotations    ",
          "The explanation provides me with    <br>valuable information for my work    "
         ]
        },
        {
         "marker": {
          "color": "rgb(244,165,130)"
         },
         "name": "Disagree",
         "orientation": "h",
         "type": "bar",
         "width": 0.8,
         "x": [
          -0.13636363636363635,
          -0.18181818181818182,
          0,
          -0.09090909090909091
         ],
         "y": [
          "I find the explanation    <br>intuitively understandable    ",
          "The explanation helps me to understand    <br>factors relevant to the algorithm    ",
          "The explanation helps me to decide whether    <br> I can trust the generated annotations    ",
          "The explanation provides me with    <br>valuable information for my work    "
         ]
        },
        {
         "marker": {
          "color": "rgb(214,96,77)"
         },
         "name": "Strongly disagree",
         "orientation": "h",
         "type": "bar",
         "width": 0.8,
         "x": [
          -0.045454545454545456,
          -0.045454545454545456,
          -0.045454545454545456,
          -0.045454545454545456
         ],
         "y": [
          "I find the explanation    <br>intuitively understandable    ",
          "The explanation helps me to understand    <br>factors relevant to the algorithm    ",
          "The explanation helps me to decide whether    <br> I can trust the generated annotations    ",
          "The explanation provides me with    <br>valuable information for my work    "
         ]
        },
        {
         "marker": {
          "color": "rgb(247,247,247)"
         },
         "name": "Neutral",
         "orientation": "h",
         "type": "bar",
         "width": 0.8,
         "x": [
          0.09090909090909091,
          0.06818181818181818,
          0.13636363636363635,
          0.06818181818181818
         ],
         "y": [
          "I find the explanation    <br>intuitively understandable    ",
          "The explanation helps me to understand    <br>factors relevant to the algorithm    ",
          "The explanation helps me to decide whether    <br> I can trust the generated annotations    ",
          "The explanation provides me with    <br>valuable information for my work    "
         ]
        },
        {
         "marker": {
          "color": "rgb(209,229,240)"
         },
         "name": "Slightly agree",
         "orientation": "h",
         "type": "bar",
         "width": 0.8,
         "x": [
          0.22727272727272727,
          0.2727272727272727,
          0.18181818181818182,
          0.2727272727272727
         ],
         "y": [
          "I find the explanation    <br>intuitively understandable    ",
          "The explanation helps me to understand    <br>factors relevant to the algorithm    ",
          "The explanation helps me to decide whether    <br> I can trust the generated annotations    ",
          "The explanation provides me with    <br>valuable information for my work    "
         ]
        },
        {
         "marker": {
          "color": "rgb(146,197,222)"
         },
         "name": "Agree",
         "orientation": "h",
         "type": "bar",
         "width": 0.8,
         "x": [
          0.18181818181818182,
          0.09090909090909091,
          0.22727272727272727,
          0.18181818181818182
         ],
         "y": [
          "I find the explanation    <br>intuitively understandable    ",
          "The explanation helps me to understand    <br>factors relevant to the algorithm    ",
          "The explanation helps me to decide whether    <br> I can trust the generated annotations    ",
          "The explanation provides me with    <br>valuable information for my work    "
         ]
        },
        {
         "marker": {
          "color": "rgb(67,147,195)"
         },
         "name": "Strongly agree",
         "orientation": "h",
         "type": "bar",
         "width": 0.8,
         "x": [
          0.18181818181818182,
          0.13636363636363635,
          0.13636363636363635,
          0.13636363636363635
         ],
         "y": [
          "I find the explanation    <br>intuitively understandable    ",
          "The explanation helps me to understand    <br>factors relevant to the algorithm    ",
          "The explanation helps me to decide whether    <br> I can trust the generated annotations    ",
          "The explanation provides me with    <br>valuable information for my work    "
         ]
        }
       ],
       "layout": {
        "barmode": "relative",
        "showlegend": false,
        "template": {
         "data": {
          "bar": [
           {
            "error_x": {
             "color": "#2a3f5f"
            },
            "error_y": {
             "color": "#2a3f5f"
            },
            "marker": {
             "line": {
              "color": "#E5ECF6",
              "width": 0.5
             },
             "pattern": {
              "fillmode": "overlay",
              "size": 10,
              "solidity": 0.2
             }
            },
            "type": "bar"
           }
          ],
          "barpolar": [
           {
            "marker": {
             "line": {
              "color": "#E5ECF6",
              "width": 0.5
             },
             "pattern": {
              "fillmode": "overlay",
              "size": 10,
              "solidity": 0.2
             }
            },
            "type": "barpolar"
           }
          ],
          "carpet": [
           {
            "aaxis": {
             "endlinecolor": "#2a3f5f",
             "gridcolor": "white",
             "linecolor": "white",
             "minorgridcolor": "white",
             "startlinecolor": "#2a3f5f"
            },
            "baxis": {
             "endlinecolor": "#2a3f5f",
             "gridcolor": "white",
             "linecolor": "white",
             "minorgridcolor": "white",
             "startlinecolor": "#2a3f5f"
            },
            "type": "carpet"
           }
          ],
          "choropleth": [
           {
            "colorbar": {
             "outlinewidth": 0,
             "ticks": ""
            },
            "type": "choropleth"
           }
          ],
          "contour": [
           {
            "colorbar": {
             "outlinewidth": 0,
             "ticks": ""
            },
            "colorscale": [
             [
              0,
              "#0d0887"
             ],
             [
              0.1111111111111111,
              "#46039f"
             ],
             [
              0.2222222222222222,
              "#7201a8"
             ],
             [
              0.3333333333333333,
              "#9c179e"
             ],
             [
              0.4444444444444444,
              "#bd3786"
             ],
             [
              0.5555555555555556,
              "#d8576b"
             ],
             [
              0.6666666666666666,
              "#ed7953"
             ],
             [
              0.7777777777777778,
              "#fb9f3a"
             ],
             [
              0.8888888888888888,
              "#fdca26"
             ],
             [
              1,
              "#f0f921"
             ]
            ],
            "type": "contour"
           }
          ],
          "contourcarpet": [
           {
            "colorbar": {
             "outlinewidth": 0,
             "ticks": ""
            },
            "type": "contourcarpet"
           }
          ],
          "heatmap": [
           {
            "colorbar": {
             "outlinewidth": 0,
             "ticks": ""
            },
            "colorscale": [
             [
              0,
              "#0d0887"
             ],
             [
              0.1111111111111111,
              "#46039f"
             ],
             [
              0.2222222222222222,
              "#7201a8"
             ],
             [
              0.3333333333333333,
              "#9c179e"
             ],
             [
              0.4444444444444444,
              "#bd3786"
             ],
             [
              0.5555555555555556,
              "#d8576b"
             ],
             [
              0.6666666666666666,
              "#ed7953"
             ],
             [
              0.7777777777777778,
              "#fb9f3a"
             ],
             [
              0.8888888888888888,
              "#fdca26"
             ],
             [
              1,
              "#f0f921"
             ]
            ],
            "type": "heatmap"
           }
          ],
          "heatmapgl": [
           {
            "colorbar": {
             "outlinewidth": 0,
             "ticks": ""
            },
            "colorscale": [
             [
              0,
              "#0d0887"
             ],
             [
              0.1111111111111111,
              "#46039f"
             ],
             [
              0.2222222222222222,
              "#7201a8"
             ],
             [
              0.3333333333333333,
              "#9c179e"
             ],
             [
              0.4444444444444444,
              "#bd3786"
             ],
             [
              0.5555555555555556,
              "#d8576b"
             ],
             [
              0.6666666666666666,
              "#ed7953"
             ],
             [
              0.7777777777777778,
              "#fb9f3a"
             ],
             [
              0.8888888888888888,
              "#fdca26"
             ],
             [
              1,
              "#f0f921"
             ]
            ],
            "type": "heatmapgl"
           }
          ],
          "histogram": [
           {
            "marker": {
             "pattern": {
              "fillmode": "overlay",
              "size": 10,
              "solidity": 0.2
             }
            },
            "type": "histogram"
           }
          ],
          "histogram2d": [
           {
            "colorbar": {
             "outlinewidth": 0,
             "ticks": ""
            },
            "colorscale": [
             [
              0,
              "#0d0887"
             ],
             [
              0.1111111111111111,
              "#46039f"
             ],
             [
              0.2222222222222222,
              "#7201a8"
             ],
             [
              0.3333333333333333,
              "#9c179e"
             ],
             [
              0.4444444444444444,
              "#bd3786"
             ],
             [
              0.5555555555555556,
              "#d8576b"
             ],
             [
              0.6666666666666666,
              "#ed7953"
             ],
             [
              0.7777777777777778,
              "#fb9f3a"
             ],
             [
              0.8888888888888888,
              "#fdca26"
             ],
             [
              1,
              "#f0f921"
             ]
            ],
            "type": "histogram2d"
           }
          ],
          "histogram2dcontour": [
           {
            "colorbar": {
             "outlinewidth": 0,
             "ticks": ""
            },
            "colorscale": [
             [
              0,
              "#0d0887"
             ],
             [
              0.1111111111111111,
              "#46039f"
             ],
             [
              0.2222222222222222,
              "#7201a8"
             ],
             [
              0.3333333333333333,
              "#9c179e"
             ],
             [
              0.4444444444444444,
              "#bd3786"
             ],
             [
              0.5555555555555556,
              "#d8576b"
             ],
             [
              0.6666666666666666,
              "#ed7953"
             ],
             [
              0.7777777777777778,
              "#fb9f3a"
             ],
             [
              0.8888888888888888,
              "#fdca26"
             ],
             [
              1,
              "#f0f921"
             ]
            ],
            "type": "histogram2dcontour"
           }
          ],
          "mesh3d": [
           {
            "colorbar": {
             "outlinewidth": 0,
             "ticks": ""
            },
            "type": "mesh3d"
           }
          ],
          "parcoords": [
           {
            "line": {
             "colorbar": {
              "outlinewidth": 0,
              "ticks": ""
             }
            },
            "type": "parcoords"
           }
          ],
          "pie": [
           {
            "automargin": true,
            "type": "pie"
           }
          ],
          "scatter": [
           {
            "marker": {
             "colorbar": {
              "outlinewidth": 0,
              "ticks": ""
             }
            },
            "type": "scatter"
           }
          ],
          "scatter3d": [
           {
            "line": {
             "colorbar": {
              "outlinewidth": 0,
              "ticks": ""
             }
            },
            "marker": {
             "colorbar": {
              "outlinewidth": 0,
              "ticks": ""
             }
            },
            "type": "scatter3d"
           }
          ],
          "scattercarpet": [
           {
            "marker": {
             "colorbar": {
              "outlinewidth": 0,
              "ticks": ""
             }
            },
            "type": "scattercarpet"
           }
          ],
          "scattergeo": [
           {
            "marker": {
             "colorbar": {
              "outlinewidth": 0,
              "ticks": ""
             }
            },
            "type": "scattergeo"
           }
          ],
          "scattergl": [
           {
            "marker": {
             "colorbar": {
              "outlinewidth": 0,
              "ticks": ""
             }
            },
            "type": "scattergl"
           }
          ],
          "scattermapbox": [
           {
            "marker": {
             "colorbar": {
              "outlinewidth": 0,
              "ticks": ""
             }
            },
            "type": "scattermapbox"
           }
          ],
          "scatterpolar": [
           {
            "marker": {
             "colorbar": {
              "outlinewidth": 0,
              "ticks": ""
             }
            },
            "type": "scatterpolar"
           }
          ],
          "scatterpolargl": [
           {
            "marker": {
             "colorbar": {
              "outlinewidth": 0,
              "ticks": ""
             }
            },
            "type": "scatterpolargl"
           }
          ],
          "scatterternary": [
           {
            "marker": {
             "colorbar": {
              "outlinewidth": 0,
              "ticks": ""
             }
            },
            "type": "scatterternary"
           }
          ],
          "surface": [
           {
            "colorbar": {
             "outlinewidth": 0,
             "ticks": ""
            },
            "colorscale": [
             [
              0,
              "#0d0887"
             ],
             [
              0.1111111111111111,
              "#46039f"
             ],
             [
              0.2222222222222222,
              "#7201a8"
             ],
             [
              0.3333333333333333,
              "#9c179e"
             ],
             [
              0.4444444444444444,
              "#bd3786"
             ],
             [
              0.5555555555555556,
              "#d8576b"
             ],
             [
              0.6666666666666666,
              "#ed7953"
             ],
             [
              0.7777777777777778,
              "#fb9f3a"
             ],
             [
              0.8888888888888888,
              "#fdca26"
             ],
             [
              1,
              "#f0f921"
             ]
            ],
            "type": "surface"
           }
          ],
          "table": [
           {
            "cells": {
             "fill": {
              "color": "#EBF0F8"
             },
             "line": {
              "color": "white"
             }
            },
            "header": {
             "fill": {
              "color": "#C8D4E3"
             },
             "line": {
              "color": "white"
             }
            },
            "type": "table"
           }
          ]
         },
         "layout": {
          "annotationdefaults": {
           "arrowcolor": "#2a3f5f",
           "arrowhead": 0,
           "arrowwidth": 1
          },
          "autotypenumbers": "strict",
          "coloraxis": {
           "colorbar": {
            "outlinewidth": 0,
            "ticks": ""
           }
          },
          "colorscale": {
           "diverging": [
            [
             0,
             "#8e0152"
            ],
            [
             0.1,
             "#c51b7d"
            ],
            [
             0.2,
             "#de77ae"
            ],
            [
             0.3,
             "#f1b6da"
            ],
            [
             0.4,
             "#fde0ef"
            ],
            [
             0.5,
             "#f7f7f7"
            ],
            [
             0.6,
             "#e6f5d0"
            ],
            [
             0.7,
             "#b8e186"
            ],
            [
             0.8,
             "#7fbc41"
            ],
            [
             0.9,
             "#4d9221"
            ],
            [
             1,
             "#276419"
            ]
           ],
           "sequential": [
            [
             0,
             "#0d0887"
            ],
            [
             0.1111111111111111,
             "#46039f"
            ],
            [
             0.2222222222222222,
             "#7201a8"
            ],
            [
             0.3333333333333333,
             "#9c179e"
            ],
            [
             0.4444444444444444,
             "#bd3786"
            ],
            [
             0.5555555555555556,
             "#d8576b"
            ],
            [
             0.6666666666666666,
             "#ed7953"
            ],
            [
             0.7777777777777778,
             "#fb9f3a"
            ],
            [
             0.8888888888888888,
             "#fdca26"
            ],
            [
             1,
             "#f0f921"
            ]
           ],
           "sequentialminus": [
            [
             0,
             "#0d0887"
            ],
            [
             0.1111111111111111,
             "#46039f"
            ],
            [
             0.2222222222222222,
             "#7201a8"
            ],
            [
             0.3333333333333333,
             "#9c179e"
            ],
            [
             0.4444444444444444,
             "#bd3786"
            ],
            [
             0.5555555555555556,
             "#d8576b"
            ],
            [
             0.6666666666666666,
             "#ed7953"
            ],
            [
             0.7777777777777778,
             "#fb9f3a"
            ],
            [
             0.8888888888888888,
             "#fdca26"
            ],
            [
             1,
             "#f0f921"
            ]
           ]
          },
          "colorway": [
           "#636efa",
           "#EF553B",
           "#00cc96",
           "#ab63fa",
           "#FFA15A",
           "#19d3f3",
           "#FF6692",
           "#B6E880",
           "#FF97FF",
           "#FECB52"
          ],
          "font": {
           "color": "#2a3f5f"
          },
          "geo": {
           "bgcolor": "white",
           "lakecolor": "white",
           "landcolor": "#E5ECF6",
           "showlakes": true,
           "showland": true,
           "subunitcolor": "white"
          },
          "hoverlabel": {
           "align": "left"
          },
          "hovermode": "closest",
          "mapbox": {
           "style": "light"
          },
          "paper_bgcolor": "white",
          "plot_bgcolor": "#E5ECF6",
          "polar": {
           "angularaxis": {
            "gridcolor": "white",
            "linecolor": "white",
            "ticks": ""
           },
           "bgcolor": "#E5ECF6",
           "radialaxis": {
            "gridcolor": "white",
            "linecolor": "white",
            "ticks": ""
           }
          },
          "scene": {
           "xaxis": {
            "backgroundcolor": "#E5ECF6",
            "gridcolor": "white",
            "gridwidth": 2,
            "linecolor": "white",
            "showbackground": true,
            "ticks": "",
            "zerolinecolor": "white"
           },
           "yaxis": {
            "backgroundcolor": "#E5ECF6",
            "gridcolor": "white",
            "gridwidth": 2,
            "linecolor": "white",
            "showbackground": true,
            "ticks": "",
            "zerolinecolor": "white"
           },
           "zaxis": {
            "backgroundcolor": "#E5ECF6",
            "gridcolor": "white",
            "gridwidth": 2,
            "linecolor": "white",
            "showbackground": true,
            "ticks": "",
            "zerolinecolor": "white"
           }
          },
          "shapedefaults": {
           "line": {
            "color": "#2a3f5f"
           }
          },
          "ternary": {
           "aaxis": {
            "gridcolor": "white",
            "linecolor": "white",
            "ticks": ""
           },
           "baxis": {
            "gridcolor": "white",
            "linecolor": "white",
            "ticks": ""
           },
           "bgcolor": "#E5ECF6",
           "caxis": {
            "gridcolor": "white",
            "linecolor": "white",
            "ticks": ""
           }
          },
          "title": {
           "x": 0.05
          },
          "xaxis": {
           "automargin": true,
           "gridcolor": "white",
           "linecolor": "white",
           "ticks": "",
           "title": {
            "standoff": 15
           },
           "zerolinecolor": "white",
           "zerolinewidth": 2
          },
          "yaxis": {
           "automargin": true,
           "gridcolor": "white",
           "linecolor": "white",
           "ticks": "",
           "title": {
            "standoff": 15
           },
           "zerolinecolor": "white",
           "zerolinewidth": 2
          }
         }
        },
        "title": {
         "text": "Trust Scores: Borderline Cases",
         "x": 0.5
        },
        "xaxis": {
         "range": [
          -1,
          1
         ],
         "tick0": 0,
         "tickformat": "%",
         "title": {
          "text": "Frequency"
         }
        },
        "yaxis": {
         "autorange": "reversed"
        }
       }
      }
     },
     "metadata": {},
     "output_type": "display_data"
    }
   ],
   "source": [
    "from typing import Optional\n",
    "from collections import Counter\n",
    "\n",
    "import plotly\n",
    "import plotly.graph_objects as go\n",
    "\n",
    "def stackedBarChartDF(\n",
    "    df: pd.DataFrame,\n",
    "    title: str, \n",
    "    palette: list,\n",
    "    attributes: list = [\"Understandability\", \"Usability\", \"Informativeness\", \"Value\"],\n",
    "    labels: Optional[list] = None,\n",
    "    save_fig: bool = False,\n",
    "    save_dir: str = \"images\",\n",
    "):\n",
    "    counters = [Counter(df[attribute]) for attribute in attributes]\n",
    "\n",
    "    fig = go.Figure()  # type: ignore\n",
    "    \n",
    "    category_order = [\n",
    "        \"Strongly disagree\",\n",
    "        \"Disagree\",\n",
    "        \"Slightly disagree\",\n",
    "        \"Neutral\",\n",
    "        \"Slightly agree\",\n",
    "        \"Agree\",\n",
    "        \"Strongly agree\",\n",
    "    ]\n",
    "\n",
    "    number_order = [1, 2, 3, 4, 5, 6, 7]\n",
    "\n",
    "    def add_bar_trace(num, transform):\n",
    "        rating = number_order[num]\n",
    "        counts = [counter[rating] for counter in counters]\n",
    "        total_count = sum(counters[0].values())\n",
    "\n",
    "        xvals = [transform(count) / total_count for count in counts]\n",
    "\n",
    "        fig.add_trace(\n",
    "            go.Bar(\n",
    "                x=xvals,\n",
    "                y=labels if labels else attributes,\n",
    "                orientation=\"h\",\n",
    "                name=category_order[num],\n",
    "                # customdata=xvals,\n",
    "                # hovertemplate = \"%{y}: %{customdata}\",\n",
    "                width=0.8,\n",
    "                marker_color=palette[num],\n",
    "            ) # type: ignore\n",
    "        )  \n",
    "\n",
    "    # negative side\n",
    "    add_bar_trace(3, lambda x: x * -0.5)\n",
    "    for num in reversed(range(0, 3)):\n",
    "        add_bar_trace(num, lambda x: x * -1)\n",
    "\n",
    "    # positive side\n",
    "    add_bar_trace(3, lambda x: x * 0.5)\n",
    "    for num in range(4, 7):\n",
    "        add_bar_trace(num, lambda x: x)\n",
    "\n",
    "    fig.update_layout(\n",
    "        barmode=\"relative\",\n",
    "        yaxis_autorange=\"reversed\",\n",
    "        title=title,\n",
    "        title_x=0.5,\n",
    "        xaxis={\"tick0\": 0, \"title\": \"Frequency\", \"tickformat\": \"%\", \"range\": [-1, 1]},\n",
    "        showlegend=False,\n",
    "    )\n",
    "    fig.show()\n",
    "\n",
    "    if save_fig:\n",
    "        if not os.path.exists(save_dir):\n",
    "            os.mkdir(save_dir)\n",
    "        filename = \"\".join(i for i in name if i not in \"\\\\/:*?<>|\")\n",
    "        fig.write_image(f\"{save_dir}/{filename}.png\")\n",
    "\n",
    "palette = [plotly.colors.diverging.RdBu[n] for n in [2, 3, 4, 5, 6, 7, 8]]  # type: ignore\n",
    "space = ' ' * 4\n",
    "labels = [\n",
    "    f\"I find the explanation{space}<br>intuitively understandable{space}\", \n",
    "    f\"The explanation helps me to understand{space}<br>factors relevant to the algorithm{space}\",\n",
    "    f\"The explanation helps me to decide whether{space}<br> I can trust the generated annotations{space}\",\n",
    "    f\"The explanation provides me with{space}<br>valuable information for my work{space}\",\n",
    "    ]\n",
    "\n",
    "for name, df in result_dataframes.items():\n",
    "    stackedBarChartDF(\n",
    "        df,\n",
    "        name,\n",
    "        palette,\n",
    "        labels=labels,\n",
    "        save_fig=True,\n",
    "        save_dir=os.path.splitext(results_filepath)[0],\n",
    "    )\n"
   ]
  },
  {
   "cell_type": "markdown",
   "metadata": {},
   "source": [
    "## Overall comparison"
   ]
  },
  {
   "cell_type": "code",
   "execution_count": 9,
   "metadata": {},
   "outputs": [
    {
     "data": {
      "application/vnd.plotly.v1+json": {
       "config": {
        "plotlyServerURL": "https://plot.ly"
       },
       "data": [
        {
         "marker": {
          "color": "#440154"
         },
         "name": "Counterfactuals: 1-axis",
         "type": "box",
         "y": [
          6.25,
          7,
          4.75,
          5,
          2,
          7,
          2,
          5.5,
          5.25,
          5.5,
          5,
          3.75,
          7,
          3.75,
          3,
          4.5,
          5.25,
          3.5,
          6,
          5.5,
          7,
          4
         ]
        },
        {
         "marker": {
          "color": "#482878"
         },
         "name": "Concept Attribution: Text",
         "type": "box",
         "y": [
          6,
          7,
          4.75,
          5.75,
          2,
          6.25,
          3.25,
          2.75,
          3,
          5,
          4,
          5.25,
          1,
          4.75,
          3.25,
          5.75,
          5.75,
          3,
          6.25,
          6.75,
          5.25,
          6.25
         ]
        },
        {
         "marker": {
          "color": "#3e4989"
         },
         "name": "Prototypes",
         "type": "box",
         "y": [
          6,
          7,
          5.5,
          6.25,
          2.75,
          6.5,
          4.75,
          4,
          5,
          5.5,
          2,
          3,
          7,
          3.75,
          3.25,
          5.75,
          4.25,
          4.5,
          6,
          6,
          4.25,
          3.25
         ]
        },
        {
         "marker": {
          "color": "#31688e"
         },
         "name": "Trust Scores: Borderline Cases",
         "type": "box",
         "y": [
          5.5,
          3.5,
          5,
          4.75,
          4,
          6,
          5,
          2.5,
          6,
          4.25,
          4.5,
          4.75,
          1,
          4.5,
          6,
          6,
          2.5,
          3,
          5,
          7,
          7,
          2.75
         ]
        },
        {
         "marker": {
          "color": "#26828e"
         },
         "name": "Saliency Maps: Local",
         "type": "box",
         "y": [
          4.5,
          5,
          4,
          4.5,
          4.25,
          5.25,
          6,
          1.75,
          4,
          7,
          2,
          4.25,
          1,
          5.25,
          4,
          6.5,
          4,
          3,
          2,
          6,
          5.75,
          5.75
         ]
        },
        {
         "marker": {
          "color": "#1f9e89"
         },
         "name": "Counterfactuals: 2-axis",
         "type": "box",
         "y": [
          4.25,
          6,
          3.5,
          6.5,
          1.75,
          6.5,
          1,
          4,
          4,
          5.25,
          5,
          4.5,
          1,
          4,
          2.75,
          4.5,
          5.25,
          2.75,
          4.25,
          5.5,
          4.25,
          2.25
         ]
        },
        {
         "marker": {
          "color": "#35b779"
         },
         "name": "Saliency Maps: Global",
         "type": "box",
         "y": [
          5.5,
          7,
          4.5,
          5.25,
          4.75,
          5.5,
          5,
          1,
          2.5,
          5.5,
          4,
          4,
          1,
          3.75,
          3.75,
          7,
          2.75,
          3.25,
          3.25,
          7,
          5.75,
          3
         ]
        }
       ],
       "layout": {
        "showlegend": false,
        "template": {
         "data": {
          "bar": [
           {
            "error_x": {
             "color": "#2a3f5f"
            },
            "error_y": {
             "color": "#2a3f5f"
            },
            "marker": {
             "line": {
              "color": "#E5ECF6",
              "width": 0.5
             },
             "pattern": {
              "fillmode": "overlay",
              "size": 10,
              "solidity": 0.2
             }
            },
            "type": "bar"
           }
          ],
          "barpolar": [
           {
            "marker": {
             "line": {
              "color": "#E5ECF6",
              "width": 0.5
             },
             "pattern": {
              "fillmode": "overlay",
              "size": 10,
              "solidity": 0.2
             }
            },
            "type": "barpolar"
           }
          ],
          "carpet": [
           {
            "aaxis": {
             "endlinecolor": "#2a3f5f",
             "gridcolor": "white",
             "linecolor": "white",
             "minorgridcolor": "white",
             "startlinecolor": "#2a3f5f"
            },
            "baxis": {
             "endlinecolor": "#2a3f5f",
             "gridcolor": "white",
             "linecolor": "white",
             "minorgridcolor": "white",
             "startlinecolor": "#2a3f5f"
            },
            "type": "carpet"
           }
          ],
          "choropleth": [
           {
            "colorbar": {
             "outlinewidth": 0,
             "ticks": ""
            },
            "type": "choropleth"
           }
          ],
          "contour": [
           {
            "colorbar": {
             "outlinewidth": 0,
             "ticks": ""
            },
            "colorscale": [
             [
              0,
              "#0d0887"
             ],
             [
              0.1111111111111111,
              "#46039f"
             ],
             [
              0.2222222222222222,
              "#7201a8"
             ],
             [
              0.3333333333333333,
              "#9c179e"
             ],
             [
              0.4444444444444444,
              "#bd3786"
             ],
             [
              0.5555555555555556,
              "#d8576b"
             ],
             [
              0.6666666666666666,
              "#ed7953"
             ],
             [
              0.7777777777777778,
              "#fb9f3a"
             ],
             [
              0.8888888888888888,
              "#fdca26"
             ],
             [
              1,
              "#f0f921"
             ]
            ],
            "type": "contour"
           }
          ],
          "contourcarpet": [
           {
            "colorbar": {
             "outlinewidth": 0,
             "ticks": ""
            },
            "type": "contourcarpet"
           }
          ],
          "heatmap": [
           {
            "colorbar": {
             "outlinewidth": 0,
             "ticks": ""
            },
            "colorscale": [
             [
              0,
              "#0d0887"
             ],
             [
              0.1111111111111111,
              "#46039f"
             ],
             [
              0.2222222222222222,
              "#7201a8"
             ],
             [
              0.3333333333333333,
              "#9c179e"
             ],
             [
              0.4444444444444444,
              "#bd3786"
             ],
             [
              0.5555555555555556,
              "#d8576b"
             ],
             [
              0.6666666666666666,
              "#ed7953"
             ],
             [
              0.7777777777777778,
              "#fb9f3a"
             ],
             [
              0.8888888888888888,
              "#fdca26"
             ],
             [
              1,
              "#f0f921"
             ]
            ],
            "type": "heatmap"
           }
          ],
          "heatmapgl": [
           {
            "colorbar": {
             "outlinewidth": 0,
             "ticks": ""
            },
            "colorscale": [
             [
              0,
              "#0d0887"
             ],
             [
              0.1111111111111111,
              "#46039f"
             ],
             [
              0.2222222222222222,
              "#7201a8"
             ],
             [
              0.3333333333333333,
              "#9c179e"
             ],
             [
              0.4444444444444444,
              "#bd3786"
             ],
             [
              0.5555555555555556,
              "#d8576b"
             ],
             [
              0.6666666666666666,
              "#ed7953"
             ],
             [
              0.7777777777777778,
              "#fb9f3a"
             ],
             [
              0.8888888888888888,
              "#fdca26"
             ],
             [
              1,
              "#f0f921"
             ]
            ],
            "type": "heatmapgl"
           }
          ],
          "histogram": [
           {
            "marker": {
             "pattern": {
              "fillmode": "overlay",
              "size": 10,
              "solidity": 0.2
             }
            },
            "type": "histogram"
           }
          ],
          "histogram2d": [
           {
            "colorbar": {
             "outlinewidth": 0,
             "ticks": ""
            },
            "colorscale": [
             [
              0,
              "#0d0887"
             ],
             [
              0.1111111111111111,
              "#46039f"
             ],
             [
              0.2222222222222222,
              "#7201a8"
             ],
             [
              0.3333333333333333,
              "#9c179e"
             ],
             [
              0.4444444444444444,
              "#bd3786"
             ],
             [
              0.5555555555555556,
              "#d8576b"
             ],
             [
              0.6666666666666666,
              "#ed7953"
             ],
             [
              0.7777777777777778,
              "#fb9f3a"
             ],
             [
              0.8888888888888888,
              "#fdca26"
             ],
             [
              1,
              "#f0f921"
             ]
            ],
            "type": "histogram2d"
           }
          ],
          "histogram2dcontour": [
           {
            "colorbar": {
             "outlinewidth": 0,
             "ticks": ""
            },
            "colorscale": [
             [
              0,
              "#0d0887"
             ],
             [
              0.1111111111111111,
              "#46039f"
             ],
             [
              0.2222222222222222,
              "#7201a8"
             ],
             [
              0.3333333333333333,
              "#9c179e"
             ],
             [
              0.4444444444444444,
              "#bd3786"
             ],
             [
              0.5555555555555556,
              "#d8576b"
             ],
             [
              0.6666666666666666,
              "#ed7953"
             ],
             [
              0.7777777777777778,
              "#fb9f3a"
             ],
             [
              0.8888888888888888,
              "#fdca26"
             ],
             [
              1,
              "#f0f921"
             ]
            ],
            "type": "histogram2dcontour"
           }
          ],
          "mesh3d": [
           {
            "colorbar": {
             "outlinewidth": 0,
             "ticks": ""
            },
            "type": "mesh3d"
           }
          ],
          "parcoords": [
           {
            "line": {
             "colorbar": {
              "outlinewidth": 0,
              "ticks": ""
             }
            },
            "type": "parcoords"
           }
          ],
          "pie": [
           {
            "automargin": true,
            "type": "pie"
           }
          ],
          "scatter": [
           {
            "marker": {
             "colorbar": {
              "outlinewidth": 0,
              "ticks": ""
             }
            },
            "type": "scatter"
           }
          ],
          "scatter3d": [
           {
            "line": {
             "colorbar": {
              "outlinewidth": 0,
              "ticks": ""
             }
            },
            "marker": {
             "colorbar": {
              "outlinewidth": 0,
              "ticks": ""
             }
            },
            "type": "scatter3d"
           }
          ],
          "scattercarpet": [
           {
            "marker": {
             "colorbar": {
              "outlinewidth": 0,
              "ticks": ""
             }
            },
            "type": "scattercarpet"
           }
          ],
          "scattergeo": [
           {
            "marker": {
             "colorbar": {
              "outlinewidth": 0,
              "ticks": ""
             }
            },
            "type": "scattergeo"
           }
          ],
          "scattergl": [
           {
            "marker": {
             "colorbar": {
              "outlinewidth": 0,
              "ticks": ""
             }
            },
            "type": "scattergl"
           }
          ],
          "scattermapbox": [
           {
            "marker": {
             "colorbar": {
              "outlinewidth": 0,
              "ticks": ""
             }
            },
            "type": "scattermapbox"
           }
          ],
          "scatterpolar": [
           {
            "marker": {
             "colorbar": {
              "outlinewidth": 0,
              "ticks": ""
             }
            },
            "type": "scatterpolar"
           }
          ],
          "scatterpolargl": [
           {
            "marker": {
             "colorbar": {
              "outlinewidth": 0,
              "ticks": ""
             }
            },
            "type": "scatterpolargl"
           }
          ],
          "scatterternary": [
           {
            "marker": {
             "colorbar": {
              "outlinewidth": 0,
              "ticks": ""
             }
            },
            "type": "scatterternary"
           }
          ],
          "surface": [
           {
            "colorbar": {
             "outlinewidth": 0,
             "ticks": ""
            },
            "colorscale": [
             [
              0,
              "#0d0887"
             ],
             [
              0.1111111111111111,
              "#46039f"
             ],
             [
              0.2222222222222222,
              "#7201a8"
             ],
             [
              0.3333333333333333,
              "#9c179e"
             ],
             [
              0.4444444444444444,
              "#bd3786"
             ],
             [
              0.5555555555555556,
              "#d8576b"
             ],
             [
              0.6666666666666666,
              "#ed7953"
             ],
             [
              0.7777777777777778,
              "#fb9f3a"
             ],
             [
              0.8888888888888888,
              "#fdca26"
             ],
             [
              1,
              "#f0f921"
             ]
            ],
            "type": "surface"
           }
          ],
          "table": [
           {
            "cells": {
             "fill": {
              "color": "#EBF0F8"
             },
             "line": {
              "color": "white"
             }
            },
            "header": {
             "fill": {
              "color": "#C8D4E3"
             },
             "line": {
              "color": "white"
             }
            },
            "type": "table"
           }
          ]
         },
         "layout": {
          "annotationdefaults": {
           "arrowcolor": "#2a3f5f",
           "arrowhead": 0,
           "arrowwidth": 1
          },
          "autotypenumbers": "strict",
          "coloraxis": {
           "colorbar": {
            "outlinewidth": 0,
            "ticks": ""
           }
          },
          "colorscale": {
           "diverging": [
            [
             0,
             "#8e0152"
            ],
            [
             0.1,
             "#c51b7d"
            ],
            [
             0.2,
             "#de77ae"
            ],
            [
             0.3,
             "#f1b6da"
            ],
            [
             0.4,
             "#fde0ef"
            ],
            [
             0.5,
             "#f7f7f7"
            ],
            [
             0.6,
             "#e6f5d0"
            ],
            [
             0.7,
             "#b8e186"
            ],
            [
             0.8,
             "#7fbc41"
            ],
            [
             0.9,
             "#4d9221"
            ],
            [
             1,
             "#276419"
            ]
           ],
           "sequential": [
            [
             0,
             "#0d0887"
            ],
            [
             0.1111111111111111,
             "#46039f"
            ],
            [
             0.2222222222222222,
             "#7201a8"
            ],
            [
             0.3333333333333333,
             "#9c179e"
            ],
            [
             0.4444444444444444,
             "#bd3786"
            ],
            [
             0.5555555555555556,
             "#d8576b"
            ],
            [
             0.6666666666666666,
             "#ed7953"
            ],
            [
             0.7777777777777778,
             "#fb9f3a"
            ],
            [
             0.8888888888888888,
             "#fdca26"
            ],
            [
             1,
             "#f0f921"
            ]
           ],
           "sequentialminus": [
            [
             0,
             "#0d0887"
            ],
            [
             0.1111111111111111,
             "#46039f"
            ],
            [
             0.2222222222222222,
             "#7201a8"
            ],
            [
             0.3333333333333333,
             "#9c179e"
            ],
            [
             0.4444444444444444,
             "#bd3786"
            ],
            [
             0.5555555555555556,
             "#d8576b"
            ],
            [
             0.6666666666666666,
             "#ed7953"
            ],
            [
             0.7777777777777778,
             "#fb9f3a"
            ],
            [
             0.8888888888888888,
             "#fdca26"
            ],
            [
             1,
             "#f0f921"
            ]
           ]
          },
          "colorway": [
           "#636efa",
           "#EF553B",
           "#00cc96",
           "#ab63fa",
           "#FFA15A",
           "#19d3f3",
           "#FF6692",
           "#B6E880",
           "#FF97FF",
           "#FECB52"
          ],
          "font": {
           "color": "#2a3f5f"
          },
          "geo": {
           "bgcolor": "white",
           "lakecolor": "white",
           "landcolor": "#E5ECF6",
           "showlakes": true,
           "showland": true,
           "subunitcolor": "white"
          },
          "hoverlabel": {
           "align": "left"
          },
          "hovermode": "closest",
          "mapbox": {
           "style": "light"
          },
          "paper_bgcolor": "white",
          "plot_bgcolor": "#E5ECF6",
          "polar": {
           "angularaxis": {
            "gridcolor": "white",
            "linecolor": "white",
            "ticks": ""
           },
           "bgcolor": "#E5ECF6",
           "radialaxis": {
            "gridcolor": "white",
            "linecolor": "white",
            "ticks": ""
           }
          },
          "scene": {
           "xaxis": {
            "backgroundcolor": "#E5ECF6",
            "gridcolor": "white",
            "gridwidth": 2,
            "linecolor": "white",
            "showbackground": true,
            "ticks": "",
            "zerolinecolor": "white"
           },
           "yaxis": {
            "backgroundcolor": "#E5ECF6",
            "gridcolor": "white",
            "gridwidth": 2,
            "linecolor": "white",
            "showbackground": true,
            "ticks": "",
            "zerolinecolor": "white"
           },
           "zaxis": {
            "backgroundcolor": "#E5ECF6",
            "gridcolor": "white",
            "gridwidth": 2,
            "linecolor": "white",
            "showbackground": true,
            "ticks": "",
            "zerolinecolor": "white"
           }
          },
          "shapedefaults": {
           "line": {
            "color": "#2a3f5f"
           }
          },
          "ternary": {
           "aaxis": {
            "gridcolor": "white",
            "linecolor": "white",
            "ticks": ""
           },
           "baxis": {
            "gridcolor": "white",
            "linecolor": "white",
            "ticks": ""
           },
           "bgcolor": "#E5ECF6",
           "caxis": {
            "gridcolor": "white",
            "linecolor": "white",
            "ticks": ""
           }
          },
          "title": {
           "x": 0.05
          },
          "xaxis": {
           "automargin": true,
           "gridcolor": "white",
           "linecolor": "white",
           "ticks": "",
           "title": {
            "standoff": 15
           },
           "zerolinecolor": "white",
           "zerolinewidth": 2
          },
          "yaxis": {
           "automargin": true,
           "gridcolor": "white",
           "linecolor": "white",
           "ticks": "",
           "title": {
            "standoff": 15
           },
           "zerolinecolor": "white",
           "zerolinewidth": 2
          }
         }
        },
        "title": {
         "text": "Comparison of Annotation Average",
         "x": 0.5
        },
        "yaxis": {
         "dtick": 1,
         "range": [
          1,
          7
         ],
         "title": {
          "text": "Average Rating"
         }
        }
       }
      }
     },
     "metadata": {},
     "output_type": "display_data"
    }
   ],
   "source": [
    "from itertools import cycle\n",
    "\n",
    "def boxPlotDF(df, title):\n",
    "    # throw out non-numeric data\n",
    "    # set the color palette\n",
    "    palette = cycle(plotly.colors.sequential.Viridis)  # type: ignore\n",
    "\n",
    "    # iterate over columns and show average spread\n",
    "    fig = go.Figure()  # type: ignore\n",
    "    for column in df:\n",
    "        fig.add_trace(\n",
    "            go.Box(y=df[column], name=column, marker_color=next(palette)) # type: ignore\n",
    "        )  \n",
    "\n",
    "    fig.update_layout(\n",
    "        title=title,\n",
    "        title_x = 0.5,\n",
    "        yaxis=dict(dtick=1),\n",
    "        yaxis_range=[1, 7],\n",
    "        yaxis_title=\"Average Rating\",\n",
    "        showlegend=False,\n",
    "    )\n",
    "\n",
    "    fig.show()\n",
    "\n",
    "\n",
    "aggregated_df = pd.DataFrame()\n",
    "\n",
    "for name, df in result_dataframes.items():\n",
    "    aggregated_df[name] = df.apply(np.mean, axis=1)\n",
    "\n",
    "sorted_index = aggregated_df.median().sort_values(ascending=False).index\n",
    "\n",
    "boxPlotDF(aggregated_df[sorted_index], \"Comparison of Annotation Average\")\n"
   ]
  },
  {
   "cell_type": "markdown",
   "metadata": {},
   "source": [
    "## User profiling"
   ]
  },
  {
   "cell_type": "code",
   "execution_count": 6,
   "metadata": {},
   "outputs": [
    {
     "data": {
      "text/html": [
       "<div>\n",
       "<style scoped>\n",
       "    .dataframe tbody tr th:only-of-type {\n",
       "        vertical-align: middle;\n",
       "    }\n",
       "\n",
       "    .dataframe tbody tr th {\n",
       "        vertical-align: top;\n",
       "    }\n",
       "\n",
       "    .dataframe thead th {\n",
       "        text-align: right;\n",
       "    }\n",
       "</style>\n",
       "<table border=\"1\" class=\"dataframe\">\n",
       "  <thead>\n",
       "    <tr style=\"text-align: right;\">\n",
       "      <th></th>\n",
       "      <th>userProfiling_age</th>\n",
       "      <th>userProfiling_position</th>\n",
       "      <th>userProfiling_useOfDP</th>\n",
       "      <th>userProfiling_useOfAI</th>\n",
       "      <th>userProfiling_useOfAI_details</th>\n",
       "      <th>userProfiling_mlFamiliarity</th>\n",
       "    </tr>\n",
       "  </thead>\n",
       "  <tbody>\n",
       "    <tr>\n",
       "      <th>0</th>\n",
       "      <td>30-40</td>\n",
       "      <td>Assisting physician (Assistenzarzt) for pathol...</td>\n",
       "      <td>in routine diagnostics</td>\n",
       "      <td>in routine diagnostics</td>\n",
       "      <td>NaN</td>\n",
       "      <td>1</td>\n",
       "    </tr>\n",
       "    <tr>\n",
       "      <th>1</th>\n",
       "      <td>41-50</td>\n",
       "      <td>Researcher in pathology/neuropathology</td>\n",
       "      <td>in research</td>\n",
       "      <td>in research</td>\n",
       "      <td>from MindPeak (BreastIHC), from VMscope (Cogni...</td>\n",
       "      <td>3</td>\n",
       "    </tr>\n",
       "    <tr>\n",
       "      <th>2</th>\n",
       "      <td>30-40</td>\n",
       "      <td>Researcher in pathology/neuropathology</td>\n",
       "      <td>[in research]</td>\n",
       "      <td>[in research]</td>\n",
       "      <td>NaN</td>\n",
       "      <td>7</td>\n",
       "    </tr>\n",
       "    <tr>\n",
       "      <th>3</th>\n",
       "      <td>41-50</td>\n",
       "      <td>Technician (MTA) for pathology/neuropathology</td>\n",
       "      <td>[in research]</td>\n",
       "      <td>[in routine diagnostics]</td>\n",
       "      <td>NaN</td>\n",
       "      <td>7</td>\n",
       "    </tr>\n",
       "    <tr>\n",
       "      <th>4</th>\n",
       "      <td>30-40</td>\n",
       "      <td>Trainee (Assistenzarzt) in pathology/neuropath...</td>\n",
       "      <td>[in research]</td>\n",
       "      <td>[in research]</td>\n",
       "      <td>QuPath immunohistochemistry positive cell dete...</td>\n",
       "      <td>2</td>\n",
       "    </tr>\n",
       "    <tr>\n",
       "      <th>5</th>\n",
       "      <td>30-40</td>\n",
       "      <td>Consultant (Facharzt) for pathology/neuropatho...</td>\n",
       "      <td>[in research]</td>\n",
       "      <td>[in research]</td>\n",
       "      <td>Aiforia</td>\n",
       "      <td>7</td>\n",
       "    </tr>\n",
       "    <tr>\n",
       "      <th>6</th>\n",
       "      <td>51-60</td>\n",
       "      <td>Researcher in pathology/neuropathology</td>\n",
       "      <td>[none]</td>\n",
       "      <td>[none]</td>\n",
       "      <td>NaN</td>\n",
       "      <td>2</td>\n",
       "    </tr>\n",
       "    <tr>\n",
       "      <th>7</th>\n",
       "      <td>41-50</td>\n",
       "      <td>Consultant (Facharzt) for pathology/neuropatho...</td>\n",
       "      <td>[in routine diagnostics]</td>\n",
       "      <td>[none]</td>\n",
       "      <td>NaN</td>\n",
       "      <td>4</td>\n",
       "    </tr>\n",
       "    <tr>\n",
       "      <th>8</th>\n",
       "      <td>41-50</td>\n",
       "      <td>Consultant (Facharzt) for pathology/neuropatho...</td>\n",
       "      <td>[none]</td>\n",
       "      <td>[none]</td>\n",
       "      <td>NaN</td>\n",
       "      <td>5</td>\n",
       "    </tr>\n",
       "    <tr>\n",
       "      <th>9</th>\n",
       "      <td>51-60</td>\n",
       "      <td>Consultant (Facharzt) for pathology/neuropatho...</td>\n",
       "      <td>[in research, in routine diagnostics]</td>\n",
       "      <td>[in routine diagnostics, in research]</td>\n",
       "      <td>Roche Diagnostics</td>\n",
       "      <td>4</td>\n",
       "    </tr>\n",
       "    <tr>\n",
       "      <th>10</th>\n",
       "      <td>41-50</td>\n",
       "      <td>Consultant (Facharzt) for pathology/neuropatho...</td>\n",
       "      <td>[none]</td>\n",
       "      <td>[none]</td>\n",
       "      <td>NaN</td>\n",
       "      <td>5</td>\n",
       "    </tr>\n",
       "    <tr>\n",
       "      <th>11</th>\n",
       "      <td>30-40</td>\n",
       "      <td>Consultant (Facharzt) for pathology/neuropatho...</td>\n",
       "      <td>[in routine diagnostics, in research]</td>\n",
       "      <td>[in routine diagnostics, in research]</td>\n",
       "      <td>tumor cellularity count; pattern recognition; ...</td>\n",
       "      <td>2</td>\n",
       "    </tr>\n",
       "    <tr>\n",
       "      <th>12</th>\n",
       "      <td>41-50</td>\n",
       "      <td>Consultant (Facharzt) for pathology/neuropatho...</td>\n",
       "      <td>[in research, in routine diagnostics]</td>\n",
       "      <td>[none]</td>\n",
       "      <td>NaN</td>\n",
       "      <td>2</td>\n",
       "    </tr>\n",
       "    <tr>\n",
       "      <th>13</th>\n",
       "      <td>30-40</td>\n",
       "      <td>Researcher in pathology/neuropathology</td>\n",
       "      <td>[in research]</td>\n",
       "      <td>[in research]</td>\n",
       "      <td>NaN</td>\n",
       "      <td>7</td>\n",
       "    </tr>\n",
       "    <tr>\n",
       "      <th>14</th>\n",
       "      <td>41-50</td>\n",
       "      <td>Researcher in pathology/neuropathology</td>\n",
       "      <td>[in research, in routine diagnostics]</td>\n",
       "      <td>[in research, in routine diagnostics]</td>\n",
       "      <td>Paige</td>\n",
       "      <td>7</td>\n",
       "    </tr>\n",
       "    <tr>\n",
       "      <th>15</th>\n",
       "      <td>41-50</td>\n",
       "      <td>Technician (MTA) for pathology/neuropathology</td>\n",
       "      <td>[in research]</td>\n",
       "      <td>[in research]</td>\n",
       "      <td>Lrp</td>\n",
       "      <td>7</td>\n",
       "    </tr>\n",
       "    <tr>\n",
       "      <th>16</th>\n",
       "      <td>30-40</td>\n",
       "      <td>other</td>\n",
       "      <td>[none]</td>\n",
       "      <td>[in research]</td>\n",
       "      <td>classification a.o. analysis</td>\n",
       "      <td>4</td>\n",
       "    </tr>\n",
       "    <tr>\n",
       "      <th>17</th>\n",
       "      <td>30-40</td>\n",
       "      <td>other</td>\n",
       "      <td>[in research]</td>\n",
       "      <td>[in research]</td>\n",
       "      <td>NaN</td>\n",
       "      <td>6</td>\n",
       "    </tr>\n",
       "    <tr>\n",
       "      <th>18</th>\n",
       "      <td>51-60</td>\n",
       "      <td>Researcher in pathology/neuropathology</td>\n",
       "      <td>[in research]</td>\n",
       "      <td>[in research]</td>\n",
       "      <td>NaN</td>\n",
       "      <td>6</td>\n",
       "    </tr>\n",
       "    <tr>\n",
       "      <th>19</th>\n",
       "      <td>under 30</td>\n",
       "      <td>Researcher in pathology/neuropathology</td>\n",
       "      <td>[in research]</td>\n",
       "      <td>[in research]</td>\n",
       "      <td>Various diverse</td>\n",
       "      <td>7</td>\n",
       "    </tr>\n",
       "    <tr>\n",
       "      <th>20</th>\n",
       "      <td>41-50</td>\n",
       "      <td>Consultant (Fachärztin*arzt) for pathology/neu...</td>\n",
       "      <td>[in research]</td>\n",
       "      <td>[in research]</td>\n",
       "      <td>Metastases detection in lymph nodes</td>\n",
       "      <td>6</td>\n",
       "    </tr>\n",
       "    <tr>\n",
       "      <th>21</th>\n",
       "      <td>under 30</td>\n",
       "      <td>other</td>\n",
       "      <td>[none]</td>\n",
       "      <td>[in research]</td>\n",
       "      <td>XAI</td>\n",
       "      <td>7</td>\n",
       "    </tr>\n",
       "  </tbody>\n",
       "</table>\n",
       "</div>"
      ],
      "text/plain": [
       "   userProfiling_age                             userProfiling_position  \\\n",
       "0              30-40  Assisting physician (Assistenzarzt) for pathol...   \n",
       "1              41-50             Researcher in pathology/neuropathology   \n",
       "2              30-40             Researcher in pathology/neuropathology   \n",
       "3              41-50      Technician (MTA) for pathology/neuropathology   \n",
       "4              30-40  Trainee (Assistenzarzt) in pathology/neuropath...   \n",
       "5              30-40  Consultant (Facharzt) for pathology/neuropatho...   \n",
       "6              51-60             Researcher in pathology/neuropathology   \n",
       "7              41-50  Consultant (Facharzt) for pathology/neuropatho...   \n",
       "8              41-50  Consultant (Facharzt) for pathology/neuropatho...   \n",
       "9              51-60  Consultant (Facharzt) for pathology/neuropatho...   \n",
       "10             41-50  Consultant (Facharzt) for pathology/neuropatho...   \n",
       "11             30-40  Consultant (Facharzt) for pathology/neuropatho...   \n",
       "12             41-50  Consultant (Facharzt) for pathology/neuropatho...   \n",
       "13             30-40             Researcher in pathology/neuropathology   \n",
       "14             41-50             Researcher in pathology/neuropathology   \n",
       "15             41-50      Technician (MTA) for pathology/neuropathology   \n",
       "16             30-40                                              other   \n",
       "17             30-40                                              other   \n",
       "18             51-60             Researcher in pathology/neuropathology   \n",
       "19          under 30             Researcher in pathology/neuropathology   \n",
       "20             41-50  Consultant (Fachärztin*arzt) for pathology/neu...   \n",
       "21          under 30                                              other   \n",
       "\n",
       "                    userProfiling_useOfDP  \\\n",
       "0                  in routine diagnostics   \n",
       "1                             in research   \n",
       "2                           [in research]   \n",
       "3                           [in research]   \n",
       "4                           [in research]   \n",
       "5                           [in research]   \n",
       "6                                  [none]   \n",
       "7                [in routine diagnostics]   \n",
       "8                                  [none]   \n",
       "9   [in research, in routine diagnostics]   \n",
       "10                                 [none]   \n",
       "11  [in routine diagnostics, in research]   \n",
       "12  [in research, in routine diagnostics]   \n",
       "13                          [in research]   \n",
       "14  [in research, in routine diagnostics]   \n",
       "15                          [in research]   \n",
       "16                                 [none]   \n",
       "17                          [in research]   \n",
       "18                          [in research]   \n",
       "19                          [in research]   \n",
       "20                          [in research]   \n",
       "21                                 [none]   \n",
       "\n",
       "                    userProfiling_useOfAI  \\\n",
       "0                  in routine diagnostics   \n",
       "1                             in research   \n",
       "2                           [in research]   \n",
       "3                [in routine diagnostics]   \n",
       "4                           [in research]   \n",
       "5                           [in research]   \n",
       "6                                  [none]   \n",
       "7                                  [none]   \n",
       "8                                  [none]   \n",
       "9   [in routine diagnostics, in research]   \n",
       "10                                 [none]   \n",
       "11  [in routine diagnostics, in research]   \n",
       "12                                 [none]   \n",
       "13                          [in research]   \n",
       "14  [in research, in routine diagnostics]   \n",
       "15                          [in research]   \n",
       "16                          [in research]   \n",
       "17                          [in research]   \n",
       "18                          [in research]   \n",
       "19                          [in research]   \n",
       "20                          [in research]   \n",
       "21                          [in research]   \n",
       "\n",
       "                        userProfiling_useOfAI_details  \\\n",
       "0                                                 NaN   \n",
       "1   from MindPeak (BreastIHC), from VMscope (Cogni...   \n",
       "2                                                 NaN   \n",
       "3                                                 NaN   \n",
       "4   QuPath immunohistochemistry positive cell dete...   \n",
       "5                                             Aiforia   \n",
       "6                                                 NaN   \n",
       "7                                                 NaN   \n",
       "8                                                 NaN   \n",
       "9                                   Roche Diagnostics   \n",
       "10                                                NaN   \n",
       "11  tumor cellularity count; pattern recognition; ...   \n",
       "12                                                NaN   \n",
       "13                                                NaN   \n",
       "14                                              Paige   \n",
       "15                                                Lrp   \n",
       "16                       classification a.o. analysis   \n",
       "17                                                NaN   \n",
       "18                                                NaN   \n",
       "19                                    Various diverse   \n",
       "20                Metastases detection in lymph nodes   \n",
       "21                                               XAI    \n",
       "\n",
       "    userProfiling_mlFamiliarity  \n",
       "0                             1  \n",
       "1                             3  \n",
       "2                             7  \n",
       "3                             7  \n",
       "4                             2  \n",
       "5                             7  \n",
       "6                             2  \n",
       "7                             4  \n",
       "8                             5  \n",
       "9                             4  \n",
       "10                            5  \n",
       "11                            2  \n",
       "12                            2  \n",
       "13                            7  \n",
       "14                            7  \n",
       "15                            7  \n",
       "16                            4  \n",
       "17                            6  \n",
       "18                            6  \n",
       "19                            7  \n",
       "20                            6  \n",
       "21                            7  "
      ]
     },
     "execution_count": 6,
     "metadata": {},
     "output_type": "execute_result"
    }
   ],
   "source": [
    "user_df\n"
   ]
  },
  {
   "cell_type": "code",
   "execution_count": null,
   "metadata": {},
   "outputs": [],
   "source": []
  }
 ],
 "metadata": {
  "interpreter": {
   "hash": "fd5c9eee07d4397a8411513d76643cfa3a6f3e29c2d47391f6ccf184d5088858"
  },
  "kernelspec": {
   "display_name": "Python 3.8.10 64-bit ('dataprocessing-A3_Gmt8X-py3.8': poetry)",
   "name": "python3"
  },
  "language_info": {
   "codemirror_mode": {
    "name": "ipython",
    "version": 3
   },
   "file_extension": ".py",
   "mimetype": "text/x-python",
   "name": "python",
   "nbconvert_exporter": "python",
   "pygments_lexer": "ipython3",
   "version": "3.8.10"
  },
  "orig_nbformat": 2
 },
 "nbformat": 4,
 "nbformat_minor": 2
}