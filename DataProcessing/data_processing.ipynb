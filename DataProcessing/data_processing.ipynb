{
 "metadata": {
  "language_info": {
   "codemirror_mode": {
    "name": "ipython",
    "version": 3
   },
   "file_extension": ".py",
   "mimetype": "text/x-python",
   "name": "python",
   "nbconvert_exporter": "python",
   "pygments_lexer": "ipython3",
   "version": "3.8.5"
  },
  "orig_nbformat": 2,
  "kernelspec": {
   "name": "python3",
   "display_name": "Python 3.8.5 64-bit ('base': conda)"
  },
  "interpreter": {
   "hash": "d0dc0097a17ff86c754c00174888e2ef9acb4e4c1116973d6d19c48422ff17f9"
  }
 },
 "nbformat": 4,
 "nbformat_minor": 2,
 "cells": [
  {
   "cell_type": "code",
   "execution_count": 2,
   "metadata": {},
   "outputs": [],
   "source": [
    "import pandas as pd\n",
    "import json\n",
    "import re\n",
    "import matplotlib.pyplot as plt\n",
    "import numpy as np\n",
    "import statistics\n",
    "from collections import Counter\n",
    "import plotly\n",
    "import plotly.graph_objects as go\n",
    "import plotly.express as px\n",
    "import colorlover as cl\n",
    "from itertools import cycle"
   ]
  },
  {
   "cell_type": "code",
   "execution_count": 7,
   "metadata": {
    "tags": []
   },
   "outputs": [],
   "source": [
    "#Loading Data\n",
    "f = open(\"db_22_06_20_resp.json\").read()\n",
    "\n",
    "#remove image0/image1 vars since it prevents proper df merging\n",
    "g = re.sub(r'_image[0-2]',\"\",f)\n",
    "\n",
    "data = json.loads(g)\n",
    "df = pd.json_normalize(data)\n",
    "\n",
    "#hacky solution to remove the panda-appended user_. entry\n",
    "renamed= [name.split(\"_.\")[-1] for name in df.columns]\n",
    "col_rename = {i:j for i,j in zip(df.columns,renamed)}\n",
    "df = df.rename(columns=col_rename)"
   ]
  },
  {
   "cell_type": "code",
   "execution_count": 10,
   "metadata": {},
   "outputs": [],
   "source": [
    "def createSubDFs(df):\n",
    "    profiling_df = df[['user_profiling_age', 'user_profiling_position',\n",
    "        'user_profiling_useOfDP', 'user_profiling_useOfAI',\n",
    "        'user_profiling_useOfAI_details', 'user_profiling_mlFamiliarity']]\n",
    "\n",
    "    one_df = df[['counterfactuals_prototypeInterpolation_understandability',\n",
    "        'counterfactuals_prototypeInterpolation_usability',\n",
    "        'counterfactuals_prototypeInterpolation_informativeness',\n",
    "        'counterfactuals_prototypeInterpolation_value']]\n",
    "    two_df = df[[ 'counterfactuals_twoAxisCounterfactuals_understandability',\n",
    "        'counterfactuals_twoAxisCounterfactuals_usability',\n",
    "        'counterfactuals_twoAxisCounterfactuals_informativeness',\n",
    "        'counterfactuals_twoAxisCounterfactuals_value']]\n",
    "    cf_names = [\"counterfactuals_understandability\",\"counterfactuals_usability\",\"counterfactuals_informativeness\",\"counterfactuals_value\"]\n",
    "    one_df.columns=cf_names\n",
    "    two_df.columns=cf_names\n",
    "    cf_df = pd.concat([one_df,two_df])\n",
    "\n",
    "    ca_df = df[['conceptAttribution_textAttributes_understandability',\n",
    "        'conceptAttribution_textAttributes_usability',\n",
    "        'conceptAttribution_textAttributes_informativeness',\n",
    "        'conceptAttribution_textAttributes_value',\n",
    "        'conceptAttribution_textAttributes_comments']]\n",
    "\n",
    "    prototypes_df = df[['prototypes_prototypes_understandability',\n",
    "        'prototypes_prototypes_usability',\n",
    "        'prototypes_prototypes_informativeness',\n",
    "        'prototypes_prototypes_value']]\n",
    "\n",
    "    trust_df = df[['trustScores_borderlineCases_understandability',\n",
    "        'trustScores_borderlineCases_usability',\n",
    "        'trustScores_borderlineCases_value',\n",
    "        'trustScores_borderlineCases_informativeness',\n",
    "        'trustScores_borderlineCases_comments']]\n",
    "\n",
    "    #split the sm dfs so we unify different global/local values\n",
    "    local_df = df[['saliencyMaps_localSaliency_understandability',\n",
    "       'saliencyMaps_localSaliency_usability',\n",
    "       'saliencyMaps_localSaliency_informativeness',\n",
    "       'saliencyMaps_localSaliency_value',]]\n",
    "\n",
    "    global_df = df[[  'saliencyMaps_globalSaliency_understandability',\n",
    "       'saliencyMaps_globalSaliency_usability',\n",
    "       'saliencyMaps_globalSaliency_informativeness',\n",
    "       'saliencyMaps_globalSaliency_value']]\n",
    "    sm_names = [\"saliencyMaps_understandability\",\"saliencyMaps_usability\",\"saliencyMaps_informativeness\",\"saliencyMaps_value\"]\n",
    "    local_df.columns=sm_names\n",
    "    global_df.columns=sm_names\n",
    "    saliency_df = pd.concat([local_df,global_df])\n",
    "\n",
    "    return profiling_df,cf_df,ca_df,prototypes_df,trust_df,saliency_df"
   ]
  },
  {
   "cell_type": "code",
   "execution_count": 11,
   "metadata": {
    "tags": []
   },
   "outputs": [
    {
     "output_type": "stream",
     "name": "stdout",
     "text": [
      "    saliencyMaps_understandability  saliencyMaps_usability  \\\n0                              4.0                     4.0   \n1                              6.0                     6.0   \n2                              6.0                     6.0   \n3                              3.0                     6.0   \n4                              5.0                     3.0   \n5                              5.0                     5.0   \n6                              5.0                     5.0   \n7                              6.0                     6.0   \n8                              1.0                     2.0   \n9                              4.0                     4.0   \n10                             7.0                     7.0   \n11                             2.0                     2.0   \n12                             6.0                     5.0   \n13                             6.0                     6.0   \n14                             3.0                     5.0   \n15                             6.0                     6.0   \n16                             4.0                     4.0   \n17                             3.0                     3.0   \n18                             2.0                     2.0   \n19                             5.0                     7.0   \n0                              5.0                     5.0   \n1                              7.0                     7.0   \n2                              7.0                     7.0   \n3                              6.0                     3.0   \n4                              5.0                     7.0   \n5                              4.0                     5.0   \n6                              6.0                     5.0   \n7                              5.0                     5.0   \n8                              1.0                     1.0   \n10                             6.0                     6.0   \n11                             4.0                     4.0   \n12                             4.0                     4.0   \n14                             2.0                     5.0   \n15                             7.0                     7.0   \n17                             4.0                     3.0   \n18                             5.0                     3.0   \n\n    saliencyMaps_informativeness  saliencyMaps_value  \n0                            5.0                 5.0  \n1                            4.0                 4.0  \n2                            4.0                 4.0  \n3                            3.0                 4.0  \n4                            4.0                 6.0  \n5                            4.0                 3.0  \n6                            6.0                 5.0  \n7                            6.0                 6.0  \n8                            2.0                 2.0  \n9                            4.0                 4.0  \n10                           7.0                 7.0  \n11                           2.0                 2.0  \n12                           4.0                 2.0  \n13                           5.0                 4.0  \n14                           6.0                 2.0  \n15                           7.0                 7.0  \n16                           4.0                 4.0  \n17                           3.0                 3.0  \n18                           1.0                 3.0  \n19                           6.0                 6.0  \n0                            6.0                 6.0  \n1                            7.0                 7.0  \n2                            7.0                 7.0  \n3                            4.0                 5.0  \n4                            3.0                 6.0  \n5                            6.0                 4.0  \n6                            5.0                 6.0  \n7                            5.0                 5.0  \n8                            1.0                 1.0  \n10                           5.0                 5.0  \n11                           4.0                 4.0  \n12                           5.0                 3.0  \n14                           6.0                 2.0  \n15                           7.0                 7.0  \n17                           3.0                 3.0  \n18                           3.0                 2.0  \n"
     ]
    }
   ],
   "source": [
    "#remove NaN columns, careful since missing comments are read as NaN which can lead to very empty dfs\n",
    "#df = df.dropna()\n",
    "\n",
    "#get column values while dropping individual NaNs for debugging purposes\n",
    "# test_data = df[\"user_profiling_useOfDP\"]\n",
    "# test_data = test_data.dropna().unique().tolist()\n",
    "#select subdfs grouped by column for easier handling\n",
    "profiling_df,cf_df,ca_df,prototypes_df,trust_df,saliency_df = createSubDFs(df)\n",
    "saliency_df = saliency_df.dropna()\n",
    "print(saliency_df)\n"
   ]
  },
  {
   "cell_type": "code",
   "execution_count": 12,
   "metadata": {},
   "outputs": [
    {
     "output_type": "stream",
     "name": "stdout",
     "text": [
      "[-4.5, -4.5, -8.5, -5.5]\n[-3.5, -4.5, -3.5, -3.5]\n[-1.5, -2.5, -2.5, -2.5]\n"
     ]
    },
    {
     "output_type": "display_data",
     "data": {
      "application/vnd.plotly.v1+json": {
       "config": {
        "plotlyServerURL": "https://plot.ly"
       },
       "data": [
        {
         "customdata": [
          3,
          2,
          6,
          3
         ],
         "hovertemplate": "%{y}: %{customdata}",
         "marker": {
          "color": "#440154"
         },
         "name": "Lightly disagree",
         "orientation": "h",
         "type": "bar",
         "width": 0.8,
         "x": [
          -3,
          -2,
          -6,
          -3
         ],
         "y": [
          "Intuitiveness ",
          "Relevance ",
          "Trustworthiness ",
          "Value "
         ]
        },
        {
         "customdata": [
          2,
          2,
          1,
          1
         ],
         "hovertemplate": "%{y}: %{customdata}",
         "marker": {
          "color": "#482878"
         },
         "name": "Disagree",
         "orientation": "h",
         "type": "bar",
         "width": 0.8,
         "x": [
          -2,
          -2,
          -1,
          -1
         ],
         "y": [
          "Intuitiveness ",
          "Relevance ",
          "Trustworthiness ",
          "Value "
         ]
        },
        {
         "customdata": [
          0,
          0,
          0,
          0
         ],
         "hovertemplate": "%{y}: %{customdata}",
         "marker": {
          "color": "#3e4989"
         },
         "name": "Strongly disagree",
         "orientation": "h",
         "type": "bar",
         "width": 0.8,
         "x": [
          0,
          0,
          0,
          0
         ],
         "y": [
          "Intuitiveness ",
          "Relevance ",
          "Trustworthiness ",
          "Value "
         ]
        },
        {
         "customdata": [
          3,
          5,
          5,
          5
         ],
         "hovertemplate": "%{y}: %{customdata}",
         "marker": {
          "color": "#31688e"
         },
         "name": "Neutral",
         "orientation": "h",
         "type": "bar",
         "width": 0.8,
         "x": [
          3,
          5,
          5,
          5
         ],
         "y": [
          "Intuitiveness ",
          "Relevance ",
          "Trustworthiness ",
          "Value "
         ]
        },
        {
         "customdata": [
          7,
          9,
          8,
          5
         ],
         "hovertemplate": "%{y}: %{customdata}",
         "marker": {
          "color": "#26828e"
         },
         "name": "Lightly agree",
         "orientation": "h",
         "type": "bar",
         "width": 0.8,
         "x": [
          7,
          9,
          8,
          5
         ],
         "y": [
          "Intuitiveness ",
          "Relevance ",
          "Trustworthiness ",
          "Value "
         ]
        },
        {
         "customdata": [
          8,
          6,
          5,
          9
         ],
         "hovertemplate": "%{y}: %{customdata}",
         "marker": {
          "color": "#1f9e89"
         },
         "name": "Agree",
         "orientation": "h",
         "type": "bar",
         "width": 0.8,
         "x": [
          8,
          6,
          5,
          9
         ],
         "y": [
          "Intuitiveness ",
          "Relevance ",
          "Trustworthiness ",
          "Value "
         ]
        },
        {
         "customdata": [
          9,
          7,
          6,
          7
         ],
         "hovertemplate": "%{y}: %{customdata}",
         "marker": {
          "color": "#35b779"
         },
         "name": "Strongly agree",
         "orientation": "h",
         "type": "bar",
         "width": 0.8,
         "x": [
          9,
          7,
          6,
          7
         ],
         "y": [
          "Intuitiveness ",
          "Relevance ",
          "Trustworthiness ",
          "Value "
         ]
        }
       ],
       "layout": {
        "bargap": 0.01,
        "barmode": "relative",
        "legend": {
         "y": 0.5
        },
        "template": {
         "data": {
          "bar": [
           {
            "error_x": {
             "color": "#2a3f5f"
            },
            "error_y": {
             "color": "#2a3f5f"
            },
            "marker": {
             "line": {
              "color": "#E5ECF6",
              "width": 0.5
             }
            },
            "type": "bar"
           }
          ],
          "barpolar": [
           {
            "marker": {
             "line": {
              "color": "#E5ECF6",
              "width": 0.5
             }
            },
            "type": "barpolar"
           }
          ],
          "carpet": [
           {
            "aaxis": {
             "endlinecolor": "#2a3f5f",
             "gridcolor": "white",
             "linecolor": "white",
             "minorgridcolor": "white",
             "startlinecolor": "#2a3f5f"
            },
            "baxis": {
             "endlinecolor": "#2a3f5f",
             "gridcolor": "white",
             "linecolor": "white",
             "minorgridcolor": "white",
             "startlinecolor": "#2a3f5f"
            },
            "type": "carpet"
           }
          ],
          "choropleth": [
           {
            "colorbar": {
             "outlinewidth": 0,
             "ticks": ""
            },
            "type": "choropleth"
           }
          ],
          "contour": [
           {
            "colorbar": {
             "outlinewidth": 0,
             "ticks": ""
            },
            "colorscale": [
             [
              0,
              "#0d0887"
             ],
             [
              0.1111111111111111,
              "#46039f"
             ],
             [
              0.2222222222222222,
              "#7201a8"
             ],
             [
              0.3333333333333333,
              "#9c179e"
             ],
             [
              0.4444444444444444,
              "#bd3786"
             ],
             [
              0.5555555555555556,
              "#d8576b"
             ],
             [
              0.6666666666666666,
              "#ed7953"
             ],
             [
              0.7777777777777778,
              "#fb9f3a"
             ],
             [
              0.8888888888888888,
              "#fdca26"
             ],
             [
              1,
              "#f0f921"
             ]
            ],
            "type": "contour"
           }
          ],
          "contourcarpet": [
           {
            "colorbar": {
             "outlinewidth": 0,
             "ticks": ""
            },
            "type": "contourcarpet"
           }
          ],
          "heatmap": [
           {
            "colorbar": {
             "outlinewidth": 0,
             "ticks": ""
            },
            "colorscale": [
             [
              0,
              "#0d0887"
             ],
             [
              0.1111111111111111,
              "#46039f"
             ],
             [
              0.2222222222222222,
              "#7201a8"
             ],
             [
              0.3333333333333333,
              "#9c179e"
             ],
             [
              0.4444444444444444,
              "#bd3786"
             ],
             [
              0.5555555555555556,
              "#d8576b"
             ],
             [
              0.6666666666666666,
              "#ed7953"
             ],
             [
              0.7777777777777778,
              "#fb9f3a"
             ],
             [
              0.8888888888888888,
              "#fdca26"
             ],
             [
              1,
              "#f0f921"
             ]
            ],
            "type": "heatmap"
           }
          ],
          "heatmapgl": [
           {
            "colorbar": {
             "outlinewidth": 0,
             "ticks": ""
            },
            "colorscale": [
             [
              0,
              "#0d0887"
             ],
             [
              0.1111111111111111,
              "#46039f"
             ],
             [
              0.2222222222222222,
              "#7201a8"
             ],
             [
              0.3333333333333333,
              "#9c179e"
             ],
             [
              0.4444444444444444,
              "#bd3786"
             ],
             [
              0.5555555555555556,
              "#d8576b"
             ],
             [
              0.6666666666666666,
              "#ed7953"
             ],
             [
              0.7777777777777778,
              "#fb9f3a"
             ],
             [
              0.8888888888888888,
              "#fdca26"
             ],
             [
              1,
              "#f0f921"
             ]
            ],
            "type": "heatmapgl"
           }
          ],
          "histogram": [
           {
            "marker": {
             "colorbar": {
              "outlinewidth": 0,
              "ticks": ""
             }
            },
            "type": "histogram"
           }
          ],
          "histogram2d": [
           {
            "colorbar": {
             "outlinewidth": 0,
             "ticks": ""
            },
            "colorscale": [
             [
              0,
              "#0d0887"
             ],
             [
              0.1111111111111111,
              "#46039f"
             ],
             [
              0.2222222222222222,
              "#7201a8"
             ],
             [
              0.3333333333333333,
              "#9c179e"
             ],
             [
              0.4444444444444444,
              "#bd3786"
             ],
             [
              0.5555555555555556,
              "#d8576b"
             ],
             [
              0.6666666666666666,
              "#ed7953"
             ],
             [
              0.7777777777777778,
              "#fb9f3a"
             ],
             [
              0.8888888888888888,
              "#fdca26"
             ],
             [
              1,
              "#f0f921"
             ]
            ],
            "type": "histogram2d"
           }
          ],
          "histogram2dcontour": [
           {
            "colorbar": {
             "outlinewidth": 0,
             "ticks": ""
            },
            "colorscale": [
             [
              0,
              "#0d0887"
             ],
             [
              0.1111111111111111,
              "#46039f"
             ],
             [
              0.2222222222222222,
              "#7201a8"
             ],
             [
              0.3333333333333333,
              "#9c179e"
             ],
             [
              0.4444444444444444,
              "#bd3786"
             ],
             [
              0.5555555555555556,
              "#d8576b"
             ],
             [
              0.6666666666666666,
              "#ed7953"
             ],
             [
              0.7777777777777778,
              "#fb9f3a"
             ],
             [
              0.8888888888888888,
              "#fdca26"
             ],
             [
              1,
              "#f0f921"
             ]
            ],
            "type": "histogram2dcontour"
           }
          ],
          "mesh3d": [
           {
            "colorbar": {
             "outlinewidth": 0,
             "ticks": ""
            },
            "type": "mesh3d"
           }
          ],
          "parcoords": [
           {
            "line": {
             "colorbar": {
              "outlinewidth": 0,
              "ticks": ""
             }
            },
            "type": "parcoords"
           }
          ],
          "pie": [
           {
            "automargin": true,
            "type": "pie"
           }
          ],
          "scatter": [
           {
            "marker": {
             "colorbar": {
              "outlinewidth": 0,
              "ticks": ""
             }
            },
            "type": "scatter"
           }
          ],
          "scatter3d": [
           {
            "line": {
             "colorbar": {
              "outlinewidth": 0,
              "ticks": ""
             }
            },
            "marker": {
             "colorbar": {
              "outlinewidth": 0,
              "ticks": ""
             }
            },
            "type": "scatter3d"
           }
          ],
          "scattercarpet": [
           {
            "marker": {
             "colorbar": {
              "outlinewidth": 0,
              "ticks": ""
             }
            },
            "type": "scattercarpet"
           }
          ],
          "scattergeo": [
           {
            "marker": {
             "colorbar": {
              "outlinewidth": 0,
              "ticks": ""
             }
            },
            "type": "scattergeo"
           }
          ],
          "scattergl": [
           {
            "marker": {
             "colorbar": {
              "outlinewidth": 0,
              "ticks": ""
             }
            },
            "type": "scattergl"
           }
          ],
          "scattermapbox": [
           {
            "marker": {
             "colorbar": {
              "outlinewidth": 0,
              "ticks": ""
             }
            },
            "type": "scattermapbox"
           }
          ],
          "scatterpolar": [
           {
            "marker": {
             "colorbar": {
              "outlinewidth": 0,
              "ticks": ""
             }
            },
            "type": "scatterpolar"
           }
          ],
          "scatterpolargl": [
           {
            "marker": {
             "colorbar": {
              "outlinewidth": 0,
              "ticks": ""
             }
            },
            "type": "scatterpolargl"
           }
          ],
          "scatterternary": [
           {
            "marker": {
             "colorbar": {
              "outlinewidth": 0,
              "ticks": ""
             }
            },
            "type": "scatterternary"
           }
          ],
          "surface": [
           {
            "colorbar": {
             "outlinewidth": 0,
             "ticks": ""
            },
            "colorscale": [
             [
              0,
              "#0d0887"
             ],
             [
              0.1111111111111111,
              "#46039f"
             ],
             [
              0.2222222222222222,
              "#7201a8"
             ],
             [
              0.3333333333333333,
              "#9c179e"
             ],
             [
              0.4444444444444444,
              "#bd3786"
             ],
             [
              0.5555555555555556,
              "#d8576b"
             ],
             [
              0.6666666666666666,
              "#ed7953"
             ],
             [
              0.7777777777777778,
              "#fb9f3a"
             ],
             [
              0.8888888888888888,
              "#fdca26"
             ],
             [
              1,
              "#f0f921"
             ]
            ],
            "type": "surface"
           }
          ],
          "table": [
           {
            "cells": {
             "fill": {
              "color": "#EBF0F8"
             },
             "line": {
              "color": "white"
             }
            },
            "header": {
             "fill": {
              "color": "#C8D4E3"
             },
             "line": {
              "color": "white"
             }
            },
            "type": "table"
           }
          ]
         },
         "layout": {
          "annotationdefaults": {
           "arrowcolor": "#2a3f5f",
           "arrowhead": 0,
           "arrowwidth": 1
          },
          "autotypenumbers": "strict",
          "coloraxis": {
           "colorbar": {
            "outlinewidth": 0,
            "ticks": ""
           }
          },
          "colorscale": {
           "diverging": [
            [
             0,
             "#8e0152"
            ],
            [
             0.1,
             "#c51b7d"
            ],
            [
             0.2,
             "#de77ae"
            ],
            [
             0.3,
             "#f1b6da"
            ],
            [
             0.4,
             "#fde0ef"
            ],
            [
             0.5,
             "#f7f7f7"
            ],
            [
             0.6,
             "#e6f5d0"
            ],
            [
             0.7,
             "#b8e186"
            ],
            [
             0.8,
             "#7fbc41"
            ],
            [
             0.9,
             "#4d9221"
            ],
            [
             1,
             "#276419"
            ]
           ],
           "sequential": [
            [
             0,
             "#0d0887"
            ],
            [
             0.1111111111111111,
             "#46039f"
            ],
            [
             0.2222222222222222,
             "#7201a8"
            ],
            [
             0.3333333333333333,
             "#9c179e"
            ],
            [
             0.4444444444444444,
             "#bd3786"
            ],
            [
             0.5555555555555556,
             "#d8576b"
            ],
            [
             0.6666666666666666,
             "#ed7953"
            ],
            [
             0.7777777777777778,
             "#fb9f3a"
            ],
            [
             0.8888888888888888,
             "#fdca26"
            ],
            [
             1,
             "#f0f921"
            ]
           ],
           "sequentialminus": [
            [
             0,
             "#0d0887"
            ],
            [
             0.1111111111111111,
             "#46039f"
            ],
            [
             0.2222222222222222,
             "#7201a8"
            ],
            [
             0.3333333333333333,
             "#9c179e"
            ],
            [
             0.4444444444444444,
             "#bd3786"
            ],
            [
             0.5555555555555556,
             "#d8576b"
            ],
            [
             0.6666666666666666,
             "#ed7953"
            ],
            [
             0.7777777777777778,
             "#fb9f3a"
            ],
            [
             0.8888888888888888,
             "#fdca26"
            ],
            [
             1,
             "#f0f921"
            ]
           ]
          },
          "colorway": [
           "#636efa",
           "#EF553B",
           "#00cc96",
           "#ab63fa",
           "#FFA15A",
           "#19d3f3",
           "#FF6692",
           "#B6E880",
           "#FF97FF",
           "#FECB52"
          ],
          "font": {
           "color": "#2a3f5f"
          },
          "geo": {
           "bgcolor": "white",
           "lakecolor": "white",
           "landcolor": "#E5ECF6",
           "showlakes": true,
           "showland": true,
           "subunitcolor": "white"
          },
          "hoverlabel": {
           "align": "left"
          },
          "hovermode": "closest",
          "mapbox": {
           "style": "light"
          },
          "paper_bgcolor": "white",
          "plot_bgcolor": "#E5ECF6",
          "polar": {
           "angularaxis": {
            "gridcolor": "white",
            "linecolor": "white",
            "ticks": ""
           },
           "bgcolor": "#E5ECF6",
           "radialaxis": {
            "gridcolor": "white",
            "linecolor": "white",
            "ticks": ""
           }
          },
          "scene": {
           "xaxis": {
            "backgroundcolor": "#E5ECF6",
            "gridcolor": "white",
            "gridwidth": 2,
            "linecolor": "white",
            "showbackground": true,
            "ticks": "",
            "zerolinecolor": "white"
           },
           "yaxis": {
            "backgroundcolor": "#E5ECF6",
            "gridcolor": "white",
            "gridwidth": 2,
            "linecolor": "white",
            "showbackground": true,
            "ticks": "",
            "zerolinecolor": "white"
           },
           "zaxis": {
            "backgroundcolor": "#E5ECF6",
            "gridcolor": "white",
            "gridwidth": 2,
            "linecolor": "white",
            "showbackground": true,
            "ticks": "",
            "zerolinecolor": "white"
           }
          },
          "shapedefaults": {
           "line": {
            "color": "#2a3f5f"
           }
          },
          "ternary": {
           "aaxis": {
            "gridcolor": "white",
            "linecolor": "white",
            "ticks": ""
           },
           "baxis": {
            "gridcolor": "white",
            "linecolor": "white",
            "ticks": ""
           },
           "bgcolor": "#E5ECF6",
           "caxis": {
            "gridcolor": "white",
            "linecolor": "white",
            "ticks": ""
           }
          },
          "title": {
           "x": 0.05
          },
          "xaxis": {
           "automargin": true,
           "gridcolor": "white",
           "linecolor": "white",
           "ticks": "",
           "title": {
            "standoff": 15
           },
           "zerolinecolor": "white",
           "zerolinewidth": 2
          },
          "yaxis": {
           "automargin": true,
           "gridcolor": "white",
           "linecolor": "white",
           "ticks": "",
           "title": {
            "standoff": 15
           },
           "zerolinecolor": "white",
           "zerolinewidth": 2
          }
         }
        },
        "title": {
         "text": "Saliency Map",
         "x": 0.45
        },
        "xaxis": {
         "tick0": 0,
         "title": {
          "text": "Responses"
         }
        },
        "yaxis": {
         "autorange": "reversed"
        }
       }
      }
     },
     "metadata": {}
    },
    {
     "output_type": "display_data",
     "data": {
      "text/plain": "<Figure size 432x288 with 0 Axes>"
     },
     "metadata": {}
    }
   ],
   "source": [
    "\n",
    "labels = [\"Intuitiveness \",\"Relevance \",\"Trustworthiness \",\"Value \"]\n",
    "numerics = ['int16', 'int32', 'int64', 'float16', 'float32', 'float64']\n",
    "\n",
    "def stackedBarChartDF(sub_df,title,labels):\n",
    "    #throw out non-numeric data\n",
    "    int_df = sub_df.select_dtypes(include=numerics)\n",
    "    data = int_df.values\n",
    "\n",
    "    #get the occurences in the respective column\n",
    "    understandability = Counter(data[:,0])\n",
    "    usability = Counter(data[:,1])\n",
    "    value = Counter(data[:,2])\n",
    "    informativeness = Counter(data[:,3])\n",
    "\n",
    "    fig = go.Figure()\n",
    "    #throw the arrays together for iterating over them\n",
    "    eval_arr = [understandability,value,informativeness,usability]\n",
    "    category_order = [\"Strongly disagree\",\"Disagree\",\"Lightly disagree\",\"Neutral\",\"Lightly agree\",\"Agree\",\"Strongly agree\"]\n",
    "    num_order = [0,1,2,3,4,5,6]\n",
    "    palette = cycle(plotly.colors.sequential.Viridis)\n",
    "    centerpoint = [x[3]/2 for x in eval_arr]\n",
    "\n",
    "    #iterate reversed so we get right ordering of answers\n",
    "    for num in reversed(num_order[0:3]):\n",
    "        #xvals are number of responses eg. strongly disagree\n",
    "        xvals = [understandability[num],value[num],informativeness[num],usability[num]]\n",
    "        yvals = [\"Intuitiveness \",\"Relevance \",\"Trustworthiness \",\"Value \"]\n",
    "        # #if we are at the centerpoint add an offset\n",
    "        # if (num == 3):\n",
    "        #     offset = centerpoint\n",
    "        # else:\n",
    "        #     offset = [0,0,0,0]\n",
    "        print([(x*-1)-centerpoint[ind] for ind,x in enumerate(xvals)])\n",
    "        fig.add_trace(\n",
    "            go.Bar(\n",
    "                #-centerpoint[ind]\n",
    "                x=[(x*-1) for ind,x in enumerate(xvals)],\n",
    "                y=yvals,\n",
    "                orientation='h',\n",
    "                name=category_order[num],\n",
    "                customdata=xvals,\n",
    "                hovertemplate = \"%{y}: %{customdata}\",\n",
    "                width=0.8,\n",
    "                marker_color=next(palette)\n",
    "                    ))\n",
    "    #regular forward iteration, now xvalues start from zero\n",
    "    for num in num_order[3:]:\n",
    "        xvals = [understandability[num],value[num],informativeness[num],usability[num]]\n",
    "        yvals = [\"Intuitiveness \",\"Relevance \",\"Trustworthiness \",\"Value \"]\n",
    "        fig.add_trace(\n",
    "            go.Bar(\n",
    "                #\n",
    "                x=xvals,\n",
    "                y=yvals,\n",
    "                orientation='h',\n",
    "                name=category_order[num],\n",
    "                customdata=xvals,\n",
    "                hovertemplate = \"%{y}: %{customdata}\",\n",
    "                width=0.8,\n",
    "                marker_color=next(palette)\n",
    "                        ))\n",
    "\n",
    "    fig.update_layout(barmode='relative', \n",
    "                    yaxis_autorange='reversed',\n",
    "                    bargap=0.01,\n",
    "                    legend_y=0.5,\n",
    "                    title = title,\n",
    "                    title_x = 0.45,\n",
    "                    xaxis = dict(\n",
    "                        tick0 = 0\n",
    "                    ),\n",
    "                    xaxis_title=\"Responses\"\n",
    "    )\n",
    "    fig.show()\n",
    "\n",
    "#boxPlotDF(trust_df,\"Trust Based Methods\")\n",
    "stackedBarChartDF(saliency_df,\"Saliency Map\",labels)\n",
    "plt.savefig(\"StackedBarChart\")\n",
    "\n",
    "#function to get most relevant statistical measures for single column\n",
    "def descriptiveStatistics(column):\n",
    "    print(df[column].describe())\n",
    "\n",
    "#descriptiveStatistics(\"user_profiling_useOfDP\")\n"
   ]
  },
  {
   "cell_type": "code",
   "execution_count": 45,
   "metadata": {},
   "outputs": [
    {
     "output_type": "stream",
     "name": "stdout",
     "text": [
      "<bound method DataFrame.to_markdown of     TrustScores  ConceptAttribution  Prototypes  CounterFactuals  SaliencyMaps\n0             5                   6           6                6           4.0\n1             6                   6           6                6           5.0\n2             4                   7           7                7           6.0\n3             3                   7           7                7           4.0\n4             4                   7           7                7           6.0\n5             3                   7           7                7           4.0\n6             4                   5           7                4           3.0\n7             5                   6           7                5           4.0\n8             6                   5           6                6           5.0\n9             4                   7           7                5           6.0\n10            4                   3           6                3           5.0\n11            4                   2           2                1           3.0\n12            6                   7           7                7           5.0\n13            6                   4           7                7           5.0\n14            5                   2           7                2           6.0\n15            5                   4           4                2           6.0\n16            3                   3           7                7           1.0\n17            3                   3           3                5           2.0\n18            6                   3           5                5           4.0\n19            6                   3           5                5           4.0\n20            4                   6           6                6           7.0\n21            4                   5           5                5           7.0\n22            6                   4           2                5           2.0\n23            4                   4           2                5           2.0\n24            5                   6           4                5           6.0\n25            5                   5           2                2           2.0\n26            5                   7           7                6           6.0\n27            5                   3           3                3           4.0\n28            7                   6           6                4           3.0\n29            6                   5           1                1           2.0\n30            5                   5           5                5           6.0\n31            7                   6           6                4           7.0\n32            2                   4           6                6           4.0\n33            3                   6           3                3           4.0\n34            2                   3           5                5           3.0\n35            4                   3           5                5           3.0\n36            7                   6           6                6           2.0\n37            6                   6           6                6           3.0\n38            7                   7           5                5           5.0\n39            7                   7           7                5           6.0>\n"
     ]
    },
    {
     "output_type": "display_data",
     "data": {
      "application/vnd.plotly.v1+json": {
       "config": {
        "plotlyServerURL": "https://plot.ly"
       },
       "data": [
        {
         "marker": {
          "color": "#440154"
         },
         "name": "SaliencyMaps",
         "type": "box",
         "y": [
          4,
          5,
          6,
          4,
          6,
          4,
          3,
          4,
          5,
          6,
          5,
          3,
          5,
          5,
          6,
          6,
          1,
          2,
          4,
          4,
          7,
          7,
          2,
          2,
          6,
          2,
          6,
          4,
          3,
          2,
          6,
          7,
          4,
          4,
          3,
          3,
          2,
          3,
          5,
          6
         ]
        }
       ],
       "layout": {
        "template": {
         "data": {
          "bar": [
           {
            "error_x": {
             "color": "#2a3f5f"
            },
            "error_y": {
             "color": "#2a3f5f"
            },
            "marker": {
             "line": {
              "color": "#E5ECF6",
              "width": 0.5
             }
            },
            "type": "bar"
           }
          ],
          "barpolar": [
           {
            "marker": {
             "line": {
              "color": "#E5ECF6",
              "width": 0.5
             }
            },
            "type": "barpolar"
           }
          ],
          "carpet": [
           {
            "aaxis": {
             "endlinecolor": "#2a3f5f",
             "gridcolor": "white",
             "linecolor": "white",
             "minorgridcolor": "white",
             "startlinecolor": "#2a3f5f"
            },
            "baxis": {
             "endlinecolor": "#2a3f5f",
             "gridcolor": "white",
             "linecolor": "white",
             "minorgridcolor": "white",
             "startlinecolor": "#2a3f5f"
            },
            "type": "carpet"
           }
          ],
          "choropleth": [
           {
            "colorbar": {
             "outlinewidth": 0,
             "ticks": ""
            },
            "type": "choropleth"
           }
          ],
          "contour": [
           {
            "colorbar": {
             "outlinewidth": 0,
             "ticks": ""
            },
            "colorscale": [
             [
              0,
              "#0d0887"
             ],
             [
              0.1111111111111111,
              "#46039f"
             ],
             [
              0.2222222222222222,
              "#7201a8"
             ],
             [
              0.3333333333333333,
              "#9c179e"
             ],
             [
              0.4444444444444444,
              "#bd3786"
             ],
             [
              0.5555555555555556,
              "#d8576b"
             ],
             [
              0.6666666666666666,
              "#ed7953"
             ],
             [
              0.7777777777777778,
              "#fb9f3a"
             ],
             [
              0.8888888888888888,
              "#fdca26"
             ],
             [
              1,
              "#f0f921"
             ]
            ],
            "type": "contour"
           }
          ],
          "contourcarpet": [
           {
            "colorbar": {
             "outlinewidth": 0,
             "ticks": ""
            },
            "type": "contourcarpet"
           }
          ],
          "heatmap": [
           {
            "colorbar": {
             "outlinewidth": 0,
             "ticks": ""
            },
            "colorscale": [
             [
              0,
              "#0d0887"
             ],
             [
              0.1111111111111111,
              "#46039f"
             ],
             [
              0.2222222222222222,
              "#7201a8"
             ],
             [
              0.3333333333333333,
              "#9c179e"
             ],
             [
              0.4444444444444444,
              "#bd3786"
             ],
             [
              0.5555555555555556,
              "#d8576b"
             ],
             [
              0.6666666666666666,
              "#ed7953"
             ],
             [
              0.7777777777777778,
              "#fb9f3a"
             ],
             [
              0.8888888888888888,
              "#fdca26"
             ],
             [
              1,
              "#f0f921"
             ]
            ],
            "type": "heatmap"
           }
          ],
          "heatmapgl": [
           {
            "colorbar": {
             "outlinewidth": 0,
             "ticks": ""
            },
            "colorscale": [
             [
              0,
              "#0d0887"
             ],
             [
              0.1111111111111111,
              "#46039f"
             ],
             [
              0.2222222222222222,
              "#7201a8"
             ],
             [
              0.3333333333333333,
              "#9c179e"
             ],
             [
              0.4444444444444444,
              "#bd3786"
             ],
             [
              0.5555555555555556,
              "#d8576b"
             ],
             [
              0.6666666666666666,
              "#ed7953"
             ],
             [
              0.7777777777777778,
              "#fb9f3a"
             ],
             [
              0.8888888888888888,
              "#fdca26"
             ],
             [
              1,
              "#f0f921"
             ]
            ],
            "type": "heatmapgl"
           }
          ],
          "histogram": [
           {
            "marker": {
             "colorbar": {
              "outlinewidth": 0,
              "ticks": ""
             }
            },
            "type": "histogram"
           }
          ],
          "histogram2d": [
           {
            "colorbar": {
             "outlinewidth": 0,
             "ticks": ""
            },
            "colorscale": [
             [
              0,
              "#0d0887"
             ],
             [
              0.1111111111111111,
              "#46039f"
             ],
             [
              0.2222222222222222,
              "#7201a8"
             ],
             [
              0.3333333333333333,
              "#9c179e"
             ],
             [
              0.4444444444444444,
              "#bd3786"
             ],
             [
              0.5555555555555556,
              "#d8576b"
             ],
             [
              0.6666666666666666,
              "#ed7953"
             ],
             [
              0.7777777777777778,
              "#fb9f3a"
             ],
             [
              0.8888888888888888,
              "#fdca26"
             ],
             [
              1,
              "#f0f921"
             ]
            ],
            "type": "histogram2d"
           }
          ],
          "histogram2dcontour": [
           {
            "colorbar": {
             "outlinewidth": 0,
             "ticks": ""
            },
            "colorscale": [
             [
              0,
              "#0d0887"
             ],
             [
              0.1111111111111111,
              "#46039f"
             ],
             [
              0.2222222222222222,
              "#7201a8"
             ],
             [
              0.3333333333333333,
              "#9c179e"
             ],
             [
              0.4444444444444444,
              "#bd3786"
             ],
             [
              0.5555555555555556,
              "#d8576b"
             ],
             [
              0.6666666666666666,
              "#ed7953"
             ],
             [
              0.7777777777777778,
              "#fb9f3a"
             ],
             [
              0.8888888888888888,
              "#fdca26"
             ],
             [
              1,
              "#f0f921"
             ]
            ],
            "type": "histogram2dcontour"
           }
          ],
          "mesh3d": [
           {
            "colorbar": {
             "outlinewidth": 0,
             "ticks": ""
            },
            "type": "mesh3d"
           }
          ],
          "parcoords": [
           {
            "line": {
             "colorbar": {
              "outlinewidth": 0,
              "ticks": ""
             }
            },
            "type": "parcoords"
           }
          ],
          "pie": [
           {
            "automargin": true,
            "type": "pie"
           }
          ],
          "scatter": [
           {
            "marker": {
             "colorbar": {
              "outlinewidth": 0,
              "ticks": ""
             }
            },
            "type": "scatter"
           }
          ],
          "scatter3d": [
           {
            "line": {
             "colorbar": {
              "outlinewidth": 0,
              "ticks": ""
             }
            },
            "marker": {
             "colorbar": {
              "outlinewidth": 0,
              "ticks": ""
             }
            },
            "type": "scatter3d"
           }
          ],
          "scattercarpet": [
           {
            "marker": {
             "colorbar": {
              "outlinewidth": 0,
              "ticks": ""
             }
            },
            "type": "scattercarpet"
           }
          ],
          "scattergeo": [
           {
            "marker": {
             "colorbar": {
              "outlinewidth": 0,
              "ticks": ""
             }
            },
            "type": "scattergeo"
           }
          ],
          "scattergl": [
           {
            "marker": {
             "colorbar": {
              "outlinewidth": 0,
              "ticks": ""
             }
            },
            "type": "scattergl"
           }
          ],
          "scattermapbox": [
           {
            "marker": {
             "colorbar": {
              "outlinewidth": 0,
              "ticks": ""
             }
            },
            "type": "scattermapbox"
           }
          ],
          "scatterpolar": [
           {
            "marker": {
             "colorbar": {
              "outlinewidth": 0,
              "ticks": ""
             }
            },
            "type": "scatterpolar"
           }
          ],
          "scatterpolargl": [
           {
            "marker": {
             "colorbar": {
              "outlinewidth": 0,
              "ticks": ""
             }
            },
            "type": "scatterpolargl"
           }
          ],
          "scatterternary": [
           {
            "marker": {
             "colorbar": {
              "outlinewidth": 0,
              "ticks": ""
             }
            },
            "type": "scatterternary"
           }
          ],
          "surface": [
           {
            "colorbar": {
             "outlinewidth": 0,
             "ticks": ""
            },
            "colorscale": [
             [
              0,
              "#0d0887"
             ],
             [
              0.1111111111111111,
              "#46039f"
             ],
             [
              0.2222222222222222,
              "#7201a8"
             ],
             [
              0.3333333333333333,
              "#9c179e"
             ],
             [
              0.4444444444444444,
              "#bd3786"
             ],
             [
              0.5555555555555556,
              "#d8576b"
             ],
             [
              0.6666666666666666,
              "#ed7953"
             ],
             [
              0.7777777777777778,
              "#fb9f3a"
             ],
             [
              0.8888888888888888,
              "#fdca26"
             ],
             [
              1,
              "#f0f921"
             ]
            ],
            "type": "surface"
           }
          ],
          "table": [
           {
            "cells": {
             "fill": {
              "color": "#EBF0F8"
             },
             "line": {
              "color": "white"
             }
            },
            "header": {
             "fill": {
              "color": "#C8D4E3"
             },
             "line": {
              "color": "white"
             }
            },
            "type": "table"
           }
          ]
         },
         "layout": {
          "annotationdefaults": {
           "arrowcolor": "#2a3f5f",
           "arrowhead": 0,
           "arrowwidth": 1
          },
          "autotypenumbers": "strict",
          "coloraxis": {
           "colorbar": {
            "outlinewidth": 0,
            "ticks": ""
           }
          },
          "colorscale": {
           "diverging": [
            [
             0,
             "#8e0152"
            ],
            [
             0.1,
             "#c51b7d"
            ],
            [
             0.2,
             "#de77ae"
            ],
            [
             0.3,
             "#f1b6da"
            ],
            [
             0.4,
             "#fde0ef"
            ],
            [
             0.5,
             "#f7f7f7"
            ],
            [
             0.6,
             "#e6f5d0"
            ],
            [
             0.7,
             "#b8e186"
            ],
            [
             0.8,
             "#7fbc41"
            ],
            [
             0.9,
             "#4d9221"
            ],
            [
             1,
             "#276419"
            ]
           ],
           "sequential": [
            [
             0,
             "#0d0887"
            ],
            [
             0.1111111111111111,
             "#46039f"
            ],
            [
             0.2222222222222222,
             "#7201a8"
            ],
            [
             0.3333333333333333,
             "#9c179e"
            ],
            [
             0.4444444444444444,
             "#bd3786"
            ],
            [
             0.5555555555555556,
             "#d8576b"
            ],
            [
             0.6666666666666666,
             "#ed7953"
            ],
            [
             0.7777777777777778,
             "#fb9f3a"
            ],
            [
             0.8888888888888888,
             "#fdca26"
            ],
            [
             1,
             "#f0f921"
            ]
           ],
           "sequentialminus": [
            [
             0,
             "#0d0887"
            ],
            [
             0.1111111111111111,
             "#46039f"
            ],
            [
             0.2222222222222222,
             "#7201a8"
            ],
            [
             0.3333333333333333,
             "#9c179e"
            ],
            [
             0.4444444444444444,
             "#bd3786"
            ],
            [
             0.5555555555555556,
             "#d8576b"
            ],
            [
             0.6666666666666666,
             "#ed7953"
            ],
            [
             0.7777777777777778,
             "#fb9f3a"
            ],
            [
             0.8888888888888888,
             "#fdca26"
            ],
            [
             1,
             "#f0f921"
            ]
           ]
          },
          "colorway": [
           "#636efa",
           "#EF553B",
           "#00cc96",
           "#ab63fa",
           "#FFA15A",
           "#19d3f3",
           "#FF6692",
           "#B6E880",
           "#FF97FF",
           "#FECB52"
          ],
          "font": {
           "color": "#2a3f5f"
          },
          "geo": {
           "bgcolor": "white",
           "lakecolor": "white",
           "landcolor": "#E5ECF6",
           "showlakes": true,
           "showland": true,
           "subunitcolor": "white"
          },
          "hoverlabel": {
           "align": "left"
          },
          "hovermode": "closest",
          "mapbox": {
           "style": "light"
          },
          "paper_bgcolor": "white",
          "plot_bgcolor": "#E5ECF6",
          "polar": {
           "angularaxis": {
            "gridcolor": "white",
            "linecolor": "white",
            "ticks": ""
           },
           "bgcolor": "#E5ECF6",
           "radialaxis": {
            "gridcolor": "white",
            "linecolor": "white",
            "ticks": ""
           }
          },
          "scene": {
           "xaxis": {
            "backgroundcolor": "#E5ECF6",
            "gridcolor": "white",
            "gridwidth": 2,
            "linecolor": "white",
            "showbackground": true,
            "ticks": "",
            "zerolinecolor": "white"
           },
           "yaxis": {
            "backgroundcolor": "#E5ECF6",
            "gridcolor": "white",
            "gridwidth": 2,
            "linecolor": "white",
            "showbackground": true,
            "ticks": "",
            "zerolinecolor": "white"
           },
           "zaxis": {
            "backgroundcolor": "#E5ECF6",
            "gridcolor": "white",
            "gridwidth": 2,
            "linecolor": "white",
            "showbackground": true,
            "ticks": "",
            "zerolinecolor": "white"
           }
          },
          "shapedefaults": {
           "line": {
            "color": "#2a3f5f"
           }
          },
          "ternary": {
           "aaxis": {
            "gridcolor": "white",
            "linecolor": "white",
            "ticks": ""
           },
           "baxis": {
            "gridcolor": "white",
            "linecolor": "white",
            "ticks": ""
           },
           "bgcolor": "#E5ECF6",
           "caxis": {
            "gridcolor": "white",
            "linecolor": "white",
            "ticks": ""
           }
          },
          "title": {
           "x": 0.05
          },
          "xaxis": {
           "automargin": true,
           "gridcolor": "white",
           "linecolor": "white",
           "ticks": "",
           "title": {
            "standoff": 15
           },
           "zerolinecolor": "white",
           "zerolinewidth": 2
          },
          "yaxis": {
           "automargin": true,
           "gridcolor": "white",
           "linecolor": "white",
           "ticks": "",
           "title": {
            "standoff": 15
           },
           "zerolinecolor": "white",
           "zerolinewidth": 2
          }
         }
        },
        "title": {
         "text": "Comparison of Annotation Average"
        },
        "yaxis": {
         "dtick": 1,
         "range": [
          1,
          7
         ],
         "title": {
          "text": "Average Rating"
         }
        }
       }
      }
     },
     "metadata": {}
    }
   ],
   "source": [
    "#compare all approaches \n",
    "comparison_df = pd.DataFrame()\n",
    "comparison_df[\"TrustScores\"] = trust_df.iloc[:,[0,3]].values.ravel()[0:40]\n",
    "comparison_df[\"ConceptAttribution\"] = ca_df.iloc[:,[0,3]].values.ravel()[0:40]\n",
    "comparison_df[\"Prototypes\"] = prototypes_df.iloc[:,[0,3]].values.ravel()[0:40]\n",
    "#comparison_df = pd.concat([comparison_df,pd.DataFrame({\"CounterFactuals\":cf_df.values.ravel()})],axis = 1)\n",
    "comparison_df[\"CounterFactuals\"] = cf_df.iloc[:,[0,3]].values.ravel()[0:40]\n",
    "comparison_df[\"SaliencyMaps\"] = saliency_df.iloc[:,[0,3]].values.ravel()[0:40]\n",
    "print(comparison_df.to_markdown)\n",
    "#3. step: visualize them with boxplots\n",
    "#for all df\n",
    "def boxPlotDF(comparison_df,title,labels):\n",
    "    #throw out non-numeric data\n",
    "    int_df = comparison_df.select_dtypes(include=numerics)\n",
    "    #set the color palette\n",
    "    palette = cycle(plotly.colors.sequential.Viridis)\n",
    "\n",
    "    #iterate over columns and show average spread\n",
    "    fig = go.Figure()\n",
    "    for column in int_df:\n",
    "        fig.add_trace(go.Box(\n",
    "            y=int_df[column],\n",
    "            name=column,\n",
    "            marker_color=next(palette)\n",
    "            ))\n",
    "    \n",
    "    fig.update_layout(\n",
    "                    title = title,\n",
    "                    yaxis = dict(\n",
    "                        dtick = 1\n",
    "                    ),\n",
    "                    yaxis_range=[1,7],\n",
    "                    yaxis_title=\"Average Rating\"\n",
    "    )\n",
    "    \n",
    "    fig.show()\n",
    "    \n",
    "\n",
    "boxPlotDF(comparison_df,\"Comparison of Annotation Average\",labels)\n"
   ]
  }
 ]
}