{
 "cells": [
  {
   "cell_type": "code",
   "execution_count": 1,
   "metadata": {},
   "outputs": [],
   "source": [
    "import pandas as pd\n",
    "import json\n",
    "import re\n",
    "import numpy as np\n",
    "import os\n"
   ]
  },
  {
   "cell_type": "markdown",
   "metadata": {},
   "source": [
    "Prior to parsing, spurious responses were purged on the basis of:\n",
    "\n",
    "All extreme values\n",
    "Inappropriate comments\n",
    "Non-target user profile"
   ]
  },
  {
   "cell_type": "markdown",
   "metadata": {},
   "source": [
    "## Data parsing"
   ]
  },
  {
   "cell_type": "code",
   "execution_count": 2,
   "metadata": {
    "tags": []
   },
   "outputs": [
    {
     "data": {
      "text/html": [
       "<div>\n",
       "<style scoped>\n",
       "    .dataframe tbody tr th:only-of-type {\n",
       "        vertical-align: middle;\n",
       "    }\n",
       "\n",
       "    .dataframe tbody tr th {\n",
       "        vertical-align: top;\n",
       "    }\n",
       "\n",
       "    .dataframe thead th {\n",
       "        text-align: right;\n",
       "    }\n",
       "</style>\n",
       "<table border=\"1\" class=\"dataframe\">\n",
       "  <thead>\n",
       "    <tr style=\"text-align: right;\">\n",
       "      <th></th>\n",
       "      <th>id</th>\n",
       "      <th>userProfiling_age</th>\n",
       "      <th>userProfiling_position</th>\n",
       "      <th>userProfiling_useOfAI</th>\n",
       "      <th>userProfiling_useOfDP</th>\n",
       "      <th>userProfiling_mlFamiliarity</th>\n",
       "      <th>saliencyMaps_globalSaliency_understandability</th>\n",
       "      <th>saliencyMaps_globalSaliency_usability</th>\n",
       "      <th>saliencyMaps_globalSaliency_informativeness</th>\n",
       "      <th>saliencyMaps_globalSaliency_value</th>\n",
       "      <th>...</th>\n",
       "      <th>userProfiling_useOfAI_details</th>\n",
       "      <th>saliencyMaps_globalSaliency_comments</th>\n",
       "      <th>saliencyMaps_localSaliency_comments</th>\n",
       "      <th>conceptAttribution_textAttributes_comments</th>\n",
       "      <th>trustScores_borderlineCases_comments</th>\n",
       "      <th>userProfiling_aiFamiliarity</th>\n",
       "      <th>userProfiling_comments</th>\n",
       "      <th>counterfactuals_twoAxisCounterfactuals_comments</th>\n",
       "      <th>counterfactuals_prototypeInterpolation_comments</th>\n",
       "      <th>userProfiling_position-Comment</th>\n",
       "    </tr>\n",
       "  </thead>\n",
       "  <tbody>\n",
       "    <tr>\n",
       "      <th>0</th>\n",
       "      <td>1.623319e+12</td>\n",
       "      <td>30-40</td>\n",
       "      <td>Assisting physician (Assistenzarzt) for pathol...</td>\n",
       "      <td>in routine diagnostics</td>\n",
       "      <td>in routine diagnostics</td>\n",
       "      <td>1</td>\n",
       "      <td>5</td>\n",
       "      <td>5</td>\n",
       "      <td>6</td>\n",
       "      <td>6</td>\n",
       "      <td>...</td>\n",
       "      <td>NaN</td>\n",
       "      <td>NaN</td>\n",
       "      <td>NaN</td>\n",
       "      <td>NaN</td>\n",
       "      <td>NaN</td>\n",
       "      <td>NaN</td>\n",
       "      <td>NaN</td>\n",
       "      <td>NaN</td>\n",
       "      <td>NaN</td>\n",
       "      <td>NaN</td>\n",
       "    </tr>\n",
       "  </tbody>\n",
       "</table>\n",
       "<p>1 rows × 44 columns</p>\n",
       "</div>"
      ],
      "text/plain": [
       "             id userProfiling_age  \\\n",
       "0  1.623319e+12             30-40   \n",
       "\n",
       "                              userProfiling_position   userProfiling_useOfAI  \\\n",
       "0  Assisting physician (Assistenzarzt) for pathol...  in routine diagnostics   \n",
       "\n",
       "    userProfiling_useOfDP  userProfiling_mlFamiliarity  \\\n",
       "0  in routine diagnostics                            1   \n",
       "\n",
       "   saliencyMaps_globalSaliency_understandability  \\\n",
       "0                                              5   \n",
       "\n",
       "   saliencyMaps_globalSaliency_usability  \\\n",
       "0                                      5   \n",
       "\n",
       "   saliencyMaps_globalSaliency_informativeness  \\\n",
       "0                                            6   \n",
       "\n",
       "   saliencyMaps_globalSaliency_value  ...  userProfiling_useOfAI_details  \\\n",
       "0                                  6  ...                            NaN   \n",
       "\n",
       "   saliencyMaps_globalSaliency_comments  saliencyMaps_localSaliency_comments  \\\n",
       "0                                   NaN                                  NaN   \n",
       "\n",
       "   conceptAttribution_textAttributes_comments  \\\n",
       "0                                         NaN   \n",
       "\n",
       "   trustScores_borderlineCases_comments  userProfiling_aiFamiliarity  \\\n",
       "0                                   NaN                          NaN   \n",
       "\n",
       "   userProfiling_comments  counterfactuals_twoAxisCounterfactuals_comments  \\\n",
       "0                     NaN                                              NaN   \n",
       "\n",
       "   counterfactuals_prototypeInterpolation_comments  \\\n",
       "0                                              NaN   \n",
       "\n",
       "   userProfiling_position-Comment  \n",
       "0                             NaN  \n",
       "\n",
       "[1 rows x 44 columns]"
      ]
     },
     "execution_count": 2,
     "metadata": {},
     "output_type": "execute_result"
    }
   ],
   "source": [
    "# Loading Data\n",
    "results_filepath = \"db_06_07_21_resp.json\"\n",
    "with open(results_filepath) as f:\n",
    "    # remove image0/image1 vars since it prevents proper df merging\n",
    "    g = re.sub(r\"_image[0-3]\", \"\", f.read())\n",
    "    data = json.loads(g)\n",
    "    df = pd.json_normalize(data)\n",
    "    df.drop(labels=[\"__v\", \"_id.$oid\"], axis=1, inplace=True)\n",
    "\n",
    "# hacky solution to remove the panda-appended user_. entry\n",
    "renamed = [name.split(\"_.\")[-1] for name in df.columns]\n",
    "col_rename = {i: j for i, j in zip(df.columns, renamed)}\n",
    "df = df.rename(columns=col_rename)\n",
    "\n",
    "df.loc[[0]]\n"
   ]
  },
  {
   "cell_type": "code",
   "execution_count": 3,
   "metadata": {},
   "outputs": [
    {
     "data": {
      "text/html": [
       "<div>\n",
       "<style scoped>\n",
       "    .dataframe tbody tr th:only-of-type {\n",
       "        vertical-align: middle;\n",
       "    }\n",
       "\n",
       "    .dataframe tbody tr th {\n",
       "        vertical-align: top;\n",
       "    }\n",
       "\n",
       "    .dataframe thead th {\n",
       "        text-align: right;\n",
       "    }\n",
       "</style>\n",
       "<table border=\"1\" class=\"dataframe\">\n",
       "  <thead>\n",
       "    <tr style=\"text-align: right;\">\n",
       "      <th></th>\n",
       "      <th>Understandability</th>\n",
       "      <th>Usability</th>\n",
       "      <th>Informativeness</th>\n",
       "      <th>Value</th>\n",
       "    </tr>\n",
       "  </thead>\n",
       "  <tbody>\n",
       "    <tr>\n",
       "      <th>0</th>\n",
       "      <td>6</td>\n",
       "      <td>6</td>\n",
       "      <td>7</td>\n",
       "      <td>6</td>\n",
       "    </tr>\n",
       "    <tr>\n",
       "      <th>1</th>\n",
       "      <td>7</td>\n",
       "      <td>7</td>\n",
       "      <td>7</td>\n",
       "      <td>7</td>\n",
       "    </tr>\n",
       "    <tr>\n",
       "      <th>2</th>\n",
       "      <td>4</td>\n",
       "      <td>6</td>\n",
       "      <td>4</td>\n",
       "      <td>5</td>\n",
       "    </tr>\n",
       "    <tr>\n",
       "      <th>3</th>\n",
       "      <td>6</td>\n",
       "      <td>4</td>\n",
       "      <td>5</td>\n",
       "      <td>5</td>\n",
       "    </tr>\n",
       "    <tr>\n",
       "      <th>4</th>\n",
       "      <td>3</td>\n",
       "      <td>2</td>\n",
       "      <td>2</td>\n",
       "      <td>1</td>\n",
       "    </tr>\n",
       "    <tr>\n",
       "      <th>5</th>\n",
       "      <td>7</td>\n",
       "      <td>7</td>\n",
       "      <td>7</td>\n",
       "      <td>7</td>\n",
       "    </tr>\n",
       "    <tr>\n",
       "      <th>6</th>\n",
       "      <td>2</td>\n",
       "      <td>2</td>\n",
       "      <td>2</td>\n",
       "      <td>2</td>\n",
       "    </tr>\n",
       "    <tr>\n",
       "      <th>7</th>\n",
       "      <td>7</td>\n",
       "      <td>4</td>\n",
       "      <td>6</td>\n",
       "      <td>5</td>\n",
       "    </tr>\n",
       "    <tr>\n",
       "      <th>8</th>\n",
       "      <td>5</td>\n",
       "      <td>6</td>\n",
       "      <td>5</td>\n",
       "      <td>5</td>\n",
       "    </tr>\n",
       "    <tr>\n",
       "      <th>9</th>\n",
       "      <td>6</td>\n",
       "      <td>6</td>\n",
       "      <td>5</td>\n",
       "      <td>5</td>\n",
       "    </tr>\n",
       "    <tr>\n",
       "      <th>10</th>\n",
       "      <td>5</td>\n",
       "      <td>5</td>\n",
       "      <td>5</td>\n",
       "      <td>5</td>\n",
       "    </tr>\n",
       "    <tr>\n",
       "      <th>11</th>\n",
       "      <td>5</td>\n",
       "      <td>4</td>\n",
       "      <td>4</td>\n",
       "      <td>2</td>\n",
       "    </tr>\n",
       "    <tr>\n",
       "      <th>12</th>\n",
       "      <td>6</td>\n",
       "      <td>3</td>\n",
       "      <td>3</td>\n",
       "      <td>3</td>\n",
       "    </tr>\n",
       "    <tr>\n",
       "      <th>13</th>\n",
       "      <td>4</td>\n",
       "      <td>5</td>\n",
       "      <td>2</td>\n",
       "      <td>1</td>\n",
       "    </tr>\n",
       "    <tr>\n",
       "      <th>14</th>\n",
       "      <td>5</td>\n",
       "      <td>5</td>\n",
       "      <td>4</td>\n",
       "      <td>4</td>\n",
       "    </tr>\n",
       "    <tr>\n",
       "      <th>15</th>\n",
       "      <td>6</td>\n",
       "      <td>7</td>\n",
       "      <td>5</td>\n",
       "      <td>3</td>\n",
       "    </tr>\n",
       "    <tr>\n",
       "      <th>16</th>\n",
       "      <td>5</td>\n",
       "      <td>2</td>\n",
       "      <td>2</td>\n",
       "      <td>5</td>\n",
       "    </tr>\n",
       "    <tr>\n",
       "      <th>17</th>\n",
       "      <td>6</td>\n",
       "      <td>6</td>\n",
       "      <td>6</td>\n",
       "      <td>6</td>\n",
       "    </tr>\n",
       "    <tr>\n",
       "      <th>18</th>\n",
       "      <td>7</td>\n",
       "      <td>7</td>\n",
       "      <td>7</td>\n",
       "      <td>7</td>\n",
       "    </tr>\n",
       "  </tbody>\n",
       "</table>\n",
       "</div>"
      ],
      "text/plain": [
       "    Understandability  Usability  Informativeness  Value\n",
       "0                   6          6                7      6\n",
       "1                   7          7                7      7\n",
       "2                   4          6                4      5\n",
       "3                   6          4                5      5\n",
       "4                   3          2                2      1\n",
       "5                   7          7                7      7\n",
       "6                   2          2                2      2\n",
       "7                   7          4                6      5\n",
       "8                   5          6                5      5\n",
       "9                   6          6                5      5\n",
       "10                  5          5                5      5\n",
       "11                  5          4                4      2\n",
       "12                  6          3                3      3\n",
       "13                  4          5                2      1\n",
       "14                  5          5                4      4\n",
       "15                  6          7                5      3\n",
       "16                  5          2                2      5\n",
       "17                  6          6                6      6\n",
       "18                  7          7                7      7"
      ]
     },
     "execution_count": 3,
     "metadata": {},
     "output_type": "execute_result"
    }
   ],
   "source": [
    "user_df = df[\n",
    "    [\n",
    "        \"userProfiling_age\",\n",
    "        \"userProfiling_position\",\n",
    "        \"userProfiling_useOfDP\",\n",
    "        \"userProfiling_useOfAI\",\n",
    "        \"userProfiling_useOfAI_details\",\n",
    "        \"userProfiling_mlFamiliarity\",\n",
    "    ]\n",
    "]\n",
    "\n",
    "fields = [\"Understandability\", \"Usability\", \"Informativeness\", \"Value\"]\n",
    "\n",
    "instance_identifiers = {\n",
    "    \"Counterfactuals: Single axis\": \"counterfactuals_prototypeInterpolation\",\n",
    "    \"Counterfactuals: Two axes\": \"counterfactuals_twoAxisCounterfactuals\",\n",
    "    \"Saliency Maps: Local\": \"saliencyMaps_localSaliency\",\n",
    "    \"Saliency Maps: Global\": \"saliencyMaps_globalSaliency\",\n",
    "    \"Concept Attribution: Text\": \"conceptAttribution_textAttributes\",\n",
    "    \"Prototypes: Highest confidence\": \"prototypes_prototypes\",\n",
    "    \"Trust Scores: Borderline Cases\": \"trustScores_borderlineCases\",\n",
    "}\n",
    "\n",
    "result_dataframes = dict()\n",
    "comments = dict()\n",
    "for name, id_ in instance_identifiers.items():\n",
    "    result_dataframes[name] = df[[f\"{id_}_{field.lower()}\" for field in fields]]\n",
    "    result_dataframes[name].columns = fields\n",
    "\n",
    "    comments_column = f\"{id_}_comments\"\n",
    "    if comments_column in df.columns:\n",
    "        comments[name] = df[[comments_column]].dropna().values.squeeze(axis=1).tolist()\n",
    "    else:\n",
    "        comments[name] = []\n",
    "\n",
    "result_dataframes[\"Counterfactuals: Single axis\"]\n"
   ]
  },
  {
   "cell_type": "code",
   "execution_count": 4,
   "metadata": {},
   "outputs": [
    {
     "data": {
      "text/plain": [
       "{'Counterfactuals: Single axis': [\"Like previous, initial reaction is that interpolation is useful but doesn't give the full picture of possible negatives. Perhaps clicking around each cell and seeing the interpolation for each would feel more useful\",\n",
       "  'What is a counterfactual? '],\n",
       " 'Counterfactuals: Two axes': ['It seems there may be many counterfactual examples that are more closely related to the positive example which could be useful for understanding the nuances and building trust',\n",
       "  'Do not understand this question'],\n",
       " 'Saliency Maps: Local': ['Per-cell saliency is probably too much detail. '],\n",
       " 'Saliency Maps: Global': ['There is one cell slightly to the right of the center that is labeled as positive and is quite darkly stained by IHC, but does not show up on the saliency map, which is a bit surprising. It looks like an endothelial cell. '],\n",
       " 'Concept Attribution: Text': ['This is excellent but I think there could be quite a lot of additional factors, so this would need some supervision. '],\n",
       " 'Prototypes: Highest confidence': [],\n",
       " 'Trust Scores: Borderline Cases': ['High confidence should provide examples of both classes (pos. and neg.), no? ',\n",
       "  'Confidence for what? positive or negative or both?',\n",
       "  'I felt I needed the pos or neg labels in addition to the confidence']}"
      ]
     },
     "execution_count": 4,
     "metadata": {},
     "output_type": "execute_result"
    }
   ],
   "source": [
    "comments\n"
   ]
  },
  {
   "cell_type": "code",
   "execution_count": 5,
   "metadata": {},
   "outputs": [
    {
     "data": {
      "text/html": [
       "<div>\n",
       "<style scoped>\n",
       "    .dataframe tbody tr th:only-of-type {\n",
       "        vertical-align: middle;\n",
       "    }\n",
       "\n",
       "    .dataframe tbody tr th {\n",
       "        vertical-align: top;\n",
       "    }\n",
       "\n",
       "    .dataframe thead th {\n",
       "        text-align: right;\n",
       "    }\n",
       "</style>\n",
       "<table border=\"1\" class=\"dataframe\">\n",
       "  <thead>\n",
       "    <tr style=\"text-align: right;\">\n",
       "      <th></th>\n",
       "      <th>userProfiling_age</th>\n",
       "      <th>userProfiling_position</th>\n",
       "      <th>userProfiling_useOfDP</th>\n",
       "      <th>userProfiling_useOfAI</th>\n",
       "      <th>userProfiling_useOfAI_details</th>\n",
       "      <th>userProfiling_mlFamiliarity</th>\n",
       "    </tr>\n",
       "  </thead>\n",
       "  <tbody>\n",
       "    <tr>\n",
       "      <th>0</th>\n",
       "      <td>30-40</td>\n",
       "      <td>Assisting physician (Assistenzarzt) for pathol...</td>\n",
       "      <td>in routine diagnostics</td>\n",
       "      <td>in routine diagnostics</td>\n",
       "      <td>NaN</td>\n",
       "      <td>1</td>\n",
       "    </tr>\n",
       "    <tr>\n",
       "      <th>1</th>\n",
       "      <td>41-50</td>\n",
       "      <td>Researcher in pathology/neuropathology</td>\n",
       "      <td>in research</td>\n",
       "      <td>in research</td>\n",
       "      <td>from MindPeak (BreastIHC), from VMscope (Cogni...</td>\n",
       "      <td>3</td>\n",
       "    </tr>\n",
       "    <tr>\n",
       "      <th>2</th>\n",
       "      <td>30-40</td>\n",
       "      <td>Researcher in pathology/neuropathology</td>\n",
       "      <td>[in research]</td>\n",
       "      <td>[in research]</td>\n",
       "      <td>NaN</td>\n",
       "      <td>7</td>\n",
       "    </tr>\n",
       "    <tr>\n",
       "      <th>3</th>\n",
       "      <td>41-50</td>\n",
       "      <td>Technician (MTA) for pathology/neuropathology</td>\n",
       "      <td>[in research]</td>\n",
       "      <td>[in routine diagnostics]</td>\n",
       "      <td>NaN</td>\n",
       "      <td>7</td>\n",
       "    </tr>\n",
       "    <tr>\n",
       "      <th>4</th>\n",
       "      <td>30-40</td>\n",
       "      <td>Trainee (Assistenzarzt) in pathology/neuropath...</td>\n",
       "      <td>[in research]</td>\n",
       "      <td>[in research]</td>\n",
       "      <td>QuPath immunohistochemistry positive cell dete...</td>\n",
       "      <td>2</td>\n",
       "    </tr>\n",
       "    <tr>\n",
       "      <th>5</th>\n",
       "      <td>30-40</td>\n",
       "      <td>Consultant (Facharzt) for pathology/neuropatho...</td>\n",
       "      <td>[in research]</td>\n",
       "      <td>[in research]</td>\n",
       "      <td>Aiforia</td>\n",
       "      <td>7</td>\n",
       "    </tr>\n",
       "    <tr>\n",
       "      <th>6</th>\n",
       "      <td>51-60</td>\n",
       "      <td>Researcher in pathology/neuropathology</td>\n",
       "      <td>[none]</td>\n",
       "      <td>[none]</td>\n",
       "      <td>NaN</td>\n",
       "      <td>2</td>\n",
       "    </tr>\n",
       "    <tr>\n",
       "      <th>7</th>\n",
       "      <td>41-50</td>\n",
       "      <td>Consultant (Facharzt) for pathology/neuropatho...</td>\n",
       "      <td>[in routine diagnostics]</td>\n",
       "      <td>[none]</td>\n",
       "      <td>NaN</td>\n",
       "      <td>4</td>\n",
       "    </tr>\n",
       "    <tr>\n",
       "      <th>8</th>\n",
       "      <td>41-50</td>\n",
       "      <td>Consultant (Facharzt) for pathology/neuropatho...</td>\n",
       "      <td>[none]</td>\n",
       "      <td>[none]</td>\n",
       "      <td>NaN</td>\n",
       "      <td>5</td>\n",
       "    </tr>\n",
       "    <tr>\n",
       "      <th>9</th>\n",
       "      <td>51-60</td>\n",
       "      <td>Consultant (Facharzt) for pathology/neuropatho...</td>\n",
       "      <td>[in research, in routine diagnostics]</td>\n",
       "      <td>[in routine diagnostics, in research]</td>\n",
       "      <td>Roche Diagnostics</td>\n",
       "      <td>4</td>\n",
       "    </tr>\n",
       "    <tr>\n",
       "      <th>10</th>\n",
       "      <td>41-50</td>\n",
       "      <td>Consultant (Facharzt) for pathology/neuropatho...</td>\n",
       "      <td>[none]</td>\n",
       "      <td>[none]</td>\n",
       "      <td>NaN</td>\n",
       "      <td>5</td>\n",
       "    </tr>\n",
       "    <tr>\n",
       "      <th>11</th>\n",
       "      <td>30-40</td>\n",
       "      <td>Consultant (Facharzt) for pathology/neuropatho...</td>\n",
       "      <td>[in routine diagnostics, in research]</td>\n",
       "      <td>[in routine diagnostics, in research]</td>\n",
       "      <td>tumor cellularity count; pattern recognition; ...</td>\n",
       "      <td>2</td>\n",
       "    </tr>\n",
       "    <tr>\n",
       "      <th>12</th>\n",
       "      <td>30-40</td>\n",
       "      <td>Researcher in pathology/neuropathology</td>\n",
       "      <td>[in research]</td>\n",
       "      <td>[in research]</td>\n",
       "      <td>NaN</td>\n",
       "      <td>7</td>\n",
       "    </tr>\n",
       "    <tr>\n",
       "      <th>13</th>\n",
       "      <td>41-50</td>\n",
       "      <td>Researcher in pathology/neuropathology</td>\n",
       "      <td>[in research, in routine diagnostics]</td>\n",
       "      <td>[in research, in routine diagnostics]</td>\n",
       "      <td>Paige</td>\n",
       "      <td>7</td>\n",
       "    </tr>\n",
       "    <tr>\n",
       "      <th>14</th>\n",
       "      <td>41-50</td>\n",
       "      <td>Technician (MTA) for pathology/neuropathology</td>\n",
       "      <td>[in research]</td>\n",
       "      <td>[in research]</td>\n",
       "      <td>Lrp</td>\n",
       "      <td>7</td>\n",
       "    </tr>\n",
       "    <tr>\n",
       "      <th>15</th>\n",
       "      <td>30-40</td>\n",
       "      <td>other</td>\n",
       "      <td>[none]</td>\n",
       "      <td>[in research]</td>\n",
       "      <td>classification a.o. analysis</td>\n",
       "      <td>4</td>\n",
       "    </tr>\n",
       "    <tr>\n",
       "      <th>16</th>\n",
       "      <td>30-40</td>\n",
       "      <td>other</td>\n",
       "      <td>[in research]</td>\n",
       "      <td>[in research]</td>\n",
       "      <td>NaN</td>\n",
       "      <td>6</td>\n",
       "    </tr>\n",
       "    <tr>\n",
       "      <th>17</th>\n",
       "      <td>51-60</td>\n",
       "      <td>Researcher in pathology/neuropathology</td>\n",
       "      <td>[in research]</td>\n",
       "      <td>[in research]</td>\n",
       "      <td>NaN</td>\n",
       "      <td>6</td>\n",
       "    </tr>\n",
       "    <tr>\n",
       "      <th>18</th>\n",
       "      <td>41-50</td>\n",
       "      <td>Consultant (Fachärztin*arzt) for pathology/neu...</td>\n",
       "      <td>[in research]</td>\n",
       "      <td>[in research]</td>\n",
       "      <td>Metastases detection in lymph nodes</td>\n",
       "      <td>6</td>\n",
       "    </tr>\n",
       "  </tbody>\n",
       "</table>\n",
       "</div>"
      ],
      "text/plain": [
       "   userProfiling_age                             userProfiling_position  \\\n",
       "0              30-40  Assisting physician (Assistenzarzt) for pathol...   \n",
       "1              41-50             Researcher in pathology/neuropathology   \n",
       "2              30-40             Researcher in pathology/neuropathology   \n",
       "3              41-50      Technician (MTA) for pathology/neuropathology   \n",
       "4              30-40  Trainee (Assistenzarzt) in pathology/neuropath...   \n",
       "5              30-40  Consultant (Facharzt) for pathology/neuropatho...   \n",
       "6              51-60             Researcher in pathology/neuropathology   \n",
       "7              41-50  Consultant (Facharzt) for pathology/neuropatho...   \n",
       "8              41-50  Consultant (Facharzt) for pathology/neuropatho...   \n",
       "9              51-60  Consultant (Facharzt) for pathology/neuropatho...   \n",
       "10             41-50  Consultant (Facharzt) for pathology/neuropatho...   \n",
       "11             30-40  Consultant (Facharzt) for pathology/neuropatho...   \n",
       "12             30-40             Researcher in pathology/neuropathology   \n",
       "13             41-50             Researcher in pathology/neuropathology   \n",
       "14             41-50      Technician (MTA) for pathology/neuropathology   \n",
       "15             30-40                                              other   \n",
       "16             30-40                                              other   \n",
       "17             51-60             Researcher in pathology/neuropathology   \n",
       "18             41-50  Consultant (Fachärztin*arzt) for pathology/neu...   \n",
       "\n",
       "                    userProfiling_useOfDP  \\\n",
       "0                  in routine diagnostics   \n",
       "1                             in research   \n",
       "2                           [in research]   \n",
       "3                           [in research]   \n",
       "4                           [in research]   \n",
       "5                           [in research]   \n",
       "6                                  [none]   \n",
       "7                [in routine diagnostics]   \n",
       "8                                  [none]   \n",
       "9   [in research, in routine diagnostics]   \n",
       "10                                 [none]   \n",
       "11  [in routine diagnostics, in research]   \n",
       "12                          [in research]   \n",
       "13  [in research, in routine diagnostics]   \n",
       "14                          [in research]   \n",
       "15                                 [none]   \n",
       "16                          [in research]   \n",
       "17                          [in research]   \n",
       "18                          [in research]   \n",
       "\n",
       "                    userProfiling_useOfAI  \\\n",
       "0                  in routine diagnostics   \n",
       "1                             in research   \n",
       "2                           [in research]   \n",
       "3                [in routine diagnostics]   \n",
       "4                           [in research]   \n",
       "5                           [in research]   \n",
       "6                                  [none]   \n",
       "7                                  [none]   \n",
       "8                                  [none]   \n",
       "9   [in routine diagnostics, in research]   \n",
       "10                                 [none]   \n",
       "11  [in routine diagnostics, in research]   \n",
       "12                          [in research]   \n",
       "13  [in research, in routine diagnostics]   \n",
       "14                          [in research]   \n",
       "15                          [in research]   \n",
       "16                          [in research]   \n",
       "17                          [in research]   \n",
       "18                          [in research]   \n",
       "\n",
       "                        userProfiling_useOfAI_details  \\\n",
       "0                                                 NaN   \n",
       "1   from MindPeak (BreastIHC), from VMscope (Cogni...   \n",
       "2                                                 NaN   \n",
       "3                                                 NaN   \n",
       "4   QuPath immunohistochemistry positive cell dete...   \n",
       "5                                             Aiforia   \n",
       "6                                                 NaN   \n",
       "7                                                 NaN   \n",
       "8                                                 NaN   \n",
       "9                                   Roche Diagnostics   \n",
       "10                                                NaN   \n",
       "11  tumor cellularity count; pattern recognition; ...   \n",
       "12                                                NaN   \n",
       "13                                              Paige   \n",
       "14                                                Lrp   \n",
       "15                       classification a.o. analysis   \n",
       "16                                                NaN   \n",
       "17                                                NaN   \n",
       "18                Metastases detection in lymph nodes   \n",
       "\n",
       "    userProfiling_mlFamiliarity  \n",
       "0                             1  \n",
       "1                             3  \n",
       "2                             7  \n",
       "3                             7  \n",
       "4                             2  \n",
       "5                             7  \n",
       "6                             2  \n",
       "7                             4  \n",
       "8                             5  \n",
       "9                             4  \n",
       "10                            5  \n",
       "11                            2  \n",
       "12                            7  \n",
       "13                            7  \n",
       "14                            7  \n",
       "15                            4  \n",
       "16                            6  \n",
       "17                            6  \n",
       "18                            6  "
      ]
     },
     "execution_count": 5,
     "metadata": {},
     "output_type": "execute_result"
    }
   ],
   "source": [
    "user_df\n"
   ]
  },
  {
   "cell_type": "markdown",
   "metadata": {},
   "source": [
    "## Stacked diverging bar charts"
   ]
  },
  {
   "cell_type": "code",
   "execution_count": 6,
   "metadata": {},
   "outputs": [
    {
     "data": {
      "application/vnd.plotly.v1+json": {
       "config": {
        "plotlyServerURL": "https://plot.ly"
       },
       "data": [
        {
         "marker": {
          "color": "rgb(247,247,247)"
         },
         "name": "Neutral",
         "orientation": "h",
         "showlegend": false,
         "type": "bar",
         "width": 0.8,
         "x": [
          -0.05263157894736842,
          -0.07894736842105263,
          -0.07894736842105263,
          -0.02631578947368421
         ],
         "y": [
          "I find the explanation    <br>intuitively understandable    ",
          "The explanation helps me to understand    <br>factors relevant to the algorithm    ",
          "The explanation helps me to decide whether    <br> I can trust the generated annotations    ",
          "The explanation provides me with    <br>valuable information for my work    "
         ]
        },
        {
         "marker": {
          "color": "rgb(253,219,199)"
         },
         "name": "Slightly disagree",
         "orientation": "h",
         "showlegend": false,
         "type": "bar",
         "width": 0.8,
         "x": [
          -0.05263157894736842,
          -0.05263157894736842,
          -0.05263157894736842,
          -0.10526315789473684
         ],
         "y": [
          "I find the explanation    <br>intuitively understandable    ",
          "The explanation helps me to understand    <br>factors relevant to the algorithm    ",
          "The explanation helps me to decide whether    <br> I can trust the generated annotations    ",
          "The explanation provides me with    <br>valuable information for my work    "
         ]
        },
        {
         "marker": {
          "color": "rgb(244,165,130)"
         },
         "name": "Disagree",
         "orientation": "h",
         "showlegend": false,
         "type": "bar",
         "width": 0.8,
         "x": [
          -0.05263157894736842,
          -0.15789473684210525,
          -0.21052631578947367,
          -0.10526315789473684
         ],
         "y": [
          "I find the explanation    <br>intuitively understandable    ",
          "The explanation helps me to understand    <br>factors relevant to the algorithm    ",
          "The explanation helps me to decide whether    <br> I can trust the generated annotations    ",
          "The explanation provides me with    <br>valuable information for my work    "
         ]
        },
        {
         "marker": {
          "color": "rgb(214,96,77)"
         },
         "name": "Strongly disagree",
         "orientation": "h",
         "showlegend": false,
         "type": "bar",
         "width": 0.8,
         "x": [
          0,
          0,
          0,
          -0.10526315789473684
         ],
         "y": [
          "I find the explanation    <br>intuitively understandable    ",
          "The explanation helps me to understand    <br>factors relevant to the algorithm    ",
          "The explanation helps me to decide whether    <br> I can trust the generated annotations    ",
          "The explanation provides me with    <br>valuable information for my work    "
         ]
        },
        {
         "marker": {
          "color": "rgb(247,247,247)"
         },
         "name": "Neutral",
         "orientation": "h",
         "showlegend": false,
         "type": "bar",
         "width": 0.8,
         "x": [
          0.05263157894736842,
          0.07894736842105263,
          0.07894736842105263,
          0.02631578947368421
         ],
         "y": [
          "I find the explanation    <br>intuitively understandable    ",
          "The explanation helps me to understand    <br>factors relevant to the algorithm    ",
          "The explanation helps me to decide whether    <br> I can trust the generated annotations    ",
          "The explanation provides me with    <br>valuable information for my work    "
         ]
        },
        {
         "marker": {
          "color": "rgb(209,229,240)"
         },
         "name": "Slightly agree",
         "orientation": "h",
         "showlegend": false,
         "type": "bar",
         "width": 0.8,
         "x": [
          0.2631578947368421,
          0.15789473684210525,
          0.2631578947368421,
          0.3684210526315789
         ],
         "y": [
          "I find the explanation    <br>intuitively understandable    ",
          "The explanation helps me to understand    <br>factors relevant to the algorithm    ",
          "The explanation helps me to decide whether    <br> I can trust the generated annotations    ",
          "The explanation provides me with    <br>valuable information for my work    "
         ]
        },
        {
         "marker": {
          "color": "rgb(146,197,222)"
         },
         "name": "Agree",
         "orientation": "h",
         "showlegend": false,
         "type": "bar",
         "width": 0.8,
         "x": [
          0.3157894736842105,
          0.2631578947368421,
          0.10526315789473684,
          0.10526315789473684
         ],
         "y": [
          "I find the explanation    <br>intuitively understandable    ",
          "The explanation helps me to understand    <br>factors relevant to the algorithm    ",
          "The explanation helps me to decide whether    <br> I can trust the generated annotations    ",
          "The explanation provides me with    <br>valuable information for my work    "
         ]
        },
        {
         "marker": {
          "color": "rgb(67,147,195)"
         },
         "name": "Strongly agree",
         "orientation": "h",
         "showlegend": false,
         "type": "bar",
         "width": 0.8,
         "x": [
          0.21052631578947367,
          0.21052631578947367,
          0.21052631578947367,
          0.15789473684210525
         ],
         "y": [
          "I find the explanation    <br>intuitively understandable    ",
          "The explanation helps me to understand    <br>factors relevant to the algorithm    ",
          "The explanation helps me to decide whether    <br> I can trust the generated annotations    ",
          "The explanation provides me with    <br>valuable information for my work    "
         ]
        },
        {
         "marker": {
          "color": "rgb(214,96,77)"
         },
         "name": "Strongly disagree",
         "orientation": "h",
         "type": "bar",
         "x": [
          0,
          0,
          0,
          0,
          0,
          0,
          0
         ],
         "y": [
          "I find the explanation    <br>intuitively understandable    ",
          "The explanation helps me to understand    <br>factors relevant to the algorithm    ",
          "The explanation helps me to decide whether    <br> I can trust the generated annotations    ",
          "The explanation provides me with    <br>valuable information for my work    "
         ]
        },
        {
         "marker": {
          "color": "rgb(244,165,130)"
         },
         "name": "Disagree",
         "orientation": "h",
         "type": "bar",
         "x": [
          0,
          0,
          0,
          0,
          0,
          0,
          0
         ],
         "y": [
          "I find the explanation    <br>intuitively understandable    ",
          "The explanation helps me to understand    <br>factors relevant to the algorithm    ",
          "The explanation helps me to decide whether    <br> I can trust the generated annotations    ",
          "The explanation provides me with    <br>valuable information for my work    "
         ]
        },
        {
         "marker": {
          "color": "rgb(253,219,199)"
         },
         "name": "Slightly disagree",
         "orientation": "h",
         "type": "bar",
         "x": [
          0,
          0,
          0,
          0,
          0,
          0,
          0
         ],
         "y": [
          "I find the explanation    <br>intuitively understandable    ",
          "The explanation helps me to understand    <br>factors relevant to the algorithm    ",
          "The explanation helps me to decide whether    <br> I can trust the generated annotations    ",
          "The explanation provides me with    <br>valuable information for my work    "
         ]
        },
        {
         "marker": {
          "color": "rgb(247,247,247)"
         },
         "name": "Neutral",
         "orientation": "h",
         "type": "bar",
         "x": [
          0,
          0,
          0,
          0,
          0,
          0,
          0
         ],
         "y": [
          "I find the explanation    <br>intuitively understandable    ",
          "The explanation helps me to understand    <br>factors relevant to the algorithm    ",
          "The explanation helps me to decide whether    <br> I can trust the generated annotations    ",
          "The explanation provides me with    <br>valuable information for my work    "
         ]
        },
        {
         "marker": {
          "color": "rgb(209,229,240)"
         },
         "name": "Slightly agree",
         "orientation": "h",
         "type": "bar",
         "x": [
          0,
          0,
          0,
          0,
          0,
          0,
          0
         ],
         "y": [
          "I find the explanation    <br>intuitively understandable    ",
          "The explanation helps me to understand    <br>factors relevant to the algorithm    ",
          "The explanation helps me to decide whether    <br> I can trust the generated annotations    ",
          "The explanation provides me with    <br>valuable information for my work    "
         ]
        },
        {
         "marker": {
          "color": "rgb(146,197,222)"
         },
         "name": "Agree",
         "orientation": "h",
         "type": "bar",
         "x": [
          0,
          0,
          0,
          0,
          0,
          0,
          0
         ],
         "y": [
          "I find the explanation    <br>intuitively understandable    ",
          "The explanation helps me to understand    <br>factors relevant to the algorithm    ",
          "The explanation helps me to decide whether    <br> I can trust the generated annotations    ",
          "The explanation provides me with    <br>valuable information for my work    "
         ]
        },
        {
         "marker": {
          "color": "rgb(67,147,195)"
         },
         "name": "Strongly agree",
         "orientation": "h",
         "type": "bar",
         "x": [
          0,
          0,
          0,
          0,
          0,
          0,
          0
         ],
         "y": [
          "I find the explanation    <br>intuitively understandable    ",
          "The explanation helps me to understand    <br>factors relevant to the algorithm    ",
          "The explanation helps me to decide whether    <br> I can trust the generated annotations    ",
          "The explanation provides me with    <br>valuable information for my work    "
         ]
        }
       ],
       "layout": {
        "barmode": "relative",
        "legend": {
         "orientation": "h",
         "x": 0.5,
         "xanchor": "center",
         "y": -0.4,
         "yanchor": "bottom"
        },
        "template": {
         "data": {
          "bar": [
           {
            "error_x": {
             "color": "#2a3f5f"
            },
            "error_y": {
             "color": "#2a3f5f"
            },
            "marker": {
             "line": {
              "color": "#E5ECF6",
              "width": 0.5
             },
             "pattern": {
              "fillmode": "overlay",
              "size": 10,
              "solidity": 0.2
             }
            },
            "type": "bar"
           }
          ],
          "barpolar": [
           {
            "marker": {
             "line": {
              "color": "#E5ECF6",
              "width": 0.5
             },
             "pattern": {
              "fillmode": "overlay",
              "size": 10,
              "solidity": 0.2
             }
            },
            "type": "barpolar"
           }
          ],
          "carpet": [
           {
            "aaxis": {
             "endlinecolor": "#2a3f5f",
             "gridcolor": "white",
             "linecolor": "white",
             "minorgridcolor": "white",
             "startlinecolor": "#2a3f5f"
            },
            "baxis": {
             "endlinecolor": "#2a3f5f",
             "gridcolor": "white",
             "linecolor": "white",
             "minorgridcolor": "white",
             "startlinecolor": "#2a3f5f"
            },
            "type": "carpet"
           }
          ],
          "choropleth": [
           {
            "colorbar": {
             "outlinewidth": 0,
             "ticks": ""
            },
            "type": "choropleth"
           }
          ],
          "contour": [
           {
            "colorbar": {
             "outlinewidth": 0,
             "ticks": ""
            },
            "colorscale": [
             [
              0,
              "#0d0887"
             ],
             [
              0.1111111111111111,
              "#46039f"
             ],
             [
              0.2222222222222222,
              "#7201a8"
             ],
             [
              0.3333333333333333,
              "#9c179e"
             ],
             [
              0.4444444444444444,
              "#bd3786"
             ],
             [
              0.5555555555555556,
              "#d8576b"
             ],
             [
              0.6666666666666666,
              "#ed7953"
             ],
             [
              0.7777777777777778,
              "#fb9f3a"
             ],
             [
              0.8888888888888888,
              "#fdca26"
             ],
             [
              1,
              "#f0f921"
             ]
            ],
            "type": "contour"
           }
          ],
          "contourcarpet": [
           {
            "colorbar": {
             "outlinewidth": 0,
             "ticks": ""
            },
            "type": "contourcarpet"
           }
          ],
          "heatmap": [
           {
            "colorbar": {
             "outlinewidth": 0,
             "ticks": ""
            },
            "colorscale": [
             [
              0,
              "#0d0887"
             ],
             [
              0.1111111111111111,
              "#46039f"
             ],
             [
              0.2222222222222222,
              "#7201a8"
             ],
             [
              0.3333333333333333,
              "#9c179e"
             ],
             [
              0.4444444444444444,
              "#bd3786"
             ],
             [
              0.5555555555555556,
              "#d8576b"
             ],
             [
              0.6666666666666666,
              "#ed7953"
             ],
             [
              0.7777777777777778,
              "#fb9f3a"
             ],
             [
              0.8888888888888888,
              "#fdca26"
             ],
             [
              1,
              "#f0f921"
             ]
            ],
            "type": "heatmap"
           }
          ],
          "heatmapgl": [
           {
            "colorbar": {
             "outlinewidth": 0,
             "ticks": ""
            },
            "colorscale": [
             [
              0,
              "#0d0887"
             ],
             [
              0.1111111111111111,
              "#46039f"
             ],
             [
              0.2222222222222222,
              "#7201a8"
             ],
             [
              0.3333333333333333,
              "#9c179e"
             ],
             [
              0.4444444444444444,
              "#bd3786"
             ],
             [
              0.5555555555555556,
              "#d8576b"
             ],
             [
              0.6666666666666666,
              "#ed7953"
             ],
             [
              0.7777777777777778,
              "#fb9f3a"
             ],
             [
              0.8888888888888888,
              "#fdca26"
             ],
             [
              1,
              "#f0f921"
             ]
            ],
            "type": "heatmapgl"
           }
          ],
          "histogram": [
           {
            "marker": {
             "pattern": {
              "fillmode": "overlay",
              "size": 10,
              "solidity": 0.2
             }
            },
            "type": "histogram"
           }
          ],
          "histogram2d": [
           {
            "colorbar": {
             "outlinewidth": 0,
             "ticks": ""
            },
            "colorscale": [
             [
              0,
              "#0d0887"
             ],
             [
              0.1111111111111111,
              "#46039f"
             ],
             [
              0.2222222222222222,
              "#7201a8"
             ],
             [
              0.3333333333333333,
              "#9c179e"
             ],
             [
              0.4444444444444444,
              "#bd3786"
             ],
             [
              0.5555555555555556,
              "#d8576b"
             ],
             [
              0.6666666666666666,
              "#ed7953"
             ],
             [
              0.7777777777777778,
              "#fb9f3a"
             ],
             [
              0.8888888888888888,
              "#fdca26"
             ],
             [
              1,
              "#f0f921"
             ]
            ],
            "type": "histogram2d"
           }
          ],
          "histogram2dcontour": [
           {
            "colorbar": {
             "outlinewidth": 0,
             "ticks": ""
            },
            "colorscale": [
             [
              0,
              "#0d0887"
             ],
             [
              0.1111111111111111,
              "#46039f"
             ],
             [
              0.2222222222222222,
              "#7201a8"
             ],
             [
              0.3333333333333333,
              "#9c179e"
             ],
             [
              0.4444444444444444,
              "#bd3786"
             ],
             [
              0.5555555555555556,
              "#d8576b"
             ],
             [
              0.6666666666666666,
              "#ed7953"
             ],
             [
              0.7777777777777778,
              "#fb9f3a"
             ],
             [
              0.8888888888888888,
              "#fdca26"
             ],
             [
              1,
              "#f0f921"
             ]
            ],
            "type": "histogram2dcontour"
           }
          ],
          "mesh3d": [
           {
            "colorbar": {
             "outlinewidth": 0,
             "ticks": ""
            },
            "type": "mesh3d"
           }
          ],
          "parcoords": [
           {
            "line": {
             "colorbar": {
              "outlinewidth": 0,
              "ticks": ""
             }
            },
            "type": "parcoords"
           }
          ],
          "pie": [
           {
            "automargin": true,
            "type": "pie"
           }
          ],
          "scatter": [
           {
            "marker": {
             "colorbar": {
              "outlinewidth": 0,
              "ticks": ""
             }
            },
            "type": "scatter"
           }
          ],
          "scatter3d": [
           {
            "line": {
             "colorbar": {
              "outlinewidth": 0,
              "ticks": ""
             }
            },
            "marker": {
             "colorbar": {
              "outlinewidth": 0,
              "ticks": ""
             }
            },
            "type": "scatter3d"
           }
          ],
          "scattercarpet": [
           {
            "marker": {
             "colorbar": {
              "outlinewidth": 0,
              "ticks": ""
             }
            },
            "type": "scattercarpet"
           }
          ],
          "scattergeo": [
           {
            "marker": {
             "colorbar": {
              "outlinewidth": 0,
              "ticks": ""
             }
            },
            "type": "scattergeo"
           }
          ],
          "scattergl": [
           {
            "marker": {
             "colorbar": {
              "outlinewidth": 0,
              "ticks": ""
             }
            },
            "type": "scattergl"
           }
          ],
          "scattermapbox": [
           {
            "marker": {
             "colorbar": {
              "outlinewidth": 0,
              "ticks": ""
             }
            },
            "type": "scattermapbox"
           }
          ],
          "scatterpolar": [
           {
            "marker": {
             "colorbar": {
              "outlinewidth": 0,
              "ticks": ""
             }
            },
            "type": "scatterpolar"
           }
          ],
          "scatterpolargl": [
           {
            "marker": {
             "colorbar": {
              "outlinewidth": 0,
              "ticks": ""
             }
            },
            "type": "scatterpolargl"
           }
          ],
          "scatterternary": [
           {
            "marker": {
             "colorbar": {
              "outlinewidth": 0,
              "ticks": ""
             }
            },
            "type": "scatterternary"
           }
          ],
          "surface": [
           {
            "colorbar": {
             "outlinewidth": 0,
             "ticks": ""
            },
            "colorscale": [
             [
              0,
              "#0d0887"
             ],
             [
              0.1111111111111111,
              "#46039f"
             ],
             [
              0.2222222222222222,
              "#7201a8"
             ],
             [
              0.3333333333333333,
              "#9c179e"
             ],
             [
              0.4444444444444444,
              "#bd3786"
             ],
             [
              0.5555555555555556,
              "#d8576b"
             ],
             [
              0.6666666666666666,
              "#ed7953"
             ],
             [
              0.7777777777777778,
              "#fb9f3a"
             ],
             [
              0.8888888888888888,
              "#fdca26"
             ],
             [
              1,
              "#f0f921"
             ]
            ],
            "type": "surface"
           }
          ],
          "table": [
           {
            "cells": {
             "fill": {
              "color": "#EBF0F8"
             },
             "line": {
              "color": "white"
             }
            },
            "header": {
             "fill": {
              "color": "#C8D4E3"
             },
             "line": {
              "color": "white"
             }
            },
            "type": "table"
           }
          ]
         },
         "layout": {
          "annotationdefaults": {
           "arrowcolor": "#2a3f5f",
           "arrowhead": 0,
           "arrowwidth": 1
          },
          "autotypenumbers": "strict",
          "coloraxis": {
           "colorbar": {
            "outlinewidth": 0,
            "ticks": ""
           }
          },
          "colorscale": {
           "diverging": [
            [
             0,
             "#8e0152"
            ],
            [
             0.1,
             "#c51b7d"
            ],
            [
             0.2,
             "#de77ae"
            ],
            [
             0.3,
             "#f1b6da"
            ],
            [
             0.4,
             "#fde0ef"
            ],
            [
             0.5,
             "#f7f7f7"
            ],
            [
             0.6,
             "#e6f5d0"
            ],
            [
             0.7,
             "#b8e186"
            ],
            [
             0.8,
             "#7fbc41"
            ],
            [
             0.9,
             "#4d9221"
            ],
            [
             1,
             "#276419"
            ]
           ],
           "sequential": [
            [
             0,
             "#0d0887"
            ],
            [
             0.1111111111111111,
             "#46039f"
            ],
            [
             0.2222222222222222,
             "#7201a8"
            ],
            [
             0.3333333333333333,
             "#9c179e"
            ],
            [
             0.4444444444444444,
             "#bd3786"
            ],
            [
             0.5555555555555556,
             "#d8576b"
            ],
            [
             0.6666666666666666,
             "#ed7953"
            ],
            [
             0.7777777777777778,
             "#fb9f3a"
            ],
            [
             0.8888888888888888,
             "#fdca26"
            ],
            [
             1,
             "#f0f921"
            ]
           ],
           "sequentialminus": [
            [
             0,
             "#0d0887"
            ],
            [
             0.1111111111111111,
             "#46039f"
            ],
            [
             0.2222222222222222,
             "#7201a8"
            ],
            [
             0.3333333333333333,
             "#9c179e"
            ],
            [
             0.4444444444444444,
             "#bd3786"
            ],
            [
             0.5555555555555556,
             "#d8576b"
            ],
            [
             0.6666666666666666,
             "#ed7953"
            ],
            [
             0.7777777777777778,
             "#fb9f3a"
            ],
            [
             0.8888888888888888,
             "#fdca26"
            ],
            [
             1,
             "#f0f921"
            ]
           ]
          },
          "colorway": [
           "#636efa",
           "#EF553B",
           "#00cc96",
           "#ab63fa",
           "#FFA15A",
           "#19d3f3",
           "#FF6692",
           "#B6E880",
           "#FF97FF",
           "#FECB52"
          ],
          "font": {
           "color": "#2a3f5f"
          },
          "geo": {
           "bgcolor": "white",
           "lakecolor": "white",
           "landcolor": "#E5ECF6",
           "showlakes": true,
           "showland": true,
           "subunitcolor": "white"
          },
          "hoverlabel": {
           "align": "left"
          },
          "hovermode": "closest",
          "mapbox": {
           "style": "light"
          },
          "paper_bgcolor": "white",
          "plot_bgcolor": "#E5ECF6",
          "polar": {
           "angularaxis": {
            "gridcolor": "white",
            "linecolor": "white",
            "ticks": ""
           },
           "bgcolor": "#E5ECF6",
           "radialaxis": {
            "gridcolor": "white",
            "linecolor": "white",
            "ticks": ""
           }
          },
          "scene": {
           "xaxis": {
            "backgroundcolor": "#E5ECF6",
            "gridcolor": "white",
            "gridwidth": 2,
            "linecolor": "white",
            "showbackground": true,
            "ticks": "",
            "zerolinecolor": "white"
           },
           "yaxis": {
            "backgroundcolor": "#E5ECF6",
            "gridcolor": "white",
            "gridwidth": 2,
            "linecolor": "white",
            "showbackground": true,
            "ticks": "",
            "zerolinecolor": "white"
           },
           "zaxis": {
            "backgroundcolor": "#E5ECF6",
            "gridcolor": "white",
            "gridwidth": 2,
            "linecolor": "white",
            "showbackground": true,
            "ticks": "",
            "zerolinecolor": "white"
           }
          },
          "shapedefaults": {
           "line": {
            "color": "#2a3f5f"
           }
          },
          "ternary": {
           "aaxis": {
            "gridcolor": "white",
            "linecolor": "white",
            "ticks": ""
           },
           "baxis": {
            "gridcolor": "white",
            "linecolor": "white",
            "ticks": ""
           },
           "bgcolor": "#E5ECF6",
           "caxis": {
            "gridcolor": "white",
            "linecolor": "white",
            "ticks": ""
           }
          },
          "title": {
           "x": 0.05
          },
          "xaxis": {
           "automargin": true,
           "gridcolor": "white",
           "linecolor": "white",
           "ticks": "",
           "title": {
            "standoff": 15
           },
           "zerolinecolor": "white",
           "zerolinewidth": 2
          },
          "yaxis": {
           "automargin": true,
           "gridcolor": "white",
           "linecolor": "white",
           "ticks": "",
           "title": {
            "standoff": 15
           },
           "zerolinecolor": "white",
           "zerolinewidth": 2
          }
         }
        },
        "title": {
         "text": "Counterfactuals: Single axis",
         "x": 0.5
        },
        "xaxis": {
         "range": [
          -1,
          1
         ],
         "tick0": 0,
         "tickformat": "%",
         "title": {
          "text": "Frequency"
         }
        },
        "yaxis": {
         "autorange": "reversed"
        }
       }
      }
     },
     "metadata": {},
     "output_type": "display_data"
    },
    {
     "name": "stdout",
     "output_type": "stream",
     "text": [
      "Like previous, initial reaction is that interpolation is useful but doesn't give the full picture of possible negatives. Perhaps clicking around each cell and seeing the interpolation for each would feel more useful\n",
      "What is a counterfactual? \n"
     ]
    },
    {
     "data": {
      "application/vnd.plotly.v1+json": {
       "config": {
        "plotlyServerURL": "https://plot.ly"
       },
       "data": [
        {
         "marker": {
          "color": "rgb(247,247,247)"
         },
         "name": "Neutral",
         "orientation": "h",
         "showlegend": false,
         "type": "bar",
         "width": 0.8,
         "x": [
          -0.07894736842105263,
          -0.10526315789473684,
          -0.13157894736842105,
          -0.10526315789473684
         ],
         "y": [
          "I find the explanation    <br>intuitively understandable    ",
          "The explanation helps me to understand    <br>factors relevant to the algorithm    ",
          "The explanation helps me to decide whether    <br> I can trust the generated annotations    ",
          "The explanation provides me with    <br>valuable information for my work    "
         ]
        },
        {
         "marker": {
          "color": "rgb(253,219,199)"
         },
         "name": "Slightly disagree",
         "orientation": "h",
         "showlegend": false,
         "type": "bar",
         "width": 0.8,
         "x": [
          0,
          -0.15789473684210525,
          -0.10526315789473684,
          -0.15789473684210525
         ],
         "y": [
          "I find the explanation    <br>intuitively understandable    ",
          "The explanation helps me to understand    <br>factors relevant to the algorithm    ",
          "The explanation helps me to decide whether    <br> I can trust the generated annotations    ",
          "The explanation provides me with    <br>valuable information for my work    "
         ]
        },
        {
         "marker": {
          "color": "rgb(244,165,130)"
         },
         "name": "Disagree",
         "orientation": "h",
         "showlegend": false,
         "type": "bar",
         "width": 0.8,
         "x": [
          -0.15789473684210525,
          -0.10526315789473684,
          -0.05263157894736842,
          -0.05263157894736842
         ],
         "y": [
          "I find the explanation    <br>intuitively understandable    ",
          "The explanation helps me to understand    <br>factors relevant to the algorithm    ",
          "The explanation helps me to decide whether    <br> I can trust the generated annotations    ",
          "The explanation provides me with    <br>valuable information for my work    "
         ]
        },
        {
         "marker": {
          "color": "rgb(214,96,77)"
         },
         "name": "Strongly disagree",
         "orientation": "h",
         "showlegend": false,
         "type": "bar",
         "width": 0.8,
         "x": [
          -0.10526315789473684,
          -0.05263157894736842,
          -0.10526315789473684,
          -0.10526315789473684
         ],
         "y": [
          "I find the explanation    <br>intuitively understandable    ",
          "The explanation helps me to understand    <br>factors relevant to the algorithm    ",
          "The explanation helps me to decide whether    <br> I can trust the generated annotations    ",
          "The explanation provides me with    <br>valuable information for my work    "
         ]
        },
        {
         "marker": {
          "color": "rgb(247,247,247)"
         },
         "name": "Neutral",
         "orientation": "h",
         "showlegend": false,
         "type": "bar",
         "width": 0.8,
         "x": [
          0.07894736842105263,
          0.10526315789473684,
          0.13157894736842105,
          0.10526315789473684
         ],
         "y": [
          "I find the explanation    <br>intuitively understandable    ",
          "The explanation helps me to understand    <br>factors relevant to the algorithm    ",
          "The explanation helps me to decide whether    <br> I can trust the generated annotations    ",
          "The explanation provides me with    <br>valuable information for my work    "
         ]
        },
        {
         "marker": {
          "color": "rgb(209,229,240)"
         },
         "name": "Slightly agree",
         "orientation": "h",
         "showlegend": false,
         "type": "bar",
         "width": 0.8,
         "x": [
          0.3684210526315789,
          0.21052631578947367,
          0.21052631578947367,
          0.3157894736842105
         ],
         "y": [
          "I find the explanation    <br>intuitively understandable    ",
          "The explanation helps me to understand    <br>factors relevant to the algorithm    ",
          "The explanation helps me to decide whether    <br> I can trust the generated annotations    ",
          "The explanation provides me with    <br>valuable information for my work    "
         ]
        },
        {
         "marker": {
          "color": "rgb(146,197,222)"
         },
         "name": "Agree",
         "orientation": "h",
         "showlegend": false,
         "type": "bar",
         "width": 0.8,
         "x": [
          0.10526315789473684,
          0.21052631578947367,
          0.2631578947368421,
          0.10526315789473684
         ],
         "y": [
          "I find the explanation    <br>intuitively understandable    ",
          "The explanation helps me to understand    <br>factors relevant to the algorithm    ",
          "The explanation helps me to decide whether    <br> I can trust the generated annotations    ",
          "The explanation provides me with    <br>valuable information for my work    "
         ]
        },
        {
         "marker": {
          "color": "rgb(67,147,195)"
         },
         "name": "Strongly agree",
         "orientation": "h",
         "showlegend": false,
         "type": "bar",
         "width": 0.8,
         "x": [
          0.10526315789473684,
          0.05263157894736842,
          0,
          0.05263157894736842
         ],
         "y": [
          "I find the explanation    <br>intuitively understandable    ",
          "The explanation helps me to understand    <br>factors relevant to the algorithm    ",
          "The explanation helps me to decide whether    <br> I can trust the generated annotations    ",
          "The explanation provides me with    <br>valuable information for my work    "
         ]
        },
        {
         "marker": {
          "color": "rgb(214,96,77)"
         },
         "name": "Strongly disagree",
         "orientation": "h",
         "type": "bar",
         "x": [
          0,
          0,
          0,
          0,
          0,
          0,
          0
         ],
         "y": [
          "I find the explanation    <br>intuitively understandable    ",
          "The explanation helps me to understand    <br>factors relevant to the algorithm    ",
          "The explanation helps me to decide whether    <br> I can trust the generated annotations    ",
          "The explanation provides me with    <br>valuable information for my work    "
         ]
        },
        {
         "marker": {
          "color": "rgb(244,165,130)"
         },
         "name": "Disagree",
         "orientation": "h",
         "type": "bar",
         "x": [
          0,
          0,
          0,
          0,
          0,
          0,
          0
         ],
         "y": [
          "I find the explanation    <br>intuitively understandable    ",
          "The explanation helps me to understand    <br>factors relevant to the algorithm    ",
          "The explanation helps me to decide whether    <br> I can trust the generated annotations    ",
          "The explanation provides me with    <br>valuable information for my work    "
         ]
        },
        {
         "marker": {
          "color": "rgb(253,219,199)"
         },
         "name": "Slightly disagree",
         "orientation": "h",
         "type": "bar",
         "x": [
          0,
          0,
          0,
          0,
          0,
          0,
          0
         ],
         "y": [
          "I find the explanation    <br>intuitively understandable    ",
          "The explanation helps me to understand    <br>factors relevant to the algorithm    ",
          "The explanation helps me to decide whether    <br> I can trust the generated annotations    ",
          "The explanation provides me with    <br>valuable information for my work    "
         ]
        },
        {
         "marker": {
          "color": "rgb(247,247,247)"
         },
         "name": "Neutral",
         "orientation": "h",
         "type": "bar",
         "x": [
          0,
          0,
          0,
          0,
          0,
          0,
          0
         ],
         "y": [
          "I find the explanation    <br>intuitively understandable    ",
          "The explanation helps me to understand    <br>factors relevant to the algorithm    ",
          "The explanation helps me to decide whether    <br> I can trust the generated annotations    ",
          "The explanation provides me with    <br>valuable information for my work    "
         ]
        },
        {
         "marker": {
          "color": "rgb(209,229,240)"
         },
         "name": "Slightly agree",
         "orientation": "h",
         "type": "bar",
         "x": [
          0,
          0,
          0,
          0,
          0,
          0,
          0
         ],
         "y": [
          "I find the explanation    <br>intuitively understandable    ",
          "The explanation helps me to understand    <br>factors relevant to the algorithm    ",
          "The explanation helps me to decide whether    <br> I can trust the generated annotations    ",
          "The explanation provides me with    <br>valuable information for my work    "
         ]
        },
        {
         "marker": {
          "color": "rgb(146,197,222)"
         },
         "name": "Agree",
         "orientation": "h",
         "type": "bar",
         "x": [
          0,
          0,
          0,
          0,
          0,
          0,
          0
         ],
         "y": [
          "I find the explanation    <br>intuitively understandable    ",
          "The explanation helps me to understand    <br>factors relevant to the algorithm    ",
          "The explanation helps me to decide whether    <br> I can trust the generated annotations    ",
          "The explanation provides me with    <br>valuable information for my work    "
         ]
        },
        {
         "marker": {
          "color": "rgb(67,147,195)"
         },
         "name": "Strongly agree",
         "orientation": "h",
         "type": "bar",
         "x": [
          0,
          0,
          0,
          0,
          0,
          0,
          0
         ],
         "y": [
          "I find the explanation    <br>intuitively understandable    ",
          "The explanation helps me to understand    <br>factors relevant to the algorithm    ",
          "The explanation helps me to decide whether    <br> I can trust the generated annotations    ",
          "The explanation provides me with    <br>valuable information for my work    "
         ]
        }
       ],
       "layout": {
        "barmode": "relative",
        "legend": {
         "orientation": "h",
         "x": 0.5,
         "xanchor": "center",
         "y": -0.4,
         "yanchor": "bottom"
        },
        "template": {
         "data": {
          "bar": [
           {
            "error_x": {
             "color": "#2a3f5f"
            },
            "error_y": {
             "color": "#2a3f5f"
            },
            "marker": {
             "line": {
              "color": "#E5ECF6",
              "width": 0.5
             },
             "pattern": {
              "fillmode": "overlay",
              "size": 10,
              "solidity": 0.2
             }
            },
            "type": "bar"
           }
          ],
          "barpolar": [
           {
            "marker": {
             "line": {
              "color": "#E5ECF6",
              "width": 0.5
             },
             "pattern": {
              "fillmode": "overlay",
              "size": 10,
              "solidity": 0.2
             }
            },
            "type": "barpolar"
           }
          ],
          "carpet": [
           {
            "aaxis": {
             "endlinecolor": "#2a3f5f",
             "gridcolor": "white",
             "linecolor": "white",
             "minorgridcolor": "white",
             "startlinecolor": "#2a3f5f"
            },
            "baxis": {
             "endlinecolor": "#2a3f5f",
             "gridcolor": "white",
             "linecolor": "white",
             "minorgridcolor": "white",
             "startlinecolor": "#2a3f5f"
            },
            "type": "carpet"
           }
          ],
          "choropleth": [
           {
            "colorbar": {
             "outlinewidth": 0,
             "ticks": ""
            },
            "type": "choropleth"
           }
          ],
          "contour": [
           {
            "colorbar": {
             "outlinewidth": 0,
             "ticks": ""
            },
            "colorscale": [
             [
              0,
              "#0d0887"
             ],
             [
              0.1111111111111111,
              "#46039f"
             ],
             [
              0.2222222222222222,
              "#7201a8"
             ],
             [
              0.3333333333333333,
              "#9c179e"
             ],
             [
              0.4444444444444444,
              "#bd3786"
             ],
             [
              0.5555555555555556,
              "#d8576b"
             ],
             [
              0.6666666666666666,
              "#ed7953"
             ],
             [
              0.7777777777777778,
              "#fb9f3a"
             ],
             [
              0.8888888888888888,
              "#fdca26"
             ],
             [
              1,
              "#f0f921"
             ]
            ],
            "type": "contour"
           }
          ],
          "contourcarpet": [
           {
            "colorbar": {
             "outlinewidth": 0,
             "ticks": ""
            },
            "type": "contourcarpet"
           }
          ],
          "heatmap": [
           {
            "colorbar": {
             "outlinewidth": 0,
             "ticks": ""
            },
            "colorscale": [
             [
              0,
              "#0d0887"
             ],
             [
              0.1111111111111111,
              "#46039f"
             ],
             [
              0.2222222222222222,
              "#7201a8"
             ],
             [
              0.3333333333333333,
              "#9c179e"
             ],
             [
              0.4444444444444444,
              "#bd3786"
             ],
             [
              0.5555555555555556,
              "#d8576b"
             ],
             [
              0.6666666666666666,
              "#ed7953"
             ],
             [
              0.7777777777777778,
              "#fb9f3a"
             ],
             [
              0.8888888888888888,
              "#fdca26"
             ],
             [
              1,
              "#f0f921"
             ]
            ],
            "type": "heatmap"
           }
          ],
          "heatmapgl": [
           {
            "colorbar": {
             "outlinewidth": 0,
             "ticks": ""
            },
            "colorscale": [
             [
              0,
              "#0d0887"
             ],
             [
              0.1111111111111111,
              "#46039f"
             ],
             [
              0.2222222222222222,
              "#7201a8"
             ],
             [
              0.3333333333333333,
              "#9c179e"
             ],
             [
              0.4444444444444444,
              "#bd3786"
             ],
             [
              0.5555555555555556,
              "#d8576b"
             ],
             [
              0.6666666666666666,
              "#ed7953"
             ],
             [
              0.7777777777777778,
              "#fb9f3a"
             ],
             [
              0.8888888888888888,
              "#fdca26"
             ],
             [
              1,
              "#f0f921"
             ]
            ],
            "type": "heatmapgl"
           }
          ],
          "histogram": [
           {
            "marker": {
             "pattern": {
              "fillmode": "overlay",
              "size": 10,
              "solidity": 0.2
             }
            },
            "type": "histogram"
           }
          ],
          "histogram2d": [
           {
            "colorbar": {
             "outlinewidth": 0,
             "ticks": ""
            },
            "colorscale": [
             [
              0,
              "#0d0887"
             ],
             [
              0.1111111111111111,
              "#46039f"
             ],
             [
              0.2222222222222222,
              "#7201a8"
             ],
             [
              0.3333333333333333,
              "#9c179e"
             ],
             [
              0.4444444444444444,
              "#bd3786"
             ],
             [
              0.5555555555555556,
              "#d8576b"
             ],
             [
              0.6666666666666666,
              "#ed7953"
             ],
             [
              0.7777777777777778,
              "#fb9f3a"
             ],
             [
              0.8888888888888888,
              "#fdca26"
             ],
             [
              1,
              "#f0f921"
             ]
            ],
            "type": "histogram2d"
           }
          ],
          "histogram2dcontour": [
           {
            "colorbar": {
             "outlinewidth": 0,
             "ticks": ""
            },
            "colorscale": [
             [
              0,
              "#0d0887"
             ],
             [
              0.1111111111111111,
              "#46039f"
             ],
             [
              0.2222222222222222,
              "#7201a8"
             ],
             [
              0.3333333333333333,
              "#9c179e"
             ],
             [
              0.4444444444444444,
              "#bd3786"
             ],
             [
              0.5555555555555556,
              "#d8576b"
             ],
             [
              0.6666666666666666,
              "#ed7953"
             ],
             [
              0.7777777777777778,
              "#fb9f3a"
             ],
             [
              0.8888888888888888,
              "#fdca26"
             ],
             [
              1,
              "#f0f921"
             ]
            ],
            "type": "histogram2dcontour"
           }
          ],
          "mesh3d": [
           {
            "colorbar": {
             "outlinewidth": 0,
             "ticks": ""
            },
            "type": "mesh3d"
           }
          ],
          "parcoords": [
           {
            "line": {
             "colorbar": {
              "outlinewidth": 0,
              "ticks": ""
             }
            },
            "type": "parcoords"
           }
          ],
          "pie": [
           {
            "automargin": true,
            "type": "pie"
           }
          ],
          "scatter": [
           {
            "marker": {
             "colorbar": {
              "outlinewidth": 0,
              "ticks": ""
             }
            },
            "type": "scatter"
           }
          ],
          "scatter3d": [
           {
            "line": {
             "colorbar": {
              "outlinewidth": 0,
              "ticks": ""
             }
            },
            "marker": {
             "colorbar": {
              "outlinewidth": 0,
              "ticks": ""
             }
            },
            "type": "scatter3d"
           }
          ],
          "scattercarpet": [
           {
            "marker": {
             "colorbar": {
              "outlinewidth": 0,
              "ticks": ""
             }
            },
            "type": "scattercarpet"
           }
          ],
          "scattergeo": [
           {
            "marker": {
             "colorbar": {
              "outlinewidth": 0,
              "ticks": ""
             }
            },
            "type": "scattergeo"
           }
          ],
          "scattergl": [
           {
            "marker": {
             "colorbar": {
              "outlinewidth": 0,
              "ticks": ""
             }
            },
            "type": "scattergl"
           }
          ],
          "scattermapbox": [
           {
            "marker": {
             "colorbar": {
              "outlinewidth": 0,
              "ticks": ""
             }
            },
            "type": "scattermapbox"
           }
          ],
          "scatterpolar": [
           {
            "marker": {
             "colorbar": {
              "outlinewidth": 0,
              "ticks": ""
             }
            },
            "type": "scatterpolar"
           }
          ],
          "scatterpolargl": [
           {
            "marker": {
             "colorbar": {
              "outlinewidth": 0,
              "ticks": ""
             }
            },
            "type": "scatterpolargl"
           }
          ],
          "scatterternary": [
           {
            "marker": {
             "colorbar": {
              "outlinewidth": 0,
              "ticks": ""
             }
            },
            "type": "scatterternary"
           }
          ],
          "surface": [
           {
            "colorbar": {
             "outlinewidth": 0,
             "ticks": ""
            },
            "colorscale": [
             [
              0,
              "#0d0887"
             ],
             [
              0.1111111111111111,
              "#46039f"
             ],
             [
              0.2222222222222222,
              "#7201a8"
             ],
             [
              0.3333333333333333,
              "#9c179e"
             ],
             [
              0.4444444444444444,
              "#bd3786"
             ],
             [
              0.5555555555555556,
              "#d8576b"
             ],
             [
              0.6666666666666666,
              "#ed7953"
             ],
             [
              0.7777777777777778,
              "#fb9f3a"
             ],
             [
              0.8888888888888888,
              "#fdca26"
             ],
             [
              1,
              "#f0f921"
             ]
            ],
            "type": "surface"
           }
          ],
          "table": [
           {
            "cells": {
             "fill": {
              "color": "#EBF0F8"
             },
             "line": {
              "color": "white"
             }
            },
            "header": {
             "fill": {
              "color": "#C8D4E3"
             },
             "line": {
              "color": "white"
             }
            },
            "type": "table"
           }
          ]
         },
         "layout": {
          "annotationdefaults": {
           "arrowcolor": "#2a3f5f",
           "arrowhead": 0,
           "arrowwidth": 1
          },
          "autotypenumbers": "strict",
          "coloraxis": {
           "colorbar": {
            "outlinewidth": 0,
            "ticks": ""
           }
          },
          "colorscale": {
           "diverging": [
            [
             0,
             "#8e0152"
            ],
            [
             0.1,
             "#c51b7d"
            ],
            [
             0.2,
             "#de77ae"
            ],
            [
             0.3,
             "#f1b6da"
            ],
            [
             0.4,
             "#fde0ef"
            ],
            [
             0.5,
             "#f7f7f7"
            ],
            [
             0.6,
             "#e6f5d0"
            ],
            [
             0.7,
             "#b8e186"
            ],
            [
             0.8,
             "#7fbc41"
            ],
            [
             0.9,
             "#4d9221"
            ],
            [
             1,
             "#276419"
            ]
           ],
           "sequential": [
            [
             0,
             "#0d0887"
            ],
            [
             0.1111111111111111,
             "#46039f"
            ],
            [
             0.2222222222222222,
             "#7201a8"
            ],
            [
             0.3333333333333333,
             "#9c179e"
            ],
            [
             0.4444444444444444,
             "#bd3786"
            ],
            [
             0.5555555555555556,
             "#d8576b"
            ],
            [
             0.6666666666666666,
             "#ed7953"
            ],
            [
             0.7777777777777778,
             "#fb9f3a"
            ],
            [
             0.8888888888888888,
             "#fdca26"
            ],
            [
             1,
             "#f0f921"
            ]
           ],
           "sequentialminus": [
            [
             0,
             "#0d0887"
            ],
            [
             0.1111111111111111,
             "#46039f"
            ],
            [
             0.2222222222222222,
             "#7201a8"
            ],
            [
             0.3333333333333333,
             "#9c179e"
            ],
            [
             0.4444444444444444,
             "#bd3786"
            ],
            [
             0.5555555555555556,
             "#d8576b"
            ],
            [
             0.6666666666666666,
             "#ed7953"
            ],
            [
             0.7777777777777778,
             "#fb9f3a"
            ],
            [
             0.8888888888888888,
             "#fdca26"
            ],
            [
             1,
             "#f0f921"
            ]
           ]
          },
          "colorway": [
           "#636efa",
           "#EF553B",
           "#00cc96",
           "#ab63fa",
           "#FFA15A",
           "#19d3f3",
           "#FF6692",
           "#B6E880",
           "#FF97FF",
           "#FECB52"
          ],
          "font": {
           "color": "#2a3f5f"
          },
          "geo": {
           "bgcolor": "white",
           "lakecolor": "white",
           "landcolor": "#E5ECF6",
           "showlakes": true,
           "showland": true,
           "subunitcolor": "white"
          },
          "hoverlabel": {
           "align": "left"
          },
          "hovermode": "closest",
          "mapbox": {
           "style": "light"
          },
          "paper_bgcolor": "white",
          "plot_bgcolor": "#E5ECF6",
          "polar": {
           "angularaxis": {
            "gridcolor": "white",
            "linecolor": "white",
            "ticks": ""
           },
           "bgcolor": "#E5ECF6",
           "radialaxis": {
            "gridcolor": "white",
            "linecolor": "white",
            "ticks": ""
           }
          },
          "scene": {
           "xaxis": {
            "backgroundcolor": "#E5ECF6",
            "gridcolor": "white",
            "gridwidth": 2,
            "linecolor": "white",
            "showbackground": true,
            "ticks": "",
            "zerolinecolor": "white"
           },
           "yaxis": {
            "backgroundcolor": "#E5ECF6",
            "gridcolor": "white",
            "gridwidth": 2,
            "linecolor": "white",
            "showbackground": true,
            "ticks": "",
            "zerolinecolor": "white"
           },
           "zaxis": {
            "backgroundcolor": "#E5ECF6",
            "gridcolor": "white",
            "gridwidth": 2,
            "linecolor": "white",
            "showbackground": true,
            "ticks": "",
            "zerolinecolor": "white"
           }
          },
          "shapedefaults": {
           "line": {
            "color": "#2a3f5f"
           }
          },
          "ternary": {
           "aaxis": {
            "gridcolor": "white",
            "linecolor": "white",
            "ticks": ""
           },
           "baxis": {
            "gridcolor": "white",
            "linecolor": "white",
            "ticks": ""
           },
           "bgcolor": "#E5ECF6",
           "caxis": {
            "gridcolor": "white",
            "linecolor": "white",
            "ticks": ""
           }
          },
          "title": {
           "x": 0.05
          },
          "xaxis": {
           "automargin": true,
           "gridcolor": "white",
           "linecolor": "white",
           "ticks": "",
           "title": {
            "standoff": 15
           },
           "zerolinecolor": "white",
           "zerolinewidth": 2
          },
          "yaxis": {
           "automargin": true,
           "gridcolor": "white",
           "linecolor": "white",
           "ticks": "",
           "title": {
            "standoff": 15
           },
           "zerolinecolor": "white",
           "zerolinewidth": 2
          }
         }
        },
        "title": {
         "text": "Counterfactuals: Two axes",
         "x": 0.5
        },
        "xaxis": {
         "range": [
          -1,
          1
         ],
         "tick0": 0,
         "tickformat": "%",
         "title": {
          "text": "Frequency"
         }
        },
        "yaxis": {
         "autorange": "reversed"
        }
       }
      }
     },
     "metadata": {},
     "output_type": "display_data"
    },
    {
     "name": "stdout",
     "output_type": "stream",
     "text": [
      "It seems there may be many counterfactual examples that are more closely related to the positive example which could be useful for understanding the nuances and building trust\n",
      "Do not understand this question\n"
     ]
    },
    {
     "data": {
      "application/vnd.plotly.v1+json": {
       "config": {
        "plotlyServerURL": "https://plot.ly"
       },
       "data": [
        {
         "marker": {
          "color": "rgb(247,247,247)"
         },
         "name": "Neutral",
         "orientation": "h",
         "showlegend": false,
         "type": "bar",
         "width": 0.8,
         "x": [
          -0.07894736842105263,
          -0.07894736842105263,
          -0.15789473684210525,
          -0.13157894736842105
         ],
         "y": [
          "I find the explanation    <br>intuitively understandable    ",
          "The explanation helps me to understand    <br>factors relevant to the algorithm    ",
          "The explanation helps me to decide whether    <br> I can trust the generated annotations    ",
          "The explanation provides me with    <br>valuable information for my work    "
         ]
        },
        {
         "marker": {
          "color": "rgb(253,219,199)"
         },
         "name": "Slightly disagree",
         "orientation": "h",
         "showlegend": false,
         "type": "bar",
         "width": 0.8,
         "x": [
          -0.15789473684210525,
          -0.10526315789473684,
          -0.10526315789473684,
          -0.21052631578947367
         ],
         "y": [
          "I find the explanation    <br>intuitively understandable    ",
          "The explanation helps me to understand    <br>factors relevant to the algorithm    ",
          "The explanation helps me to decide whether    <br> I can trust the generated annotations    ",
          "The explanation provides me with    <br>valuable information for my work    "
         ]
        },
        {
         "marker": {
          "color": "rgb(244,165,130)"
         },
         "name": "Disagree",
         "orientation": "h",
         "showlegend": false,
         "type": "bar",
         "width": 0.8,
         "x": [
          -0.10526315789473684,
          -0.15789473684210525,
          -0.10526315789473684,
          -0.21052631578947367
         ],
         "y": [
          "I find the explanation    <br>intuitively understandable    ",
          "The explanation helps me to understand    <br>factors relevant to the algorithm    ",
          "The explanation helps me to decide whether    <br> I can trust the generated annotations    ",
          "The explanation provides me with    <br>valuable information for my work    "
         ]
        },
        {
         "marker": {
          "color": "rgb(214,96,77)"
         },
         "name": "Strongly disagree",
         "orientation": "h",
         "showlegend": false,
         "type": "bar",
         "width": 0.8,
         "x": [
          -0.05263157894736842,
          0,
          -0.05263157894736842,
          0
         ],
         "y": [
          "I find the explanation    <br>intuitively understandable    ",
          "The explanation helps me to understand    <br>factors relevant to the algorithm    ",
          "The explanation helps me to decide whether    <br> I can trust the generated annotations    ",
          "The explanation provides me with    <br>valuable information for my work    "
         ]
        },
        {
         "marker": {
          "color": "rgb(247,247,247)"
         },
         "name": "Neutral",
         "orientation": "h",
         "showlegend": false,
         "type": "bar",
         "width": 0.8,
         "x": [
          0.07894736842105263,
          0.07894736842105263,
          0.15789473684210525,
          0.13157894736842105
         ],
         "y": [
          "I find the explanation    <br>intuitively understandable    ",
          "The explanation helps me to understand    <br>factors relevant to the algorithm    ",
          "The explanation helps me to decide whether    <br> I can trust the generated annotations    ",
          "The explanation provides me with    <br>valuable information for my work    "
         ]
        },
        {
         "marker": {
          "color": "rgb(209,229,240)"
         },
         "name": "Slightly agree",
         "orientation": "h",
         "showlegend": false,
         "type": "bar",
         "width": 0.8,
         "x": [
          0.15789473684210525,
          0.21052631578947367,
          0.10526315789473684,
          0.10526315789473684
         ],
         "y": [
          "I find the explanation    <br>intuitively understandable    ",
          "The explanation helps me to understand    <br>factors relevant to the algorithm    ",
          "The explanation helps me to decide whether    <br> I can trust the generated annotations    ",
          "The explanation provides me with    <br>valuable information for my work    "
         ]
        },
        {
         "marker": {
          "color": "rgb(146,197,222)"
         },
         "name": "Agree",
         "orientation": "h",
         "showlegend": false,
         "type": "bar",
         "width": 0.8,
         "x": [
          0.3157894736842105,
          0.2631578947368421,
          0.15789473684210525,
          0.10526315789473684
         ],
         "y": [
          "I find the explanation    <br>intuitively understandable    ",
          "The explanation helps me to understand    <br>factors relevant to the algorithm    ",
          "The explanation helps me to decide whether    <br> I can trust the generated annotations    ",
          "The explanation provides me with    <br>valuable information for my work    "
         ]
        },
        {
         "marker": {
          "color": "rgb(67,147,195)"
         },
         "name": "Strongly agree",
         "orientation": "h",
         "showlegend": false,
         "type": "bar",
         "width": 0.8,
         "x": [
          0.05263157894736842,
          0.10526315789473684,
          0.15789473684210525,
          0.10526315789473684
         ],
         "y": [
          "I find the explanation    <br>intuitively understandable    ",
          "The explanation helps me to understand    <br>factors relevant to the algorithm    ",
          "The explanation helps me to decide whether    <br> I can trust the generated annotations    ",
          "The explanation provides me with    <br>valuable information for my work    "
         ]
        },
        {
         "marker": {
          "color": "rgb(214,96,77)"
         },
         "name": "Strongly disagree",
         "orientation": "h",
         "type": "bar",
         "x": [
          0,
          0,
          0,
          0,
          0,
          0,
          0
         ],
         "y": [
          "I find the explanation    <br>intuitively understandable    ",
          "The explanation helps me to understand    <br>factors relevant to the algorithm    ",
          "The explanation helps me to decide whether    <br> I can trust the generated annotations    ",
          "The explanation provides me with    <br>valuable information for my work    "
         ]
        },
        {
         "marker": {
          "color": "rgb(244,165,130)"
         },
         "name": "Disagree",
         "orientation": "h",
         "type": "bar",
         "x": [
          0,
          0,
          0,
          0,
          0,
          0,
          0
         ],
         "y": [
          "I find the explanation    <br>intuitively understandable    ",
          "The explanation helps me to understand    <br>factors relevant to the algorithm    ",
          "The explanation helps me to decide whether    <br> I can trust the generated annotations    ",
          "The explanation provides me with    <br>valuable information for my work    "
         ]
        },
        {
         "marker": {
          "color": "rgb(253,219,199)"
         },
         "name": "Slightly disagree",
         "orientation": "h",
         "type": "bar",
         "x": [
          0,
          0,
          0,
          0,
          0,
          0,
          0
         ],
         "y": [
          "I find the explanation    <br>intuitively understandable    ",
          "The explanation helps me to understand    <br>factors relevant to the algorithm    ",
          "The explanation helps me to decide whether    <br> I can trust the generated annotations    ",
          "The explanation provides me with    <br>valuable information for my work    "
         ]
        },
        {
         "marker": {
          "color": "rgb(247,247,247)"
         },
         "name": "Neutral",
         "orientation": "h",
         "type": "bar",
         "x": [
          0,
          0,
          0,
          0,
          0,
          0,
          0
         ],
         "y": [
          "I find the explanation    <br>intuitively understandable    ",
          "The explanation helps me to understand    <br>factors relevant to the algorithm    ",
          "The explanation helps me to decide whether    <br> I can trust the generated annotations    ",
          "The explanation provides me with    <br>valuable information for my work    "
         ]
        },
        {
         "marker": {
          "color": "rgb(209,229,240)"
         },
         "name": "Slightly agree",
         "orientation": "h",
         "type": "bar",
         "x": [
          0,
          0,
          0,
          0,
          0,
          0,
          0
         ],
         "y": [
          "I find the explanation    <br>intuitively understandable    ",
          "The explanation helps me to understand    <br>factors relevant to the algorithm    ",
          "The explanation helps me to decide whether    <br> I can trust the generated annotations    ",
          "The explanation provides me with    <br>valuable information for my work    "
         ]
        },
        {
         "marker": {
          "color": "rgb(146,197,222)"
         },
         "name": "Agree",
         "orientation": "h",
         "type": "bar",
         "x": [
          0,
          0,
          0,
          0,
          0,
          0,
          0
         ],
         "y": [
          "I find the explanation    <br>intuitively understandable    ",
          "The explanation helps me to understand    <br>factors relevant to the algorithm    ",
          "The explanation helps me to decide whether    <br> I can trust the generated annotations    ",
          "The explanation provides me with    <br>valuable information for my work    "
         ]
        },
        {
         "marker": {
          "color": "rgb(67,147,195)"
         },
         "name": "Strongly agree",
         "orientation": "h",
         "type": "bar",
         "x": [
          0,
          0,
          0,
          0,
          0,
          0,
          0
         ],
         "y": [
          "I find the explanation    <br>intuitively understandable    ",
          "The explanation helps me to understand    <br>factors relevant to the algorithm    ",
          "The explanation helps me to decide whether    <br> I can trust the generated annotations    ",
          "The explanation provides me with    <br>valuable information for my work    "
         ]
        }
       ],
       "layout": {
        "barmode": "relative",
        "legend": {
         "orientation": "h",
         "x": 0.5,
         "xanchor": "center",
         "y": -0.4,
         "yanchor": "bottom"
        },
        "template": {
         "data": {
          "bar": [
           {
            "error_x": {
             "color": "#2a3f5f"
            },
            "error_y": {
             "color": "#2a3f5f"
            },
            "marker": {
             "line": {
              "color": "#E5ECF6",
              "width": 0.5
             },
             "pattern": {
              "fillmode": "overlay",
              "size": 10,
              "solidity": 0.2
             }
            },
            "type": "bar"
           }
          ],
          "barpolar": [
           {
            "marker": {
             "line": {
              "color": "#E5ECF6",
              "width": 0.5
             },
             "pattern": {
              "fillmode": "overlay",
              "size": 10,
              "solidity": 0.2
             }
            },
            "type": "barpolar"
           }
          ],
          "carpet": [
           {
            "aaxis": {
             "endlinecolor": "#2a3f5f",
             "gridcolor": "white",
             "linecolor": "white",
             "minorgridcolor": "white",
             "startlinecolor": "#2a3f5f"
            },
            "baxis": {
             "endlinecolor": "#2a3f5f",
             "gridcolor": "white",
             "linecolor": "white",
             "minorgridcolor": "white",
             "startlinecolor": "#2a3f5f"
            },
            "type": "carpet"
           }
          ],
          "choropleth": [
           {
            "colorbar": {
             "outlinewidth": 0,
             "ticks": ""
            },
            "type": "choropleth"
           }
          ],
          "contour": [
           {
            "colorbar": {
             "outlinewidth": 0,
             "ticks": ""
            },
            "colorscale": [
             [
              0,
              "#0d0887"
             ],
             [
              0.1111111111111111,
              "#46039f"
             ],
             [
              0.2222222222222222,
              "#7201a8"
             ],
             [
              0.3333333333333333,
              "#9c179e"
             ],
             [
              0.4444444444444444,
              "#bd3786"
             ],
             [
              0.5555555555555556,
              "#d8576b"
             ],
             [
              0.6666666666666666,
              "#ed7953"
             ],
             [
              0.7777777777777778,
              "#fb9f3a"
             ],
             [
              0.8888888888888888,
              "#fdca26"
             ],
             [
              1,
              "#f0f921"
             ]
            ],
            "type": "contour"
           }
          ],
          "contourcarpet": [
           {
            "colorbar": {
             "outlinewidth": 0,
             "ticks": ""
            },
            "type": "contourcarpet"
           }
          ],
          "heatmap": [
           {
            "colorbar": {
             "outlinewidth": 0,
             "ticks": ""
            },
            "colorscale": [
             [
              0,
              "#0d0887"
             ],
             [
              0.1111111111111111,
              "#46039f"
             ],
             [
              0.2222222222222222,
              "#7201a8"
             ],
             [
              0.3333333333333333,
              "#9c179e"
             ],
             [
              0.4444444444444444,
              "#bd3786"
             ],
             [
              0.5555555555555556,
              "#d8576b"
             ],
             [
              0.6666666666666666,
              "#ed7953"
             ],
             [
              0.7777777777777778,
              "#fb9f3a"
             ],
             [
              0.8888888888888888,
              "#fdca26"
             ],
             [
              1,
              "#f0f921"
             ]
            ],
            "type": "heatmap"
           }
          ],
          "heatmapgl": [
           {
            "colorbar": {
             "outlinewidth": 0,
             "ticks": ""
            },
            "colorscale": [
             [
              0,
              "#0d0887"
             ],
             [
              0.1111111111111111,
              "#46039f"
             ],
             [
              0.2222222222222222,
              "#7201a8"
             ],
             [
              0.3333333333333333,
              "#9c179e"
             ],
             [
              0.4444444444444444,
              "#bd3786"
             ],
             [
              0.5555555555555556,
              "#d8576b"
             ],
             [
              0.6666666666666666,
              "#ed7953"
             ],
             [
              0.7777777777777778,
              "#fb9f3a"
             ],
             [
              0.8888888888888888,
              "#fdca26"
             ],
             [
              1,
              "#f0f921"
             ]
            ],
            "type": "heatmapgl"
           }
          ],
          "histogram": [
           {
            "marker": {
             "pattern": {
              "fillmode": "overlay",
              "size": 10,
              "solidity": 0.2
             }
            },
            "type": "histogram"
           }
          ],
          "histogram2d": [
           {
            "colorbar": {
             "outlinewidth": 0,
             "ticks": ""
            },
            "colorscale": [
             [
              0,
              "#0d0887"
             ],
             [
              0.1111111111111111,
              "#46039f"
             ],
             [
              0.2222222222222222,
              "#7201a8"
             ],
             [
              0.3333333333333333,
              "#9c179e"
             ],
             [
              0.4444444444444444,
              "#bd3786"
             ],
             [
              0.5555555555555556,
              "#d8576b"
             ],
             [
              0.6666666666666666,
              "#ed7953"
             ],
             [
              0.7777777777777778,
              "#fb9f3a"
             ],
             [
              0.8888888888888888,
              "#fdca26"
             ],
             [
              1,
              "#f0f921"
             ]
            ],
            "type": "histogram2d"
           }
          ],
          "histogram2dcontour": [
           {
            "colorbar": {
             "outlinewidth": 0,
             "ticks": ""
            },
            "colorscale": [
             [
              0,
              "#0d0887"
             ],
             [
              0.1111111111111111,
              "#46039f"
             ],
             [
              0.2222222222222222,
              "#7201a8"
             ],
             [
              0.3333333333333333,
              "#9c179e"
             ],
             [
              0.4444444444444444,
              "#bd3786"
             ],
             [
              0.5555555555555556,
              "#d8576b"
             ],
             [
              0.6666666666666666,
              "#ed7953"
             ],
             [
              0.7777777777777778,
              "#fb9f3a"
             ],
             [
              0.8888888888888888,
              "#fdca26"
             ],
             [
              1,
              "#f0f921"
             ]
            ],
            "type": "histogram2dcontour"
           }
          ],
          "mesh3d": [
           {
            "colorbar": {
             "outlinewidth": 0,
             "ticks": ""
            },
            "type": "mesh3d"
           }
          ],
          "parcoords": [
           {
            "line": {
             "colorbar": {
              "outlinewidth": 0,
              "ticks": ""
             }
            },
            "type": "parcoords"
           }
          ],
          "pie": [
           {
            "automargin": true,
            "type": "pie"
           }
          ],
          "scatter": [
           {
            "marker": {
             "colorbar": {
              "outlinewidth": 0,
              "ticks": ""
             }
            },
            "type": "scatter"
           }
          ],
          "scatter3d": [
           {
            "line": {
             "colorbar": {
              "outlinewidth": 0,
              "ticks": ""
             }
            },
            "marker": {
             "colorbar": {
              "outlinewidth": 0,
              "ticks": ""
             }
            },
            "type": "scatter3d"
           }
          ],
          "scattercarpet": [
           {
            "marker": {
             "colorbar": {
              "outlinewidth": 0,
              "ticks": ""
             }
            },
            "type": "scattercarpet"
           }
          ],
          "scattergeo": [
           {
            "marker": {
             "colorbar": {
              "outlinewidth": 0,
              "ticks": ""
             }
            },
            "type": "scattergeo"
           }
          ],
          "scattergl": [
           {
            "marker": {
             "colorbar": {
              "outlinewidth": 0,
              "ticks": ""
             }
            },
            "type": "scattergl"
           }
          ],
          "scattermapbox": [
           {
            "marker": {
             "colorbar": {
              "outlinewidth": 0,
              "ticks": ""
             }
            },
            "type": "scattermapbox"
           }
          ],
          "scatterpolar": [
           {
            "marker": {
             "colorbar": {
              "outlinewidth": 0,
              "ticks": ""
             }
            },
            "type": "scatterpolar"
           }
          ],
          "scatterpolargl": [
           {
            "marker": {
             "colorbar": {
              "outlinewidth": 0,
              "ticks": ""
             }
            },
            "type": "scatterpolargl"
           }
          ],
          "scatterternary": [
           {
            "marker": {
             "colorbar": {
              "outlinewidth": 0,
              "ticks": ""
             }
            },
            "type": "scatterternary"
           }
          ],
          "surface": [
           {
            "colorbar": {
             "outlinewidth": 0,
             "ticks": ""
            },
            "colorscale": [
             [
              0,
              "#0d0887"
             ],
             [
              0.1111111111111111,
              "#46039f"
             ],
             [
              0.2222222222222222,
              "#7201a8"
             ],
             [
              0.3333333333333333,
              "#9c179e"
             ],
             [
              0.4444444444444444,
              "#bd3786"
             ],
             [
              0.5555555555555556,
              "#d8576b"
             ],
             [
              0.6666666666666666,
              "#ed7953"
             ],
             [
              0.7777777777777778,
              "#fb9f3a"
             ],
             [
              0.8888888888888888,
              "#fdca26"
             ],
             [
              1,
              "#f0f921"
             ]
            ],
            "type": "surface"
           }
          ],
          "table": [
           {
            "cells": {
             "fill": {
              "color": "#EBF0F8"
             },
             "line": {
              "color": "white"
             }
            },
            "header": {
             "fill": {
              "color": "#C8D4E3"
             },
             "line": {
              "color": "white"
             }
            },
            "type": "table"
           }
          ]
         },
         "layout": {
          "annotationdefaults": {
           "arrowcolor": "#2a3f5f",
           "arrowhead": 0,
           "arrowwidth": 1
          },
          "autotypenumbers": "strict",
          "coloraxis": {
           "colorbar": {
            "outlinewidth": 0,
            "ticks": ""
           }
          },
          "colorscale": {
           "diverging": [
            [
             0,
             "#8e0152"
            ],
            [
             0.1,
             "#c51b7d"
            ],
            [
             0.2,
             "#de77ae"
            ],
            [
             0.3,
             "#f1b6da"
            ],
            [
             0.4,
             "#fde0ef"
            ],
            [
             0.5,
             "#f7f7f7"
            ],
            [
             0.6,
             "#e6f5d0"
            ],
            [
             0.7,
             "#b8e186"
            ],
            [
             0.8,
             "#7fbc41"
            ],
            [
             0.9,
             "#4d9221"
            ],
            [
             1,
             "#276419"
            ]
           ],
           "sequential": [
            [
             0,
             "#0d0887"
            ],
            [
             0.1111111111111111,
             "#46039f"
            ],
            [
             0.2222222222222222,
             "#7201a8"
            ],
            [
             0.3333333333333333,
             "#9c179e"
            ],
            [
             0.4444444444444444,
             "#bd3786"
            ],
            [
             0.5555555555555556,
             "#d8576b"
            ],
            [
             0.6666666666666666,
             "#ed7953"
            ],
            [
             0.7777777777777778,
             "#fb9f3a"
            ],
            [
             0.8888888888888888,
             "#fdca26"
            ],
            [
             1,
             "#f0f921"
            ]
           ],
           "sequentialminus": [
            [
             0,
             "#0d0887"
            ],
            [
             0.1111111111111111,
             "#46039f"
            ],
            [
             0.2222222222222222,
             "#7201a8"
            ],
            [
             0.3333333333333333,
             "#9c179e"
            ],
            [
             0.4444444444444444,
             "#bd3786"
            ],
            [
             0.5555555555555556,
             "#d8576b"
            ],
            [
             0.6666666666666666,
             "#ed7953"
            ],
            [
             0.7777777777777778,
             "#fb9f3a"
            ],
            [
             0.8888888888888888,
             "#fdca26"
            ],
            [
             1,
             "#f0f921"
            ]
           ]
          },
          "colorway": [
           "#636efa",
           "#EF553B",
           "#00cc96",
           "#ab63fa",
           "#FFA15A",
           "#19d3f3",
           "#FF6692",
           "#B6E880",
           "#FF97FF",
           "#FECB52"
          ],
          "font": {
           "color": "#2a3f5f"
          },
          "geo": {
           "bgcolor": "white",
           "lakecolor": "white",
           "landcolor": "#E5ECF6",
           "showlakes": true,
           "showland": true,
           "subunitcolor": "white"
          },
          "hoverlabel": {
           "align": "left"
          },
          "hovermode": "closest",
          "mapbox": {
           "style": "light"
          },
          "paper_bgcolor": "white",
          "plot_bgcolor": "#E5ECF6",
          "polar": {
           "angularaxis": {
            "gridcolor": "white",
            "linecolor": "white",
            "ticks": ""
           },
           "bgcolor": "#E5ECF6",
           "radialaxis": {
            "gridcolor": "white",
            "linecolor": "white",
            "ticks": ""
           }
          },
          "scene": {
           "xaxis": {
            "backgroundcolor": "#E5ECF6",
            "gridcolor": "white",
            "gridwidth": 2,
            "linecolor": "white",
            "showbackground": true,
            "ticks": "",
            "zerolinecolor": "white"
           },
           "yaxis": {
            "backgroundcolor": "#E5ECF6",
            "gridcolor": "white",
            "gridwidth": 2,
            "linecolor": "white",
            "showbackground": true,
            "ticks": "",
            "zerolinecolor": "white"
           },
           "zaxis": {
            "backgroundcolor": "#E5ECF6",
            "gridcolor": "white",
            "gridwidth": 2,
            "linecolor": "white",
            "showbackground": true,
            "ticks": "",
            "zerolinecolor": "white"
           }
          },
          "shapedefaults": {
           "line": {
            "color": "#2a3f5f"
           }
          },
          "ternary": {
           "aaxis": {
            "gridcolor": "white",
            "linecolor": "white",
            "ticks": ""
           },
           "baxis": {
            "gridcolor": "white",
            "linecolor": "white",
            "ticks": ""
           },
           "bgcolor": "#E5ECF6",
           "caxis": {
            "gridcolor": "white",
            "linecolor": "white",
            "ticks": ""
           }
          },
          "title": {
           "x": 0.05
          },
          "xaxis": {
           "automargin": true,
           "gridcolor": "white",
           "linecolor": "white",
           "ticks": "",
           "title": {
            "standoff": 15
           },
           "zerolinecolor": "white",
           "zerolinewidth": 2
          },
          "yaxis": {
           "automargin": true,
           "gridcolor": "white",
           "linecolor": "white",
           "ticks": "",
           "title": {
            "standoff": 15
           },
           "zerolinecolor": "white",
           "zerolinewidth": 2
          }
         }
        },
        "title": {
         "text": "Saliency Maps: Local",
         "x": 0.5
        },
        "xaxis": {
         "range": [
          -1,
          1
         ],
         "tick0": 0,
         "tickformat": "%",
         "title": {
          "text": "Frequency"
         }
        },
        "yaxis": {
         "autorange": "reversed"
        }
       }
      }
     },
     "metadata": {},
     "output_type": "display_data"
    },
    {
     "name": "stdout",
     "output_type": "stream",
     "text": [
      "Per-cell saliency is probably too much detail. \n"
     ]
    },
    {
     "data": {
      "application/vnd.plotly.v1+json": {
       "config": {
        "plotlyServerURL": "https://plot.ly"
       },
       "data": [
        {
         "marker": {
          "color": "rgb(247,247,247)"
         },
         "name": "Neutral",
         "orientation": "h",
         "showlegend": false,
         "type": "bar",
         "width": 0.8,
         "x": [
          -0.10526315789473684,
          -0.05263157894736842,
          -0.05263157894736842,
          -0.07894736842105263
         ],
         "y": [
          "I find the explanation    <br>intuitively understandable    ",
          "The explanation helps me to understand    <br>factors relevant to the algorithm    ",
          "The explanation helps me to decide whether    <br> I can trust the generated annotations    ",
          "The explanation provides me with    <br>valuable information for my work    "
         ]
        },
        {
         "marker": {
          "color": "rgb(253,219,199)"
         },
         "name": "Slightly disagree",
         "orientation": "h",
         "showlegend": false,
         "type": "bar",
         "width": 0.8,
         "x": [
          -0.10526315789473684,
          -0.2631578947368421,
          -0.2631578947368421,
          -0.15789473684210525
         ],
         "y": [
          "I find the explanation    <br>intuitively understandable    ",
          "The explanation helps me to understand    <br>factors relevant to the algorithm    ",
          "The explanation helps me to decide whether    <br> I can trust the generated annotations    ",
          "The explanation provides me with    <br>valuable information for my work    "
         ]
        },
        {
         "marker": {
          "color": "rgb(244,165,130)"
         },
         "name": "Disagree",
         "orientation": "h",
         "showlegend": false,
         "type": "bar",
         "width": 0.8,
         "x": [
          -0.05263157894736842,
          -0.05263157894736842,
          -0.05263157894736842,
          -0.15789473684210525
         ],
         "y": [
          "I find the explanation    <br>intuitively understandable    ",
          "The explanation helps me to understand    <br>factors relevant to the algorithm    ",
          "The explanation helps me to decide whether    <br> I can trust the generated annotations    ",
          "The explanation provides me with    <br>valuable information for my work    "
         ]
        },
        {
         "marker": {
          "color": "rgb(214,96,77)"
         },
         "name": "Strongly disagree",
         "orientation": "h",
         "showlegend": false,
         "type": "bar",
         "width": 0.8,
         "x": [
          -0.05263157894736842,
          -0.05263157894736842,
          -0.05263157894736842,
          -0.05263157894736842
         ],
         "y": [
          "I find the explanation    <br>intuitively understandable    ",
          "The explanation helps me to understand    <br>factors relevant to the algorithm    ",
          "The explanation helps me to decide whether    <br> I can trust the generated annotations    ",
          "The explanation provides me with    <br>valuable information for my work    "
         ]
        },
        {
         "marker": {
          "color": "rgb(247,247,247)"
         },
         "name": "Neutral",
         "orientation": "h",
         "showlegend": false,
         "type": "bar",
         "width": 0.8,
         "x": [
          0.10526315789473684,
          0.05263157894736842,
          0.05263157894736842,
          0.07894736842105263
         ],
         "y": [
          "I find the explanation    <br>intuitively understandable    ",
          "The explanation helps me to understand    <br>factors relevant to the algorithm    ",
          "The explanation helps me to decide whether    <br> I can trust the generated annotations    ",
          "The explanation provides me with    <br>valuable information for my work    "
         ]
        },
        {
         "marker": {
          "color": "rgb(209,229,240)"
         },
         "name": "Slightly agree",
         "orientation": "h",
         "showlegend": false,
         "type": "bar",
         "width": 0.8,
         "x": [
          0.3157894736842105,
          0.2631578947368421,
          0.21052631578947367,
          0.15789473684210525
         ],
         "y": [
          "I find the explanation    <br>intuitively understandable    ",
          "The explanation helps me to understand    <br>factors relevant to the algorithm    ",
          "The explanation helps me to decide whether    <br> I can trust the generated annotations    ",
          "The explanation provides me with    <br>valuable information for my work    "
         ]
        },
        {
         "marker": {
          "color": "rgb(146,197,222)"
         },
         "name": "Agree",
         "orientation": "h",
         "showlegend": false,
         "type": "bar",
         "width": 0.8,
         "x": [
          0.15789473684210525,
          0.10526315789473684,
          0.21052631578947367,
          0.21052631578947367
         ],
         "y": [
          "I find the explanation    <br>intuitively understandable    ",
          "The explanation helps me to understand    <br>factors relevant to the algorithm    ",
          "The explanation helps me to decide whether    <br> I can trust the generated annotations    ",
          "The explanation provides me with    <br>valuable information for my work    "
         ]
        },
        {
         "marker": {
          "color": "rgb(67,147,195)"
         },
         "name": "Strongly agree",
         "orientation": "h",
         "showlegend": false,
         "type": "bar",
         "width": 0.8,
         "x": [
          0.10526315789473684,
          0.15789473684210525,
          0.10526315789473684,
          0.10526315789473684
         ],
         "y": [
          "I find the explanation    <br>intuitively understandable    ",
          "The explanation helps me to understand    <br>factors relevant to the algorithm    ",
          "The explanation helps me to decide whether    <br> I can trust the generated annotations    ",
          "The explanation provides me with    <br>valuable information for my work    "
         ]
        },
        {
         "marker": {
          "color": "rgb(214,96,77)"
         },
         "name": "Strongly disagree",
         "orientation": "h",
         "type": "bar",
         "x": [
          0,
          0,
          0,
          0,
          0,
          0,
          0
         ],
         "y": [
          "I find the explanation    <br>intuitively understandable    ",
          "The explanation helps me to understand    <br>factors relevant to the algorithm    ",
          "The explanation helps me to decide whether    <br> I can trust the generated annotations    ",
          "The explanation provides me with    <br>valuable information for my work    "
         ]
        },
        {
         "marker": {
          "color": "rgb(244,165,130)"
         },
         "name": "Disagree",
         "orientation": "h",
         "type": "bar",
         "x": [
          0,
          0,
          0,
          0,
          0,
          0,
          0
         ],
         "y": [
          "I find the explanation    <br>intuitively understandable    ",
          "The explanation helps me to understand    <br>factors relevant to the algorithm    ",
          "The explanation helps me to decide whether    <br> I can trust the generated annotations    ",
          "The explanation provides me with    <br>valuable information for my work    "
         ]
        },
        {
         "marker": {
          "color": "rgb(253,219,199)"
         },
         "name": "Slightly disagree",
         "orientation": "h",
         "type": "bar",
         "x": [
          0,
          0,
          0,
          0,
          0,
          0,
          0
         ],
         "y": [
          "I find the explanation    <br>intuitively understandable    ",
          "The explanation helps me to understand    <br>factors relevant to the algorithm    ",
          "The explanation helps me to decide whether    <br> I can trust the generated annotations    ",
          "The explanation provides me with    <br>valuable information for my work    "
         ]
        },
        {
         "marker": {
          "color": "rgb(247,247,247)"
         },
         "name": "Neutral",
         "orientation": "h",
         "type": "bar",
         "x": [
          0,
          0,
          0,
          0,
          0,
          0,
          0
         ],
         "y": [
          "I find the explanation    <br>intuitively understandable    ",
          "The explanation helps me to understand    <br>factors relevant to the algorithm    ",
          "The explanation helps me to decide whether    <br> I can trust the generated annotations    ",
          "The explanation provides me with    <br>valuable information for my work    "
         ]
        },
        {
         "marker": {
          "color": "rgb(209,229,240)"
         },
         "name": "Slightly agree",
         "orientation": "h",
         "type": "bar",
         "x": [
          0,
          0,
          0,
          0,
          0,
          0,
          0
         ],
         "y": [
          "I find the explanation    <br>intuitively understandable    ",
          "The explanation helps me to understand    <br>factors relevant to the algorithm    ",
          "The explanation helps me to decide whether    <br> I can trust the generated annotations    ",
          "The explanation provides me with    <br>valuable information for my work    "
         ]
        },
        {
         "marker": {
          "color": "rgb(146,197,222)"
         },
         "name": "Agree",
         "orientation": "h",
         "type": "bar",
         "x": [
          0,
          0,
          0,
          0,
          0,
          0,
          0
         ],
         "y": [
          "I find the explanation    <br>intuitively understandable    ",
          "The explanation helps me to understand    <br>factors relevant to the algorithm    ",
          "The explanation helps me to decide whether    <br> I can trust the generated annotations    ",
          "The explanation provides me with    <br>valuable information for my work    "
         ]
        },
        {
         "marker": {
          "color": "rgb(67,147,195)"
         },
         "name": "Strongly agree",
         "orientation": "h",
         "type": "bar",
         "x": [
          0,
          0,
          0,
          0,
          0,
          0,
          0
         ],
         "y": [
          "I find the explanation    <br>intuitively understandable    ",
          "The explanation helps me to understand    <br>factors relevant to the algorithm    ",
          "The explanation helps me to decide whether    <br> I can trust the generated annotations    ",
          "The explanation provides me with    <br>valuable information for my work    "
         ]
        }
       ],
       "layout": {
        "barmode": "relative",
        "legend": {
         "orientation": "h",
         "x": 0.5,
         "xanchor": "center",
         "y": -0.4,
         "yanchor": "bottom"
        },
        "template": {
         "data": {
          "bar": [
           {
            "error_x": {
             "color": "#2a3f5f"
            },
            "error_y": {
             "color": "#2a3f5f"
            },
            "marker": {
             "line": {
              "color": "#E5ECF6",
              "width": 0.5
             },
             "pattern": {
              "fillmode": "overlay",
              "size": 10,
              "solidity": 0.2
             }
            },
            "type": "bar"
           }
          ],
          "barpolar": [
           {
            "marker": {
             "line": {
              "color": "#E5ECF6",
              "width": 0.5
             },
             "pattern": {
              "fillmode": "overlay",
              "size": 10,
              "solidity": 0.2
             }
            },
            "type": "barpolar"
           }
          ],
          "carpet": [
           {
            "aaxis": {
             "endlinecolor": "#2a3f5f",
             "gridcolor": "white",
             "linecolor": "white",
             "minorgridcolor": "white",
             "startlinecolor": "#2a3f5f"
            },
            "baxis": {
             "endlinecolor": "#2a3f5f",
             "gridcolor": "white",
             "linecolor": "white",
             "minorgridcolor": "white",
             "startlinecolor": "#2a3f5f"
            },
            "type": "carpet"
           }
          ],
          "choropleth": [
           {
            "colorbar": {
             "outlinewidth": 0,
             "ticks": ""
            },
            "type": "choropleth"
           }
          ],
          "contour": [
           {
            "colorbar": {
             "outlinewidth": 0,
             "ticks": ""
            },
            "colorscale": [
             [
              0,
              "#0d0887"
             ],
             [
              0.1111111111111111,
              "#46039f"
             ],
             [
              0.2222222222222222,
              "#7201a8"
             ],
             [
              0.3333333333333333,
              "#9c179e"
             ],
             [
              0.4444444444444444,
              "#bd3786"
             ],
             [
              0.5555555555555556,
              "#d8576b"
             ],
             [
              0.6666666666666666,
              "#ed7953"
             ],
             [
              0.7777777777777778,
              "#fb9f3a"
             ],
             [
              0.8888888888888888,
              "#fdca26"
             ],
             [
              1,
              "#f0f921"
             ]
            ],
            "type": "contour"
           }
          ],
          "contourcarpet": [
           {
            "colorbar": {
             "outlinewidth": 0,
             "ticks": ""
            },
            "type": "contourcarpet"
           }
          ],
          "heatmap": [
           {
            "colorbar": {
             "outlinewidth": 0,
             "ticks": ""
            },
            "colorscale": [
             [
              0,
              "#0d0887"
             ],
             [
              0.1111111111111111,
              "#46039f"
             ],
             [
              0.2222222222222222,
              "#7201a8"
             ],
             [
              0.3333333333333333,
              "#9c179e"
             ],
             [
              0.4444444444444444,
              "#bd3786"
             ],
             [
              0.5555555555555556,
              "#d8576b"
             ],
             [
              0.6666666666666666,
              "#ed7953"
             ],
             [
              0.7777777777777778,
              "#fb9f3a"
             ],
             [
              0.8888888888888888,
              "#fdca26"
             ],
             [
              1,
              "#f0f921"
             ]
            ],
            "type": "heatmap"
           }
          ],
          "heatmapgl": [
           {
            "colorbar": {
             "outlinewidth": 0,
             "ticks": ""
            },
            "colorscale": [
             [
              0,
              "#0d0887"
             ],
             [
              0.1111111111111111,
              "#46039f"
             ],
             [
              0.2222222222222222,
              "#7201a8"
             ],
             [
              0.3333333333333333,
              "#9c179e"
             ],
             [
              0.4444444444444444,
              "#bd3786"
             ],
             [
              0.5555555555555556,
              "#d8576b"
             ],
             [
              0.6666666666666666,
              "#ed7953"
             ],
             [
              0.7777777777777778,
              "#fb9f3a"
             ],
             [
              0.8888888888888888,
              "#fdca26"
             ],
             [
              1,
              "#f0f921"
             ]
            ],
            "type": "heatmapgl"
           }
          ],
          "histogram": [
           {
            "marker": {
             "pattern": {
              "fillmode": "overlay",
              "size": 10,
              "solidity": 0.2
             }
            },
            "type": "histogram"
           }
          ],
          "histogram2d": [
           {
            "colorbar": {
             "outlinewidth": 0,
             "ticks": ""
            },
            "colorscale": [
             [
              0,
              "#0d0887"
             ],
             [
              0.1111111111111111,
              "#46039f"
             ],
             [
              0.2222222222222222,
              "#7201a8"
             ],
             [
              0.3333333333333333,
              "#9c179e"
             ],
             [
              0.4444444444444444,
              "#bd3786"
             ],
             [
              0.5555555555555556,
              "#d8576b"
             ],
             [
              0.6666666666666666,
              "#ed7953"
             ],
             [
              0.7777777777777778,
              "#fb9f3a"
             ],
             [
              0.8888888888888888,
              "#fdca26"
             ],
             [
              1,
              "#f0f921"
             ]
            ],
            "type": "histogram2d"
           }
          ],
          "histogram2dcontour": [
           {
            "colorbar": {
             "outlinewidth": 0,
             "ticks": ""
            },
            "colorscale": [
             [
              0,
              "#0d0887"
             ],
             [
              0.1111111111111111,
              "#46039f"
             ],
             [
              0.2222222222222222,
              "#7201a8"
             ],
             [
              0.3333333333333333,
              "#9c179e"
             ],
             [
              0.4444444444444444,
              "#bd3786"
             ],
             [
              0.5555555555555556,
              "#d8576b"
             ],
             [
              0.6666666666666666,
              "#ed7953"
             ],
             [
              0.7777777777777778,
              "#fb9f3a"
             ],
             [
              0.8888888888888888,
              "#fdca26"
             ],
             [
              1,
              "#f0f921"
             ]
            ],
            "type": "histogram2dcontour"
           }
          ],
          "mesh3d": [
           {
            "colorbar": {
             "outlinewidth": 0,
             "ticks": ""
            },
            "type": "mesh3d"
           }
          ],
          "parcoords": [
           {
            "line": {
             "colorbar": {
              "outlinewidth": 0,
              "ticks": ""
             }
            },
            "type": "parcoords"
           }
          ],
          "pie": [
           {
            "automargin": true,
            "type": "pie"
           }
          ],
          "scatter": [
           {
            "marker": {
             "colorbar": {
              "outlinewidth": 0,
              "ticks": ""
             }
            },
            "type": "scatter"
           }
          ],
          "scatter3d": [
           {
            "line": {
             "colorbar": {
              "outlinewidth": 0,
              "ticks": ""
             }
            },
            "marker": {
             "colorbar": {
              "outlinewidth": 0,
              "ticks": ""
             }
            },
            "type": "scatter3d"
           }
          ],
          "scattercarpet": [
           {
            "marker": {
             "colorbar": {
              "outlinewidth": 0,
              "ticks": ""
             }
            },
            "type": "scattercarpet"
           }
          ],
          "scattergeo": [
           {
            "marker": {
             "colorbar": {
              "outlinewidth": 0,
              "ticks": ""
             }
            },
            "type": "scattergeo"
           }
          ],
          "scattergl": [
           {
            "marker": {
             "colorbar": {
              "outlinewidth": 0,
              "ticks": ""
             }
            },
            "type": "scattergl"
           }
          ],
          "scattermapbox": [
           {
            "marker": {
             "colorbar": {
              "outlinewidth": 0,
              "ticks": ""
             }
            },
            "type": "scattermapbox"
           }
          ],
          "scatterpolar": [
           {
            "marker": {
             "colorbar": {
              "outlinewidth": 0,
              "ticks": ""
             }
            },
            "type": "scatterpolar"
           }
          ],
          "scatterpolargl": [
           {
            "marker": {
             "colorbar": {
              "outlinewidth": 0,
              "ticks": ""
             }
            },
            "type": "scatterpolargl"
           }
          ],
          "scatterternary": [
           {
            "marker": {
             "colorbar": {
              "outlinewidth": 0,
              "ticks": ""
             }
            },
            "type": "scatterternary"
           }
          ],
          "surface": [
           {
            "colorbar": {
             "outlinewidth": 0,
             "ticks": ""
            },
            "colorscale": [
             [
              0,
              "#0d0887"
             ],
             [
              0.1111111111111111,
              "#46039f"
             ],
             [
              0.2222222222222222,
              "#7201a8"
             ],
             [
              0.3333333333333333,
              "#9c179e"
             ],
             [
              0.4444444444444444,
              "#bd3786"
             ],
             [
              0.5555555555555556,
              "#d8576b"
             ],
             [
              0.6666666666666666,
              "#ed7953"
             ],
             [
              0.7777777777777778,
              "#fb9f3a"
             ],
             [
              0.8888888888888888,
              "#fdca26"
             ],
             [
              1,
              "#f0f921"
             ]
            ],
            "type": "surface"
           }
          ],
          "table": [
           {
            "cells": {
             "fill": {
              "color": "#EBF0F8"
             },
             "line": {
              "color": "white"
             }
            },
            "header": {
             "fill": {
              "color": "#C8D4E3"
             },
             "line": {
              "color": "white"
             }
            },
            "type": "table"
           }
          ]
         },
         "layout": {
          "annotationdefaults": {
           "arrowcolor": "#2a3f5f",
           "arrowhead": 0,
           "arrowwidth": 1
          },
          "autotypenumbers": "strict",
          "coloraxis": {
           "colorbar": {
            "outlinewidth": 0,
            "ticks": ""
           }
          },
          "colorscale": {
           "diverging": [
            [
             0,
             "#8e0152"
            ],
            [
             0.1,
             "#c51b7d"
            ],
            [
             0.2,
             "#de77ae"
            ],
            [
             0.3,
             "#f1b6da"
            ],
            [
             0.4,
             "#fde0ef"
            ],
            [
             0.5,
             "#f7f7f7"
            ],
            [
             0.6,
             "#e6f5d0"
            ],
            [
             0.7,
             "#b8e186"
            ],
            [
             0.8,
             "#7fbc41"
            ],
            [
             0.9,
             "#4d9221"
            ],
            [
             1,
             "#276419"
            ]
           ],
           "sequential": [
            [
             0,
             "#0d0887"
            ],
            [
             0.1111111111111111,
             "#46039f"
            ],
            [
             0.2222222222222222,
             "#7201a8"
            ],
            [
             0.3333333333333333,
             "#9c179e"
            ],
            [
             0.4444444444444444,
             "#bd3786"
            ],
            [
             0.5555555555555556,
             "#d8576b"
            ],
            [
             0.6666666666666666,
             "#ed7953"
            ],
            [
             0.7777777777777778,
             "#fb9f3a"
            ],
            [
             0.8888888888888888,
             "#fdca26"
            ],
            [
             1,
             "#f0f921"
            ]
           ],
           "sequentialminus": [
            [
             0,
             "#0d0887"
            ],
            [
             0.1111111111111111,
             "#46039f"
            ],
            [
             0.2222222222222222,
             "#7201a8"
            ],
            [
             0.3333333333333333,
             "#9c179e"
            ],
            [
             0.4444444444444444,
             "#bd3786"
            ],
            [
             0.5555555555555556,
             "#d8576b"
            ],
            [
             0.6666666666666666,
             "#ed7953"
            ],
            [
             0.7777777777777778,
             "#fb9f3a"
            ],
            [
             0.8888888888888888,
             "#fdca26"
            ],
            [
             1,
             "#f0f921"
            ]
           ]
          },
          "colorway": [
           "#636efa",
           "#EF553B",
           "#00cc96",
           "#ab63fa",
           "#FFA15A",
           "#19d3f3",
           "#FF6692",
           "#B6E880",
           "#FF97FF",
           "#FECB52"
          ],
          "font": {
           "color": "#2a3f5f"
          },
          "geo": {
           "bgcolor": "white",
           "lakecolor": "white",
           "landcolor": "#E5ECF6",
           "showlakes": true,
           "showland": true,
           "subunitcolor": "white"
          },
          "hoverlabel": {
           "align": "left"
          },
          "hovermode": "closest",
          "mapbox": {
           "style": "light"
          },
          "paper_bgcolor": "white",
          "plot_bgcolor": "#E5ECF6",
          "polar": {
           "angularaxis": {
            "gridcolor": "white",
            "linecolor": "white",
            "ticks": ""
           },
           "bgcolor": "#E5ECF6",
           "radialaxis": {
            "gridcolor": "white",
            "linecolor": "white",
            "ticks": ""
           }
          },
          "scene": {
           "xaxis": {
            "backgroundcolor": "#E5ECF6",
            "gridcolor": "white",
            "gridwidth": 2,
            "linecolor": "white",
            "showbackground": true,
            "ticks": "",
            "zerolinecolor": "white"
           },
           "yaxis": {
            "backgroundcolor": "#E5ECF6",
            "gridcolor": "white",
            "gridwidth": 2,
            "linecolor": "white",
            "showbackground": true,
            "ticks": "",
            "zerolinecolor": "white"
           },
           "zaxis": {
            "backgroundcolor": "#E5ECF6",
            "gridcolor": "white",
            "gridwidth": 2,
            "linecolor": "white",
            "showbackground": true,
            "ticks": "",
            "zerolinecolor": "white"
           }
          },
          "shapedefaults": {
           "line": {
            "color": "#2a3f5f"
           }
          },
          "ternary": {
           "aaxis": {
            "gridcolor": "white",
            "linecolor": "white",
            "ticks": ""
           },
           "baxis": {
            "gridcolor": "white",
            "linecolor": "white",
            "ticks": ""
           },
           "bgcolor": "#E5ECF6",
           "caxis": {
            "gridcolor": "white",
            "linecolor": "white",
            "ticks": ""
           }
          },
          "title": {
           "x": 0.05
          },
          "xaxis": {
           "automargin": true,
           "gridcolor": "white",
           "linecolor": "white",
           "ticks": "",
           "title": {
            "standoff": 15
           },
           "zerolinecolor": "white",
           "zerolinewidth": 2
          },
          "yaxis": {
           "automargin": true,
           "gridcolor": "white",
           "linecolor": "white",
           "ticks": "",
           "title": {
            "standoff": 15
           },
           "zerolinecolor": "white",
           "zerolinewidth": 2
          }
         }
        },
        "title": {
         "text": "Saliency Maps: Global",
         "x": 0.5
        },
        "xaxis": {
         "range": [
          -1,
          1
         ],
         "tick0": 0,
         "tickformat": "%",
         "title": {
          "text": "Frequency"
         }
        },
        "yaxis": {
         "autorange": "reversed"
        }
       }
      }
     },
     "metadata": {},
     "output_type": "display_data"
    },
    {
     "name": "stdout",
     "output_type": "stream",
     "text": [
      "There is one cell slightly to the right of the center that is labeled as positive and is quite darkly stained by IHC, but does not show up on the saliency map, which is a bit surprising. It looks like an endothelial cell. \n"
     ]
    },
    {
     "data": {
      "application/vnd.plotly.v1+json": {
       "config": {
        "plotlyServerURL": "https://plot.ly"
       },
       "data": [
        {
         "marker": {
          "color": "rgb(247,247,247)"
         },
         "name": "Neutral",
         "orientation": "h",
         "showlegend": false,
         "type": "bar",
         "width": 0.8,
         "x": [
          -0.05263157894736842,
          -0.05263157894736842,
          -0.05263157894736842,
          -0.07894736842105263
         ],
         "y": [
          "I find the explanation    <br>intuitively understandable    ",
          "The explanation helps me to understand    <br>factors relevant to the algorithm    ",
          "The explanation helps me to decide whether    <br> I can trust the generated annotations    ",
          "The explanation provides me with    <br>valuable information for my work    "
         ]
        },
        {
         "marker": {
          "color": "rgb(253,219,199)"
         },
         "name": "Slightly disagree",
         "orientation": "h",
         "showlegend": false,
         "type": "bar",
         "width": 0.8,
         "x": [
          -0.21052631578947367,
          -0.10526315789473684,
          -0.2631578947368421,
          -0.21052631578947367
         ],
         "y": [
          "I find the explanation    <br>intuitively understandable    ",
          "The explanation helps me to understand    <br>factors relevant to the algorithm    ",
          "The explanation helps me to decide whether    <br> I can trust the generated annotations    ",
          "The explanation provides me with    <br>valuable information for my work    "
         ]
        },
        {
         "marker": {
          "color": "rgb(244,165,130)"
         },
         "name": "Disagree",
         "orientation": "h",
         "showlegend": false,
         "type": "bar",
         "width": 0.8,
         "x": [
          -0.05263157894736842,
          -0.10526315789473684,
          -0.05263157894736842,
          -0.10526315789473684
         ],
         "y": [
          "I find the explanation    <br>intuitively understandable    ",
          "The explanation helps me to understand    <br>factors relevant to the algorithm    ",
          "The explanation helps me to decide whether    <br> I can trust the generated annotations    ",
          "The explanation provides me with    <br>valuable information for my work    "
         ]
        },
        {
         "marker": {
          "color": "rgb(214,96,77)"
         },
         "name": "Strongly disagree",
         "orientation": "h",
         "showlegend": false,
         "type": "bar",
         "width": 0.8,
         "x": [
          0,
          -0.05263157894736842,
          -0.10526315789473684,
          0
         ],
         "y": [
          "I find the explanation    <br>intuitively understandable    ",
          "The explanation helps me to understand    <br>factors relevant to the algorithm    ",
          "The explanation helps me to decide whether    <br> I can trust the generated annotations    ",
          "The explanation provides me with    <br>valuable information for my work    "
         ]
        },
        {
         "marker": {
          "color": "rgb(247,247,247)"
         },
         "name": "Neutral",
         "orientation": "h",
         "showlegend": false,
         "type": "bar",
         "width": 0.8,
         "x": [
          0.05263157894736842,
          0.05263157894736842,
          0.05263157894736842,
          0.07894736842105263
         ],
         "y": [
          "I find the explanation    <br>intuitively understandable    ",
          "The explanation helps me to understand    <br>factors relevant to the algorithm    ",
          "The explanation helps me to decide whether    <br> I can trust the generated annotations    ",
          "The explanation provides me with    <br>valuable information for my work    "
         ]
        },
        {
         "marker": {
          "color": "rgb(209,229,240)"
         },
         "name": "Slightly agree",
         "orientation": "h",
         "showlegend": false,
         "type": "bar",
         "width": 0.8,
         "x": [
          0.15789473684210525,
          0.15789473684210525,
          0.05263157894736842,
          0.15789473684210525
         ],
         "y": [
          "I find the explanation    <br>intuitively understandable    ",
          "The explanation helps me to understand    <br>factors relevant to the algorithm    ",
          "The explanation helps me to decide whether    <br> I can trust the generated annotations    ",
          "The explanation provides me with    <br>valuable information for my work    "
         ]
        },
        {
         "marker": {
          "color": "rgb(146,197,222)"
         },
         "name": "Agree",
         "orientation": "h",
         "showlegend": false,
         "type": "bar",
         "width": 0.8,
         "x": [
          0.2631578947368421,
          0.2631578947368421,
          0.3157894736842105,
          0.2631578947368421
         ],
         "y": [
          "I find the explanation    <br>intuitively understandable    ",
          "The explanation helps me to understand    <br>factors relevant to the algorithm    ",
          "The explanation helps me to decide whether    <br> I can trust the generated annotations    ",
          "The explanation provides me with    <br>valuable information for my work    "
         ]
        },
        {
         "marker": {
          "color": "rgb(67,147,195)"
         },
         "name": "Strongly agree",
         "orientation": "h",
         "showlegend": false,
         "type": "bar",
         "width": 0.8,
         "x": [
          0.21052631578947367,
          0.21052631578947367,
          0.10526315789473684,
          0.10526315789473684
         ],
         "y": [
          "I find the explanation    <br>intuitively understandable    ",
          "The explanation helps me to understand    <br>factors relevant to the algorithm    ",
          "The explanation helps me to decide whether    <br> I can trust the generated annotations    ",
          "The explanation provides me with    <br>valuable information for my work    "
         ]
        },
        {
         "marker": {
          "color": "rgb(214,96,77)"
         },
         "name": "Strongly disagree",
         "orientation": "h",
         "type": "bar",
         "x": [
          0,
          0,
          0,
          0,
          0,
          0,
          0
         ],
         "y": [
          "I find the explanation    <br>intuitively understandable    ",
          "The explanation helps me to understand    <br>factors relevant to the algorithm    ",
          "The explanation helps me to decide whether    <br> I can trust the generated annotations    ",
          "The explanation provides me with    <br>valuable information for my work    "
         ]
        },
        {
         "marker": {
          "color": "rgb(244,165,130)"
         },
         "name": "Disagree",
         "orientation": "h",
         "type": "bar",
         "x": [
          0,
          0,
          0,
          0,
          0,
          0,
          0
         ],
         "y": [
          "I find the explanation    <br>intuitively understandable    ",
          "The explanation helps me to understand    <br>factors relevant to the algorithm    ",
          "The explanation helps me to decide whether    <br> I can trust the generated annotations    ",
          "The explanation provides me with    <br>valuable information for my work    "
         ]
        },
        {
         "marker": {
          "color": "rgb(253,219,199)"
         },
         "name": "Slightly disagree",
         "orientation": "h",
         "type": "bar",
         "x": [
          0,
          0,
          0,
          0,
          0,
          0,
          0
         ],
         "y": [
          "I find the explanation    <br>intuitively understandable    ",
          "The explanation helps me to understand    <br>factors relevant to the algorithm    ",
          "The explanation helps me to decide whether    <br> I can trust the generated annotations    ",
          "The explanation provides me with    <br>valuable information for my work    "
         ]
        },
        {
         "marker": {
          "color": "rgb(247,247,247)"
         },
         "name": "Neutral",
         "orientation": "h",
         "type": "bar",
         "x": [
          0,
          0,
          0,
          0,
          0,
          0,
          0
         ],
         "y": [
          "I find the explanation    <br>intuitively understandable    ",
          "The explanation helps me to understand    <br>factors relevant to the algorithm    ",
          "The explanation helps me to decide whether    <br> I can trust the generated annotations    ",
          "The explanation provides me with    <br>valuable information for my work    "
         ]
        },
        {
         "marker": {
          "color": "rgb(209,229,240)"
         },
         "name": "Slightly agree",
         "orientation": "h",
         "type": "bar",
         "x": [
          0,
          0,
          0,
          0,
          0,
          0,
          0
         ],
         "y": [
          "I find the explanation    <br>intuitively understandable    ",
          "The explanation helps me to understand    <br>factors relevant to the algorithm    ",
          "The explanation helps me to decide whether    <br> I can trust the generated annotations    ",
          "The explanation provides me with    <br>valuable information for my work    "
         ]
        },
        {
         "marker": {
          "color": "rgb(146,197,222)"
         },
         "name": "Agree",
         "orientation": "h",
         "type": "bar",
         "x": [
          0,
          0,
          0,
          0,
          0,
          0,
          0
         ],
         "y": [
          "I find the explanation    <br>intuitively understandable    ",
          "The explanation helps me to understand    <br>factors relevant to the algorithm    ",
          "The explanation helps me to decide whether    <br> I can trust the generated annotations    ",
          "The explanation provides me with    <br>valuable information for my work    "
         ]
        },
        {
         "marker": {
          "color": "rgb(67,147,195)"
         },
         "name": "Strongly agree",
         "orientation": "h",
         "type": "bar",
         "x": [
          0,
          0,
          0,
          0,
          0,
          0,
          0
         ],
         "y": [
          "I find the explanation    <br>intuitively understandable    ",
          "The explanation helps me to understand    <br>factors relevant to the algorithm    ",
          "The explanation helps me to decide whether    <br> I can trust the generated annotations    ",
          "The explanation provides me with    <br>valuable information for my work    "
         ]
        }
       ],
       "layout": {
        "barmode": "relative",
        "legend": {
         "orientation": "h",
         "x": 0.5,
         "xanchor": "center",
         "y": -0.4,
         "yanchor": "bottom"
        },
        "template": {
         "data": {
          "bar": [
           {
            "error_x": {
             "color": "#2a3f5f"
            },
            "error_y": {
             "color": "#2a3f5f"
            },
            "marker": {
             "line": {
              "color": "#E5ECF6",
              "width": 0.5
             },
             "pattern": {
              "fillmode": "overlay",
              "size": 10,
              "solidity": 0.2
             }
            },
            "type": "bar"
           }
          ],
          "barpolar": [
           {
            "marker": {
             "line": {
              "color": "#E5ECF6",
              "width": 0.5
             },
             "pattern": {
              "fillmode": "overlay",
              "size": 10,
              "solidity": 0.2
             }
            },
            "type": "barpolar"
           }
          ],
          "carpet": [
           {
            "aaxis": {
             "endlinecolor": "#2a3f5f",
             "gridcolor": "white",
             "linecolor": "white",
             "minorgridcolor": "white",
             "startlinecolor": "#2a3f5f"
            },
            "baxis": {
             "endlinecolor": "#2a3f5f",
             "gridcolor": "white",
             "linecolor": "white",
             "minorgridcolor": "white",
             "startlinecolor": "#2a3f5f"
            },
            "type": "carpet"
           }
          ],
          "choropleth": [
           {
            "colorbar": {
             "outlinewidth": 0,
             "ticks": ""
            },
            "type": "choropleth"
           }
          ],
          "contour": [
           {
            "colorbar": {
             "outlinewidth": 0,
             "ticks": ""
            },
            "colorscale": [
             [
              0,
              "#0d0887"
             ],
             [
              0.1111111111111111,
              "#46039f"
             ],
             [
              0.2222222222222222,
              "#7201a8"
             ],
             [
              0.3333333333333333,
              "#9c179e"
             ],
             [
              0.4444444444444444,
              "#bd3786"
             ],
             [
              0.5555555555555556,
              "#d8576b"
             ],
             [
              0.6666666666666666,
              "#ed7953"
             ],
             [
              0.7777777777777778,
              "#fb9f3a"
             ],
             [
              0.8888888888888888,
              "#fdca26"
             ],
             [
              1,
              "#f0f921"
             ]
            ],
            "type": "contour"
           }
          ],
          "contourcarpet": [
           {
            "colorbar": {
             "outlinewidth": 0,
             "ticks": ""
            },
            "type": "contourcarpet"
           }
          ],
          "heatmap": [
           {
            "colorbar": {
             "outlinewidth": 0,
             "ticks": ""
            },
            "colorscale": [
             [
              0,
              "#0d0887"
             ],
             [
              0.1111111111111111,
              "#46039f"
             ],
             [
              0.2222222222222222,
              "#7201a8"
             ],
             [
              0.3333333333333333,
              "#9c179e"
             ],
             [
              0.4444444444444444,
              "#bd3786"
             ],
             [
              0.5555555555555556,
              "#d8576b"
             ],
             [
              0.6666666666666666,
              "#ed7953"
             ],
             [
              0.7777777777777778,
              "#fb9f3a"
             ],
             [
              0.8888888888888888,
              "#fdca26"
             ],
             [
              1,
              "#f0f921"
             ]
            ],
            "type": "heatmap"
           }
          ],
          "heatmapgl": [
           {
            "colorbar": {
             "outlinewidth": 0,
             "ticks": ""
            },
            "colorscale": [
             [
              0,
              "#0d0887"
             ],
             [
              0.1111111111111111,
              "#46039f"
             ],
             [
              0.2222222222222222,
              "#7201a8"
             ],
             [
              0.3333333333333333,
              "#9c179e"
             ],
             [
              0.4444444444444444,
              "#bd3786"
             ],
             [
              0.5555555555555556,
              "#d8576b"
             ],
             [
              0.6666666666666666,
              "#ed7953"
             ],
             [
              0.7777777777777778,
              "#fb9f3a"
             ],
             [
              0.8888888888888888,
              "#fdca26"
             ],
             [
              1,
              "#f0f921"
             ]
            ],
            "type": "heatmapgl"
           }
          ],
          "histogram": [
           {
            "marker": {
             "pattern": {
              "fillmode": "overlay",
              "size": 10,
              "solidity": 0.2
             }
            },
            "type": "histogram"
           }
          ],
          "histogram2d": [
           {
            "colorbar": {
             "outlinewidth": 0,
             "ticks": ""
            },
            "colorscale": [
             [
              0,
              "#0d0887"
             ],
             [
              0.1111111111111111,
              "#46039f"
             ],
             [
              0.2222222222222222,
              "#7201a8"
             ],
             [
              0.3333333333333333,
              "#9c179e"
             ],
             [
              0.4444444444444444,
              "#bd3786"
             ],
             [
              0.5555555555555556,
              "#d8576b"
             ],
             [
              0.6666666666666666,
              "#ed7953"
             ],
             [
              0.7777777777777778,
              "#fb9f3a"
             ],
             [
              0.8888888888888888,
              "#fdca26"
             ],
             [
              1,
              "#f0f921"
             ]
            ],
            "type": "histogram2d"
           }
          ],
          "histogram2dcontour": [
           {
            "colorbar": {
             "outlinewidth": 0,
             "ticks": ""
            },
            "colorscale": [
             [
              0,
              "#0d0887"
             ],
             [
              0.1111111111111111,
              "#46039f"
             ],
             [
              0.2222222222222222,
              "#7201a8"
             ],
             [
              0.3333333333333333,
              "#9c179e"
             ],
             [
              0.4444444444444444,
              "#bd3786"
             ],
             [
              0.5555555555555556,
              "#d8576b"
             ],
             [
              0.6666666666666666,
              "#ed7953"
             ],
             [
              0.7777777777777778,
              "#fb9f3a"
             ],
             [
              0.8888888888888888,
              "#fdca26"
             ],
             [
              1,
              "#f0f921"
             ]
            ],
            "type": "histogram2dcontour"
           }
          ],
          "mesh3d": [
           {
            "colorbar": {
             "outlinewidth": 0,
             "ticks": ""
            },
            "type": "mesh3d"
           }
          ],
          "parcoords": [
           {
            "line": {
             "colorbar": {
              "outlinewidth": 0,
              "ticks": ""
             }
            },
            "type": "parcoords"
           }
          ],
          "pie": [
           {
            "automargin": true,
            "type": "pie"
           }
          ],
          "scatter": [
           {
            "marker": {
             "colorbar": {
              "outlinewidth": 0,
              "ticks": ""
             }
            },
            "type": "scatter"
           }
          ],
          "scatter3d": [
           {
            "line": {
             "colorbar": {
              "outlinewidth": 0,
              "ticks": ""
             }
            },
            "marker": {
             "colorbar": {
              "outlinewidth": 0,
              "ticks": ""
             }
            },
            "type": "scatter3d"
           }
          ],
          "scattercarpet": [
           {
            "marker": {
             "colorbar": {
              "outlinewidth": 0,
              "ticks": ""
             }
            },
            "type": "scattercarpet"
           }
          ],
          "scattergeo": [
           {
            "marker": {
             "colorbar": {
              "outlinewidth": 0,
              "ticks": ""
             }
            },
            "type": "scattergeo"
           }
          ],
          "scattergl": [
           {
            "marker": {
             "colorbar": {
              "outlinewidth": 0,
              "ticks": ""
             }
            },
            "type": "scattergl"
           }
          ],
          "scattermapbox": [
           {
            "marker": {
             "colorbar": {
              "outlinewidth": 0,
              "ticks": ""
             }
            },
            "type": "scattermapbox"
           }
          ],
          "scatterpolar": [
           {
            "marker": {
             "colorbar": {
              "outlinewidth": 0,
              "ticks": ""
             }
            },
            "type": "scatterpolar"
           }
          ],
          "scatterpolargl": [
           {
            "marker": {
             "colorbar": {
              "outlinewidth": 0,
              "ticks": ""
             }
            },
            "type": "scatterpolargl"
           }
          ],
          "scatterternary": [
           {
            "marker": {
             "colorbar": {
              "outlinewidth": 0,
              "ticks": ""
             }
            },
            "type": "scatterternary"
           }
          ],
          "surface": [
           {
            "colorbar": {
             "outlinewidth": 0,
             "ticks": ""
            },
            "colorscale": [
             [
              0,
              "#0d0887"
             ],
             [
              0.1111111111111111,
              "#46039f"
             ],
             [
              0.2222222222222222,
              "#7201a8"
             ],
             [
              0.3333333333333333,
              "#9c179e"
             ],
             [
              0.4444444444444444,
              "#bd3786"
             ],
             [
              0.5555555555555556,
              "#d8576b"
             ],
             [
              0.6666666666666666,
              "#ed7953"
             ],
             [
              0.7777777777777778,
              "#fb9f3a"
             ],
             [
              0.8888888888888888,
              "#fdca26"
             ],
             [
              1,
              "#f0f921"
             ]
            ],
            "type": "surface"
           }
          ],
          "table": [
           {
            "cells": {
             "fill": {
              "color": "#EBF0F8"
             },
             "line": {
              "color": "white"
             }
            },
            "header": {
             "fill": {
              "color": "#C8D4E3"
             },
             "line": {
              "color": "white"
             }
            },
            "type": "table"
           }
          ]
         },
         "layout": {
          "annotationdefaults": {
           "arrowcolor": "#2a3f5f",
           "arrowhead": 0,
           "arrowwidth": 1
          },
          "autotypenumbers": "strict",
          "coloraxis": {
           "colorbar": {
            "outlinewidth": 0,
            "ticks": ""
           }
          },
          "colorscale": {
           "diverging": [
            [
             0,
             "#8e0152"
            ],
            [
             0.1,
             "#c51b7d"
            ],
            [
             0.2,
             "#de77ae"
            ],
            [
             0.3,
             "#f1b6da"
            ],
            [
             0.4,
             "#fde0ef"
            ],
            [
             0.5,
             "#f7f7f7"
            ],
            [
             0.6,
             "#e6f5d0"
            ],
            [
             0.7,
             "#b8e186"
            ],
            [
             0.8,
             "#7fbc41"
            ],
            [
             0.9,
             "#4d9221"
            ],
            [
             1,
             "#276419"
            ]
           ],
           "sequential": [
            [
             0,
             "#0d0887"
            ],
            [
             0.1111111111111111,
             "#46039f"
            ],
            [
             0.2222222222222222,
             "#7201a8"
            ],
            [
             0.3333333333333333,
             "#9c179e"
            ],
            [
             0.4444444444444444,
             "#bd3786"
            ],
            [
             0.5555555555555556,
             "#d8576b"
            ],
            [
             0.6666666666666666,
             "#ed7953"
            ],
            [
             0.7777777777777778,
             "#fb9f3a"
            ],
            [
             0.8888888888888888,
             "#fdca26"
            ],
            [
             1,
             "#f0f921"
            ]
           ],
           "sequentialminus": [
            [
             0,
             "#0d0887"
            ],
            [
             0.1111111111111111,
             "#46039f"
            ],
            [
             0.2222222222222222,
             "#7201a8"
            ],
            [
             0.3333333333333333,
             "#9c179e"
            ],
            [
             0.4444444444444444,
             "#bd3786"
            ],
            [
             0.5555555555555556,
             "#d8576b"
            ],
            [
             0.6666666666666666,
             "#ed7953"
            ],
            [
             0.7777777777777778,
             "#fb9f3a"
            ],
            [
             0.8888888888888888,
             "#fdca26"
            ],
            [
             1,
             "#f0f921"
            ]
           ]
          },
          "colorway": [
           "#636efa",
           "#EF553B",
           "#00cc96",
           "#ab63fa",
           "#FFA15A",
           "#19d3f3",
           "#FF6692",
           "#B6E880",
           "#FF97FF",
           "#FECB52"
          ],
          "font": {
           "color": "#2a3f5f"
          },
          "geo": {
           "bgcolor": "white",
           "lakecolor": "white",
           "landcolor": "#E5ECF6",
           "showlakes": true,
           "showland": true,
           "subunitcolor": "white"
          },
          "hoverlabel": {
           "align": "left"
          },
          "hovermode": "closest",
          "mapbox": {
           "style": "light"
          },
          "paper_bgcolor": "white",
          "plot_bgcolor": "#E5ECF6",
          "polar": {
           "angularaxis": {
            "gridcolor": "white",
            "linecolor": "white",
            "ticks": ""
           },
           "bgcolor": "#E5ECF6",
           "radialaxis": {
            "gridcolor": "white",
            "linecolor": "white",
            "ticks": ""
           }
          },
          "scene": {
           "xaxis": {
            "backgroundcolor": "#E5ECF6",
            "gridcolor": "white",
            "gridwidth": 2,
            "linecolor": "white",
            "showbackground": true,
            "ticks": "",
            "zerolinecolor": "white"
           },
           "yaxis": {
            "backgroundcolor": "#E5ECF6",
            "gridcolor": "white",
            "gridwidth": 2,
            "linecolor": "white",
            "showbackground": true,
            "ticks": "",
            "zerolinecolor": "white"
           },
           "zaxis": {
            "backgroundcolor": "#E5ECF6",
            "gridcolor": "white",
            "gridwidth": 2,
            "linecolor": "white",
            "showbackground": true,
            "ticks": "",
            "zerolinecolor": "white"
           }
          },
          "shapedefaults": {
           "line": {
            "color": "#2a3f5f"
           }
          },
          "ternary": {
           "aaxis": {
            "gridcolor": "white",
            "linecolor": "white",
            "ticks": ""
           },
           "baxis": {
            "gridcolor": "white",
            "linecolor": "white",
            "ticks": ""
           },
           "bgcolor": "#E5ECF6",
           "caxis": {
            "gridcolor": "white",
            "linecolor": "white",
            "ticks": ""
           }
          },
          "title": {
           "x": 0.05
          },
          "xaxis": {
           "automargin": true,
           "gridcolor": "white",
           "linecolor": "white",
           "ticks": "",
           "title": {
            "standoff": 15
           },
           "zerolinecolor": "white",
           "zerolinewidth": 2
          },
          "yaxis": {
           "automargin": true,
           "gridcolor": "white",
           "linecolor": "white",
           "ticks": "",
           "title": {
            "standoff": 15
           },
           "zerolinecolor": "white",
           "zerolinewidth": 2
          }
         }
        },
        "title": {
         "text": "Concept Attribution: Text",
         "x": 0.5
        },
        "xaxis": {
         "range": [
          -1,
          1
         ],
         "tick0": 0,
         "tickformat": "%",
         "title": {
          "text": "Frequency"
         }
        },
        "yaxis": {
         "autorange": "reversed"
        }
       }
      }
     },
     "metadata": {},
     "output_type": "display_data"
    },
    {
     "name": "stdout",
     "output_type": "stream",
     "text": [
      "This is excellent but I think there could be quite a lot of additional factors, so this would need some supervision. \n"
     ]
    },
    {
     "data": {
      "application/vnd.plotly.v1+json": {
       "config": {
        "plotlyServerURL": "https://plot.ly"
       },
       "data": [
        {
         "marker": {
          "color": "rgb(247,247,247)"
         },
         "name": "Neutral",
         "orientation": "h",
         "showlegend": false,
         "type": "bar",
         "width": 0.8,
         "x": [
          -0.02631578947368421,
          -0.13157894736842105,
          -0.07894736842105263,
          -0.02631578947368421
         ],
         "y": [
          "I find the explanation    <br>intuitively understandable    ",
          "The explanation helps me to understand    <br>factors relevant to the algorithm    ",
          "The explanation helps me to decide whether    <br> I can trust the generated annotations    ",
          "The explanation provides me with    <br>valuable information for my work    "
         ]
        },
        {
         "marker": {
          "color": "rgb(253,219,199)"
         },
         "name": "Slightly disagree",
         "orientation": "h",
         "showlegend": false,
         "type": "bar",
         "width": 0.8,
         "x": [
          0,
          -0.10526315789473684,
          -0.15789473684210525,
          -0.21052631578947367
         ],
         "y": [
          "I find the explanation    <br>intuitively understandable    ",
          "The explanation helps me to understand    <br>factors relevant to the algorithm    ",
          "The explanation helps me to decide whether    <br> I can trust the generated annotations    ",
          "The explanation provides me with    <br>valuable information for my work    "
         ]
        },
        {
         "marker": {
          "color": "rgb(244,165,130)"
         },
         "name": "Disagree",
         "orientation": "h",
         "showlegend": false,
         "type": "bar",
         "width": 0.8,
         "x": [
          -0.05263157894736842,
          -0.15789473684210525,
          -0.15789473684210525,
          -0.15789473684210525
         ],
         "y": [
          "I find the explanation    <br>intuitively understandable    ",
          "The explanation helps me to understand    <br>factors relevant to the algorithm    ",
          "The explanation helps me to decide whether    <br> I can trust the generated annotations    ",
          "The explanation provides me with    <br>valuable information for my work    "
         ]
        },
        {
         "marker": {
          "color": "rgb(214,96,77)"
         },
         "name": "Strongly disagree",
         "orientation": "h",
         "showlegend": false,
         "type": "bar",
         "width": 0.8,
         "x": [
          0,
          0,
          -0.05263157894736842,
          -0.05263157894736842
         ],
         "y": [
          "I find the explanation    <br>intuitively understandable    ",
          "The explanation helps me to understand    <br>factors relevant to the algorithm    ",
          "The explanation helps me to decide whether    <br> I can trust the generated annotations    ",
          "The explanation provides me with    <br>valuable information for my work    "
         ]
        },
        {
         "marker": {
          "color": "rgb(247,247,247)"
         },
         "name": "Neutral",
         "orientation": "h",
         "showlegend": false,
         "type": "bar",
         "width": 0.8,
         "x": [
          0.02631578947368421,
          0.13157894736842105,
          0.07894736842105263,
          0.02631578947368421
         ],
         "y": [
          "I find the explanation    <br>intuitively understandable    ",
          "The explanation helps me to understand    <br>factors relevant to the algorithm    ",
          "The explanation helps me to decide whether    <br> I can trust the generated annotations    ",
          "The explanation provides me with    <br>valuable information for my work    "
         ]
        },
        {
         "marker": {
          "color": "rgb(209,229,240)"
         },
         "name": "Slightly agree",
         "orientation": "h",
         "showlegend": false,
         "type": "bar",
         "width": 0.8,
         "x": [
          0.21052631578947367,
          0.15789473684210525,
          0.10526315789473684,
          0.15789473684210525
         ],
         "y": [
          "I find the explanation    <br>intuitively understandable    ",
          "The explanation helps me to understand    <br>factors relevant to the algorithm    ",
          "The explanation helps me to decide whether    <br> I can trust the generated annotations    ",
          "The explanation provides me with    <br>valuable information for my work    "
         ]
        },
        {
         "marker": {
          "color": "rgb(146,197,222)"
         },
         "name": "Agree",
         "orientation": "h",
         "showlegend": false,
         "type": "bar",
         "width": 0.8,
         "x": [
          0.3684210526315789,
          0.2631578947368421,
          0.2631578947368421,
          0.15789473684210525
         ],
         "y": [
          "I find the explanation    <br>intuitively understandable    ",
          "The explanation helps me to understand    <br>factors relevant to the algorithm    ",
          "The explanation helps me to decide whether    <br> I can trust the generated annotations    ",
          "The explanation provides me with    <br>valuable information for my work    "
         ]
        },
        {
         "marker": {
          "color": "rgb(67,147,195)"
         },
         "name": "Strongly agree",
         "orientation": "h",
         "showlegend": false,
         "type": "bar",
         "width": 0.8,
         "x": [
          0.3157894736842105,
          0.05263157894736842,
          0.10526315789473684,
          0.21052631578947367
         ],
         "y": [
          "I find the explanation    <br>intuitively understandable    ",
          "The explanation helps me to understand    <br>factors relevant to the algorithm    ",
          "The explanation helps me to decide whether    <br> I can trust the generated annotations    ",
          "The explanation provides me with    <br>valuable information for my work    "
         ]
        },
        {
         "marker": {
          "color": "rgb(214,96,77)"
         },
         "name": "Strongly disagree",
         "orientation": "h",
         "type": "bar",
         "x": [
          0,
          0,
          0,
          0,
          0,
          0,
          0
         ],
         "y": [
          "I find the explanation    <br>intuitively understandable    ",
          "The explanation helps me to understand    <br>factors relevant to the algorithm    ",
          "The explanation helps me to decide whether    <br> I can trust the generated annotations    ",
          "The explanation provides me with    <br>valuable information for my work    "
         ]
        },
        {
         "marker": {
          "color": "rgb(244,165,130)"
         },
         "name": "Disagree",
         "orientation": "h",
         "type": "bar",
         "x": [
          0,
          0,
          0,
          0,
          0,
          0,
          0
         ],
         "y": [
          "I find the explanation    <br>intuitively understandable    ",
          "The explanation helps me to understand    <br>factors relevant to the algorithm    ",
          "The explanation helps me to decide whether    <br> I can trust the generated annotations    ",
          "The explanation provides me with    <br>valuable information for my work    "
         ]
        },
        {
         "marker": {
          "color": "rgb(253,219,199)"
         },
         "name": "Slightly disagree",
         "orientation": "h",
         "type": "bar",
         "x": [
          0,
          0,
          0,
          0,
          0,
          0,
          0
         ],
         "y": [
          "I find the explanation    <br>intuitively understandable    ",
          "The explanation helps me to understand    <br>factors relevant to the algorithm    ",
          "The explanation helps me to decide whether    <br> I can trust the generated annotations    ",
          "The explanation provides me with    <br>valuable information for my work    "
         ]
        },
        {
         "marker": {
          "color": "rgb(247,247,247)"
         },
         "name": "Neutral",
         "orientation": "h",
         "type": "bar",
         "x": [
          0,
          0,
          0,
          0,
          0,
          0,
          0
         ],
         "y": [
          "I find the explanation    <br>intuitively understandable    ",
          "The explanation helps me to understand    <br>factors relevant to the algorithm    ",
          "The explanation helps me to decide whether    <br> I can trust the generated annotations    ",
          "The explanation provides me with    <br>valuable information for my work    "
         ]
        },
        {
         "marker": {
          "color": "rgb(209,229,240)"
         },
         "name": "Slightly agree",
         "orientation": "h",
         "type": "bar",
         "x": [
          0,
          0,
          0,
          0,
          0,
          0,
          0
         ],
         "y": [
          "I find the explanation    <br>intuitively understandable    ",
          "The explanation helps me to understand    <br>factors relevant to the algorithm    ",
          "The explanation helps me to decide whether    <br> I can trust the generated annotations    ",
          "The explanation provides me with    <br>valuable information for my work    "
         ]
        },
        {
         "marker": {
          "color": "rgb(146,197,222)"
         },
         "name": "Agree",
         "orientation": "h",
         "type": "bar",
         "x": [
          0,
          0,
          0,
          0,
          0,
          0,
          0
         ],
         "y": [
          "I find the explanation    <br>intuitively understandable    ",
          "The explanation helps me to understand    <br>factors relevant to the algorithm    ",
          "The explanation helps me to decide whether    <br> I can trust the generated annotations    ",
          "The explanation provides me with    <br>valuable information for my work    "
         ]
        },
        {
         "marker": {
          "color": "rgb(67,147,195)"
         },
         "name": "Strongly agree",
         "orientation": "h",
         "type": "bar",
         "x": [
          0,
          0,
          0,
          0,
          0,
          0,
          0
         ],
         "y": [
          "I find the explanation    <br>intuitively understandable    ",
          "The explanation helps me to understand    <br>factors relevant to the algorithm    ",
          "The explanation helps me to decide whether    <br> I can trust the generated annotations    ",
          "The explanation provides me with    <br>valuable information for my work    "
         ]
        }
       ],
       "layout": {
        "barmode": "relative",
        "legend": {
         "orientation": "h",
         "x": 0.5,
         "xanchor": "center",
         "y": -0.4,
         "yanchor": "bottom"
        },
        "template": {
         "data": {
          "bar": [
           {
            "error_x": {
             "color": "#2a3f5f"
            },
            "error_y": {
             "color": "#2a3f5f"
            },
            "marker": {
             "line": {
              "color": "#E5ECF6",
              "width": 0.5
             },
             "pattern": {
              "fillmode": "overlay",
              "size": 10,
              "solidity": 0.2
             }
            },
            "type": "bar"
           }
          ],
          "barpolar": [
           {
            "marker": {
             "line": {
              "color": "#E5ECF6",
              "width": 0.5
             },
             "pattern": {
              "fillmode": "overlay",
              "size": 10,
              "solidity": 0.2
             }
            },
            "type": "barpolar"
           }
          ],
          "carpet": [
           {
            "aaxis": {
             "endlinecolor": "#2a3f5f",
             "gridcolor": "white",
             "linecolor": "white",
             "minorgridcolor": "white",
             "startlinecolor": "#2a3f5f"
            },
            "baxis": {
             "endlinecolor": "#2a3f5f",
             "gridcolor": "white",
             "linecolor": "white",
             "minorgridcolor": "white",
             "startlinecolor": "#2a3f5f"
            },
            "type": "carpet"
           }
          ],
          "choropleth": [
           {
            "colorbar": {
             "outlinewidth": 0,
             "ticks": ""
            },
            "type": "choropleth"
           }
          ],
          "contour": [
           {
            "colorbar": {
             "outlinewidth": 0,
             "ticks": ""
            },
            "colorscale": [
             [
              0,
              "#0d0887"
             ],
             [
              0.1111111111111111,
              "#46039f"
             ],
             [
              0.2222222222222222,
              "#7201a8"
             ],
             [
              0.3333333333333333,
              "#9c179e"
             ],
             [
              0.4444444444444444,
              "#bd3786"
             ],
             [
              0.5555555555555556,
              "#d8576b"
             ],
             [
              0.6666666666666666,
              "#ed7953"
             ],
             [
              0.7777777777777778,
              "#fb9f3a"
             ],
             [
              0.8888888888888888,
              "#fdca26"
             ],
             [
              1,
              "#f0f921"
             ]
            ],
            "type": "contour"
           }
          ],
          "contourcarpet": [
           {
            "colorbar": {
             "outlinewidth": 0,
             "ticks": ""
            },
            "type": "contourcarpet"
           }
          ],
          "heatmap": [
           {
            "colorbar": {
             "outlinewidth": 0,
             "ticks": ""
            },
            "colorscale": [
             [
              0,
              "#0d0887"
             ],
             [
              0.1111111111111111,
              "#46039f"
             ],
             [
              0.2222222222222222,
              "#7201a8"
             ],
             [
              0.3333333333333333,
              "#9c179e"
             ],
             [
              0.4444444444444444,
              "#bd3786"
             ],
             [
              0.5555555555555556,
              "#d8576b"
             ],
             [
              0.6666666666666666,
              "#ed7953"
             ],
             [
              0.7777777777777778,
              "#fb9f3a"
             ],
             [
              0.8888888888888888,
              "#fdca26"
             ],
             [
              1,
              "#f0f921"
             ]
            ],
            "type": "heatmap"
           }
          ],
          "heatmapgl": [
           {
            "colorbar": {
             "outlinewidth": 0,
             "ticks": ""
            },
            "colorscale": [
             [
              0,
              "#0d0887"
             ],
             [
              0.1111111111111111,
              "#46039f"
             ],
             [
              0.2222222222222222,
              "#7201a8"
             ],
             [
              0.3333333333333333,
              "#9c179e"
             ],
             [
              0.4444444444444444,
              "#bd3786"
             ],
             [
              0.5555555555555556,
              "#d8576b"
             ],
             [
              0.6666666666666666,
              "#ed7953"
             ],
             [
              0.7777777777777778,
              "#fb9f3a"
             ],
             [
              0.8888888888888888,
              "#fdca26"
             ],
             [
              1,
              "#f0f921"
             ]
            ],
            "type": "heatmapgl"
           }
          ],
          "histogram": [
           {
            "marker": {
             "pattern": {
              "fillmode": "overlay",
              "size": 10,
              "solidity": 0.2
             }
            },
            "type": "histogram"
           }
          ],
          "histogram2d": [
           {
            "colorbar": {
             "outlinewidth": 0,
             "ticks": ""
            },
            "colorscale": [
             [
              0,
              "#0d0887"
             ],
             [
              0.1111111111111111,
              "#46039f"
             ],
             [
              0.2222222222222222,
              "#7201a8"
             ],
             [
              0.3333333333333333,
              "#9c179e"
             ],
             [
              0.4444444444444444,
              "#bd3786"
             ],
             [
              0.5555555555555556,
              "#d8576b"
             ],
             [
              0.6666666666666666,
              "#ed7953"
             ],
             [
              0.7777777777777778,
              "#fb9f3a"
             ],
             [
              0.8888888888888888,
              "#fdca26"
             ],
             [
              1,
              "#f0f921"
             ]
            ],
            "type": "histogram2d"
           }
          ],
          "histogram2dcontour": [
           {
            "colorbar": {
             "outlinewidth": 0,
             "ticks": ""
            },
            "colorscale": [
             [
              0,
              "#0d0887"
             ],
             [
              0.1111111111111111,
              "#46039f"
             ],
             [
              0.2222222222222222,
              "#7201a8"
             ],
             [
              0.3333333333333333,
              "#9c179e"
             ],
             [
              0.4444444444444444,
              "#bd3786"
             ],
             [
              0.5555555555555556,
              "#d8576b"
             ],
             [
              0.6666666666666666,
              "#ed7953"
             ],
             [
              0.7777777777777778,
              "#fb9f3a"
             ],
             [
              0.8888888888888888,
              "#fdca26"
             ],
             [
              1,
              "#f0f921"
             ]
            ],
            "type": "histogram2dcontour"
           }
          ],
          "mesh3d": [
           {
            "colorbar": {
             "outlinewidth": 0,
             "ticks": ""
            },
            "type": "mesh3d"
           }
          ],
          "parcoords": [
           {
            "line": {
             "colorbar": {
              "outlinewidth": 0,
              "ticks": ""
             }
            },
            "type": "parcoords"
           }
          ],
          "pie": [
           {
            "automargin": true,
            "type": "pie"
           }
          ],
          "scatter": [
           {
            "marker": {
             "colorbar": {
              "outlinewidth": 0,
              "ticks": ""
             }
            },
            "type": "scatter"
           }
          ],
          "scatter3d": [
           {
            "line": {
             "colorbar": {
              "outlinewidth": 0,
              "ticks": ""
             }
            },
            "marker": {
             "colorbar": {
              "outlinewidth": 0,
              "ticks": ""
             }
            },
            "type": "scatter3d"
           }
          ],
          "scattercarpet": [
           {
            "marker": {
             "colorbar": {
              "outlinewidth": 0,
              "ticks": ""
             }
            },
            "type": "scattercarpet"
           }
          ],
          "scattergeo": [
           {
            "marker": {
             "colorbar": {
              "outlinewidth": 0,
              "ticks": ""
             }
            },
            "type": "scattergeo"
           }
          ],
          "scattergl": [
           {
            "marker": {
             "colorbar": {
              "outlinewidth": 0,
              "ticks": ""
             }
            },
            "type": "scattergl"
           }
          ],
          "scattermapbox": [
           {
            "marker": {
             "colorbar": {
              "outlinewidth": 0,
              "ticks": ""
             }
            },
            "type": "scattermapbox"
           }
          ],
          "scatterpolar": [
           {
            "marker": {
             "colorbar": {
              "outlinewidth": 0,
              "ticks": ""
             }
            },
            "type": "scatterpolar"
           }
          ],
          "scatterpolargl": [
           {
            "marker": {
             "colorbar": {
              "outlinewidth": 0,
              "ticks": ""
             }
            },
            "type": "scatterpolargl"
           }
          ],
          "scatterternary": [
           {
            "marker": {
             "colorbar": {
              "outlinewidth": 0,
              "ticks": ""
             }
            },
            "type": "scatterternary"
           }
          ],
          "surface": [
           {
            "colorbar": {
             "outlinewidth": 0,
             "ticks": ""
            },
            "colorscale": [
             [
              0,
              "#0d0887"
             ],
             [
              0.1111111111111111,
              "#46039f"
             ],
             [
              0.2222222222222222,
              "#7201a8"
             ],
             [
              0.3333333333333333,
              "#9c179e"
             ],
             [
              0.4444444444444444,
              "#bd3786"
             ],
             [
              0.5555555555555556,
              "#d8576b"
             ],
             [
              0.6666666666666666,
              "#ed7953"
             ],
             [
              0.7777777777777778,
              "#fb9f3a"
             ],
             [
              0.8888888888888888,
              "#fdca26"
             ],
             [
              1,
              "#f0f921"
             ]
            ],
            "type": "surface"
           }
          ],
          "table": [
           {
            "cells": {
             "fill": {
              "color": "#EBF0F8"
             },
             "line": {
              "color": "white"
             }
            },
            "header": {
             "fill": {
              "color": "#C8D4E3"
             },
             "line": {
              "color": "white"
             }
            },
            "type": "table"
           }
          ]
         },
         "layout": {
          "annotationdefaults": {
           "arrowcolor": "#2a3f5f",
           "arrowhead": 0,
           "arrowwidth": 1
          },
          "autotypenumbers": "strict",
          "coloraxis": {
           "colorbar": {
            "outlinewidth": 0,
            "ticks": ""
           }
          },
          "colorscale": {
           "diverging": [
            [
             0,
             "#8e0152"
            ],
            [
             0.1,
             "#c51b7d"
            ],
            [
             0.2,
             "#de77ae"
            ],
            [
             0.3,
             "#f1b6da"
            ],
            [
             0.4,
             "#fde0ef"
            ],
            [
             0.5,
             "#f7f7f7"
            ],
            [
             0.6,
             "#e6f5d0"
            ],
            [
             0.7,
             "#b8e186"
            ],
            [
             0.8,
             "#7fbc41"
            ],
            [
             0.9,
             "#4d9221"
            ],
            [
             1,
             "#276419"
            ]
           ],
           "sequential": [
            [
             0,
             "#0d0887"
            ],
            [
             0.1111111111111111,
             "#46039f"
            ],
            [
             0.2222222222222222,
             "#7201a8"
            ],
            [
             0.3333333333333333,
             "#9c179e"
            ],
            [
             0.4444444444444444,
             "#bd3786"
            ],
            [
             0.5555555555555556,
             "#d8576b"
            ],
            [
             0.6666666666666666,
             "#ed7953"
            ],
            [
             0.7777777777777778,
             "#fb9f3a"
            ],
            [
             0.8888888888888888,
             "#fdca26"
            ],
            [
             1,
             "#f0f921"
            ]
           ],
           "sequentialminus": [
            [
             0,
             "#0d0887"
            ],
            [
             0.1111111111111111,
             "#46039f"
            ],
            [
             0.2222222222222222,
             "#7201a8"
            ],
            [
             0.3333333333333333,
             "#9c179e"
            ],
            [
             0.4444444444444444,
             "#bd3786"
            ],
            [
             0.5555555555555556,
             "#d8576b"
            ],
            [
             0.6666666666666666,
             "#ed7953"
            ],
            [
             0.7777777777777778,
             "#fb9f3a"
            ],
            [
             0.8888888888888888,
             "#fdca26"
            ],
            [
             1,
             "#f0f921"
            ]
           ]
          },
          "colorway": [
           "#636efa",
           "#EF553B",
           "#00cc96",
           "#ab63fa",
           "#FFA15A",
           "#19d3f3",
           "#FF6692",
           "#B6E880",
           "#FF97FF",
           "#FECB52"
          ],
          "font": {
           "color": "#2a3f5f"
          },
          "geo": {
           "bgcolor": "white",
           "lakecolor": "white",
           "landcolor": "#E5ECF6",
           "showlakes": true,
           "showland": true,
           "subunitcolor": "white"
          },
          "hoverlabel": {
           "align": "left"
          },
          "hovermode": "closest",
          "mapbox": {
           "style": "light"
          },
          "paper_bgcolor": "white",
          "plot_bgcolor": "#E5ECF6",
          "polar": {
           "angularaxis": {
            "gridcolor": "white",
            "linecolor": "white",
            "ticks": ""
           },
           "bgcolor": "#E5ECF6",
           "radialaxis": {
            "gridcolor": "white",
            "linecolor": "white",
            "ticks": ""
           }
          },
          "scene": {
           "xaxis": {
            "backgroundcolor": "#E5ECF6",
            "gridcolor": "white",
            "gridwidth": 2,
            "linecolor": "white",
            "showbackground": true,
            "ticks": "",
            "zerolinecolor": "white"
           },
           "yaxis": {
            "backgroundcolor": "#E5ECF6",
            "gridcolor": "white",
            "gridwidth": 2,
            "linecolor": "white",
            "showbackground": true,
            "ticks": "",
            "zerolinecolor": "white"
           },
           "zaxis": {
            "backgroundcolor": "#E5ECF6",
            "gridcolor": "white",
            "gridwidth": 2,
            "linecolor": "white",
            "showbackground": true,
            "ticks": "",
            "zerolinecolor": "white"
           }
          },
          "shapedefaults": {
           "line": {
            "color": "#2a3f5f"
           }
          },
          "ternary": {
           "aaxis": {
            "gridcolor": "white",
            "linecolor": "white",
            "ticks": ""
           },
           "baxis": {
            "gridcolor": "white",
            "linecolor": "white",
            "ticks": ""
           },
           "bgcolor": "#E5ECF6",
           "caxis": {
            "gridcolor": "white",
            "linecolor": "white",
            "ticks": ""
           }
          },
          "title": {
           "x": 0.05
          },
          "xaxis": {
           "automargin": true,
           "gridcolor": "white",
           "linecolor": "white",
           "ticks": "",
           "title": {
            "standoff": 15
           },
           "zerolinecolor": "white",
           "zerolinewidth": 2
          },
          "yaxis": {
           "automargin": true,
           "gridcolor": "white",
           "linecolor": "white",
           "ticks": "",
           "title": {
            "standoff": 15
           },
           "zerolinecolor": "white",
           "zerolinewidth": 2
          }
         }
        },
        "title": {
         "text": "Prototypes: Highest confidence",
         "x": 0.5
        },
        "xaxis": {
         "range": [
          -1,
          1
         ],
         "tick0": 0,
         "tickformat": "%",
         "title": {
          "text": "Frequency"
         }
        },
        "yaxis": {
         "autorange": "reversed"
        }
       }
      }
     },
     "metadata": {},
     "output_type": "display_data"
    },
    {
     "data": {
      "application/vnd.plotly.v1+json": {
       "config": {
        "plotlyServerURL": "https://plot.ly"
       },
       "data": [
        {
         "marker": {
          "color": "rgb(247,247,247)"
         },
         "name": "Neutral",
         "orientation": "h",
         "showlegend": false,
         "type": "bar",
         "width": 0.8,
         "x": [
          -0.10526315789473684,
          -0.07894736842105263,
          -0.13157894736842105,
          -0.07894736842105263
         ],
         "y": [
          "I find the explanation    <br>intuitively understandable    ",
          "The explanation helps me to understand    <br>factors relevant to the algorithm    ",
          "The explanation helps me to decide whether    <br> I can trust the generated annotations    ",
          "The explanation provides me with    <br>valuable information for my work    "
         ]
        },
        {
         "marker": {
          "color": "rgb(253,219,199)"
         },
         "name": "Slightly disagree",
         "orientation": "h",
         "showlegend": false,
         "type": "bar",
         "width": 0.8,
         "x": [
          -0.05263157894736842,
          -0.15789473684210525,
          -0.15789473684210525,
          -0.10526315789473684
         ],
         "y": [
          "I find the explanation    <br>intuitively understandable    ",
          "The explanation helps me to understand    <br>factors relevant to the algorithm    ",
          "The explanation helps me to decide whether    <br> I can trust the generated annotations    ",
          "The explanation provides me with    <br>valuable information for my work    "
         ]
        },
        {
         "marker": {
          "color": "rgb(244,165,130)"
         },
         "name": "Disagree",
         "orientation": "h",
         "showlegend": false,
         "type": "bar",
         "width": 0.8,
         "x": [
          -0.10526315789473684,
          -0.15789473684210525,
          0,
          -0.10526315789473684
         ],
         "y": [
          "I find the explanation    <br>intuitively understandable    ",
          "The explanation helps me to understand    <br>factors relevant to the algorithm    ",
          "The explanation helps me to decide whether    <br> I can trust the generated annotations    ",
          "The explanation provides me with    <br>valuable information for my work    "
         ]
        },
        {
         "marker": {
          "color": "rgb(214,96,77)"
         },
         "name": "Strongly disagree",
         "orientation": "h",
         "showlegend": false,
         "type": "bar",
         "width": 0.8,
         "x": [
          0,
          0,
          0,
          0
         ],
         "y": [
          "I find the explanation    <br>intuitively understandable    ",
          "The explanation helps me to understand    <br>factors relevant to the algorithm    ",
          "The explanation helps me to decide whether    <br> I can trust the generated annotations    ",
          "The explanation provides me with    <br>valuable information for my work    "
         ]
        },
        {
         "marker": {
          "color": "rgb(247,247,247)"
         },
         "name": "Neutral",
         "orientation": "h",
         "showlegend": false,
         "type": "bar",
         "width": 0.8,
         "x": [
          0.10526315789473684,
          0.07894736842105263,
          0.13157894736842105,
          0.07894736842105263
         ],
         "y": [
          "I find the explanation    <br>intuitively understandable    ",
          "The explanation helps me to understand    <br>factors relevant to the algorithm    ",
          "The explanation helps me to decide whether    <br> I can trust the generated annotations    ",
          "The explanation provides me with    <br>valuable information for my work    "
         ]
        },
        {
         "marker": {
          "color": "rgb(209,229,240)"
         },
         "name": "Slightly agree",
         "orientation": "h",
         "showlegend": false,
         "type": "bar",
         "width": 0.8,
         "x": [
          0.2631578947368421,
          0.3157894736842105,
          0.21052631578947367,
          0.3157894736842105
         ],
         "y": [
          "I find the explanation    <br>intuitively understandable    ",
          "The explanation helps me to understand    <br>factors relevant to the algorithm    ",
          "The explanation helps me to decide whether    <br> I can trust the generated annotations    ",
          "The explanation provides me with    <br>valuable information for my work    "
         ]
        },
        {
         "marker": {
          "color": "rgb(146,197,222)"
         },
         "name": "Agree",
         "orientation": "h",
         "showlegend": false,
         "type": "bar",
         "width": 0.8,
         "x": [
          0.21052631578947367,
          0.10526315789473684,
          0.2631578947368421,
          0.21052631578947367
         ],
         "y": [
          "I find the explanation    <br>intuitively understandable    ",
          "The explanation helps me to understand    <br>factors relevant to the algorithm    ",
          "The explanation helps me to decide whether    <br> I can trust the generated annotations    ",
          "The explanation provides me with    <br>valuable information for my work    "
         ]
        },
        {
         "marker": {
          "color": "rgb(67,147,195)"
         },
         "name": "Strongly agree",
         "orientation": "h",
         "showlegend": false,
         "type": "bar",
         "width": 0.8,
         "x": [
          0.15789473684210525,
          0.10526315789473684,
          0.10526315789473684,
          0.10526315789473684
         ],
         "y": [
          "I find the explanation    <br>intuitively understandable    ",
          "The explanation helps me to understand    <br>factors relevant to the algorithm    ",
          "The explanation helps me to decide whether    <br> I can trust the generated annotations    ",
          "The explanation provides me with    <br>valuable information for my work    "
         ]
        },
        {
         "marker": {
          "color": "rgb(214,96,77)"
         },
         "name": "Strongly disagree",
         "orientation": "h",
         "type": "bar",
         "x": [
          0,
          0,
          0,
          0,
          0,
          0,
          0
         ],
         "y": [
          "I find the explanation    <br>intuitively understandable    ",
          "The explanation helps me to understand    <br>factors relevant to the algorithm    ",
          "The explanation helps me to decide whether    <br> I can trust the generated annotations    ",
          "The explanation provides me with    <br>valuable information for my work    "
         ]
        },
        {
         "marker": {
          "color": "rgb(244,165,130)"
         },
         "name": "Disagree",
         "orientation": "h",
         "type": "bar",
         "x": [
          0,
          0,
          0,
          0,
          0,
          0,
          0
         ],
         "y": [
          "I find the explanation    <br>intuitively understandable    ",
          "The explanation helps me to understand    <br>factors relevant to the algorithm    ",
          "The explanation helps me to decide whether    <br> I can trust the generated annotations    ",
          "The explanation provides me with    <br>valuable information for my work    "
         ]
        },
        {
         "marker": {
          "color": "rgb(253,219,199)"
         },
         "name": "Slightly disagree",
         "orientation": "h",
         "type": "bar",
         "x": [
          0,
          0,
          0,
          0,
          0,
          0,
          0
         ],
         "y": [
          "I find the explanation    <br>intuitively understandable    ",
          "The explanation helps me to understand    <br>factors relevant to the algorithm    ",
          "The explanation helps me to decide whether    <br> I can trust the generated annotations    ",
          "The explanation provides me with    <br>valuable information for my work    "
         ]
        },
        {
         "marker": {
          "color": "rgb(247,247,247)"
         },
         "name": "Neutral",
         "orientation": "h",
         "type": "bar",
         "x": [
          0,
          0,
          0,
          0,
          0,
          0,
          0
         ],
         "y": [
          "I find the explanation    <br>intuitively understandable    ",
          "The explanation helps me to understand    <br>factors relevant to the algorithm    ",
          "The explanation helps me to decide whether    <br> I can trust the generated annotations    ",
          "The explanation provides me with    <br>valuable information for my work    "
         ]
        },
        {
         "marker": {
          "color": "rgb(209,229,240)"
         },
         "name": "Slightly agree",
         "orientation": "h",
         "type": "bar",
         "x": [
          0,
          0,
          0,
          0,
          0,
          0,
          0
         ],
         "y": [
          "I find the explanation    <br>intuitively understandable    ",
          "The explanation helps me to understand    <br>factors relevant to the algorithm    ",
          "The explanation helps me to decide whether    <br> I can trust the generated annotations    ",
          "The explanation provides me with    <br>valuable information for my work    "
         ]
        },
        {
         "marker": {
          "color": "rgb(146,197,222)"
         },
         "name": "Agree",
         "orientation": "h",
         "type": "bar",
         "x": [
          0,
          0,
          0,
          0,
          0,
          0,
          0
         ],
         "y": [
          "I find the explanation    <br>intuitively understandable    ",
          "The explanation helps me to understand    <br>factors relevant to the algorithm    ",
          "The explanation helps me to decide whether    <br> I can trust the generated annotations    ",
          "The explanation provides me with    <br>valuable information for my work    "
         ]
        },
        {
         "marker": {
          "color": "rgb(67,147,195)"
         },
         "name": "Strongly agree",
         "orientation": "h",
         "type": "bar",
         "x": [
          0,
          0,
          0,
          0,
          0,
          0,
          0
         ],
         "y": [
          "I find the explanation    <br>intuitively understandable    ",
          "The explanation helps me to understand    <br>factors relevant to the algorithm    ",
          "The explanation helps me to decide whether    <br> I can trust the generated annotations    ",
          "The explanation provides me with    <br>valuable information for my work    "
         ]
        }
       ],
       "layout": {
        "barmode": "relative",
        "legend": {
         "orientation": "h",
         "x": 0.5,
         "xanchor": "center",
         "y": -0.4,
         "yanchor": "bottom"
        },
        "template": {
         "data": {
          "bar": [
           {
            "error_x": {
             "color": "#2a3f5f"
            },
            "error_y": {
             "color": "#2a3f5f"
            },
            "marker": {
             "line": {
              "color": "#E5ECF6",
              "width": 0.5
             },
             "pattern": {
              "fillmode": "overlay",
              "size": 10,
              "solidity": 0.2
             }
            },
            "type": "bar"
           }
          ],
          "barpolar": [
           {
            "marker": {
             "line": {
              "color": "#E5ECF6",
              "width": 0.5
             },
             "pattern": {
              "fillmode": "overlay",
              "size": 10,
              "solidity": 0.2
             }
            },
            "type": "barpolar"
           }
          ],
          "carpet": [
           {
            "aaxis": {
             "endlinecolor": "#2a3f5f",
             "gridcolor": "white",
             "linecolor": "white",
             "minorgridcolor": "white",
             "startlinecolor": "#2a3f5f"
            },
            "baxis": {
             "endlinecolor": "#2a3f5f",
             "gridcolor": "white",
             "linecolor": "white",
             "minorgridcolor": "white",
             "startlinecolor": "#2a3f5f"
            },
            "type": "carpet"
           }
          ],
          "choropleth": [
           {
            "colorbar": {
             "outlinewidth": 0,
             "ticks": ""
            },
            "type": "choropleth"
           }
          ],
          "contour": [
           {
            "colorbar": {
             "outlinewidth": 0,
             "ticks": ""
            },
            "colorscale": [
             [
              0,
              "#0d0887"
             ],
             [
              0.1111111111111111,
              "#46039f"
             ],
             [
              0.2222222222222222,
              "#7201a8"
             ],
             [
              0.3333333333333333,
              "#9c179e"
             ],
             [
              0.4444444444444444,
              "#bd3786"
             ],
             [
              0.5555555555555556,
              "#d8576b"
             ],
             [
              0.6666666666666666,
              "#ed7953"
             ],
             [
              0.7777777777777778,
              "#fb9f3a"
             ],
             [
              0.8888888888888888,
              "#fdca26"
             ],
             [
              1,
              "#f0f921"
             ]
            ],
            "type": "contour"
           }
          ],
          "contourcarpet": [
           {
            "colorbar": {
             "outlinewidth": 0,
             "ticks": ""
            },
            "type": "contourcarpet"
           }
          ],
          "heatmap": [
           {
            "colorbar": {
             "outlinewidth": 0,
             "ticks": ""
            },
            "colorscale": [
             [
              0,
              "#0d0887"
             ],
             [
              0.1111111111111111,
              "#46039f"
             ],
             [
              0.2222222222222222,
              "#7201a8"
             ],
             [
              0.3333333333333333,
              "#9c179e"
             ],
             [
              0.4444444444444444,
              "#bd3786"
             ],
             [
              0.5555555555555556,
              "#d8576b"
             ],
             [
              0.6666666666666666,
              "#ed7953"
             ],
             [
              0.7777777777777778,
              "#fb9f3a"
             ],
             [
              0.8888888888888888,
              "#fdca26"
             ],
             [
              1,
              "#f0f921"
             ]
            ],
            "type": "heatmap"
           }
          ],
          "heatmapgl": [
           {
            "colorbar": {
             "outlinewidth": 0,
             "ticks": ""
            },
            "colorscale": [
             [
              0,
              "#0d0887"
             ],
             [
              0.1111111111111111,
              "#46039f"
             ],
             [
              0.2222222222222222,
              "#7201a8"
             ],
             [
              0.3333333333333333,
              "#9c179e"
             ],
             [
              0.4444444444444444,
              "#bd3786"
             ],
             [
              0.5555555555555556,
              "#d8576b"
             ],
             [
              0.6666666666666666,
              "#ed7953"
             ],
             [
              0.7777777777777778,
              "#fb9f3a"
             ],
             [
              0.8888888888888888,
              "#fdca26"
             ],
             [
              1,
              "#f0f921"
             ]
            ],
            "type": "heatmapgl"
           }
          ],
          "histogram": [
           {
            "marker": {
             "pattern": {
              "fillmode": "overlay",
              "size": 10,
              "solidity": 0.2
             }
            },
            "type": "histogram"
           }
          ],
          "histogram2d": [
           {
            "colorbar": {
             "outlinewidth": 0,
             "ticks": ""
            },
            "colorscale": [
             [
              0,
              "#0d0887"
             ],
             [
              0.1111111111111111,
              "#46039f"
             ],
             [
              0.2222222222222222,
              "#7201a8"
             ],
             [
              0.3333333333333333,
              "#9c179e"
             ],
             [
              0.4444444444444444,
              "#bd3786"
             ],
             [
              0.5555555555555556,
              "#d8576b"
             ],
             [
              0.6666666666666666,
              "#ed7953"
             ],
             [
              0.7777777777777778,
              "#fb9f3a"
             ],
             [
              0.8888888888888888,
              "#fdca26"
             ],
             [
              1,
              "#f0f921"
             ]
            ],
            "type": "histogram2d"
           }
          ],
          "histogram2dcontour": [
           {
            "colorbar": {
             "outlinewidth": 0,
             "ticks": ""
            },
            "colorscale": [
             [
              0,
              "#0d0887"
             ],
             [
              0.1111111111111111,
              "#46039f"
             ],
             [
              0.2222222222222222,
              "#7201a8"
             ],
             [
              0.3333333333333333,
              "#9c179e"
             ],
             [
              0.4444444444444444,
              "#bd3786"
             ],
             [
              0.5555555555555556,
              "#d8576b"
             ],
             [
              0.6666666666666666,
              "#ed7953"
             ],
             [
              0.7777777777777778,
              "#fb9f3a"
             ],
             [
              0.8888888888888888,
              "#fdca26"
             ],
             [
              1,
              "#f0f921"
             ]
            ],
            "type": "histogram2dcontour"
           }
          ],
          "mesh3d": [
           {
            "colorbar": {
             "outlinewidth": 0,
             "ticks": ""
            },
            "type": "mesh3d"
           }
          ],
          "parcoords": [
           {
            "line": {
             "colorbar": {
              "outlinewidth": 0,
              "ticks": ""
             }
            },
            "type": "parcoords"
           }
          ],
          "pie": [
           {
            "automargin": true,
            "type": "pie"
           }
          ],
          "scatter": [
           {
            "marker": {
             "colorbar": {
              "outlinewidth": 0,
              "ticks": ""
             }
            },
            "type": "scatter"
           }
          ],
          "scatter3d": [
           {
            "line": {
             "colorbar": {
              "outlinewidth": 0,
              "ticks": ""
             }
            },
            "marker": {
             "colorbar": {
              "outlinewidth": 0,
              "ticks": ""
             }
            },
            "type": "scatter3d"
           }
          ],
          "scattercarpet": [
           {
            "marker": {
             "colorbar": {
              "outlinewidth": 0,
              "ticks": ""
             }
            },
            "type": "scattercarpet"
           }
          ],
          "scattergeo": [
           {
            "marker": {
             "colorbar": {
              "outlinewidth": 0,
              "ticks": ""
             }
            },
            "type": "scattergeo"
           }
          ],
          "scattergl": [
           {
            "marker": {
             "colorbar": {
              "outlinewidth": 0,
              "ticks": ""
             }
            },
            "type": "scattergl"
           }
          ],
          "scattermapbox": [
           {
            "marker": {
             "colorbar": {
              "outlinewidth": 0,
              "ticks": ""
             }
            },
            "type": "scattermapbox"
           }
          ],
          "scatterpolar": [
           {
            "marker": {
             "colorbar": {
              "outlinewidth": 0,
              "ticks": ""
             }
            },
            "type": "scatterpolar"
           }
          ],
          "scatterpolargl": [
           {
            "marker": {
             "colorbar": {
              "outlinewidth": 0,
              "ticks": ""
             }
            },
            "type": "scatterpolargl"
           }
          ],
          "scatterternary": [
           {
            "marker": {
             "colorbar": {
              "outlinewidth": 0,
              "ticks": ""
             }
            },
            "type": "scatterternary"
           }
          ],
          "surface": [
           {
            "colorbar": {
             "outlinewidth": 0,
             "ticks": ""
            },
            "colorscale": [
             [
              0,
              "#0d0887"
             ],
             [
              0.1111111111111111,
              "#46039f"
             ],
             [
              0.2222222222222222,
              "#7201a8"
             ],
             [
              0.3333333333333333,
              "#9c179e"
             ],
             [
              0.4444444444444444,
              "#bd3786"
             ],
             [
              0.5555555555555556,
              "#d8576b"
             ],
             [
              0.6666666666666666,
              "#ed7953"
             ],
             [
              0.7777777777777778,
              "#fb9f3a"
             ],
             [
              0.8888888888888888,
              "#fdca26"
             ],
             [
              1,
              "#f0f921"
             ]
            ],
            "type": "surface"
           }
          ],
          "table": [
           {
            "cells": {
             "fill": {
              "color": "#EBF0F8"
             },
             "line": {
              "color": "white"
             }
            },
            "header": {
             "fill": {
              "color": "#C8D4E3"
             },
             "line": {
              "color": "white"
             }
            },
            "type": "table"
           }
          ]
         },
         "layout": {
          "annotationdefaults": {
           "arrowcolor": "#2a3f5f",
           "arrowhead": 0,
           "arrowwidth": 1
          },
          "autotypenumbers": "strict",
          "coloraxis": {
           "colorbar": {
            "outlinewidth": 0,
            "ticks": ""
           }
          },
          "colorscale": {
           "diverging": [
            [
             0,
             "#8e0152"
            ],
            [
             0.1,
             "#c51b7d"
            ],
            [
             0.2,
             "#de77ae"
            ],
            [
             0.3,
             "#f1b6da"
            ],
            [
             0.4,
             "#fde0ef"
            ],
            [
             0.5,
             "#f7f7f7"
            ],
            [
             0.6,
             "#e6f5d0"
            ],
            [
             0.7,
             "#b8e186"
            ],
            [
             0.8,
             "#7fbc41"
            ],
            [
             0.9,
             "#4d9221"
            ],
            [
             1,
             "#276419"
            ]
           ],
           "sequential": [
            [
             0,
             "#0d0887"
            ],
            [
             0.1111111111111111,
             "#46039f"
            ],
            [
             0.2222222222222222,
             "#7201a8"
            ],
            [
             0.3333333333333333,
             "#9c179e"
            ],
            [
             0.4444444444444444,
             "#bd3786"
            ],
            [
             0.5555555555555556,
             "#d8576b"
            ],
            [
             0.6666666666666666,
             "#ed7953"
            ],
            [
             0.7777777777777778,
             "#fb9f3a"
            ],
            [
             0.8888888888888888,
             "#fdca26"
            ],
            [
             1,
             "#f0f921"
            ]
           ],
           "sequentialminus": [
            [
             0,
             "#0d0887"
            ],
            [
             0.1111111111111111,
             "#46039f"
            ],
            [
             0.2222222222222222,
             "#7201a8"
            ],
            [
             0.3333333333333333,
             "#9c179e"
            ],
            [
             0.4444444444444444,
             "#bd3786"
            ],
            [
             0.5555555555555556,
             "#d8576b"
            ],
            [
             0.6666666666666666,
             "#ed7953"
            ],
            [
             0.7777777777777778,
             "#fb9f3a"
            ],
            [
             0.8888888888888888,
             "#fdca26"
            ],
            [
             1,
             "#f0f921"
            ]
           ]
          },
          "colorway": [
           "#636efa",
           "#EF553B",
           "#00cc96",
           "#ab63fa",
           "#FFA15A",
           "#19d3f3",
           "#FF6692",
           "#B6E880",
           "#FF97FF",
           "#FECB52"
          ],
          "font": {
           "color": "#2a3f5f"
          },
          "geo": {
           "bgcolor": "white",
           "lakecolor": "white",
           "landcolor": "#E5ECF6",
           "showlakes": true,
           "showland": true,
           "subunitcolor": "white"
          },
          "hoverlabel": {
           "align": "left"
          },
          "hovermode": "closest",
          "mapbox": {
           "style": "light"
          },
          "paper_bgcolor": "white",
          "plot_bgcolor": "#E5ECF6",
          "polar": {
           "angularaxis": {
            "gridcolor": "white",
            "linecolor": "white",
            "ticks": ""
           },
           "bgcolor": "#E5ECF6",
           "radialaxis": {
            "gridcolor": "white",
            "linecolor": "white",
            "ticks": ""
           }
          },
          "scene": {
           "xaxis": {
            "backgroundcolor": "#E5ECF6",
            "gridcolor": "white",
            "gridwidth": 2,
            "linecolor": "white",
            "showbackground": true,
            "ticks": "",
            "zerolinecolor": "white"
           },
           "yaxis": {
            "backgroundcolor": "#E5ECF6",
            "gridcolor": "white",
            "gridwidth": 2,
            "linecolor": "white",
            "showbackground": true,
            "ticks": "",
            "zerolinecolor": "white"
           },
           "zaxis": {
            "backgroundcolor": "#E5ECF6",
            "gridcolor": "white",
            "gridwidth": 2,
            "linecolor": "white",
            "showbackground": true,
            "ticks": "",
            "zerolinecolor": "white"
           }
          },
          "shapedefaults": {
           "line": {
            "color": "#2a3f5f"
           }
          },
          "ternary": {
           "aaxis": {
            "gridcolor": "white",
            "linecolor": "white",
            "ticks": ""
           },
           "baxis": {
            "gridcolor": "white",
            "linecolor": "white",
            "ticks": ""
           },
           "bgcolor": "#E5ECF6",
           "caxis": {
            "gridcolor": "white",
            "linecolor": "white",
            "ticks": ""
           }
          },
          "title": {
           "x": 0.05
          },
          "xaxis": {
           "automargin": true,
           "gridcolor": "white",
           "linecolor": "white",
           "ticks": "",
           "title": {
            "standoff": 15
           },
           "zerolinecolor": "white",
           "zerolinewidth": 2
          },
          "yaxis": {
           "automargin": true,
           "gridcolor": "white",
           "linecolor": "white",
           "ticks": "",
           "title": {
            "standoff": 15
           },
           "zerolinecolor": "white",
           "zerolinewidth": 2
          }
         }
        },
        "title": {
         "text": "Trust Scores: Borderline Cases",
         "x": 0.5
        },
        "xaxis": {
         "range": [
          -1,
          1
         ],
         "tick0": 0,
         "tickformat": "%",
         "title": {
          "text": "Frequency"
         }
        },
        "yaxis": {
         "autorange": "reversed"
        }
       }
      }
     },
     "metadata": {},
     "output_type": "display_data"
    },
    {
     "name": "stdout",
     "output_type": "stream",
     "text": [
      "High confidence should provide examples of both classes (pos. and neg.), no? \n",
      "Confidence for what? positive or negative or both?\n",
      "I felt I needed the pos or neg labels in addition to the confidence\n"
     ]
    }
   ],
   "source": [
    "from typing import Optional\n",
    "from collections import Counter\n",
    "\n",
    "import plotly\n",
    "import plotly.graph_objects as go\n",
    "\n",
    "\n",
    "def stackedBarChartDF(\n",
    "    df: pd.DataFrame,\n",
    "    title: str,\n",
    "    palette: list,\n",
    "    attributes: list = [\"Understandability\", \"Usability\", \"Informativeness\", \"Value\"],\n",
    "    labels: Optional[list] = None,\n",
    "    save_fig: bool = False,\n",
    "    save_dir: str = \"images\",\n",
    "):\n",
    "    counters = [Counter(df[attribute]) for attribute in attributes]\n",
    "\n",
    "    fig = go.Figure()  # type: ignore\n",
    "\n",
    "    category_order = [\n",
    "        \"Strongly disagree\",\n",
    "        \"Disagree\",\n",
    "        \"Slightly disagree\",\n",
    "        \"Neutral\",\n",
    "        \"Slightly agree\",\n",
    "        \"Agree\",\n",
    "        \"Strongly agree\",\n",
    "    ]\n",
    "\n",
    "    number_order = [1, 2, 3, 4, 5, 6, 7]\n",
    "\n",
    "    labels = labels if labels else attributes\n",
    "\n",
    "    def add_bar_trace(num, transform, showlegend: bool = True):\n",
    "        rating = number_order[num]\n",
    "        counts = [counter[rating] for counter in counters]\n",
    "        total_count = sum(counters[0].values())\n",
    "\n",
    "        xvals = [transform(count) / total_count for count in counts]\n",
    "\n",
    "        fig.add_trace(\n",
    "            go.Bar(\n",
    "                x=xvals,\n",
    "                y=labels,\n",
    "                orientation=\"h\",\n",
    "                name=category_order[num],\n",
    "                width=0.8,\n",
    "                marker_color=palette[num],\n",
    "                # legendrank=rating,\n",
    "                showlegend=False,\n",
    "            )  # type: ignore\n",
    "        )\n",
    "\n",
    "    # negative side\n",
    "    add_bar_trace(3, lambda x: x * -0.5)\n",
    "    for num in reversed(range(0, 3)):\n",
    "        add_bar_trace(num, lambda x: x * -1)\n",
    "\n",
    "    # positive side\n",
    "    add_bar_trace(3, lambda x: x * 0.5, showlegend=False)\n",
    "    for num in range(4, 7):\n",
    "        add_bar_trace(num, lambda x: x)\n",
    "\n",
    "    for num in range(0, 7):\n",
    "        fig.add_trace(\n",
    "            go.Bar(\n",
    "                x=[0] * 7,\n",
    "                y=labels,\n",
    "                orientation=\"h\",\n",
    "                name=category_order[num],\n",
    "                marker_color=palette[num],\n",
    "            )  # type: ignore\n",
    "        )\n",
    "    fig.update_layout(\n",
    "        barmode=\"relative\",\n",
    "        yaxis_autorange=\"reversed\",\n",
    "        title=title,\n",
    "        title_x=0.5,\n",
    "        xaxis={\"tick0\": 0, \"title\": \"Frequency\", \"tickformat\": \"%\", \"range\": [-1, 1]},\n",
    "        legend=dict(\n",
    "            orientation=\"h\",\n",
    "            yanchor=\"bottom\",\n",
    "            y=-0.4,\n",
    "            xanchor=\"center\",\n",
    "            x=0.5,\n",
    "        ),\n",
    "    )\n",
    "    fig.show()\n",
    "\n",
    "    if save_fig:\n",
    "        if not os.path.exists(save_dir):\n",
    "            os.mkdir(save_dir)\n",
    "        filename = \"\".join(i for i in name if i not in \"\\\\/:*?<>|\")\n",
    "        fig.write_image(f\"{save_dir}/{filename}.png\")\n",
    "\n",
    "\n",
    "palette = [plotly.colors.diverging.RdBu[n] for n in [2, 3, 4, 5, 6, 7, 8]]  # type: ignore\n",
    "space = \" \" * 4\n",
    "labels = [\n",
    "    f\"I find the explanation{space}<br>intuitively understandable{space}\",\n",
    "    f\"The explanation helps me to understand{space}<br>factors relevant to the algorithm{space}\",\n",
    "    f\"The explanation helps me to decide whether{space}<br> I can trust the generated annotations{space}\",\n",
    "    f\"The explanation provides me with{space}<br>valuable information for my work{space}\",\n",
    "]\n",
    "\n",
    "for name, df in result_dataframes.items():\n",
    "    stackedBarChartDF(\n",
    "        df,\n",
    "        name,\n",
    "        palette,\n",
    "        labels=labels,\n",
    "        save_fig=True,\n",
    "        save_dir=os.path.splitext(results_filepath)[0],\n",
    "    )\n",
    "    for comment in comments[name]:\n",
    "        print(comment)\n"
   ]
  },
  {
   "cell_type": "markdown",
   "metadata": {},
   "source": [
    "## Overall comparison"
   ]
  },
  {
   "cell_type": "code",
   "execution_count": 17,
   "metadata": {},
   "outputs": [
    {
     "data": {
      "application/vnd.plotly.v1+json": {
       "config": {
        "plotlyServerURL": "https://plot.ly"
       },
       "data": [
        {
         "box": {
          "visible": true
         },
         "legendgroup": "Counterfactuals",
         "marker": {
          "color": "rgb(229, 134, 6)"
         },
         "name": "Counterfactuals<br>(Single axis)",
         "showlegend": false,
         "type": "violin",
         "y": [
          6.25,
          7,
          4.75,
          5,
          2,
          7,
          2,
          5.5,
          5.25,
          5.5,
          5,
          3.75,
          3.75,
          3,
          4.5,
          5.25,
          3.5,
          6,
          7
         ]
        },
        {
         "box": {
          "visible": true
         },
         "legendgroup": "Concept Attribution",
         "marker": {
          "color": "rgb(82, 188, 163)"
         },
         "name": "Concept Attribution<br>(Text)",
         "showlegend": false,
         "type": "violin",
         "y": [
          6,
          7,
          4.75,
          5.75,
          2,
          6.25,
          3.25,
          2.75,
          3,
          5,
          4,
          5.25,
          4.75,
          3.25,
          5.75,
          5.75,
          3,
          6.25,
          5.25
         ]
        },
        {
         "box": {
          "visible": true
         },
         "legendgroup": "Prototypes",
         "marker": {
          "color": "rgb(153, 201, 69)"
         },
         "name": "Prototypes<br>(Highest confidence)",
         "showlegend": false,
         "type": "violin",
         "y": [
          6,
          7,
          5.5,
          6.25,
          2.75,
          6.5,
          4.75,
          4,
          5,
          5.5,
          2,
          3,
          3.75,
          3.25,
          5.75,
          4.25,
          4.5,
          6,
          4.25
         ]
        },
        {
         "box": {
          "visible": true
         },
         "legendgroup": "Trust Scores",
         "marker": {
          "color": "rgb(204, 97, 176)"
         },
         "name": "Trust Scores<br>(Borderline Cases)",
         "showlegend": false,
         "type": "violin",
         "y": [
          5.5,
          3.5,
          5,
          4.75,
          4,
          6,
          5,
          2.5,
          6,
          4.25,
          4.5,
          4.75,
          4.5,
          6,
          6,
          2.5,
          3,
          5,
          7
         ]
        },
        {
         "box": {
          "visible": true
         },
         "legendgroup": "Saliency Maps",
         "marker": {
          "color": "rgb(93, 105, 177)"
         },
         "name": "Saliency Maps<br>(Global)",
         "showlegend": false,
         "type": "violin",
         "y": [
          5.5,
          7,
          4.5,
          5.25,
          4.75,
          5.5,
          5,
          1,
          2.5,
          5.5,
          4,
          4,
          3.75,
          3.75,
          7,
          2.75,
          3.25,
          3.25,
          5.75
         ]
        },
        {
         "box": {
          "visible": true
         },
         "legendgroup": "Counterfactuals",
         "marker": {
          "color": "rgb(229, 134, 6)"
         },
         "name": "Counterfactuals<br>(Two axes)",
         "showlegend": false,
         "type": "violin",
         "y": [
          4.25,
          6,
          3.5,
          6.5,
          1.75,
          6.5,
          1,
          4,
          4,
          5.25,
          5,
          4.5,
          4,
          2.75,
          4.5,
          5.25,
          2.75,
          4.25,
          4.25
         ]
        },
        {
         "box": {
          "visible": true
         },
         "legendgroup": "Saliency Maps",
         "marker": {
          "color": "rgb(93, 105, 177)"
         },
         "name": "Saliency Maps<br>(Local)",
         "showlegend": false,
         "type": "violin",
         "y": [
          4.5,
          5,
          4,
          4.5,
          4.25,
          5.25,
          6,
          1.75,
          4,
          7,
          2,
          4.25,
          5.25,
          4,
          6.5,
          4,
          3,
          2,
          5.75
         ]
        },
        {
         "legendgroup": "Counterfactuals",
         "marker": {
          "color": "rgb(229, 134, 6)"
         },
         "name": "Counterfactuals",
         "showlegend": true,
         "type": "violin",
         "y": [
          null
         ]
        },
        {
         "legendgroup": "Saliency Maps",
         "marker": {
          "color": "rgb(93, 105, 177)"
         },
         "name": "Saliency Maps",
         "showlegend": true,
         "type": "violin",
         "y": [
          null
         ]
        },
        {
         "legendgroup": "Concept Attribution",
         "marker": {
          "color": "rgb(82, 188, 163)"
         },
         "name": "Concept Attribution",
         "showlegend": true,
         "type": "violin",
         "y": [
          null
         ]
        },
        {
         "legendgroup": "Prototypes",
         "marker": {
          "color": "rgb(153, 201, 69)"
         },
         "name": "Prototypes",
         "showlegend": true,
         "type": "violin",
         "y": [
          null
         ]
        },
        {
         "legendgroup": "Trust Scores",
         "marker": {
          "color": "rgb(204, 97, 176)"
         },
         "name": "Trust Scores",
         "showlegend": true,
         "type": "violin",
         "y": [
          null
         ]
        }
       ],
       "layout": {
        "showlegend": true,
        "template": {
         "data": {
          "bar": [
           {
            "error_x": {
             "color": "#2a3f5f"
            },
            "error_y": {
             "color": "#2a3f5f"
            },
            "marker": {
             "line": {
              "color": "#E5ECF6",
              "width": 0.5
             },
             "pattern": {
              "fillmode": "overlay",
              "size": 10,
              "solidity": 0.2
             }
            },
            "type": "bar"
           }
          ],
          "barpolar": [
           {
            "marker": {
             "line": {
              "color": "#E5ECF6",
              "width": 0.5
             },
             "pattern": {
              "fillmode": "overlay",
              "size": 10,
              "solidity": 0.2
             }
            },
            "type": "barpolar"
           }
          ],
          "carpet": [
           {
            "aaxis": {
             "endlinecolor": "#2a3f5f",
             "gridcolor": "white",
             "linecolor": "white",
             "minorgridcolor": "white",
             "startlinecolor": "#2a3f5f"
            },
            "baxis": {
             "endlinecolor": "#2a3f5f",
             "gridcolor": "white",
             "linecolor": "white",
             "minorgridcolor": "white",
             "startlinecolor": "#2a3f5f"
            },
            "type": "carpet"
           }
          ],
          "choropleth": [
           {
            "colorbar": {
             "outlinewidth": 0,
             "ticks": ""
            },
            "type": "choropleth"
           }
          ],
          "contour": [
           {
            "colorbar": {
             "outlinewidth": 0,
             "ticks": ""
            },
            "colorscale": [
             [
              0,
              "#0d0887"
             ],
             [
              0.1111111111111111,
              "#46039f"
             ],
             [
              0.2222222222222222,
              "#7201a8"
             ],
             [
              0.3333333333333333,
              "#9c179e"
             ],
             [
              0.4444444444444444,
              "#bd3786"
             ],
             [
              0.5555555555555556,
              "#d8576b"
             ],
             [
              0.6666666666666666,
              "#ed7953"
             ],
             [
              0.7777777777777778,
              "#fb9f3a"
             ],
             [
              0.8888888888888888,
              "#fdca26"
             ],
             [
              1,
              "#f0f921"
             ]
            ],
            "type": "contour"
           }
          ],
          "contourcarpet": [
           {
            "colorbar": {
             "outlinewidth": 0,
             "ticks": ""
            },
            "type": "contourcarpet"
           }
          ],
          "heatmap": [
           {
            "colorbar": {
             "outlinewidth": 0,
             "ticks": ""
            },
            "colorscale": [
             [
              0,
              "#0d0887"
             ],
             [
              0.1111111111111111,
              "#46039f"
             ],
             [
              0.2222222222222222,
              "#7201a8"
             ],
             [
              0.3333333333333333,
              "#9c179e"
             ],
             [
              0.4444444444444444,
              "#bd3786"
             ],
             [
              0.5555555555555556,
              "#d8576b"
             ],
             [
              0.6666666666666666,
              "#ed7953"
             ],
             [
              0.7777777777777778,
              "#fb9f3a"
             ],
             [
              0.8888888888888888,
              "#fdca26"
             ],
             [
              1,
              "#f0f921"
             ]
            ],
            "type": "heatmap"
           }
          ],
          "heatmapgl": [
           {
            "colorbar": {
             "outlinewidth": 0,
             "ticks": ""
            },
            "colorscale": [
             [
              0,
              "#0d0887"
             ],
             [
              0.1111111111111111,
              "#46039f"
             ],
             [
              0.2222222222222222,
              "#7201a8"
             ],
             [
              0.3333333333333333,
              "#9c179e"
             ],
             [
              0.4444444444444444,
              "#bd3786"
             ],
             [
              0.5555555555555556,
              "#d8576b"
             ],
             [
              0.6666666666666666,
              "#ed7953"
             ],
             [
              0.7777777777777778,
              "#fb9f3a"
             ],
             [
              0.8888888888888888,
              "#fdca26"
             ],
             [
              1,
              "#f0f921"
             ]
            ],
            "type": "heatmapgl"
           }
          ],
          "histogram": [
           {
            "marker": {
             "pattern": {
              "fillmode": "overlay",
              "size": 10,
              "solidity": 0.2
             }
            },
            "type": "histogram"
           }
          ],
          "histogram2d": [
           {
            "colorbar": {
             "outlinewidth": 0,
             "ticks": ""
            },
            "colorscale": [
             [
              0,
              "#0d0887"
             ],
             [
              0.1111111111111111,
              "#46039f"
             ],
             [
              0.2222222222222222,
              "#7201a8"
             ],
             [
              0.3333333333333333,
              "#9c179e"
             ],
             [
              0.4444444444444444,
              "#bd3786"
             ],
             [
              0.5555555555555556,
              "#d8576b"
             ],
             [
              0.6666666666666666,
              "#ed7953"
             ],
             [
              0.7777777777777778,
              "#fb9f3a"
             ],
             [
              0.8888888888888888,
              "#fdca26"
             ],
             [
              1,
              "#f0f921"
             ]
            ],
            "type": "histogram2d"
           }
          ],
          "histogram2dcontour": [
           {
            "colorbar": {
             "outlinewidth": 0,
             "ticks": ""
            },
            "colorscale": [
             [
              0,
              "#0d0887"
             ],
             [
              0.1111111111111111,
              "#46039f"
             ],
             [
              0.2222222222222222,
              "#7201a8"
             ],
             [
              0.3333333333333333,
              "#9c179e"
             ],
             [
              0.4444444444444444,
              "#bd3786"
             ],
             [
              0.5555555555555556,
              "#d8576b"
             ],
             [
              0.6666666666666666,
              "#ed7953"
             ],
             [
              0.7777777777777778,
              "#fb9f3a"
             ],
             [
              0.8888888888888888,
              "#fdca26"
             ],
             [
              1,
              "#f0f921"
             ]
            ],
            "type": "histogram2dcontour"
           }
          ],
          "mesh3d": [
           {
            "colorbar": {
             "outlinewidth": 0,
             "ticks": ""
            },
            "type": "mesh3d"
           }
          ],
          "parcoords": [
           {
            "line": {
             "colorbar": {
              "outlinewidth": 0,
              "ticks": ""
             }
            },
            "type": "parcoords"
           }
          ],
          "pie": [
           {
            "automargin": true,
            "type": "pie"
           }
          ],
          "scatter": [
           {
            "marker": {
             "colorbar": {
              "outlinewidth": 0,
              "ticks": ""
             }
            },
            "type": "scatter"
           }
          ],
          "scatter3d": [
           {
            "line": {
             "colorbar": {
              "outlinewidth": 0,
              "ticks": ""
             }
            },
            "marker": {
             "colorbar": {
              "outlinewidth": 0,
              "ticks": ""
             }
            },
            "type": "scatter3d"
           }
          ],
          "scattercarpet": [
           {
            "marker": {
             "colorbar": {
              "outlinewidth": 0,
              "ticks": ""
             }
            },
            "type": "scattercarpet"
           }
          ],
          "scattergeo": [
           {
            "marker": {
             "colorbar": {
              "outlinewidth": 0,
              "ticks": ""
             }
            },
            "type": "scattergeo"
           }
          ],
          "scattergl": [
           {
            "marker": {
             "colorbar": {
              "outlinewidth": 0,
              "ticks": ""
             }
            },
            "type": "scattergl"
           }
          ],
          "scattermapbox": [
           {
            "marker": {
             "colorbar": {
              "outlinewidth": 0,
              "ticks": ""
             }
            },
            "type": "scattermapbox"
           }
          ],
          "scatterpolar": [
           {
            "marker": {
             "colorbar": {
              "outlinewidth": 0,
              "ticks": ""
             }
            },
            "type": "scatterpolar"
           }
          ],
          "scatterpolargl": [
           {
            "marker": {
             "colorbar": {
              "outlinewidth": 0,
              "ticks": ""
             }
            },
            "type": "scatterpolargl"
           }
          ],
          "scatterternary": [
           {
            "marker": {
             "colorbar": {
              "outlinewidth": 0,
              "ticks": ""
             }
            },
            "type": "scatterternary"
           }
          ],
          "surface": [
           {
            "colorbar": {
             "outlinewidth": 0,
             "ticks": ""
            },
            "colorscale": [
             [
              0,
              "#0d0887"
             ],
             [
              0.1111111111111111,
              "#46039f"
             ],
             [
              0.2222222222222222,
              "#7201a8"
             ],
             [
              0.3333333333333333,
              "#9c179e"
             ],
             [
              0.4444444444444444,
              "#bd3786"
             ],
             [
              0.5555555555555556,
              "#d8576b"
             ],
             [
              0.6666666666666666,
              "#ed7953"
             ],
             [
              0.7777777777777778,
              "#fb9f3a"
             ],
             [
              0.8888888888888888,
              "#fdca26"
             ],
             [
              1,
              "#f0f921"
             ]
            ],
            "type": "surface"
           }
          ],
          "table": [
           {
            "cells": {
             "fill": {
              "color": "#EBF0F8"
             },
             "line": {
              "color": "white"
             }
            },
            "header": {
             "fill": {
              "color": "#C8D4E3"
             },
             "line": {
              "color": "white"
             }
            },
            "type": "table"
           }
          ]
         },
         "layout": {
          "annotationdefaults": {
           "arrowcolor": "#2a3f5f",
           "arrowhead": 0,
           "arrowwidth": 1
          },
          "autotypenumbers": "strict",
          "coloraxis": {
           "colorbar": {
            "outlinewidth": 0,
            "ticks": ""
           }
          },
          "colorscale": {
           "diverging": [
            [
             0,
             "#8e0152"
            ],
            [
             0.1,
             "#c51b7d"
            ],
            [
             0.2,
             "#de77ae"
            ],
            [
             0.3,
             "#f1b6da"
            ],
            [
             0.4,
             "#fde0ef"
            ],
            [
             0.5,
             "#f7f7f7"
            ],
            [
             0.6,
             "#e6f5d0"
            ],
            [
             0.7,
             "#b8e186"
            ],
            [
             0.8,
             "#7fbc41"
            ],
            [
             0.9,
             "#4d9221"
            ],
            [
             1,
             "#276419"
            ]
           ],
           "sequential": [
            [
             0,
             "#0d0887"
            ],
            [
             0.1111111111111111,
             "#46039f"
            ],
            [
             0.2222222222222222,
             "#7201a8"
            ],
            [
             0.3333333333333333,
             "#9c179e"
            ],
            [
             0.4444444444444444,
             "#bd3786"
            ],
            [
             0.5555555555555556,
             "#d8576b"
            ],
            [
             0.6666666666666666,
             "#ed7953"
            ],
            [
             0.7777777777777778,
             "#fb9f3a"
            ],
            [
             0.8888888888888888,
             "#fdca26"
            ],
            [
             1,
             "#f0f921"
            ]
           ],
           "sequentialminus": [
            [
             0,
             "#0d0887"
            ],
            [
             0.1111111111111111,
             "#46039f"
            ],
            [
             0.2222222222222222,
             "#7201a8"
            ],
            [
             0.3333333333333333,
             "#9c179e"
            ],
            [
             0.4444444444444444,
             "#bd3786"
            ],
            [
             0.5555555555555556,
             "#d8576b"
            ],
            [
             0.6666666666666666,
             "#ed7953"
            ],
            [
             0.7777777777777778,
             "#fb9f3a"
            ],
            [
             0.8888888888888888,
             "#fdca26"
            ],
            [
             1,
             "#f0f921"
            ]
           ]
          },
          "colorway": [
           "#636efa",
           "#EF553B",
           "#00cc96",
           "#ab63fa",
           "#FFA15A",
           "#19d3f3",
           "#FF6692",
           "#B6E880",
           "#FF97FF",
           "#FECB52"
          ],
          "font": {
           "color": "#2a3f5f"
          },
          "geo": {
           "bgcolor": "white",
           "lakecolor": "white",
           "landcolor": "#E5ECF6",
           "showlakes": true,
           "showland": true,
           "subunitcolor": "white"
          },
          "hoverlabel": {
           "align": "left"
          },
          "hovermode": "closest",
          "mapbox": {
           "style": "light"
          },
          "paper_bgcolor": "white",
          "plot_bgcolor": "#E5ECF6",
          "polar": {
           "angularaxis": {
            "gridcolor": "white",
            "linecolor": "white",
            "ticks": ""
           },
           "bgcolor": "#E5ECF6",
           "radialaxis": {
            "gridcolor": "white",
            "linecolor": "white",
            "ticks": ""
           }
          },
          "scene": {
           "xaxis": {
            "backgroundcolor": "#E5ECF6",
            "gridcolor": "white",
            "gridwidth": 2,
            "linecolor": "white",
            "showbackground": true,
            "ticks": "",
            "zerolinecolor": "white"
           },
           "yaxis": {
            "backgroundcolor": "#E5ECF6",
            "gridcolor": "white",
            "gridwidth": 2,
            "linecolor": "white",
            "showbackground": true,
            "ticks": "",
            "zerolinecolor": "white"
           },
           "zaxis": {
            "backgroundcolor": "#E5ECF6",
            "gridcolor": "white",
            "gridwidth": 2,
            "linecolor": "white",
            "showbackground": true,
            "ticks": "",
            "zerolinecolor": "white"
           }
          },
          "shapedefaults": {
           "line": {
            "color": "#2a3f5f"
           }
          },
          "ternary": {
           "aaxis": {
            "gridcolor": "white",
            "linecolor": "white",
            "ticks": ""
           },
           "baxis": {
            "gridcolor": "white",
            "linecolor": "white",
            "ticks": ""
           },
           "bgcolor": "#E5ECF6",
           "caxis": {
            "gridcolor": "white",
            "linecolor": "white",
            "ticks": ""
           }
          },
          "title": {
           "x": 0.05
          },
          "xaxis": {
           "automargin": true,
           "gridcolor": "white",
           "linecolor": "white",
           "ticks": "",
           "title": {
            "standoff": 15
           },
           "zerolinecolor": "white",
           "zerolinewidth": 2
          },
          "yaxis": {
           "automargin": true,
           "gridcolor": "white",
           "linecolor": "white",
           "ticks": "",
           "title": {
            "standoff": 15
           },
           "zerolinecolor": "white",
           "zerolinewidth": 2
          }
         }
        },
        "title": {
         "text": "Comparison of Annotation Average",
         "x": 0.5
        },
        "yaxis": {
         "dtick": 1,
         "range": [
          1,
          7
         ],
         "title": {
          "text": "Average Rating"
         }
        }
       }
      }
     },
     "metadata": {},
     "output_type": "display_data"
    }
   ],
   "source": [
    "import plotly.express as px\n",
    "\n",
    "from typing import Callable\n",
    "\n",
    "dfFilter = Optional[Callable[[pd.DataFrame], pd.DataFrame]]\n",
    "\n",
    "\n",
    "def boxPlotDF(\n",
    "    df: pd.DataFrame, title: str, palette: list, results_filter: dfFilter = None\n",
    "):\n",
    "\n",
    "    df = df[results_filter(df)] if results_filter else df\n",
    "\n",
    "    explanation_classes = [\n",
    "        \"Counterfactuals\",\n",
    "        \"Saliency Maps\",\n",
    "        \"Concept Attribution\",\n",
    "        \"Prototypes\",\n",
    "        \"Trust Scores\",\n",
    "    ]\n",
    "\n",
    "    color_dict = {\n",
    "        explanation_class: palette[idx]\n",
    "        for idx, explanation_class in enumerate(explanation_classes)\n",
    "    }\n",
    "\n",
    "    columns = (column for column in df if column in instance_identifiers)\n",
    "\n",
    "    results_only_df = df[[column for column in columns]]\n",
    "    sorted_index = results_only_df.median().sort_values(ascending=False).index\n",
    "    results_only_df = df[sorted_index]\n",
    "\n",
    "    fig = go.Figure()  # type: ignore\n",
    "    for column in results_only_df:\n",
    "        split_column = column.split(\": \")\n",
    "        explanation_class = split_column[0]\n",
    "        column_name = f\"{explanation_class}<br>({split_column[1]})\"\n",
    "        fig.add_trace(\n",
    "            go.Violin(\n",
    "                y=df[column], \n",
    "                name=column_name, \n",
    "                box_visible=True, \n",
    "                marker_color=color_dict[explanation_class], \n",
    "                legendgroup=explanation_class,\n",
    "                showlegend=False)  # type: ignore\n",
    "        )\n",
    "    \n",
    "    # Legend\n",
    "    for explanation_class in explanation_classes:\n",
    "        fig.add_trace(\n",
    "            go.Violin( \n",
    "                y=[None],\n",
    "                name=explanation_class, \n",
    "                marker_color=color_dict[explanation_class],\n",
    "                legendgroup=explanation_class,\n",
    "                showlegend=True\n",
    "            ) # type: ignore\n",
    "        )\n",
    "\n",
    "    fig.update_layout(\n",
    "        title=title,\n",
    "        title_x=0.5,\n",
    "        yaxis=dict(dtick=1),\n",
    "        yaxis_range=[1, 7],\n",
    "        yaxis_title=\"Average Rating\",\n",
    "        showlegend=True,\n",
    "    )\n",
    "\n",
    "    fig.show()\n",
    "\n",
    "\n",
    "aggregated_df = pd.DataFrame()\n",
    "for name, df in result_dataframes.items():\n",
    "    aggregated_df[name] = df.mean(axis=1)\n",
    "\n",
    "full_df = user_df.join(aggregated_df)\n",
    "\n",
    "boxPlotDF(full_df, \"Comparison of Annotation Average\", plotly.colors.qualitative.Vivid)  # type: ignore\n"
   ]
  },
  {
   "cell_type": "code",
   "execution_count": 8,
   "metadata": {},
   "outputs": [
    {
     "data": {
      "text/html": [
       "<div>\n",
       "<style scoped>\n",
       "    .dataframe tbody tr th:only-of-type {\n",
       "        vertical-align: middle;\n",
       "    }\n",
       "\n",
       "    .dataframe tbody tr th {\n",
       "        vertical-align: top;\n",
       "    }\n",
       "\n",
       "    .dataframe thead th {\n",
       "        text-align: right;\n",
       "    }\n",
       "</style>\n",
       "<table border=\"1\" class=\"dataframe\">\n",
       "  <thead>\n",
       "    <tr style=\"text-align: right;\">\n",
       "      <th></th>\n",
       "      <th>userProfiling_age</th>\n",
       "      <th>userProfiling_position</th>\n",
       "      <th>userProfiling_useOfDP</th>\n",
       "      <th>userProfiling_useOfAI</th>\n",
       "      <th>userProfiling_useOfAI_details</th>\n",
       "      <th>userProfiling_mlFamiliarity</th>\n",
       "      <th>Counterfactuals: Single axis</th>\n",
       "      <th>Counterfactuals: Two axes</th>\n",
       "      <th>Saliency Maps: Local</th>\n",
       "      <th>Saliency Maps: Global</th>\n",
       "      <th>Concept Attribution: Text</th>\n",
       "      <th>Prototypes: Highest confidence</th>\n",
       "      <th>Trust Scores: Borderline Cases</th>\n",
       "    </tr>\n",
       "  </thead>\n",
       "  <tbody>\n",
       "    <tr>\n",
       "      <th>5</th>\n",
       "      <td>30-40</td>\n",
       "      <td>Consultant (Facharzt) for pathology/neuropatho...</td>\n",
       "      <td>[in research]</td>\n",
       "      <td>[in research]</td>\n",
       "      <td>Aiforia</td>\n",
       "      <td>7</td>\n",
       "      <td>7.00</td>\n",
       "      <td>6.50</td>\n",
       "      <td>5.25</td>\n",
       "      <td>5.50</td>\n",
       "      <td>6.25</td>\n",
       "      <td>6.50</td>\n",
       "      <td>6.00</td>\n",
       "    </tr>\n",
       "    <tr>\n",
       "      <th>7</th>\n",
       "      <td>41-50</td>\n",
       "      <td>Consultant (Facharzt) for pathology/neuropatho...</td>\n",
       "      <td>[in routine diagnostics]</td>\n",
       "      <td>[none]</td>\n",
       "      <td>NaN</td>\n",
       "      <td>4</td>\n",
       "      <td>5.50</td>\n",
       "      <td>4.00</td>\n",
       "      <td>1.75</td>\n",
       "      <td>1.00</td>\n",
       "      <td>2.75</td>\n",
       "      <td>4.00</td>\n",
       "      <td>2.50</td>\n",
       "    </tr>\n",
       "    <tr>\n",
       "      <th>8</th>\n",
       "      <td>41-50</td>\n",
       "      <td>Consultant (Facharzt) for pathology/neuropatho...</td>\n",
       "      <td>[none]</td>\n",
       "      <td>[none]</td>\n",
       "      <td>NaN</td>\n",
       "      <td>5</td>\n",
       "      <td>5.25</td>\n",
       "      <td>4.00</td>\n",
       "      <td>4.00</td>\n",
       "      <td>2.50</td>\n",
       "      <td>3.00</td>\n",
       "      <td>5.00</td>\n",
       "      <td>6.00</td>\n",
       "    </tr>\n",
       "    <tr>\n",
       "      <th>9</th>\n",
       "      <td>51-60</td>\n",
       "      <td>Consultant (Facharzt) for pathology/neuropatho...</td>\n",
       "      <td>[in research, in routine diagnostics]</td>\n",
       "      <td>[in routine diagnostics, in research]</td>\n",
       "      <td>Roche Diagnostics</td>\n",
       "      <td>4</td>\n",
       "      <td>5.50</td>\n",
       "      <td>5.25</td>\n",
       "      <td>7.00</td>\n",
       "      <td>5.50</td>\n",
       "      <td>5.00</td>\n",
       "      <td>5.50</td>\n",
       "      <td>4.25</td>\n",
       "    </tr>\n",
       "    <tr>\n",
       "      <th>10</th>\n",
       "      <td>41-50</td>\n",
       "      <td>Consultant (Facharzt) for pathology/neuropatho...</td>\n",
       "      <td>[none]</td>\n",
       "      <td>[none]</td>\n",
       "      <td>NaN</td>\n",
       "      <td>5</td>\n",
       "      <td>5.00</td>\n",
       "      <td>5.00</td>\n",
       "      <td>2.00</td>\n",
       "      <td>4.00</td>\n",
       "      <td>4.00</td>\n",
       "      <td>2.00</td>\n",
       "      <td>4.50</td>\n",
       "    </tr>\n",
       "    <tr>\n",
       "      <th>11</th>\n",
       "      <td>30-40</td>\n",
       "      <td>Consultant (Facharzt) for pathology/neuropatho...</td>\n",
       "      <td>[in routine diagnostics, in research]</td>\n",
       "      <td>[in routine diagnostics, in research]</td>\n",
       "      <td>tumor cellularity count; pattern recognition; ...</td>\n",
       "      <td>2</td>\n",
       "      <td>3.75</td>\n",
       "      <td>4.50</td>\n",
       "      <td>4.25</td>\n",
       "      <td>4.00</td>\n",
       "      <td>5.25</td>\n",
       "      <td>3.00</td>\n",
       "      <td>4.75</td>\n",
       "    </tr>\n",
       "    <tr>\n",
       "      <th>18</th>\n",
       "      <td>41-50</td>\n",
       "      <td>Consultant (Fachärztin*arzt) for pathology/neu...</td>\n",
       "      <td>[in research]</td>\n",
       "      <td>[in research]</td>\n",
       "      <td>Metastases detection in lymph nodes</td>\n",
       "      <td>6</td>\n",
       "      <td>7.00</td>\n",
       "      <td>4.25</td>\n",
       "      <td>5.75</td>\n",
       "      <td>5.75</td>\n",
       "      <td>5.25</td>\n",
       "      <td>4.25</td>\n",
       "      <td>7.00</td>\n",
       "    </tr>\n",
       "  </tbody>\n",
       "</table>\n",
       "</div>"
      ],
      "text/plain": [
       "   userProfiling_age                             userProfiling_position  \\\n",
       "5              30-40  Consultant (Facharzt) for pathology/neuropatho...   \n",
       "7              41-50  Consultant (Facharzt) for pathology/neuropatho...   \n",
       "8              41-50  Consultant (Facharzt) for pathology/neuropatho...   \n",
       "9              51-60  Consultant (Facharzt) for pathology/neuropatho...   \n",
       "10             41-50  Consultant (Facharzt) for pathology/neuropatho...   \n",
       "11             30-40  Consultant (Facharzt) for pathology/neuropatho...   \n",
       "18             41-50  Consultant (Fachärztin*arzt) for pathology/neu...   \n",
       "\n",
       "                    userProfiling_useOfDP  \\\n",
       "5                           [in research]   \n",
       "7                [in routine diagnostics]   \n",
       "8                                  [none]   \n",
       "9   [in research, in routine diagnostics]   \n",
       "10                                 [none]   \n",
       "11  [in routine diagnostics, in research]   \n",
       "18                          [in research]   \n",
       "\n",
       "                    userProfiling_useOfAI  \\\n",
       "5                           [in research]   \n",
       "7                                  [none]   \n",
       "8                                  [none]   \n",
       "9   [in routine diagnostics, in research]   \n",
       "10                                 [none]   \n",
       "11  [in routine diagnostics, in research]   \n",
       "18                          [in research]   \n",
       "\n",
       "                        userProfiling_useOfAI_details  \\\n",
       "5                                             Aiforia   \n",
       "7                                                 NaN   \n",
       "8                                                 NaN   \n",
       "9                                   Roche Diagnostics   \n",
       "10                                                NaN   \n",
       "11  tumor cellularity count; pattern recognition; ...   \n",
       "18                Metastases detection in lymph nodes   \n",
       "\n",
       "    userProfiling_mlFamiliarity  Counterfactuals: Single axis  \\\n",
       "5                             7                          7.00   \n",
       "7                             4                          5.50   \n",
       "8                             5                          5.25   \n",
       "9                             4                          5.50   \n",
       "10                            5                          5.00   \n",
       "11                            2                          3.75   \n",
       "18                            6                          7.00   \n",
       "\n",
       "    Counterfactuals: Two axes  Saliency Maps: Local  Saliency Maps: Global  \\\n",
       "5                        6.50                  5.25                   5.50   \n",
       "7                        4.00                  1.75                   1.00   \n",
       "8                        4.00                  4.00                   2.50   \n",
       "9                        5.25                  7.00                   5.50   \n",
       "10                       5.00                  2.00                   4.00   \n",
       "11                       4.50                  4.25                   4.00   \n",
       "18                       4.25                  5.75                   5.75   \n",
       "\n",
       "    Concept Attribution: Text  Prototypes: Highest confidence  \\\n",
       "5                        6.25                            6.50   \n",
       "7                        2.75                            4.00   \n",
       "8                        3.00                            5.00   \n",
       "9                        5.00                            5.50   \n",
       "10                       4.00                            2.00   \n",
       "11                       5.25                            3.00   \n",
       "18                       5.25                            4.25   \n",
       "\n",
       "    Trust Scores: Borderline Cases  \n",
       "5                             6.00  \n",
       "7                             2.50  \n",
       "8                             6.00  \n",
       "9                             4.25  \n",
       "10                            4.50  \n",
       "11                            4.75  \n",
       "18                            7.00  "
      ]
     },
     "execution_count": 8,
     "metadata": {},
     "output_type": "execute_result"
    }
   ],
   "source": [
    "full_df[full_df.userProfiling_position.str.startswith(\"Consultant\")]\n"
   ]
  },
  {
   "cell_type": "code",
   "execution_count": 9,
   "metadata": {},
   "outputs": [
    {
     "ename": "SyntaxError",
     "evalue": "invalid syntax (<ipython-input-9-1ede0668b4e1>, line 3)",
     "output_type": "error",
     "traceback": [
      "\u001b[0;36m  File \u001b[0;32m\"<ipython-input-9-1ede0668b4e1>\"\u001b[0;36m, line \u001b[0;32m3\u001b[0m\n\u001b[0;31m    full_df[]\u001b[0m\n\u001b[0m            ^\u001b[0m\n\u001b[0;31mSyntaxError\u001b[0m\u001b[0;31m:\u001b[0m invalid syntax\n"
     ]
    }
   ],
   "source": [
    "import plotly.express as px\n",
    "\n",
    "full_df[]\n"
   ]
  },
  {
   "cell_type": "markdown",
   "metadata": {},
   "source": [
    "## User profiling"
   ]
  },
  {
   "cell_type": "code",
   "execution_count": null,
   "metadata": {},
   "outputs": [
    {
     "data": {
      "text/html": [
       "<div>\n",
       "<style scoped>\n",
       "    .dataframe tbody tr th:only-of-type {\n",
       "        vertical-align: middle;\n",
       "    }\n",
       "\n",
       "    .dataframe tbody tr th {\n",
       "        vertical-align: top;\n",
       "    }\n",
       "\n",
       "    .dataframe thead th {\n",
       "        text-align: right;\n",
       "    }\n",
       "</style>\n",
       "<table border=\"1\" class=\"dataframe\">\n",
       "  <thead>\n",
       "    <tr style=\"text-align: right;\">\n",
       "      <th></th>\n",
       "      <th>userProfiling_age</th>\n",
       "      <th>userProfiling_position</th>\n",
       "      <th>userProfiling_useOfDP</th>\n",
       "      <th>userProfiling_useOfAI</th>\n",
       "      <th>userProfiling_useOfAI_details</th>\n",
       "      <th>userProfiling_mlFamiliarity</th>\n",
       "    </tr>\n",
       "  </thead>\n",
       "  <tbody>\n",
       "    <tr>\n",
       "      <th>0</th>\n",
       "      <td>30-40</td>\n",
       "      <td>Assisting physician (Assistenzarzt) for pathol...</td>\n",
       "      <td>in routine diagnostics</td>\n",
       "      <td>in routine diagnostics</td>\n",
       "      <td>NaN</td>\n",
       "      <td>1</td>\n",
       "    </tr>\n",
       "    <tr>\n",
       "      <th>1</th>\n",
       "      <td>41-50</td>\n",
       "      <td>Researcher in pathology/neuropathology</td>\n",
       "      <td>in research</td>\n",
       "      <td>in research</td>\n",
       "      <td>from MindPeak (BreastIHC), from VMscope (Cogni...</td>\n",
       "      <td>3</td>\n",
       "    </tr>\n",
       "    <tr>\n",
       "      <th>2</th>\n",
       "      <td>30-40</td>\n",
       "      <td>Researcher in pathology/neuropathology</td>\n",
       "      <td>[in research]</td>\n",
       "      <td>[in research]</td>\n",
       "      <td>NaN</td>\n",
       "      <td>7</td>\n",
       "    </tr>\n",
       "    <tr>\n",
       "      <th>3</th>\n",
       "      <td>41-50</td>\n",
       "      <td>Technician (MTA) for pathology/neuropathology</td>\n",
       "      <td>[in research]</td>\n",
       "      <td>[in routine diagnostics]</td>\n",
       "      <td>NaN</td>\n",
       "      <td>7</td>\n",
       "    </tr>\n",
       "    <tr>\n",
       "      <th>4</th>\n",
       "      <td>30-40</td>\n",
       "      <td>Trainee (Assistenzarzt) in pathology/neuropath...</td>\n",
       "      <td>[in research]</td>\n",
       "      <td>[in research]</td>\n",
       "      <td>QuPath immunohistochemistry positive cell dete...</td>\n",
       "      <td>2</td>\n",
       "    </tr>\n",
       "    <tr>\n",
       "      <th>5</th>\n",
       "      <td>30-40</td>\n",
       "      <td>Consultant (Facharzt) for pathology/neuropatho...</td>\n",
       "      <td>[in research]</td>\n",
       "      <td>[in research]</td>\n",
       "      <td>Aiforia</td>\n",
       "      <td>7</td>\n",
       "    </tr>\n",
       "    <tr>\n",
       "      <th>6</th>\n",
       "      <td>51-60</td>\n",
       "      <td>Researcher in pathology/neuropathology</td>\n",
       "      <td>[none]</td>\n",
       "      <td>[none]</td>\n",
       "      <td>NaN</td>\n",
       "      <td>2</td>\n",
       "    </tr>\n",
       "    <tr>\n",
       "      <th>7</th>\n",
       "      <td>41-50</td>\n",
       "      <td>Consultant (Facharzt) for pathology/neuropatho...</td>\n",
       "      <td>[in routine diagnostics]</td>\n",
       "      <td>[none]</td>\n",
       "      <td>NaN</td>\n",
       "      <td>4</td>\n",
       "    </tr>\n",
       "    <tr>\n",
       "      <th>8</th>\n",
       "      <td>41-50</td>\n",
       "      <td>Consultant (Facharzt) for pathology/neuropatho...</td>\n",
       "      <td>[none]</td>\n",
       "      <td>[none]</td>\n",
       "      <td>NaN</td>\n",
       "      <td>5</td>\n",
       "    </tr>\n",
       "    <tr>\n",
       "      <th>9</th>\n",
       "      <td>51-60</td>\n",
       "      <td>Consultant (Facharzt) for pathology/neuropatho...</td>\n",
       "      <td>[in research, in routine diagnostics]</td>\n",
       "      <td>[in routine diagnostics, in research]</td>\n",
       "      <td>Roche Diagnostics</td>\n",
       "      <td>4</td>\n",
       "    </tr>\n",
       "    <tr>\n",
       "      <th>10</th>\n",
       "      <td>41-50</td>\n",
       "      <td>Consultant (Facharzt) for pathology/neuropatho...</td>\n",
       "      <td>[none]</td>\n",
       "      <td>[none]</td>\n",
       "      <td>NaN</td>\n",
       "      <td>5</td>\n",
       "    </tr>\n",
       "    <tr>\n",
       "      <th>11</th>\n",
       "      <td>30-40</td>\n",
       "      <td>Consultant (Facharzt) for pathology/neuropatho...</td>\n",
       "      <td>[in routine diagnostics, in research]</td>\n",
       "      <td>[in routine diagnostics, in research]</td>\n",
       "      <td>tumor cellularity count; pattern recognition; ...</td>\n",
       "      <td>2</td>\n",
       "    </tr>\n",
       "    <tr>\n",
       "      <th>12</th>\n",
       "      <td>30-40</td>\n",
       "      <td>Researcher in pathology/neuropathology</td>\n",
       "      <td>[in research]</td>\n",
       "      <td>[in research]</td>\n",
       "      <td>NaN</td>\n",
       "      <td>7</td>\n",
       "    </tr>\n",
       "    <tr>\n",
       "      <th>13</th>\n",
       "      <td>41-50</td>\n",
       "      <td>Researcher in pathology/neuropathology</td>\n",
       "      <td>[in research, in routine diagnostics]</td>\n",
       "      <td>[in research, in routine diagnostics]</td>\n",
       "      <td>Paige</td>\n",
       "      <td>7</td>\n",
       "    </tr>\n",
       "    <tr>\n",
       "      <th>14</th>\n",
       "      <td>41-50</td>\n",
       "      <td>Technician (MTA) for pathology/neuropathology</td>\n",
       "      <td>[in research]</td>\n",
       "      <td>[in research]</td>\n",
       "      <td>Lrp</td>\n",
       "      <td>7</td>\n",
       "    </tr>\n",
       "    <tr>\n",
       "      <th>15</th>\n",
       "      <td>30-40</td>\n",
       "      <td>other</td>\n",
       "      <td>[none]</td>\n",
       "      <td>[in research]</td>\n",
       "      <td>classification a.o. analysis</td>\n",
       "      <td>4</td>\n",
       "    </tr>\n",
       "    <tr>\n",
       "      <th>16</th>\n",
       "      <td>30-40</td>\n",
       "      <td>other</td>\n",
       "      <td>[in research]</td>\n",
       "      <td>[in research]</td>\n",
       "      <td>NaN</td>\n",
       "      <td>6</td>\n",
       "    </tr>\n",
       "    <tr>\n",
       "      <th>17</th>\n",
       "      <td>51-60</td>\n",
       "      <td>Researcher in pathology/neuropathology</td>\n",
       "      <td>[in research]</td>\n",
       "      <td>[in research]</td>\n",
       "      <td>NaN</td>\n",
       "      <td>6</td>\n",
       "    </tr>\n",
       "    <tr>\n",
       "      <th>18</th>\n",
       "      <td>41-50</td>\n",
       "      <td>Consultant (Fachärztin*arzt) for pathology/neu...</td>\n",
       "      <td>[in research]</td>\n",
       "      <td>[in research]</td>\n",
       "      <td>Metastases detection in lymph nodes</td>\n",
       "      <td>6</td>\n",
       "    </tr>\n",
       "  </tbody>\n",
       "</table>\n",
       "</div>"
      ],
      "text/plain": [
       "   userProfiling_age                             userProfiling_position  \\\n",
       "0              30-40  Assisting physician (Assistenzarzt) for pathol...   \n",
       "1              41-50             Researcher in pathology/neuropathology   \n",
       "2              30-40             Researcher in pathology/neuropathology   \n",
       "3              41-50      Technician (MTA) for pathology/neuropathology   \n",
       "4              30-40  Trainee (Assistenzarzt) in pathology/neuropath...   \n",
       "5              30-40  Consultant (Facharzt) for pathology/neuropatho...   \n",
       "6              51-60             Researcher in pathology/neuropathology   \n",
       "7              41-50  Consultant (Facharzt) for pathology/neuropatho...   \n",
       "8              41-50  Consultant (Facharzt) for pathology/neuropatho...   \n",
       "9              51-60  Consultant (Facharzt) for pathology/neuropatho...   \n",
       "10             41-50  Consultant (Facharzt) for pathology/neuropatho...   \n",
       "11             30-40  Consultant (Facharzt) for pathology/neuropatho...   \n",
       "12             30-40             Researcher in pathology/neuropathology   \n",
       "13             41-50             Researcher in pathology/neuropathology   \n",
       "14             41-50      Technician (MTA) for pathology/neuropathology   \n",
       "15             30-40                                              other   \n",
       "16             30-40                                              other   \n",
       "17             51-60             Researcher in pathology/neuropathology   \n",
       "18             41-50  Consultant (Fachärztin*arzt) for pathology/neu...   \n",
       "\n",
       "                    userProfiling_useOfDP  \\\n",
       "0                  in routine diagnostics   \n",
       "1                             in research   \n",
       "2                           [in research]   \n",
       "3                           [in research]   \n",
       "4                           [in research]   \n",
       "5                           [in research]   \n",
       "6                                  [none]   \n",
       "7                [in routine diagnostics]   \n",
       "8                                  [none]   \n",
       "9   [in research, in routine diagnostics]   \n",
       "10                                 [none]   \n",
       "11  [in routine diagnostics, in research]   \n",
       "12                          [in research]   \n",
       "13  [in research, in routine diagnostics]   \n",
       "14                          [in research]   \n",
       "15                                 [none]   \n",
       "16                          [in research]   \n",
       "17                          [in research]   \n",
       "18                          [in research]   \n",
       "\n",
       "                    userProfiling_useOfAI  \\\n",
       "0                  in routine diagnostics   \n",
       "1                             in research   \n",
       "2                           [in research]   \n",
       "3                [in routine diagnostics]   \n",
       "4                           [in research]   \n",
       "5                           [in research]   \n",
       "6                                  [none]   \n",
       "7                                  [none]   \n",
       "8                                  [none]   \n",
       "9   [in routine diagnostics, in research]   \n",
       "10                                 [none]   \n",
       "11  [in routine diagnostics, in research]   \n",
       "12                          [in research]   \n",
       "13  [in research, in routine diagnostics]   \n",
       "14                          [in research]   \n",
       "15                          [in research]   \n",
       "16                          [in research]   \n",
       "17                          [in research]   \n",
       "18                          [in research]   \n",
       "\n",
       "                        userProfiling_useOfAI_details  \\\n",
       "0                                                 NaN   \n",
       "1   from MindPeak (BreastIHC), from VMscope (Cogni...   \n",
       "2                                                 NaN   \n",
       "3                                                 NaN   \n",
       "4   QuPath immunohistochemistry positive cell dete...   \n",
       "5                                             Aiforia   \n",
       "6                                                 NaN   \n",
       "7                                                 NaN   \n",
       "8                                                 NaN   \n",
       "9                                   Roche Diagnostics   \n",
       "10                                                NaN   \n",
       "11  tumor cellularity count; pattern recognition; ...   \n",
       "12                                                NaN   \n",
       "13                                              Paige   \n",
       "14                                                Lrp   \n",
       "15                       classification a.o. analysis   \n",
       "16                                                NaN   \n",
       "17                                                NaN   \n",
       "18                Metastases detection in lymph nodes   \n",
       "\n",
       "    userProfiling_mlFamiliarity  \n",
       "0                             1  \n",
       "1                             3  \n",
       "2                             7  \n",
       "3                             7  \n",
       "4                             2  \n",
       "5                             7  \n",
       "6                             2  \n",
       "7                             4  \n",
       "8                             5  \n",
       "9                             4  \n",
       "10                            5  \n",
       "11                            2  \n",
       "12                            7  \n",
       "13                            7  \n",
       "14                            7  \n",
       "15                            4  \n",
       "16                            6  \n",
       "17                            6  \n",
       "18                            6  "
      ]
     },
     "execution_count": 9,
     "metadata": {},
     "output_type": "execute_result"
    }
   ],
   "source": [
    "user_df\n"
   ]
  },
  {
   "cell_type": "code",
   "execution_count": null,
   "metadata": {},
   "outputs": [],
   "source": []
  }
 ],
 "metadata": {
  "interpreter": {
   "hash": "fd5c9eee07d4397a8411513d76643cfa3a6f3e29c2d47391f6ccf184d5088858"
  },
  "kernelspec": {
   "display_name": "Python 3.8.10 64-bit ('dataprocessing-A3_Gmt8X-py3.8': poetry)",
   "name": "python3"
  },
  "language_info": {
   "codemirror_mode": {
    "name": "ipython",
    "version": 3
   },
   "file_extension": ".py",
   "mimetype": "text/x-python",
   "name": "python",
   "nbconvert_exporter": "python",
   "pygments_lexer": "ipython3",
   "version": "3.8.10"
  },
  "orig_nbformat": 2
 },
 "nbformat": 4,
 "nbformat_minor": 2
}