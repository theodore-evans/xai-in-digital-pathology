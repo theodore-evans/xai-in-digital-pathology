{
 "metadata": {
  "language_info": {
   "codemirror_mode": {
    "name": "ipython",
    "version": 3
   },
   "file_extension": ".py",
   "mimetype": "text/x-python",
   "name": "python",
   "nbconvert_exporter": "python",
   "pygments_lexer": "ipython3",
   "version": "3.8.5"
  },
  "orig_nbformat": 2,
  "kernelspec": {
   "name": "python3",
   "display_name": "Python 3.8.5 64-bit ('base': conda)"
  },
  "interpreter": {
   "hash": "d0dc0097a17ff86c754c00174888e2ef9acb4e4c1116973d6d19c48422ff17f9"
  }
 },
 "nbformat": 4,
 "nbformat_minor": 2,
 "cells": [
  {
   "cell_type": "code",
   "execution_count": 2,
   "metadata": {},
   "outputs": [],
   "source": [
    "import pandas as pd\n",
    "import json\n",
    "import re\n",
    "import matplotlib.pyplot as plt\n",
    "import numpy as np\n",
    "import statistics\n",
    "from collections import Counter\n",
    "import plotly\n",
    "import plotly.graph_objects as go\n",
    "import plotly.express as px\n",
    "import colorlover as cl\n",
    "from itertools import cycle"
   ]
  },
  {
   "cell_type": "code",
   "execution_count": 3,
   "metadata": {
    "tags": []
   },
   "outputs": [],
   "source": [
    "#Loading Data\n",
    "f = open(\"db_dump_greater_thursday.json\").read()\n",
    "\n",
    "#remove image0/image1 vars since it prevents proper df merging\n",
    "g = re.sub(r'_image[0-2]',\"\",f)\n",
    "\n",
    "data = json.loads(g)\n",
    "df = pd.json_normalize(data)\n",
    "\n",
    "#hacky solution to remove the panda-appended user_. entry\n",
    "renamed= [name.split(\"_.\")[-1] for name in df.columns]\n",
    "col_rename = {i:j for i,j in zip(df.columns,renamed)}\n",
    "df = df.rename(columns=col_rename)"
   ]
  },
  {
   "cell_type": "code",
   "execution_count": 4,
   "metadata": {},
   "outputs": [],
   "source": [
    "def createSubDFs(df):\n",
    "    profiling_df = df[['user_profiling_age', 'user_profiling_position',\n",
    "        'user_profiling_useOfDP', 'user_profiling_useOfAI',\n",
    "        'user_profiling_useOfAI_details', 'user_profiling_mlFamiliarity']]\n",
    "\n",
    "    one_df = df[['counterfactuals_prototypeInterpolation_understandability',\n",
    "        'counterfactuals_prototypeInterpolation_usability',\n",
    "        'counterfactuals_prototypeInterpolation_informativeness',\n",
    "        # 'counterfactuals_prototypeInterpolation_value']]\n",
    "    two_df = df[[ 'counterfactuals_twoAxisCounterfactuals_understandability',\n",
    "        'counterfactuals_twoAxisCounterfactuals_usability',\n",
    "        'counterfactuals_twoAxisCounterfactuals_informativeness',\n",
    "        'counterfactuals_twoAxisCounterfactuals_value']]\n",
    "    cf_names = [\"counterfactuals_understandability\",\"counterfactuals_usability\",\"counterfactuals_informativeness\",\"counterfactuals_value\"]\n",
    "    one_df.columns=cf_names\n",
    "    two_df.columns=cf_names\n",
    "    cf_df = pd.concat([one_df,two_df])\n",
    "\n",
    "    ca_df = df[['conceptAttribution_textAttributes_understandability',\n",
    "        'conceptAttribution_textAttributes_usability',\n",
    "        'conceptAttribution_textAttributes_informativeness',\n",
    "        'conceptAttribution_textAttributes_value',\n",
    "        'conceptAttribution_textAttributes_comments']]\n",
    "\n",
    "    prototypes_df = df[['prototypes_prototypes_understandability',\n",
    "        'prototypes_prototypes_usability',\n",
    "        'prototypes_prototypes_informativeness',\n",
    "        'prototypes_prototypes_value']]\n",
    "\n",
    "    trust_df = df[['trustScores_borderlineCases_understandability',\n",
    "        'trustScores_borderlineCases_usability',\n",
    "        'trustScores_borderlineCases_value',\n",
    "        'trustScores_borderlineCases_informativeness',\n",
    "        'trustScores_borderlineCases_comments']]\n",
    "\n",
    "    #split the sm dfs so we unify different global/local values\n",
    "    local_df = df[['saliencyMaps_localSaliency_understandability',\n",
    "       'saliencyMaps_localSaliency_usability',\n",
    "       'saliencyMaps_localSaliency_informativeness',\n",
    "       'saliencyMaps_localSaliency_value',]]\n",
    "\n",
    "    global_df = df[[  'saliencyMaps_globalSaliency_understandability',\n",
    "       'saliencyMaps_globalSaliency_usability',\n",
    "       'saliencyMaps_globalSaliency_informativeness',\n",
    "       'saliencyMaps_globalSaliency_value']]\n",
    "    sm_names = [\"saliencyMaps_understandability\",\"saliencyMaps_usability\",\"saliencyMaps_informativeness\",\"saliencyMaps_value\"]\n",
    "    local_df.columns=sm_names\n",
    "    global_df.columns=sm_names\n",
    "    saliency_df = pd.concat([local_df,global_df])\n",
    "\n",
    "    return profiling_df,cf_df,ca_df,prototypes_df,trust_df,saliency_df"
   ]
  },
  {
   "cell_type": "code",
   "execution_count": 20,
   "metadata": {
    "tags": []
   },
   "outputs": [
    {
     "output_type": "stream",
     "name": "stdout",
     "text": [
      "    saliencyMaps_understandability  saliencyMaps_usability  \\\n0                              4.0                     4.0   \n1                              6.0                     6.0   \n2                              6.0                     6.0   \n3                              3.0                     6.0   \n4                              5.0                     3.0   \n5                              5.0                     5.0   \n6                              5.0                     5.0   \n7                              6.0                     6.0   \n8                              1.0                     2.0   \n9                              4.0                     4.0   \n10                             7.0                     7.0   \n11                             2.0                     2.0   \n12                             6.0                     5.0   \n13                             1.0                     1.0   \n14                             6.0                     6.0   \n15                             3.0                     5.0   \n16                             6.0                     6.0   \n17                             4.0                     4.0   \n18                             3.0                     3.0   \n19                             2.0                     2.0   \n20                             5.0                     7.0   \n0                              5.0                     5.0   \n1                              7.0                     7.0   \n2                              7.0                     7.0   \n3                              6.0                     3.0   \n4                              5.0                     7.0   \n5                              4.0                     5.0   \n6                              6.0                     5.0   \n7                              5.0                     5.0   \n8                              1.0                     1.0   \n10                             6.0                     6.0   \n11                             4.0                     4.0   \n12                             4.0                     4.0   \n13                             1.0                     1.0   \n15                             2.0                     5.0   \n16                             7.0                     7.0   \n18                             4.0                     3.0   \n19                             5.0                     3.0   \n\n    saliencyMaps_informativeness  saliencyMaps_value  \n0                            5.0                 5.0  \n1                            4.0                 4.0  \n2                            4.0                 4.0  \n3                            3.0                 4.0  \n4                            4.0                 6.0  \n5                            4.0                 3.0  \n6                            6.0                 5.0  \n7                            6.0                 6.0  \n8                            2.0                 2.0  \n9                            4.0                 4.0  \n10                           7.0                 7.0  \n11                           2.0                 2.0  \n12                           4.0                 2.0  \n13                           1.0                 1.0  \n14                           5.0                 4.0  \n15                           6.0                 2.0  \n16                           7.0                 7.0  \n17                           4.0                 4.0  \n18                           3.0                 3.0  \n19                           1.0                 3.0  \n20                           6.0                 6.0  \n0                            6.0                 6.0  \n1                            7.0                 7.0  \n2                            7.0                 7.0  \n3                            4.0                 5.0  \n4                            3.0                 6.0  \n5                            6.0                 4.0  \n6                            5.0                 6.0  \n7                            5.0                 5.0  \n8                            1.0                 1.0  \n10                           5.0                 5.0  \n11                           4.0                 4.0  \n12                           5.0                 3.0  \n13                           1.0                 1.0  \n15                           6.0                 2.0  \n16                           7.0                 7.0  \n18                           3.0                 3.0  \n19                           3.0                 2.0  \n"
     ]
    }
   ],
   "source": [
    "#remove NaN columns, careful since missing comments are read as NaN which can lead to very empty dfs\n",
    "#df = df.dropna()\n",
    "\n",
    "#get column values while dropping individual NaNs for debugging purposes\n",
    "# test_data = df[\"user_profiling_useOfDP\"]\n",
    "# test_data = test_data.dropna().unique().tolist()\n",
    "#select subdfs grouped by column for easier handling\n",
    "profiling_df,cf_df,ca_df,prototypes_df,trust_df,saliency_df = createSubDFs(df)\n",
    "saliency_df = saliency_df.dropna()\n",
    "print(saliency_df)\n"
   ]
  },
  {
   "cell_type": "code",
   "execution_count": 11,
   "metadata": {},
   "outputs": [
    {
     "output_type": "stream",
     "name": "stdout",
     "text": [
      "[1.5, 2.5, 2.5, 2.5]\n[-4.5, -4.5, -8.5, -5.5]\n[-5.5, -6.5, -5.5, -5.5]\n[-1.5, -2.5, -2.5, -2.5]\n"
     ]
    },
    {
     "output_type": "display_data",
     "data": {
      "application/vnd.plotly.v1+json": {
       "config": {
        "plotlyServerURL": "https://plot.ly"
       },
       "data": [
        {
         "customdata": [
          3,
          2,
          6,
          3
         ],
         "hovertemplate": "%{y}: %{customdata}",
         "marker": {
          "color": "#440154"
         },
         "name": "Lightly disagree",
         "orientation": "h",
         "type": "bar",
         "width": 0.8,
         "x": [
          -3,
          -2,
          -6,
          -3
         ],
         "y": [
          "Intuitiveness ",
          "Relevance ",
          "Trustworthiness ",
          "Value "
         ]
        },
        {
         "customdata": [
          4,
          4,
          3,
          3
         ],
         "hovertemplate": "%{y}: %{customdata}",
         "marker": {
          "color": "#482878"
         },
         "name": "Disagree",
         "orientation": "h",
         "type": "bar",
         "width": 0.8,
         "x": [
          -4,
          -4,
          -3,
          -3
         ],
         "y": [
          "Intuitiveness ",
          "Relevance ",
          "Trustworthiness ",
          "Value "
         ]
        },
        {
         "customdata": [
          0,
          0,
          0,
          0
         ],
         "hovertemplate": "%{y}: %{customdata}",
         "marker": {
          "color": "#3e4989"
         },
         "name": "Strongly disagree",
         "orientation": "h",
         "type": "bar",
         "width": 0.8,
         "x": [
          0,
          0,
          0,
          0
         ],
         "y": [
          "Intuitiveness ",
          "Relevance ",
          "Trustworthiness ",
          "Value "
         ]
        },
        {
         "customdata": [
          3,
          5,
          5,
          5
         ],
         "hovertemplate": "%{y}: %{customdata}",
         "marker": {
          "color": "#31688e"
         },
         "name": "Neutral",
         "orientation": "h",
         "type": "bar",
         "width": 0.8,
         "x": [
          3,
          5,
          5,
          5
         ],
         "y": [
          "Intuitiveness ",
          "Relevance ",
          "Trustworthiness ",
          "Value "
         ]
        },
        {
         "customdata": [
          7,
          9,
          8,
          5
         ],
         "hovertemplate": "%{y}: %{customdata}",
         "marker": {
          "color": "#26828e"
         },
         "name": "Lightly agree",
         "orientation": "h",
         "type": "bar",
         "width": 0.8,
         "x": [
          7,
          9,
          8,
          5
         ],
         "y": [
          "Intuitiveness ",
          "Relevance ",
          "Trustworthiness ",
          "Value "
         ]
        },
        {
         "customdata": [
          8,
          6,
          5,
          9
         ],
         "hovertemplate": "%{y}: %{customdata}",
         "marker": {
          "color": "#1f9e89"
         },
         "name": "Agree",
         "orientation": "h",
         "type": "bar",
         "width": 0.8,
         "x": [
          8,
          6,
          5,
          9
         ],
         "y": [
          "Intuitiveness ",
          "Relevance ",
          "Trustworthiness ",
          "Value "
         ]
        },
        {
         "customdata": [
          9,
          7,
          6,
          7
         ],
         "hovertemplate": "%{y}: %{customdata}",
         "marker": {
          "color": "#35b779"
         },
         "name": "Strongly agree",
         "orientation": "h",
         "type": "bar",
         "width": 0.8,
         "x": [
          9,
          7,
          6,
          7
         ],
         "y": [
          "Intuitiveness ",
          "Relevance ",
          "Trustworthiness ",
          "Value "
         ]
        }
       ],
       "layout": {
        "bargap": 0.01,
        "barmode": "relative",
        "legend": {
         "y": 0.5
        },
        "template": {
         "data": {
          "bar": [
           {
            "error_x": {
             "color": "#2a3f5f"
            },
            "error_y": {
             "color": "#2a3f5f"
            },
            "marker": {
             "line": {
              "color": "#E5ECF6",
              "width": 0.5
             }
            },
            "type": "bar"
           }
          ],
          "barpolar": [
           {
            "marker": {
             "line": {
              "color": "#E5ECF6",
              "width": 0.5
             }
            },
            "type": "barpolar"
           }
          ],
          "carpet": [
           {
            "aaxis": {
             "endlinecolor": "#2a3f5f",
             "gridcolor": "white",
             "linecolor": "white",
             "minorgridcolor": "white",
             "startlinecolor": "#2a3f5f"
            },
            "baxis": {
             "endlinecolor": "#2a3f5f",
             "gridcolor": "white",
             "linecolor": "white",
             "minorgridcolor": "white",
             "startlinecolor": "#2a3f5f"
            },
            "type": "carpet"
           }
          ],
          "choropleth": [
           {
            "colorbar": {
             "outlinewidth": 0,
             "ticks": ""
            },
            "type": "choropleth"
           }
          ],
          "contour": [
           {
            "colorbar": {
             "outlinewidth": 0,
             "ticks": ""
            },
            "colorscale": [
             [
              0,
              "#0d0887"
             ],
             [
              0.1111111111111111,
              "#46039f"
             ],
             [
              0.2222222222222222,
              "#7201a8"
             ],
             [
              0.3333333333333333,
              "#9c179e"
             ],
             [
              0.4444444444444444,
              "#bd3786"
             ],
             [
              0.5555555555555556,
              "#d8576b"
             ],
             [
              0.6666666666666666,
              "#ed7953"
             ],
             [
              0.7777777777777778,
              "#fb9f3a"
             ],
             [
              0.8888888888888888,
              "#fdca26"
             ],
             [
              1,
              "#f0f921"
             ]
            ],
            "type": "contour"
           }
          ],
          "contourcarpet": [
           {
            "colorbar": {
             "outlinewidth": 0,
             "ticks": ""
            },
            "type": "contourcarpet"
           }
          ],
          "heatmap": [
           {
            "colorbar": {
             "outlinewidth": 0,
             "ticks": ""
            },
            "colorscale": [
             [
              0,
              "#0d0887"
             ],
             [
              0.1111111111111111,
              "#46039f"
             ],
             [
              0.2222222222222222,
              "#7201a8"
             ],
             [
              0.3333333333333333,
              "#9c179e"
             ],
             [
              0.4444444444444444,
              "#bd3786"
             ],
             [
              0.5555555555555556,
              "#d8576b"
             ],
             [
              0.6666666666666666,
              "#ed7953"
             ],
             [
              0.7777777777777778,
              "#fb9f3a"
             ],
             [
              0.8888888888888888,
              "#fdca26"
             ],
             [
              1,
              "#f0f921"
             ]
            ],
            "type": "heatmap"
           }
          ],
          "heatmapgl": [
           {
            "colorbar": {
             "outlinewidth": 0,
             "ticks": ""
            },
            "colorscale": [
             [
              0,
              "#0d0887"
             ],
             [
              0.1111111111111111,
              "#46039f"
             ],
             [
              0.2222222222222222,
              "#7201a8"
             ],
             [
              0.3333333333333333,
              "#9c179e"
             ],
             [
              0.4444444444444444,
              "#bd3786"
             ],
             [
              0.5555555555555556,
              "#d8576b"
             ],
             [
              0.6666666666666666,
              "#ed7953"
             ],
             [
              0.7777777777777778,
              "#fb9f3a"
             ],
             [
              0.8888888888888888,
              "#fdca26"
             ],
             [
              1,
              "#f0f921"
             ]
            ],
            "type": "heatmapgl"
           }
          ],
          "histogram": [
           {
            "marker": {
             "colorbar": {
              "outlinewidth": 0,
              "ticks": ""
             }
            },
            "type": "histogram"
           }
          ],
          "histogram2d": [
           {
            "colorbar": {
             "outlinewidth": 0,
             "ticks": ""
            },
            "colorscale": [
             [
              0,
              "#0d0887"
             ],
             [
              0.1111111111111111,
              "#46039f"
             ],
             [
              0.2222222222222222,
              "#7201a8"
             ],
             [
              0.3333333333333333,
              "#9c179e"
             ],
             [
              0.4444444444444444,
              "#bd3786"
             ],
             [
              0.5555555555555556,
              "#d8576b"
             ],
             [
              0.6666666666666666,
              "#ed7953"
             ],
             [
              0.7777777777777778,
              "#fb9f3a"
             ],
             [
              0.8888888888888888,
              "#fdca26"
             ],
             [
              1,
              "#f0f921"
             ]
            ],
            "type": "histogram2d"
           }
          ],
          "histogram2dcontour": [
           {
            "colorbar": {
             "outlinewidth": 0,
             "ticks": ""
            },
            "colorscale": [
             [
              0,
              "#0d0887"
             ],
             [
              0.1111111111111111,
              "#46039f"
             ],
             [
              0.2222222222222222,
              "#7201a8"
             ],
             [
              0.3333333333333333,
              "#9c179e"
             ],
             [
              0.4444444444444444,
              "#bd3786"
             ],
             [
              0.5555555555555556,
              "#d8576b"
             ],
             [
              0.6666666666666666,
              "#ed7953"
             ],
             [
              0.7777777777777778,
              "#fb9f3a"
             ],
             [
              0.8888888888888888,
              "#fdca26"
             ],
             [
              1,
              "#f0f921"
             ]
            ],
            "type": "histogram2dcontour"
           }
          ],
          "mesh3d": [
           {
            "colorbar": {
             "outlinewidth": 0,
             "ticks": ""
            },
            "type": "mesh3d"
           }
          ],
          "parcoords": [
           {
            "line": {
             "colorbar": {
              "outlinewidth": 0,
              "ticks": ""
             }
            },
            "type": "parcoords"
           }
          ],
          "pie": [
           {
            "automargin": true,
            "type": "pie"
           }
          ],
          "scatter": [
           {
            "marker": {
             "colorbar": {
              "outlinewidth": 0,
              "ticks": ""
             }
            },
            "type": "scatter"
           }
          ],
          "scatter3d": [
           {
            "line": {
             "colorbar": {
              "outlinewidth": 0,
              "ticks": ""
             }
            },
            "marker": {
             "colorbar": {
              "outlinewidth": 0,
              "ticks": ""
             }
            },
            "type": "scatter3d"
           }
          ],
          "scattercarpet": [
           {
            "marker": {
             "colorbar": {
              "outlinewidth": 0,
              "ticks": ""
             }
            },
            "type": "scattercarpet"
           }
          ],
          "scattergeo": [
           {
            "marker": {
             "colorbar": {
              "outlinewidth": 0,
              "ticks": ""
             }
            },
            "type": "scattergeo"
           }
          ],
          "scattergl": [
           {
            "marker": {
             "colorbar": {
              "outlinewidth": 0,
              "ticks": ""
             }
            },
            "type": "scattergl"
           }
          ],
          "scattermapbox": [
           {
            "marker": {
             "colorbar": {
              "outlinewidth": 0,
              "ticks": ""
             }
            },
            "type": "scattermapbox"
           }
          ],
          "scatterpolar": [
           {
            "marker": {
             "colorbar": {
              "outlinewidth": 0,
              "ticks": ""
             }
            },
            "type": "scatterpolar"
           }
          ],
          "scatterpolargl": [
           {
            "marker": {
             "colorbar": {
              "outlinewidth": 0,
              "ticks": ""
             }
            },
            "type": "scatterpolargl"
           }
          ],
          "scatterternary": [
           {
            "marker": {
             "colorbar": {
              "outlinewidth": 0,
              "ticks": ""
             }
            },
            "type": "scatterternary"
           }
          ],
          "surface": [
           {
            "colorbar": {
             "outlinewidth": 0,
             "ticks": ""
            },
            "colorscale": [
             [
              0,
              "#0d0887"
             ],
             [
              0.1111111111111111,
              "#46039f"
             ],
             [
              0.2222222222222222,
              "#7201a8"
             ],
             [
              0.3333333333333333,
              "#9c179e"
             ],
             [
              0.4444444444444444,
              "#bd3786"
             ],
             [
              0.5555555555555556,
              "#d8576b"
             ],
             [
              0.6666666666666666,
              "#ed7953"
             ],
             [
              0.7777777777777778,
              "#fb9f3a"
             ],
             [
              0.8888888888888888,
              "#fdca26"
             ],
             [
              1,
              "#f0f921"
             ]
            ],
            "type": "surface"
           }
          ],
          "table": [
           {
            "cells": {
             "fill": {
              "color": "#EBF0F8"
             },
             "line": {
              "color": "white"
             }
            },
            "header": {
             "fill": {
              "color": "#C8D4E3"
             },
             "line": {
              "color": "white"
             }
            },
            "type": "table"
           }
          ]
         },
         "layout": {
          "annotationdefaults": {
           "arrowcolor": "#2a3f5f",
           "arrowhead": 0,
           "arrowwidth": 1
          },
          "autotypenumbers": "strict",
          "coloraxis": {
           "colorbar": {
            "outlinewidth": 0,
            "ticks": ""
           }
          },
          "colorscale": {
           "diverging": [
            [
             0,
             "#8e0152"
            ],
            [
             0.1,
             "#c51b7d"
            ],
            [
             0.2,
             "#de77ae"
            ],
            [
             0.3,
             "#f1b6da"
            ],
            [
             0.4,
             "#fde0ef"
            ],
            [
             0.5,
             "#f7f7f7"
            ],
            [
             0.6,
             "#e6f5d0"
            ],
            [
             0.7,
             "#b8e186"
            ],
            [
             0.8,
             "#7fbc41"
            ],
            [
             0.9,
             "#4d9221"
            ],
            [
             1,
             "#276419"
            ]
           ],
           "sequential": [
            [
             0,
             "#0d0887"
            ],
            [
             0.1111111111111111,
             "#46039f"
            ],
            [
             0.2222222222222222,
             "#7201a8"
            ],
            [
             0.3333333333333333,
             "#9c179e"
            ],
            [
             0.4444444444444444,
             "#bd3786"
            ],
            [
             0.5555555555555556,
             "#d8576b"
            ],
            [
             0.6666666666666666,
             "#ed7953"
            ],
            [
             0.7777777777777778,
             "#fb9f3a"
            ],
            [
             0.8888888888888888,
             "#fdca26"
            ],
            [
             1,
             "#f0f921"
            ]
           ],
           "sequentialminus": [
            [
             0,
             "#0d0887"
            ],
            [
             0.1111111111111111,
             "#46039f"
            ],
            [
             0.2222222222222222,
             "#7201a8"
            ],
            [
             0.3333333333333333,
             "#9c179e"
            ],
            [
             0.4444444444444444,
             "#bd3786"
            ],
            [
             0.5555555555555556,
             "#d8576b"
            ],
            [
             0.6666666666666666,
             "#ed7953"
            ],
            [
             0.7777777777777778,
             "#fb9f3a"
            ],
            [
             0.8888888888888888,
             "#fdca26"
            ],
            [
             1,
             "#f0f921"
            ]
           ]
          },
          "colorway": [
           "#636efa",
           "#EF553B",
           "#00cc96",
           "#ab63fa",
           "#FFA15A",
           "#19d3f3",
           "#FF6692",
           "#B6E880",
           "#FF97FF",
           "#FECB52"
          ],
          "font": {
           "color": "#2a3f5f"
          },
          "geo": {
           "bgcolor": "white",
           "lakecolor": "white",
           "landcolor": "#E5ECF6",
           "showlakes": true,
           "showland": true,
           "subunitcolor": "white"
          },
          "hoverlabel": {
           "align": "left"
          },
          "hovermode": "closest",
          "mapbox": {
           "style": "light"
          },
          "paper_bgcolor": "white",
          "plot_bgcolor": "#E5ECF6",
          "polar": {
           "angularaxis": {
            "gridcolor": "white",
            "linecolor": "white",
            "ticks": ""
           },
           "bgcolor": "#E5ECF6",
           "radialaxis": {
            "gridcolor": "white",
            "linecolor": "white",
            "ticks": ""
           }
          },
          "scene": {
           "xaxis": {
            "backgroundcolor": "#E5ECF6",
            "gridcolor": "white",
            "gridwidth": 2,
            "linecolor": "white",
            "showbackground": true,
            "ticks": "",
            "zerolinecolor": "white"
           },
           "yaxis": {
            "backgroundcolor": "#E5ECF6",
            "gridcolor": "white",
            "gridwidth": 2,
            "linecolor": "white",
            "showbackground": true,
            "ticks": "",
            "zerolinecolor": "white"
           },
           "zaxis": {
            "backgroundcolor": "#E5ECF6",
            "gridcolor": "white",
            "gridwidth": 2,
            "linecolor": "white",
            "showbackground": true,
            "ticks": "",
            "zerolinecolor": "white"
           }
          },
          "shapedefaults": {
           "line": {
            "color": "#2a3f5f"
           }
          },
          "ternary": {
           "aaxis": {
            "gridcolor": "white",
            "linecolor": "white",
            "ticks": ""
           },
           "baxis": {
            "gridcolor": "white",
            "linecolor": "white",
            "ticks": ""
           },
           "bgcolor": "#E5ECF6",
           "caxis": {
            "gridcolor": "white",
            "linecolor": "white",
            "ticks": ""
           }
          },
          "title": {
           "x": 0.05
          },
          "xaxis": {
           "automargin": true,
           "gridcolor": "white",
           "linecolor": "white",
           "ticks": "",
           "title": {
            "standoff": 15
           },
           "zerolinecolor": "white",
           "zerolinewidth": 2
          },
          "yaxis": {
           "automargin": true,
           "gridcolor": "white",
           "linecolor": "white",
           "ticks": "",
           "title": {
            "standoff": 15
           },
           "zerolinecolor": "white",
           "zerolinewidth": 2
          }
         }
        },
        "title": {
         "text": "Saliency Map",
         "x": 0.45
        },
        "xaxis": {
         "tick0": 0,
         "title": {
          "text": "Responses"
         }
        },
        "yaxis": {
         "autorange": "reversed"
        }
       }
      }
     },
     "metadata": {}
    },
    {
     "output_type": "display_data",
     "data": {
      "text/plain": "<Figure size 432x288 with 0 Axes>"
     },
     "metadata": {}
    }
   ],
   "source": [
    "\n",
    "labels = [\"Intuitiveness \",\"Relevance \",\"Trustworthiness \",\"Value \"]\n",
    "\n",
    "def stackedBarChartDF(sub_df,title,labels):\n",
    "    #throw out non-numeric data\n",
    "    numerics = ['int16', 'int32', 'int64', 'float16', 'float32', 'float64']\n",
    "    int_df = sub_df.select_dtypes(include=numerics)\n",
    "    data = int_df.values\n",
    "\n",
    "    #get the occurences in the respective column\n",
    "    understandability = Counter(data[:,0])\n",
    "    usability = Counter(data[:,1])\n",
    "    value = Counter(data[:,2])\n",
    "    informativeness = Counter(data[:,3])\n",
    "\n",
    "    fig = go.Figure()\n",
    "    #throw the arrays together for iterating over them\n",
    "    eval_arr = [understandability,value,informativeness,usability]\n",
    "    category_order = [\"Strongly disagree\",\"Disagree\",\"Lightly disagree\",\"Neutral\",\"Lightly agree\",\"Agree\",\"Strongly agree\"]\n",
    "    num_order = [0,1,2,3,4,5,6]\n",
    "    palette = cycle(plotly.colors.sequential.Viridis)\n",
    "    centerpoint = [x[3]/2 for x in eval_arr]\n",
    "\n",
    "    #iterate reversed so we get right ordering of answers\n",
    "    for num in reversed(num_order[0:3]):\n",
    "        #xvals are number of responses eg. strongly disagree\n",
    "        xvals = [understandability[num],value[num],informativeness[num],usability[num]]\n",
    "        yvals = [\"Intuitiveness \",\"Relevance \",\"Trustworthiness \",\"Value \"]\n",
    "        # #if we are at the centerpoint add an offset\n",
    "        # if (num == 3):\n",
    "        #     offset = centerpoint\n",
    "        # else:\n",
    "        #     offset = [0,0,0,0]\n",
    "        print([(x*-1)-centerpoint[ind] for ind,x in enumerate(xvals)])\n",
    "        fig.add_trace(\n",
    "            go.Bar(\n",
    "                #-centerpoint[ind]\n",
    "                x=[(x*-1) for ind,x in enumerate(xvals)],\n",
    "                y=yvals,\n",
    "                orientation='h',\n",
    "                name=category_order[num],\n",
    "                customdata=xvals,\n",
    "                hovertemplate = \"%{y}: %{customdata}\",\n",
    "                width=0.8,\n",
    "                marker_color=next(palette)\n",
    "                    ))\n",
    "    #regular forward iteration, now xvalues start from zero\n",
    "    for num in num_order[3:]:\n",
    "        xvals = [understandability[num],value[num],informativeness[num],usability[num]]\n",
    "        yvals = [\"Intuitiveness \",\"Relevance \",\"Trustworthiness \",\"Value \"]\n",
    "        fig.add_trace(\n",
    "            go.Bar(\n",
    "                #\n",
    "                x=xvals,\n",
    "                y=yvals,\n",
    "                orientation='h',\n",
    "                name=category_order[num],\n",
    "                customdata=xvals,\n",
    "                hovertemplate = \"%{y}: %{customdata}\",\n",
    "                width=0.8,\n",
    "                marker_color=next(palette)\n",
    "                        ))\n",
    "\n",
    "    fig.update_layout(barmode='relative', \n",
    "                    yaxis_autorange='reversed',\n",
    "                    bargap=0.01,\n",
    "                    legend_y=0.5,\n",
    "                    title = title,\n",
    "                    title_x = 0.45,\n",
    "                    xaxis = dict(\n",
    "                        tick0 = 0\n",
    "                    ),\n",
    "                    xaxis_title=\"Responses\"\n",
    "    )\n",
    "    fig.show()\n",
    "\n",
    "#boxPlotDF(trust_df,\"Trust Based Methods\")\n",
    "stackedBarChartDF(saliency_df,\"Saliency Map\",labels)\n",
    "plt.savefig(\"StackedBarChart\")\n",
    "\n",
    "#function to get most relevant statistical measures for single column\n",
    "def descriptiveStatistics(column):\n",
    "    print(df[column].describe())\n",
    "\n",
    "#descriptiveStatistics(\"user_profiling_useOfDP\")\n"
   ]
  },
  {
   "cell_type": "code",
   "execution_count": 21,
   "metadata": {},
   "outputs": [
    {
     "output_type": "stream",
     "name": "stdout",
     "text": [
      "                   TrustScores  CounterFactuals  ConceptAttribution  \\\nUnderstandability         4.62             4.43                4.29   \nUsability                 4.67             4.93                4.90   \nValue                     4.19             4.67                4.81   \nInformativeness           4.48             4.33                4.76   \n\n                   Prototypes  SaliencyMaps  \nUnderstandability        4.76          4.37  \nUsability                5.90          4.45  \nValue                    4.62          4.55  \nInformativeness          4.86          4.16  \n"
     ]
    },
    {
     "output_type": "display_data",
     "data": {
      "application/vnd.plotly.v1+json": {
       "config": {
        "plotlyServerURL": "https://plot.ly"
       },
       "data": [
        {
         "marker": {
          "color": "#440154"
         },
         "name": "TrustScores",
         "type": "box",
         "y": [
          4.62,
          4.67,
          4.19,
          4.48
         ]
        },
        {
         "marker": {
          "color": "#482878"
         },
         "name": "CounterFactuals",
         "type": "box",
         "y": [
          4.43,
          4.93,
          4.67,
          4.33
         ]
        },
        {
         "marker": {
          "color": "#3e4989"
         },
         "name": "ConceptAttribution",
         "type": "box",
         "y": [
          4.29,
          4.9,
          4.81,
          4.76
         ]
        },
        {
         "marker": {
          "color": "#31688e"
         },
         "name": "Prototypes",
         "type": "box",
         "y": [
          4.76,
          5.9,
          4.62,
          4.86
         ]
        },
        {
         "marker": {
          "color": "#26828e"
         },
         "name": "SaliencyMaps",
         "type": "box",
         "y": [
          4.37,
          4.45,
          4.55,
          4.16
         ]
        }
       ],
       "layout": {
        "template": {
         "data": {
          "bar": [
           {
            "error_x": {
             "color": "#2a3f5f"
            },
            "error_y": {
             "color": "#2a3f5f"
            },
            "marker": {
             "line": {
              "color": "#E5ECF6",
              "width": 0.5
             }
            },
            "type": "bar"
           }
          ],
          "barpolar": [
           {
            "marker": {
             "line": {
              "color": "#E5ECF6",
              "width": 0.5
             }
            },
            "type": "barpolar"
           }
          ],
          "carpet": [
           {
            "aaxis": {
             "endlinecolor": "#2a3f5f",
             "gridcolor": "white",
             "linecolor": "white",
             "minorgridcolor": "white",
             "startlinecolor": "#2a3f5f"
            },
            "baxis": {
             "endlinecolor": "#2a3f5f",
             "gridcolor": "white",
             "linecolor": "white",
             "minorgridcolor": "white",
             "startlinecolor": "#2a3f5f"
            },
            "type": "carpet"
           }
          ],
          "choropleth": [
           {
            "colorbar": {
             "outlinewidth": 0,
             "ticks": ""
            },
            "type": "choropleth"
           }
          ],
          "contour": [
           {
            "colorbar": {
             "outlinewidth": 0,
             "ticks": ""
            },
            "colorscale": [
             [
              0,
              "#0d0887"
             ],
             [
              0.1111111111111111,
              "#46039f"
             ],
             [
              0.2222222222222222,
              "#7201a8"
             ],
             [
              0.3333333333333333,
              "#9c179e"
             ],
             [
              0.4444444444444444,
              "#bd3786"
             ],
             [
              0.5555555555555556,
              "#d8576b"
             ],
             [
              0.6666666666666666,
              "#ed7953"
             ],
             [
              0.7777777777777778,
              "#fb9f3a"
             ],
             [
              0.8888888888888888,
              "#fdca26"
             ],
             [
              1,
              "#f0f921"
             ]
            ],
            "type": "contour"
           }
          ],
          "contourcarpet": [
           {
            "colorbar": {
             "outlinewidth": 0,
             "ticks": ""
            },
            "type": "contourcarpet"
           }
          ],
          "heatmap": [
           {
            "colorbar": {
             "outlinewidth": 0,
             "ticks": ""
            },
            "colorscale": [
             [
              0,
              "#0d0887"
             ],
             [
              0.1111111111111111,
              "#46039f"
             ],
             [
              0.2222222222222222,
              "#7201a8"
             ],
             [
              0.3333333333333333,
              "#9c179e"
             ],
             [
              0.4444444444444444,
              "#bd3786"
             ],
             [
              0.5555555555555556,
              "#d8576b"
             ],
             [
              0.6666666666666666,
              "#ed7953"
             ],
             [
              0.7777777777777778,
              "#fb9f3a"
             ],
             [
              0.8888888888888888,
              "#fdca26"
             ],
             [
              1,
              "#f0f921"
             ]
            ],
            "type": "heatmap"
           }
          ],
          "heatmapgl": [
           {
            "colorbar": {
             "outlinewidth": 0,
             "ticks": ""
            },
            "colorscale": [
             [
              0,
              "#0d0887"
             ],
             [
              0.1111111111111111,
              "#46039f"
             ],
             [
              0.2222222222222222,
              "#7201a8"
             ],
             [
              0.3333333333333333,
              "#9c179e"
             ],
             [
              0.4444444444444444,
              "#bd3786"
             ],
             [
              0.5555555555555556,
              "#d8576b"
             ],
             [
              0.6666666666666666,
              "#ed7953"
             ],
             [
              0.7777777777777778,
              "#fb9f3a"
             ],
             [
              0.8888888888888888,
              "#fdca26"
             ],
             [
              1,
              "#f0f921"
             ]
            ],
            "type": "heatmapgl"
           }
          ],
          "histogram": [
           {
            "marker": {
             "colorbar": {
              "outlinewidth": 0,
              "ticks": ""
             }
            },
            "type": "histogram"
           }
          ],
          "histogram2d": [
           {
            "colorbar": {
             "outlinewidth": 0,
             "ticks": ""
            },
            "colorscale": [
             [
              0,
              "#0d0887"
             ],
             [
              0.1111111111111111,
              "#46039f"
             ],
             [
              0.2222222222222222,
              "#7201a8"
             ],
             [
              0.3333333333333333,
              "#9c179e"
             ],
             [
              0.4444444444444444,
              "#bd3786"
             ],
             [
              0.5555555555555556,
              "#d8576b"
             ],
             [
              0.6666666666666666,
              "#ed7953"
             ],
             [
              0.7777777777777778,
              "#fb9f3a"
             ],
             [
              0.8888888888888888,
              "#fdca26"
             ],
             [
              1,
              "#f0f921"
             ]
            ],
            "type": "histogram2d"
           }
          ],
          "histogram2dcontour": [
           {
            "colorbar": {
             "outlinewidth": 0,
             "ticks": ""
            },
            "colorscale": [
             [
              0,
              "#0d0887"
             ],
             [
              0.1111111111111111,
              "#46039f"
             ],
             [
              0.2222222222222222,
              "#7201a8"
             ],
             [
              0.3333333333333333,
              "#9c179e"
             ],
             [
              0.4444444444444444,
              "#bd3786"
             ],
             [
              0.5555555555555556,
              "#d8576b"
             ],
             [
              0.6666666666666666,
              "#ed7953"
             ],
             [
              0.7777777777777778,
              "#fb9f3a"
             ],
             [
              0.8888888888888888,
              "#fdca26"
             ],
             [
              1,
              "#f0f921"
             ]
            ],
            "type": "histogram2dcontour"
           }
          ],
          "mesh3d": [
           {
            "colorbar": {
             "outlinewidth": 0,
             "ticks": ""
            },
            "type": "mesh3d"
           }
          ],
          "parcoords": [
           {
            "line": {
             "colorbar": {
              "outlinewidth": 0,
              "ticks": ""
             }
            },
            "type": "parcoords"
           }
          ],
          "pie": [
           {
            "automargin": true,
            "type": "pie"
           }
          ],
          "scatter": [
           {
            "marker": {
             "colorbar": {
              "outlinewidth": 0,
              "ticks": ""
             }
            },
            "type": "scatter"
           }
          ],
          "scatter3d": [
           {
            "line": {
             "colorbar": {
              "outlinewidth": 0,
              "ticks": ""
             }
            },
            "marker": {
             "colorbar": {
              "outlinewidth": 0,
              "ticks": ""
             }
            },
            "type": "scatter3d"
           }
          ],
          "scattercarpet": [
           {
            "marker": {
             "colorbar": {
              "outlinewidth": 0,
              "ticks": ""
             }
            },
            "type": "scattercarpet"
           }
          ],
          "scattergeo": [
           {
            "marker": {
             "colorbar": {
              "outlinewidth": 0,
              "ticks": ""
             }
            },
            "type": "scattergeo"
           }
          ],
          "scattergl": [
           {
            "marker": {
             "colorbar": {
              "outlinewidth": 0,
              "ticks": ""
             }
            },
            "type": "scattergl"
           }
          ],
          "scattermapbox": [
           {
            "marker": {
             "colorbar": {
              "outlinewidth": 0,
              "ticks": ""
             }
            },
            "type": "scattermapbox"
           }
          ],
          "scatterpolar": [
           {
            "marker": {
             "colorbar": {
              "outlinewidth": 0,
              "ticks": ""
             }
            },
            "type": "scatterpolar"
           }
          ],
          "scatterpolargl": [
           {
            "marker": {
             "colorbar": {
              "outlinewidth": 0,
              "ticks": ""
             }
            },
            "type": "scatterpolargl"
           }
          ],
          "scatterternary": [
           {
            "marker": {
             "colorbar": {
              "outlinewidth": 0,
              "ticks": ""
             }
            },
            "type": "scatterternary"
           }
          ],
          "surface": [
           {
            "colorbar": {
             "outlinewidth": 0,
             "ticks": ""
            },
            "colorscale": [
             [
              0,
              "#0d0887"
             ],
             [
              0.1111111111111111,
              "#46039f"
             ],
             [
              0.2222222222222222,
              "#7201a8"
             ],
             [
              0.3333333333333333,
              "#9c179e"
             ],
             [
              0.4444444444444444,
              "#bd3786"
             ],
             [
              0.5555555555555556,
              "#d8576b"
             ],
             [
              0.6666666666666666,
              "#ed7953"
             ],
             [
              0.7777777777777778,
              "#fb9f3a"
             ],
             [
              0.8888888888888888,
              "#fdca26"
             ],
             [
              1,
              "#f0f921"
             ]
            ],
            "type": "surface"
           }
          ],
          "table": [
           {
            "cells": {
             "fill": {
              "color": "#EBF0F8"
             },
             "line": {
              "color": "white"
             }
            },
            "header": {
             "fill": {
              "color": "#C8D4E3"
             },
             "line": {
              "color": "white"
             }
            },
            "type": "table"
           }
          ]
         },
         "layout": {
          "annotationdefaults": {
           "arrowcolor": "#2a3f5f",
           "arrowhead": 0,
           "arrowwidth": 1
          },
          "autotypenumbers": "strict",
          "coloraxis": {
           "colorbar": {
            "outlinewidth": 0,
            "ticks": ""
           }
          },
          "colorscale": {
           "diverging": [
            [
             0,
             "#8e0152"
            ],
            [
             0.1,
             "#c51b7d"
            ],
            [
             0.2,
             "#de77ae"
            ],
            [
             0.3,
             "#f1b6da"
            ],
            [
             0.4,
             "#fde0ef"
            ],
            [
             0.5,
             "#f7f7f7"
            ],
            [
             0.6,
             "#e6f5d0"
            ],
            [
             0.7,
             "#b8e186"
            ],
            [
             0.8,
             "#7fbc41"
            ],
            [
             0.9,
             "#4d9221"
            ],
            [
             1,
             "#276419"
            ]
           ],
           "sequential": [
            [
             0,
             "#0d0887"
            ],
            [
             0.1111111111111111,
             "#46039f"
            ],
            [
             0.2222222222222222,
             "#7201a8"
            ],
            [
             0.3333333333333333,
             "#9c179e"
            ],
            [
             0.4444444444444444,
             "#bd3786"
            ],
            [
             0.5555555555555556,
             "#d8576b"
            ],
            [
             0.6666666666666666,
             "#ed7953"
            ],
            [
             0.7777777777777778,
             "#fb9f3a"
            ],
            [
             0.8888888888888888,
             "#fdca26"
            ],
            [
             1,
             "#f0f921"
            ]
           ],
           "sequentialminus": [
            [
             0,
             "#0d0887"
            ],
            [
             0.1111111111111111,
             "#46039f"
            ],
            [
             0.2222222222222222,
             "#7201a8"
            ],
            [
             0.3333333333333333,
             "#9c179e"
            ],
            [
             0.4444444444444444,
             "#bd3786"
            ],
            [
             0.5555555555555556,
             "#d8576b"
            ],
            [
             0.6666666666666666,
             "#ed7953"
            ],
            [
             0.7777777777777778,
             "#fb9f3a"
            ],
            [
             0.8888888888888888,
             "#fdca26"
            ],
            [
             1,
             "#f0f921"
            ]
           ]
          },
          "colorway": [
           "#636efa",
           "#EF553B",
           "#00cc96",
           "#ab63fa",
           "#FFA15A",
           "#19d3f3",
           "#FF6692",
           "#B6E880",
           "#FF97FF",
           "#FECB52"
          ],
          "font": {
           "color": "#2a3f5f"
          },
          "geo": {
           "bgcolor": "white",
           "lakecolor": "white",
           "landcolor": "#E5ECF6",
           "showlakes": true,
           "showland": true,
           "subunitcolor": "white"
          },
          "hoverlabel": {
           "align": "left"
          },
          "hovermode": "closest",
          "mapbox": {
           "style": "light"
          },
          "paper_bgcolor": "white",
          "plot_bgcolor": "#E5ECF6",
          "polar": {
           "angularaxis": {
            "gridcolor": "white",
            "linecolor": "white",
            "ticks": ""
           },
           "bgcolor": "#E5ECF6",
           "radialaxis": {
            "gridcolor": "white",
            "linecolor": "white",
            "ticks": ""
           }
          },
          "scene": {
           "xaxis": {
            "backgroundcolor": "#E5ECF6",
            "gridcolor": "white",
            "gridwidth": 2,
            "linecolor": "white",
            "showbackground": true,
            "ticks": "",
            "zerolinecolor": "white"
           },
           "yaxis": {
            "backgroundcolor": "#E5ECF6",
            "gridcolor": "white",
            "gridwidth": 2,
            "linecolor": "white",
            "showbackground": true,
            "ticks": "",
            "zerolinecolor": "white"
           },
           "zaxis": {
            "backgroundcolor": "#E5ECF6",
            "gridcolor": "white",
            "gridwidth": 2,
            "linecolor": "white",
            "showbackground": true,
            "ticks": "",
            "zerolinecolor": "white"
           }
          },
          "shapedefaults": {
           "line": {
            "color": "#2a3f5f"
           }
          },
          "ternary": {
           "aaxis": {
            "gridcolor": "white",
            "linecolor": "white",
            "ticks": ""
           },
           "baxis": {
            "gridcolor": "white",
            "linecolor": "white",
            "ticks": ""
           },
           "bgcolor": "#E5ECF6",
           "caxis": {
            "gridcolor": "white",
            "linecolor": "white",
            "ticks": ""
           }
          },
          "title": {
           "x": 0.05
          },
          "xaxis": {
           "automargin": true,
           "gridcolor": "white",
           "linecolor": "white",
           "ticks": "",
           "title": {
            "standoff": 15
           },
           "zerolinecolor": "white",
           "zerolinewidth": 2
          },
          "yaxis": {
           "automargin": true,
           "gridcolor": "white",
           "linecolor": "white",
           "ticks": "",
           "title": {
            "standoff": 15
           },
           "zerolinecolor": "white",
           "zerolinewidth": 2
          }
         }
        },
        "title": {
         "text": "Comparison of Annotation Average"
        },
        "yaxis": {
         "dtick": 1,
         "range": [
          1,
          7
         ],
         "title": {
          "text": "Average Rating"
         }
        }
       }
      }
     },
     "metadata": {}
    }
   ],
   "source": [
    "#compare all approaches \n",
    "\n",
    "#1. step: create average,var score of each rating question per subdf\n",
    "df_list = [cf_df,ca_df,prototypes_df,trust_df,saliency_df]\n",
    "def applyFunctionToSubDF(df_list,func):\n",
    "    avg_container = []\n",
    "    #for each df, get an average of the ratings for understand,usab,value and info (or any other function you want to apply to the seletced subdf)\n",
    "    for sub_df in df_list:\n",
    "        understand_avg = round(func(sub_df.filter(regex=(\".*_understandability\")).values),2)\n",
    "        usability_avg = round(func(sub_df.filter(regex=(\".*_usability\")).values),2)\n",
    "        value_avg = round(func(sub_df.filter(regex=(\".*_value\")).values),2)\n",
    "        info_avg = round(func(sub_df.filter(regex=(\".*_informativeness\")).values),2)\n",
    "    \n",
    "        sub_df_avg = [info_avg,understand_avg,usability_avg,value_avg]\n",
    "        avg_container.append(sub_df_avg)\n",
    "\n",
    "    #make sure that the input ordering in the df_list is the same as in the method call since I only rely on ordering, not on names\n",
    "    return avg_container[0],avg_container[1],avg_container[2],avg_container[3],avg_container[4]\n",
    "\n",
    "cf_avg,ca_avg,prototypes_avg,trust_avg,saliency_avg = applyFunctionToSubDF(df_list,np.mean)\n",
    "cf_var,ca_var,prototypes_var,trust_var,saliency_var = applyFunctionToSubDF(df_list,np.var)\n",
    "\n",
    "#2. step: compare them in a table with avg+sdv\n",
    "comparison_df = pd.DataFrame(index=[\"Understandability\",\"Usability\",\"Value\",\"Informativeness\"])\n",
    "comparison_df[\"TrustScores\"] = trust_avg\n",
    "comparison_df[\"CounterFactuals\"] = cf_avg\n",
    "comparison_df[\"ConceptAttribution\"] = ca_avg\n",
    "comparison_df[\"Prototypes\"] = prototypes_avg\n",
    "comparison_df[\"SaliencyMaps\"] = saliency_avg\n",
    "print(comparison_df)\n",
    "\n",
    "#3. step: visualize them with boxplots\n",
    "#for all df\n",
    "def boxPlotDF(comparison_df,title,labels):\n",
    "    #throw out non-numeric data\n",
    "    int_df = comparison_df.select_dtypes(include=\"float64\")\n",
    "    #set the color palette\n",
    "    palette = cycle(plotly.colors.sequential.Viridis)\n",
    "\n",
    "    #iterate over columns and show average spread\n",
    "    fig = go.Figure()\n",
    "    for column in int_df:\n",
    "        fig.add_trace(go.Box(\n",
    "            y=int_df[column],\n",
    "            name=column,\n",
    "            marker_color=next(palette)\n",
    "            ))\n",
    "    \n",
    "    fig.update_layout(\n",
    "                    title = title,\n",
    "                    yaxis = dict(\n",
    "                        dtick = 1\n",
    "                    ),\n",
    "                    yaxis_range=[1,7],\n",
    "                    yaxis_title=\"Average Rating\"\n",
    "    )\n",
    "    \n",
    "    fig.show()\n",
    "    \n",
    "\n",
    "boxPlotDF(comparison_df,\"Comparison of Annotation Average\",labels)\n"
   ]
  }
 ]
}